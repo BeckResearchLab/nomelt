{
 "cells": [
  {
   "cell_type": "markdown",
   "id": "24da123f-2401-4de0-9cb8-d8c8b51f060e",
   "metadata": {},
   "source": [
    "# Can the rosetta estimator distinguish between high stable and low stable?\n",
    "\n",
    "Use 1enh and engineered version"
   ]
  },
  {
   "cell_type": "code",
   "execution_count": 1,
   "id": "87a08b51-5ae3-4914-9fd0-07ba70161bdd",
   "metadata": {},
   "outputs": [
    {
     "name": "stderr",
     "output_type": "stream",
     "text": [
      "\n",
      "KeyboardInterrupt\n",
      "\n"
     ]
    }
   ],
   "source": [
    "from nomelt.thermo_estimation.rosetta import minimize_structures\n",
    "from Bio.PDB import *\n",
    "import nglview as nv\n",
    "import ipywidgets\n",
    "import Bio.PDB.PDBList\n",
    "from nomelt.thermo_estimation.estimators import ESMFoldDGEstimator, ESMFoldDGArgs\n",
    "from nomelt.thermo_estimation.rosetta import RosettaMinimizationParameters\n",
    "parser = PDBParser()"
   ]
  },
  {
   "cell_type": "code",
   "execution_count": null,
   "id": "297ef063-ba2f-406d-8874-740b9d3e7839",
   "metadata": {},
   "outputs": [],
   "source": [
    "from Bio.PDB import *\n",
    "import nglview as nv\n",
    "import ipywidgets"
   ]
  },
  {
   "cell_type": "code",
   "execution_count": null,
   "id": "89107a58-d23e-4bcf-80ea-8da172ffa0b4",
   "metadata": {},
   "outputs": [],
   "source": [
    "import tempfile"
   ]
  },
  {
   "cell_type": "code",
   "execution_count": null,
   "id": "5472a4c9-1536-4904-ab7b-0dbf6d34837a",
   "metadata": {},
   "outputs": [],
   "source": [
    "tmpdir = tempfile.mkdtemp(dir='./tmp')"
   ]
  },
  {
   "cell_type": "markdown",
   "id": "c68e72ad-d36c-4a26-8008-77700f6e30ae",
   "metadata": {},
   "source": [
    "### First try the ESM estimator"
   ]
  },
  {
   "cell_type": "code",
   "execution_count": null,
   "id": "875c8d7a-9c5f-455d-81f8-c378aa75c038",
   "metadata": {},
   "outputs": [],
   "source": [
    "rosetta_params = RosettaMinimizationParameters(update_pdb=False)\n",
    "estimator_args = ESMFoldDGArgs(rosetta_params=rosetta_params)"
   ]
  },
  {
   "cell_type": "code",
   "execution_count": null,
   "id": "8a0c5b95-b9fc-4c5a-b101-8fa643e43e90",
   "metadata": {},
   "outputs": [],
   "source": [
    "ENH1 = \"RPRTAFSSEQLARLKREFNENRYLTERRRQQLSSELGLNEAQIKIWFQNKRAKI\"\n",
    "_2P6J = \"MKQWSENVEEKLKEFVKRHQRITQEELHQYAQRLGLNEEAIRQFFEEFEQRK\""
   ]
  },
  {
   "cell_type": "code",
   "execution_count": null,
   "id": "a953505f-b5b8-43ec-92c0-293cc96dfda8",
   "metadata": {},
   "outputs": [],
   "source": [
    "estimator = ESMFoldDGEstimator(sequences= [ENH1, _2P6J], ids = ['1enh', '2p6j'])"
   ]
  },
  {
   "cell_type": "code",
   "execution_count": null,
   "id": "e5b81253-54ee-4881-8037-4d7f2d0016cd",
   "metadata": {},
   "outputs": [],
   "source": [
    "estimator.run()"
   ]
  },
  {
   "cell_type": "markdown",
   "id": "9b2d5f8d-07e4-4960-a010-8aac7ad00dd2",
   "metadata": {},
   "source": [
    "The engineered variant is higher in energy than the WT.... not good. Maybe the structure is bungo"
   ]
  },
  {
   "cell_type": "code",
   "execution_count": null,
   "id": "b91219e2-347d-443b-a874-0a7d2ca6fd3b",
   "metadata": {},
   "outputs": [],
   "source": [
    "_2P6J_struc = parser.get_structure('2P6J',estimator.pdb_files_dict['2p6j'])"
   ]
  },
  {
   "cell_type": "code",
   "execution_count": null,
   "id": "924d10e5-6224-4d56-b758-ee9d3640227b",
   "metadata": {},
   "outputs": [],
   "source": [
    "nv.show_biopython(_2P6J_struc, gui=True)"
   ]
  },
  {
   "cell_type": "markdown",
   "id": "2a4c23af-6a82-4136-9a63-9e86f02396ae",
   "metadata": {},
   "source": [
    "ESM thinks the engineered variant is not a 3hb"
   ]
  },
  {
   "cell_type": "markdown",
   "id": "ddf904e7-5df8-4957-baca-aa2bc016a02b",
   "metadata": {},
   "source": [
    "### Now do jsut rosetta on PDB structs, get the two structure for rosetta from PDB"
   ]
  },
  {
   "cell_type": "code",
   "execution_count": null,
   "id": "22984a52-688f-41a0-b1fd-e7e34b15d638",
   "metadata": {},
   "outputs": [],
   "source": [
    "pdblist = Bio.PDB.PDBList()"
   ]
  },
  {
   "cell_type": "code",
   "execution_count": null,
   "id": "93c2d0db-431d-4495-a9cf-0680f0d21608",
   "metadata": {},
   "outputs": [],
   "source": [
    "pdblist.retrieve_pdb_file('1ENH', pdir=tmpdir, file_format='pdb')"
   ]
  },
  {
   "cell_type": "code",
   "execution_count": null,
   "id": "f9d63186-8ae8-43c5-b671-3572c05a0b8c",
   "metadata": {},
   "outputs": [],
   "source": [
    "pdblist.retrieve_pdb_file('2P6J', pdir=tmpdir, file_format='pdb')"
   ]
  },
  {
   "cell_type": "markdown",
   "id": "e4c8baad-76de-4367-919e-c0be3db2c6e1",
   "metadata": {},
   "source": [
    "#### the engineered variant is a solvent model, let's get only one structure"
   ]
  },
  {
   "cell_type": "code",
   "execution_count": null,
   "id": "28d4a751-69f6-4744-a458-4a447ffd79bd",
   "metadata": {},
   "outputs": [],
   "source": [
    "_2P6J_struc = parser.get_structure('2P6J',tmpdir+'/pdb2p6j.ent')"
   ]
  },
  {
   "cell_type": "code",
   "execution_count": null,
   "id": "4f6a7820-3676-4dd5-a755-8c5b91f4f9ff",
   "metadata": {},
   "outputs": [],
   "source": [
    "model = next(_2P6J_struc.get_models())"
   ]
  },
  {
   "cell_type": "code",
   "execution_count": null,
   "id": "f4ab7629-d3d7-422a-bfd3-1230388a41df",
   "metadata": {},
   "outputs": [],
   "source": [
    "nv.show_biopython(model, gui=True)"
   ]
  },
  {
   "cell_type": "code",
   "execution_count": null,
   "id": "3768785f-975a-45f4-95e3-d644e86e73ba",
   "metadata": {},
   "outputs": [],
   "source": [
    "len([a for a in model.get_atoms()])"
   ]
  },
  {
   "cell_type": "code",
   "execution_count": null,
   "id": "9b719321-a82b-45d3-8998-ed34b9499830",
   "metadata": {},
   "outputs": [],
   "source": [
    "from Bio.PDB.PDBIO import PDBIO"
   ]
  },
  {
   "cell_type": "code",
   "execution_count": null,
   "id": "645aa5fd-d8d7-40e9-837c-55874a9a5b2e",
   "metadata": {},
   "outputs": [],
   "source": [
    "io=PDBIO()\n",
    "io.set_structure(model)\n",
    "io.save(tmpdir+'/2p6j_single.pdb')"
   ]
  },
  {
   "cell_type": "markdown",
   "id": "b11964bf-fa22-4d6b-8c6a-74d7f2e6f7d5",
   "metadata": {},
   "source": [
    "### Run rosetta on the pdbs"
   ]
  },
  {
   "cell_type": "code",
   "execution_count": null,
   "id": "25fbc360-54cf-45ac-8100-e213709442e8",
   "metadata": {},
   "outputs": [],
   "source": [
    "minimize_structures([tmpdir+'/pdb1enh.ent', tmpdir+'/2p6j_single.pdb'])"
   ]
  },
  {
   "cell_type": "markdown",
   "id": "4cd9c126-3f93-4ccc-8928-7535f721e956",
   "metadata": {},
   "source": [
    "### try consensus engineered one.\n",
    "\n",
    "These sequences are highly similar, so are a good test of how well this estrimator could distinguish in the mutation regime we are working in."
   ]
  },
  {
   "cell_type": "code",
   "execution_count": null,
   "id": "8b7f7362-dd94-468a-ad15-95742532a92b",
   "metadata": {},
   "outputs": [],
   "source": [
    "rosetta_params = RosettaMinimizationParameters(update_pdb=False)\n",
    "estimator_args = ESMFoldDGArgs(rosetta_params=rosetta_params)"
   ]
  },
  {
   "cell_type": "code",
   "execution_count": null,
   "id": "739dead7-1aa1-4695-af0b-3d33d1ae421a",
   "metadata": {},
   "outputs": [],
   "source": [
    "concensus = \"RRKRTTFTKEQLEELEELFEKNRYPSAEEREELAKKLGLTERQVKVWFQNRRAKEKK\""
   ]
  },
  {
   "cell_type": "code",
   "execution_count": null,
   "id": "8f9e0337-f860-4c32-8648-fb32b7acbfed",
   "metadata": {},
   "outputs": [],
   "source": [
    "enh1 = \"RPRTAFSSEQLARLKREFNENRYLTERRRQQLSSELGLNEAQIKIWFQNKRAKI\""
   ]
  },
  {
   "cell_type": "code",
   "execution_count": null,
   "id": "0f7ed0d9-b4df-4ada-959f-5854b6f9cfe8",
   "metadata": {},
   "outputs": [],
   "source": [
    "estimator = ESMFoldDGEstimator(sequences = [enh1, concensus], ids=['wt', 'concensus'])"
   ]
  },
  {
   "cell_type": "code",
   "execution_count": null,
   "id": "8fabcfb2-cf6c-4189-a8fa-8ec700f15613",
   "metadata": {
    "scrolled": true
   },
   "outputs": [],
   "source": [
    "estimator.run()"
   ]
  },
  {
   "cell_type": "markdown",
   "id": "f861df9c-239b-4bc3-a8f5-517c1c4c969d",
   "metadata": {},
   "source": [
    "It seems like it can distinguish between them. Let's make sure the structures are good."
   ]
  },
  {
   "cell_type": "code",
   "execution_count": null,
   "id": "c5ba2985-7a63-4062-9cb3-65f9d818027c",
   "metadata": {},
   "outputs": [],
   "source": [
    "parser = PDBParser()"
   ]
  },
  {
   "cell_type": "code",
   "execution_count": null,
   "id": "855fe0a5-24d7-4916-b56f-f3b49941736b",
   "metadata": {},
   "outputs": [],
   "source": [
    "estimator.pdb_files_dict"
   ]
  },
  {
   "cell_type": "code",
   "execution_count": null,
   "id": "7530fc18-c5a8-460e-b4d3-427d71487b73",
   "metadata": {},
   "outputs": [],
   "source": [
    "wt_struct = parser.get_structure('wt', estimator.pdb_files_dict['wt'])\n",
    "conc_struct = parser.get_structure('conc', estimator.pdb_files_dict['concensus'])"
   ]
  },
  {
   "cell_type": "code",
   "execution_count": null,
   "id": "791ba0f2-52cb-4675-abf7-51965cf78add",
   "metadata": {},
   "outputs": [],
   "source": [
    "nv.show_biopython(wt_struct, gui=True)"
   ]
  },
  {
   "cell_type": "code",
   "execution_count": null,
   "id": "6694381f-5cdb-4a24-87da-edc157cb9773",
   "metadata": {},
   "outputs": [],
   "source": [
    "nv.show_biopython(conc_struct, gui=True)"
   ]
  },
  {
   "cell_type": "markdown",
   "id": "9f82cbcc-c31b-49f1-a0b0-759c3c79342b",
   "metadata": {},
   "source": [
    "## Can AlphaFold estimator distinguish the two?"
   ]
  },
  {
   "cell_type": "code",
   "execution_count": 1,
   "id": "f7bfc61f-3daa-4340-a90c-2d2bfec66b9b",
   "metadata": {},
   "outputs": [
    {
     "name": "stdout",
     "output_type": "stream",
     "text": [
      "[2023-08-10 16:58:10,093] [INFO] [real_accelerator.py:133:get_accelerator] Setting ds_accelerator to cuda (auto detect)\n"
     ]
    },
    {
     "name": "stderr",
     "output_type": "stream",
     "text": [
      "2023-08-10 16:58:20.574372: I tensorflow/core/platform/cpu_feature_guard.cc:193] This TensorFlow binary is optimized with oneAPI Deep Neural Network Library (oneDNN) to use the following CPU instructions in performance-critical operations:  SSE4.1 SSE4.2 AVX AVX2 AVX512F AVX512_VNNI FMA\n",
      "To enable them in other operations, rebuild TensorFlow with the appropriate compiler flags.\n",
      "2023-08-10 16:58:20.936547: I tensorflow/core/util/port.cc:104] oneDNN custom operations are on. You may see slightly different numerical results due to floating-point round-off errors from different computation orders. To turn them off, set the environment variable `TF_ENABLE_ONEDNN_OPTS=0`.\n",
      "INFO:root:test\n"
     ]
    }
   ],
   "source": [
    "from nomelt.thermo_estimation import mAFminDGEstimator, mAFminDGArgs, AlphaFoldArgs\n",
    "from nomelt.thermo_estimation.rosetta import RosettaMinimizationParameters\n",
    "\n",
    "import logging\n",
    "logger = logging.getLogger('root')\n",
    "logger.setLevel(logging.DEBUG)\n",
    "logging.info('test')"
   ]
  },
  {
   "cell_type": "code",
   "execution_count": 2,
   "id": "1db7faed-6f9f-406c-a2ae-b16aad2fa3f7",
   "metadata": {},
   "outputs": [],
   "source": [
    "af_args= AlphaFoldArgs(\n",
    "    data_dir='/mmfs1/gscratch/cheme/usr/evankomp/af_reduced_dbs/',\n",
    "    db_preset='reduced_dbs',\n",
    "    use_precomputed_msas=False,\n",
    "    base_executable_path=\"/mmfs1/home/evankomp/cheme/repos/alphafold/run_singularity.py\",\n",
    "    model_preset='model_4',\n",
    "    models_to_relax='none'\n",
    ")\n",
    "estimator_args=mAFminDGArgs(\n",
    "    af_params=af_args,\n",
    "    wdir='./tmp/af_dg/',\n",
    "    use_relaxed=False,\n",
    "    num_replicates=50,\n",
    "    fix_msas=True\n",
    ")\n",
    "estimator = mAFminDGEstimator(args=estimator_args)"
   ]
  },
  {
   "cell_type": "code",
   "execution_count": 3,
   "id": "ba4ca4c5-73ab-4dae-8ab0-999a47e96d6d",
   "metadata": {},
   "outputs": [],
   "source": [
    "sequences = [\n",
    "    'DKRPRTAFSSEQLARLKREFNENRYLTERRRQQLSSELGLNEAQIKIWFQNKRAKIKK',\n",
    "    'RRKRTTFTKEQLEELEELFEKNRYPSAEEREELAKKLGLTERQVKVWFQNRRAKEKK'\n",
    "]\n",
    "ids = ['enh', \"consensus-hd\"]"
   ]
  },
  {
   "cell_type": "code",
   "execution_count": 4,
   "id": "f196bc64-ff62-406b-81ce-0463f9428792",
   "metadata": {},
   "outputs": [],
   "source": [
    "estimator = mAFminDGEstimator(args=estimator_args)"
   ]
  },
  {
   "cell_type": "code",
   "execution_count": 5,
   "id": "d0d4e15b-55c2-4395-9321-4695ab0a32f4",
   "metadata": {},
   "outputs": [
    {
     "name": "stderr",
     "output_type": "stream",
     "text": [
      "I0810 16:59:09.158709 22466734860096 run_singularity.py:136] Binding /mmfs1/gscratch/cheme/usr/evankomp/repos/nomelt/analysis/tmp/af_dg -> /mnt/fasta_path_0\n",
      "I0810 16:59:09.158797 22466734860096 run_singularity.py:136] Binding /mmfs1/gscratch/cheme/usr/evankomp/repos/nomelt/analysis/tmp/af_dg -> /mnt/fasta_path_1\n",
      "I0810 16:59:09.158883 22466734860096 run_singularity.py:136] Binding /mmfs1/gscratch/cheme/usr/evankomp/af_reduced_dbs/uniref90 -> /mnt/uniref90_database_path\n",
      "I0810 16:59:09.158920 22466734860096 run_singularity.py:136] Binding /mmfs1/gscratch/cheme/usr/evankomp/af_reduced_dbs/mgnify -> /mnt/mgnify_database_path\n",
      "I0810 16:59:09.158952 22466734860096 run_singularity.py:136] Binding /mmfs1/gscratch/cheme/usr/evankomp/af_reduced_dbs -> /mnt/data_dir\n",
      "I0810 16:59:09.158984 22466734860096 run_singularity.py:136] Binding /mmfs1/gscratch/cheme/usr/evankomp/af_reduced_dbs/pdb_mmcif -> /mnt/template_mmcif_dir\n",
      "I0810 16:59:09.159014 22466734860096 run_singularity.py:136] Binding /mmfs1/gscratch/cheme/usr/evankomp/af_reduced_dbs/pdb_mmcif -> /mnt/obsolete_pdbs_path\n",
      "I0810 16:59:09.159047 22466734860096 run_singularity.py:136] Binding /mmfs1/gscratch/cheme/usr/evankomp/af_reduced_dbs/pdb70 -> /mnt/pdb70_database_path\n",
      "I0810 16:59:09.159098 22466734860096 run_singularity.py:136] Binding /mmfs1/gscratch/cheme/usr/evankomp/af_reduced_dbs/small_bfd -> /mnt/small_bfd_database_path\n",
      "I0810 16:59:09.159130 22466734860096 run_singularity.py:245] Binding ./tmp/af_dg/ -> /mnt/output\n",
      "I0810 16:59:09.159154 22466734860096 run_singularity.py:249] Binding /tmp -> /tmp\n",
      "INFO:nomelt.thermo_estimation.alphafold:Finished replicate 0. Time taken: 3.911700252691905 mins.\n",
      "DEBUG:nomelt.thermo_estimation.alphafold:Renamed /mmfs1/gscratch/cheme/usr/evankomp/repos/nomelt/analysis/tmp/af_dg/enh/unrelaxed_model_4_pred_0.pdb to /mmfs1/gscratch/cheme/usr/evankomp/repos/nomelt/analysis/tmp/af_dg/enh/ensemble_replicate_0.pdb.\n",
      "DEBUG:nomelt.thermo_estimation.alphafold:Renamed /mmfs1/gscratch/cheme/usr/evankomp/repos/nomelt/analysis/tmp/af_dg/consensus-hd/unrelaxed_model_4_pred_0.pdb to /mmfs1/gscratch/cheme/usr/evankomp/repos/nomelt/analysis/tmp/af_dg/consensus-hd/ensemble_replicate_0.pdb.\n"
     ]
    },
    {
     "name": "stdout",
     "output_type": "stream",
     "text": [
      "/mmfs1/home/evankomp/cheme/repos/alphafold/alphafold.sif\n",
      "singularity run --nv --bind /mmfs1/gscratch/cheme/usr/evankomp/repos/nomelt/analysis/tmp/af_dg:/mnt/fasta_path_0,/mmfs1/gscratch/cheme/usr/evankomp/repos/nomelt/analysis/tmp/af_dg:/mnt/fasta_path_1,/mmfs1/gscratch/cheme/usr/evankomp/af_reduced_dbs/uniref90:/mnt/uniref90_database_path,/mmfs1/gscratch/cheme/usr/evankomp/af_reduced_dbs/mgnify:/mnt/mgnify_database_path,/mmfs1/gscratch/cheme/usr/evankomp/af_reduced_dbs:/mnt/data_dir,/mmfs1/gscratch/cheme/usr/evankomp/af_reduced_dbs/pdb_mmcif:/mnt/template_mmcif_dir,/mmfs1/gscratch/cheme/usr/evankomp/af_reduced_dbs/pdb_mmcif:/mnt/obsolete_pdbs_path,/mmfs1/gscratch/cheme/usr/evankomp/af_reduced_dbs/pdb70:/mnt/pdb70_database_path,/mmfs1/gscratch/cheme/usr/evankomp/af_reduced_dbs/small_bfd:/mnt/small_bfd_database_path,./tmp/af_dg/:/mnt/output,/tmp:/tmp --env NVIDIA_VISIBLE_DEVICES=all --env TF_FORCE_UNIFIED_MEMORY=1 --env XLA_PYTHON_CLIENT_MEM_FRACTION=4.0 /mmfs1/home/evankomp/cheme/repos/alphafold/alphafold.sif --fasta_paths=/mnt/fasta_path_0/enh.fasta,/mnt/fasta_path_1/consensus-hd.fasta --uniref90_database_path=/mnt/uniref90_database_path/uniref90.fasta --mgnify_database_path=/mnt/mgnify_database_path/mgy_clusters_2022_05.fa --data_dir=/mnt/data_dir --template_mmcif_dir=/mnt/template_mmcif_dir/mmcif_files --obsolete_pdbs_path=/mnt/obsolete_pdbs_path/obsolete.dat --pdb70_database_path=/mnt/pdb70_database_path/pdb70 --small_bfd_database_path=/mnt/small_bfd_database_path/bfd-first_non_consensus_sequences.fasta --output_dir=/mnt/output --max_template_date=2021-11-01 --db_preset=reduced_dbs --model_preset=model_4 --benchmark=False --use_precomputed_msas=True --num_multimer_predictions_per_model=5 --models_to_relax=none --use_gpu_relax=True --logtostderr\n",
      "INFO:absl:devices []\n",
      "I0810 16:59:20.994732 23189356598208 templates.py:857] Using precomputed obsolete pdbs /mnt/obsolete_pdbs_path/obsolete.dat.\n",
      "I0810 16:59:21.513862 23189356598208 xla_bridge.py:353] Unable to initialize backend 'tpu_driver': NOT_FOUND: Unable to find driver in registry given worker: \n",
      "I0810 16:59:22.052067 23189356598208 xla_bridge.py:353] Unable to initialize backend 'rocm': NOT_FOUND: Could not find registered platform with name: \"rocm\". Available platform names are: Interpreter CUDA Host\n",
      "I0810 16:59:22.052360 23189356598208 xla_bridge.py:353] Unable to initialize backend 'tpu': module 'jaxlib.xla_extension' has no attribute 'get_tpu_client'\n",
      "I0810 16:59:22.052438 23189356598208 xla_bridge.py:353] Unable to initialize backend 'plugin': xla_extension has no attributes named get_plugin_device_client. Compile TensorFlow with //tensorflow/compiler/xla/python:enable_plugin_device set to true (defaults to false) to enable this.\n",
      "I0810 16:59:23.851160 23189356598208 run_alphafold.py:528] Have 1 models: ['model_4_pred_0']\n",
      "I0810 16:59:23.851301 23189356598208 run_alphafold.py:542] Using random seed 3974759356910789478 for the data pipeline\n",
      "I0810 16:59:23.851524 23189356598208 run_alphafold.py:247] Predicting enh\n",
      "W0810 16:59:23.851682 23189356598208 pipeline.py:100] Reading MSA from file /mnt/output/enh/msas/uniref90_hits.sto\n",
      "W0810 16:59:23.907148 23189356598208 pipeline.py:100] Reading MSA from file /mnt/output/enh/msas/mgnify_hits.sto\n",
      "I0810 16:59:24.041708 23189356598208 hhsearch.py:85] Launching subprocess \"/usr/bin/hhsearch -i /tmp/tmpzwf66o_u/query.a3m -o /tmp/tmpzwf66o_u/output.hhr -maxseq 1000000 -d /mnt/pdb70_database_path/pdb70\"\n",
      "I0810 16:59:24.061916 23189356598208 utils.py:36] Started HHsearch query\n",
      "I0810 16:59:44.759733 23189356598208 utils.py:40] Finished HHsearch query in 20.698 seconds\n",
      "W0810 16:59:44.940186 23189356598208 pipeline.py:100] Reading MSA from file /mnt/output/enh/msas/small_bfd_hits.sto\n",
      "I0810 16:59:44.984693 23189356598208 templates.py:878] Searching for template for: DKRPRTAFSSEQLARLKREFNENRYLTERRRQQLSSELGLNEAQIKIWFQNKRAKIKK\n",
      "I0810 16:59:45.132397 23189356598208 templates.py:267] Found an exact template match 1au7_A.\n",
      "I0810 16:59:45.437630 23189356598208 templates.py:267] Found an exact template match 5wc9_A.\n",
      "I0810 16:59:45.556998 23189356598208 templates.py:267] Found an exact template match 1mh3_A.\n",
      "I0810 16:59:46.181919 23189356598208 templates.py:267] Found an exact template match 5flv_E.\n",
      "I0810 16:59:46.188090 23189356598208 templates.py:267] Found an exact template match 5flv_M.\n",
      "I0810 16:59:46.263844 23189356598208 templates.py:267] Found an exact template match 1e3o_C.\n",
      "I0810 16:59:46.584179 23189356598208 templates.py:267] Found an exact template match 3d1n_I.\n",
      "I0810 16:59:46.727315 23189356598208 templates.py:267] Found an exact template match 4ndj_A.\n",
      "I0810 16:59:46.852487 23189356598208 templates.py:267] Found an exact template match 2d5v_B.\n",
      "I0810 16:59:47.186399 23189356598208 templates.py:267] Found an exact template match 3l1p_A.\n",
      "I0810 16:59:47.293312 23189356598208 templates.py:267] Found an exact template match 1gt0_C.\n",
      "I0810 16:59:47.391833 23189356598208 templates.py:267] Found an exact template match 2xsd_C.\n",
      "I0810 16:59:48.165078 23189356598208 templates.py:267] Found an exact template match 2cuf_A.\n",
      "I0810 16:59:48.588285 23189356598208 templates.py:267] Found an exact template match 6u82_D.\n",
      "I0810 16:59:49.181119 23189356598208 templates.py:267] Found an exact template match 2mg4_A.\n",
      "I0810 16:59:49.304090 23189356598208 templates.py:267] Found an exact template match 5zfz_A.\n",
      "I0810 16:59:49.383538 23189356598208 templates.py:267] Found an exact template match 5zfy_A.\n",
      "I0810 16:59:50.307908 23189356598208 templates.py:267] Found an exact template match 1wh5_A.\n",
      "I0810 16:59:50.311247 23189356598208 templates.py:267] Found an exact template match 6u82_D.\n",
      "I0810 16:59:50.999350 23189356598208 templates.py:267] Found an exact template match 1ztr_A.\n",
      "I0810 16:59:51.054356 23189356598208 pipeline.py:234] Uniref90 MSA size: 10000 sequences.\n",
      "I0810 16:59:51.054468 23189356598208 pipeline.py:235] BFD MSA size: 2431 sequences.\n",
      "I0810 16:59:51.054498 23189356598208 pipeline.py:236] MGnify MSA size: 501 sequences.\n",
      "I0810 16:59:51.054527 23189356598208 pipeline.py:237] Final (deduplicated) MSA size: 5492 sequences.\n",
      "I0810 16:59:51.054699 23189356598208 pipeline.py:239] Total number of templates (NB: this can include bad templates and is later filtered to top 4): 20.\n",
      "I0810 16:59:51.062981 23189356598208 run_alphafold.py:278] Running model model_4_pred_0 on enh\n",
      "I0810 16:59:53.640171 23189356598208 model.py:165] Running predict with shape(feat) = {'aatype': (4, 58), 'residue_index': (4, 58), 'seq_length': (4,), 'is_distillation': (4,), 'seq_mask': (4, 58), 'msa_mask': (4, 512, 58), 'msa_row_mask': (4, 512), 'random_crop_to_size_seed': (4, 2), 'atom14_atom_exists': (4, 58, 14), 'residx_atom14_to_atom37': (4, 58, 14), 'residx_atom37_to_atom14': (4, 58, 37), 'atom37_atom_exists': (4, 58, 37), 'extra_msa': (4, 5120, 58), 'extra_msa_mask': (4, 5120, 58), 'extra_msa_row_mask': (4, 5120), 'bert_mask': (4, 512, 58), 'true_msa': (4, 512, 58), 'extra_has_deletion': (4, 5120, 58), 'extra_deletion_value': (4, 5120, 58), 'msa_feat': (4, 512, 58, 49), 'target_feat': (4, 58, 22)}\n",
      "I0810 17:01:11.019042 23189356598208 model.py:175] Output shape was {'distogram': {'bin_edges': (63,), 'logits': (58, 58, 64)}, 'experimentally_resolved': {'logits': (58, 37)}, 'masked_msa': {'logits': (512, 58, 23)}, 'predicted_lddt': {'logits': (58, 50)}, 'structure_module': {'final_atom_mask': (58, 37), 'final_atom_positions': (58, 37, 3)}, 'plddt': (58,), 'ranking_confidence': ()}\n",
      "I0810 17:01:11.019353 23189356598208 run_alphafold.py:290] Total JAX model model_4_pred_0 on enh predict time (includes compilation time, see --benchmark): 77.4s\n",
      "I0810 17:01:11.108696 23189356598208 run_alphafold.py:416] Final timings for enh: {'features': 27.205379724502563, 'process_features_model_4_pred_0': 2.5765607357025146, 'predict_and_compile_model_4_pred_0': 77.37969899177551}\n",
      "I0810 17:01:11.109152 23189356598208 run_alphafold.py:247] Predicting consensus-hd\n",
      "W0810 17:01:11.109392 23189356598208 pipeline.py:100] Reading MSA from file /mnt/output/consensus-hd/msas/uniref90_hits.sto\n",
      "W0810 17:01:11.173473 23189356598208 pipeline.py:100] Reading MSA from file /mnt/output/consensus-hd/msas/mgnify_hits.sto\n",
      "I0810 17:01:11.308065 23189356598208 hhsearch.py:85] Launching subprocess \"/usr/bin/hhsearch -i /tmp/tmpaywbx9ki/query.a3m -o /tmp/tmpaywbx9ki/output.hhr -maxseq 1000000 -d /mnt/pdb70_database_path/pdb70\"\n",
      "I0810 17:01:11.309128 23189356598208 utils.py:36] Started HHsearch query\n",
      "I0810 17:01:31.901268 23189356598208 utils.py:40] Finished HHsearch query in 20.592 seconds\n",
      "W0810 17:01:32.136307 23189356598208 pipeline.py:100] Reading MSA from file /mnt/output/consensus-hd/msas/small_bfd_hits.sto\n",
      "I0810 17:01:32.211443 23189356598208 templates.py:878] Searching for template for: RRKRTTFTKEQLEELEELFEKNRYPSAEEREELAKKLGLTERQVKVWFQNRRAKEKK\n",
      "I0810 17:01:32.517929 23189356598208 templates.py:267] Found an exact template match 5wc9_A.\n",
      "I0810 17:01:32.667794 23189356598208 templates.py:267] Found an exact template match 1au7_A.\n",
      "I0810 17:01:32.778187 23189356598208 templates.py:267] Found an exact template match 1mh3_A.\n",
      "I0810 17:01:33.270460 23189356598208 templates.py:267] Found an exact template match 5flv_E.\n",
      "I0810 17:01:33.277437 23189356598208 templates.py:267] Found an exact template match 4ndj_A.\n",
      "I0810 17:01:33.285962 23189356598208 templates.py:267] Found an exact template match 5flv_M.\n",
      "I0810 17:01:33.608024 23189356598208 templates.py:267] Found an exact template match 3d1n_I.\n",
      "I0810 17:01:33.671608 23189356598208 templates.py:267] Found an exact template match 1e3o_C.\n",
      "I0810 17:01:33.785231 23189356598208 templates.py:267] Found an exact template match 2d5v_B.\n",
      "I0810 17:01:33.943175 23189356598208 templates.py:267] Found an exact template match 3l1p_A.\n",
      "I0810 17:01:34.046425 23189356598208 templates.py:267] Found an exact template match 2xsd_C.\n",
      "I0810 17:01:34.155867 23189356598208 templates.py:267] Found an exact template match 1gt0_C.\n",
      "I0810 17:01:34.160456 23189356598208 templates.py:267] Found an exact template match 6u82_D.\n",
      "I0810 17:01:35.816607 23189356598208 templates.py:267] Found an exact template match 2cuf_A.\n",
      "I0810 17:01:35.821574 23189356598208 templates.py:267] Found an exact template match 5zfy_A.\n",
      "I0810 17:01:35.825889 23189356598208 templates.py:267] Found an exact template match 1wh5_A.\n",
      "I0810 17:01:35.829682 23189356598208 templates.py:267] Found an exact template match 6u82_D.\n",
      "I0810 17:01:35.977845 23189356598208 templates.py:267] Found an exact template match 5zfz_A.\n",
      "I0810 17:01:36.241005 23189356598208 templates.py:267] Found an exact template match 4egc_A.\n",
      "I0810 17:01:36.918078 23189356598208 templates.py:267] Found an exact template match 2l9r_A.\n",
      "I0810 17:01:36.973513 23189356598208 pipeline.py:234] Uniref90 MSA size: 10000 sequences.\n",
      "I0810 17:01:36.973658 23189356598208 pipeline.py:235] BFD MSA size: 3807 sequences.\n",
      "I0810 17:01:36.973705 23189356598208 pipeline.py:236] MGnify MSA size: 501 sequences.\n",
      "I0810 17:01:36.973733 23189356598208 pipeline.py:237] Final (deduplicated) MSA size: 5210 sequences.\n",
      "I0810 17:01:36.973772 23189356598208 pipeline.py:239] Total number of templates (NB: this can include bad templates and is later filtered to top 4): 20.\n",
      "I0810 17:01:36.984668 23189356598208 run_alphafold.py:278] Running model model_4_pred_0 on consensus-hd\n",
      "I0810 17:01:37.992470 23189356598208 model.py:165] Running predict with shape(feat) = {'aatype': (4, 57), 'residue_index': (4, 57), 'seq_length': (4,), 'is_distillation': (4,), 'seq_mask': (4, 57), 'msa_mask': (4, 512, 57), 'msa_row_mask': (4, 512), 'random_crop_to_size_seed': (4, 2), 'atom14_atom_exists': (4, 57, 14), 'residx_atom14_to_atom37': (4, 57, 14), 'residx_atom37_to_atom14': (4, 57, 37), 'atom37_atom_exists': (4, 57, 37), 'extra_msa': (4, 5120, 57), 'extra_msa_mask': (4, 5120, 57), 'extra_msa_row_mask': (4, 5120), 'bert_mask': (4, 512, 57), 'true_msa': (4, 512, 57), 'extra_has_deletion': (4, 5120, 57), 'extra_deletion_value': (4, 5120, 57), 'msa_feat': (4, 512, 57, 49), 'target_feat': (4, 57, 22)}\n",
      "I0810 17:02:59.583770 23189356598208 model.py:175] Output shape was {'distogram': {'bin_edges': (63,), 'logits': (57, 57, 64)}, 'experimentally_resolved': {'logits': (57, 37)}, 'masked_msa': {'logits': (512, 57, 23)}, 'predicted_lddt': {'logits': (57, 50)}, 'structure_module': {'final_atom_mask': (57, 37), 'final_atom_positions': (57, 37, 3)}, 'plddt': (57,), 'ranking_confidence': ()}\n",
      "I0810 17:02:59.584552 23189356598208 run_alphafold.py:290] Total JAX model model_4_pred_0 on consensus-hd predict time (includes compilation time, see --benchmark): 81.6s\n",
      "I0810 17:02:59.685589 23189356598208 run_alphafold.py:416] Final timings for consensus-hd: {'features': 25.868306636810303, 'process_features_model_4_pred_0': 1.007582187652588, 'predict_and_compile_model_4_pred_0': 81.5921721458435}\n",
      "INFO:absl:devices []\n",
      "I0810 16:59:20.994732 23189356598208 templates.py:857] Using precomputed obsolete pdbs /mnt/obsolete_pdbs_path/obsolete.dat.\n",
      "I0810 16:59:21.513862 23189356598208 xla_bridge.py:353] Unable to initialize backend 'tpu_driver': NOT_FOUND: Unable to find driver in registry given worker: \n",
      "I0810 16:59:22.052067 23189356598208 xla_bridge.py:353] Unable to initialize backend 'rocm': NOT_FOUND: Could not find registered platform with name: \"rocm\". Available platform names are: Interpreter CUDA Host\n",
      "I0810 16:59:22.052360 23189356598208 xla_bridge.py:353] Unable to initialize backend 'tpu': module 'jaxlib.xla_extension' has no attribute 'get_tpu_client'\n",
      "I0810 16:59:22.052438 23189356598208 xla_bridge.py:353] Unable to initialize backend 'plugin': xla_extension has no attributes named get_plugin_device_client. Compile TensorFlow with //tensorflow/compiler/xla/python:enable_plugin_device set to true (defaults to false) to enable this.\n",
      "I0810 16:59:23.851160 23189356598208 run_alphafold.py:528] Have 1 models: ['model_4_pred_0']\n",
      "I0810 16:59:23.851301 23189356598208 run_alphafold.py:542] Using random seed 3974759356910789478 for the data pipeline\n",
      "I0810 16:59:23.851524 23189356598208 run_alphafold.py:247] Predicting enh\n",
      "W0810 16:59:23.851682 23189356598208 pipeline.py:100] Reading MSA from file /mnt/output/enh/msas/uniref90_hits.sto\n",
      "W0810 16:59:23.907148 23189356598208 pipeline.py:100] Reading MSA from file /mnt/output/enh/msas/mgnify_hits.sto\n",
      "I0810 16:59:24.041708 23189356598208 hhsearch.py:85] Launching subprocess \"/usr/bin/hhsearch -i /tmp/tmpzwf66o_u/query.a3m -o /tmp/tmpzwf66o_u/output.hhr -maxseq 1000000 -d /mnt/pdb70_database_path/pdb70\"\n",
      "I0810 16:59:24.061916 23189356598208 utils.py:36] Started HHsearch query\n",
      "I0810 16:59:44.759733 23189356598208 utils.py:40] Finished HHsearch query in 20.698 seconds\n",
      "W0810 16:59:44.940186 23189356598208 pipeline.py:100] Reading MSA from file /mnt/output/enh/msas/small_bfd_hits.sto\n",
      "I0810 16:59:44.984693 23189356598208 templates.py:878] Searching for template for: DKRPRTAFSSEQLARLKREFNENRYLTERRRQQLSSELGLNEAQIKIWFQNKRAKIKK\n",
      "I0810 16:59:45.132397 23189356598208 templates.py:267] Found an exact template match 1au7_A.\n",
      "I0810 16:59:45.437630 23189356598208 templates.py:267] Found an exact template match 5wc9_A.\n",
      "I0810 16:59:45.556998 23189356598208 templates.py:267] Found an exact template match 1mh3_A.\n",
      "I0810 16:59:46.181919 23189356598208 templates.py:267] Found an exact template match 5flv_E.\n",
      "I0810 16:59:46.188090 23189356598208 templates.py:267] Found an exact template match 5flv_M.\n",
      "I0810 16:59:46.263844 23189356598208 templates.py:267] Found an exact template match 1e3o_C.\n",
      "I0810 16:59:46.584179 23189356598208 templates.py:267] Found an exact template match 3d1n_I.\n",
      "I0810 16:59:46.727315 23189356598208 templates.py:267] Found an exact template match 4ndj_A.\n",
      "I0810 16:59:46.852487 23189356598208 templates.py:267] Found an exact template match 2d5v_B.\n",
      "I0810 16:59:47.186399 23189356598208 templates.py:267] Found an exact template match 3l1p_A.\n",
      "I0810 16:59:47.293312 23189356598208 templates.py:267] Found an exact template match 1gt0_C.\n",
      "I0810 16:59:47.391833 23189356598208 templates.py:267] Found an exact template match 2xsd_C.\n",
      "I0810 16:59:48.165078 23189356598208 templates.py:267] Found an exact template match 2cuf_A.\n",
      "I0810 16:59:48.588285 23189356598208 templates.py:267] Found an exact template match 6u82_D.\n",
      "I0810 16:59:49.181119 23189356598208 templates.py:267] Found an exact template match 2mg4_A.\n",
      "I0810 16:59:49.304090 23189356598208 templates.py:267] Found an exact template match 5zfz_A.\n",
      "I0810 16:59:49.383538 23189356598208 templates.py:267] Found an exact template match 5zfy_A.\n",
      "I0810 16:59:50.307908 23189356598208 templates.py:267] Found an exact template match 1wh5_A.\n",
      "I0810 16:59:50.311247 23189356598208 templates.py:267] Found an exact template match 6u82_D.\n",
      "I0810 16:59:50.999350 23189356598208 templates.py:267] Found an exact template match 1ztr_A.\n",
      "I0810 16:59:51.054356 23189356598208 pipeline.py:234] Uniref90 MSA size: 10000 sequences.\n",
      "I0810 16:59:51.054468 23189356598208 pipeline.py:235] BFD MSA size: 2431 sequences.\n",
      "I0810 16:59:51.054498 23189356598208 pipeline.py:236] MGnify MSA size: 501 sequences.\n",
      "I0810 16:59:51.054527 23189356598208 pipeline.py:237] Final (deduplicated) MSA size: 5492 sequences.\n",
      "I0810 16:59:51.054699 23189356598208 pipeline.py:239] Total number of templates (NB: this can include bad templates and is later filtered to top 4): 20.\n",
      "I0810 16:59:51.062981 23189356598208 run_alphafold.py:278] Running model model_4_pred_0 on enh\n",
      "I0810 16:59:53.640171 23189356598208 model.py:165] Running predict with shape(feat) = {'aatype': (4, 58), 'residue_index': (4, 58), 'seq_length': (4,), 'is_distillation': (4,), 'seq_mask': (4, 58), 'msa_mask': (4, 512, 58), 'msa_row_mask': (4, 512), 'random_crop_to_size_seed': (4, 2), 'atom14_atom_exists': (4, 58, 14), 'residx_atom14_to_atom37': (4, 58, 14), 'residx_atom37_to_atom14': (4, 58, 37), 'atom37_atom_exists': (4, 58, 37), 'extra_msa': (4, 5120, 58), 'extra_msa_mask': (4, 5120, 58), 'extra_msa_row_mask': (4, 5120), 'bert_mask': (4, 512, 58), 'true_msa': (4, 512, 58), 'extra_has_deletion': (4, 5120, 58), 'extra_deletion_value': (4, 5120, 58), 'msa_feat': (4, 512, 58, 49), 'target_feat': (4, 58, 22)}\n",
      "I0810 17:01:11.019042 23189356598208 model.py:175] Output shape was {'distogram': {'bin_edges': (63,), 'logits': (58, 58, 64)}, 'experimentally_resolved': {'logits': (58, 37)}, 'masked_msa': {'logits': (512, 58, 23)}, 'predicted_lddt': {'logits': (58, 50)}, 'structure_module': {'final_atom_mask': (58, 37), 'final_atom_positions': (58, 37, 3)}, 'plddt': (58,), 'ranking_confidence': ()}\n",
      "I0810 17:01:11.019353 23189356598208 run_alphafold.py:290] Total JAX model model_4_pred_0 on enh predict time (includes compilation time, see --benchmark): 77.4s\n",
      "I0810 17:01:11.108696 23189356598208 run_alphafold.py:416] Final timings for enh: {'features': 27.205379724502563, 'process_features_model_4_pred_0': 2.5765607357025146, 'predict_and_compile_model_4_pred_0': 77.37969899177551}\n",
      "I0810 17:01:11.109152 23189356598208 run_alphafold.py:247] Predicting consensus-hd\n",
      "W0810 17:01:11.109392 23189356598208 pipeline.py:100] Reading MSA from file /mnt/output/consensus-hd/msas/uniref90_hits.sto\n",
      "W0810 17:01:11.173473 23189356598208 pipeline.py:100] Reading MSA from file /mnt/output/consensus-hd/msas/mgnify_hits.sto\n",
      "I0810 17:01:11.308065 23189356598208 hhsearch.py:85] Launching subprocess \"/usr/bin/hhsearch -i /tmp/tmpaywbx9ki/query.a3m -o /tmp/tmpaywbx9ki/output.hhr -maxseq 1000000 -d /mnt/pdb70_database_path/pdb70\"\n",
      "I0810 17:01:11.309128 23189356598208 utils.py:36] Started HHsearch query\n",
      "I0810 17:01:31.901268 23189356598208 utils.py:40] Finished HHsearch query in 20.592 seconds\n",
      "W0810 17:01:32.136307 23189356598208 pipeline.py:100] Reading MSA from file /mnt/output/consensus-hd/msas/small_bfd_hits.sto\n",
      "I0810 17:01:32.211443 23189356598208 templates.py:878] Searching for template for: RRKRTTFTKEQLEELEELFEKNRYPSAEEREELAKKLGLTERQVKVWFQNRRAKEKK\n",
      "I0810 17:01:32.517929 23189356598208 templates.py:267] Found an exact template match 5wc9_A.\n",
      "I0810 17:01:32.667794 23189356598208 templates.py:267] Found an exact template match 1au7_A.\n",
      "I0810 17:01:32.778187 23189356598208 templates.py:267] Found an exact template match 1mh3_A.\n",
      "I0810 17:01:33.270460 23189356598208 templates.py:267] Found an exact template match 5flv_E.\n",
      "I0810 17:01:33.277437 23189356598208 templates.py:267] Found an exact template match 4ndj_A.\n",
      "I0810 17:01:33.285962 23189356598208 templates.py:267] Found an exact template match 5flv_M.\n",
      "I0810 17:01:33.608024 23189356598208 templates.py:267] Found an exact template match 3d1n_I.\n",
      "I0810 17:01:33.671608 23189356598208 templates.py:267] Found an exact template match 1e3o_C.\n",
      "I0810 17:01:33.785231 23189356598208 templates.py:267] Found an exact template match 2d5v_B.\n",
      "I0810 17:01:33.943175 23189356598208 templates.py:267] Found an exact template match 3l1p_A.\n",
      "I0810 17:01:34.046425 23189356598208 templates.py:267] Found an exact template match 2xsd_C.\n",
      "I0810 17:01:34.155867 23189356598208 templates.py:267] Found an exact template match 1gt0_C.\n",
      "I0810 17:01:34.160456 23189356598208 templates.py:267] Found an exact template match 6u82_D.\n",
      "I0810 17:01:35.816607 23189356598208 templates.py:267] Found an exact template match 2cuf_A.\n",
      "I0810 17:01:35.821574 23189356598208 templates.py:267] Found an exact template match 5zfy_A.\n",
      "I0810 17:01:35.825889 23189356598208 templates.py:267] Found an exact template match 1wh5_A.\n",
      "I0810 17:01:35.829682 23189356598208 templates.py:267] Found an exact template match 6u82_D.\n",
      "I0810 17:01:35.977845 23189356598208 templates.py:267] Found an exact template match 5zfz_A.\n",
      "I0810 17:01:36.241005 23189356598208 templates.py:267] Found an exact template match 4egc_A.\n",
      "I0810 17:01:36.918078 23189356598208 templates.py:267] Found an exact template match 2l9r_A.\n",
      "I0810 17:01:36.973513 23189356598208 pipeline.py:234] Uniref90 MSA size: 10000 sequences.\n",
      "I0810 17:01:36.973658 23189356598208 pipeline.py:235] BFD MSA size: 3807 sequences.\n",
      "I0810 17:01:36.973705 23189356598208 pipeline.py:236] MGnify MSA size: 501 sequences.\n",
      "I0810 17:01:36.973733 23189356598208 pipeline.py:237] Final (deduplicated) MSA size: 5210 sequences.\n",
      "I0810 17:01:36.973772 23189356598208 pipeline.py:239] Total number of templates (NB: this can include bad templates and is later filtered to top 4): 20.\n",
      "I0810 17:01:36.984668 23189356598208 run_alphafold.py:278] Running model model_4_pred_0 on consensus-hd\n",
      "I0810 17:01:37.992470 23189356598208 model.py:165] Running predict with shape(feat) = {'aatype': (4, 57), 'residue_index': (4, 57), 'seq_length': (4,), 'is_distillation': (4,), 'seq_mask': (4, 57), 'msa_mask': (4, 512, 57), 'msa_row_mask': (4, 512), 'random_crop_to_size_seed': (4, 2), 'atom14_atom_exists': (4, 57, 14), 'residx_atom14_to_atom37': (4, 57, 14), 'residx_atom37_to_atom14': (4, 57, 37), 'atom37_atom_exists': (4, 57, 37), 'extra_msa': (4, 5120, 57), 'extra_msa_mask': (4, 5120, 57), 'extra_msa_row_mask': (4, 5120), 'bert_mask': (4, 512, 57), 'true_msa': (4, 512, 57), 'extra_has_deletion': (4, 5120, 57), 'extra_deletion_value': (4, 5120, 57), 'msa_feat': (4, 512, 57, 49), 'target_feat': (4, 57, 22)}\n",
      "I0810 17:02:59.583770 23189356598208 model.py:175] Output shape was {'distogram': {'bin_edges': (63,), 'logits': (57, 57, 64)}, 'experimentally_resolved': {'logits': (57, 37)}, 'masked_msa': {'logits': (512, 57, 23)}, 'predicted_lddt': {'logits': (57, 50)}, 'structure_module': {'final_atom_mask': (57, 37), 'final_atom_positions': (57, 37, 3)}, 'plddt': (57,), 'ranking_confidence': ()}\n",
      "I0810 17:02:59.584552 23189356598208 run_alphafold.py:290] Total JAX model model_4_pred_0 on consensus-hd predict time (includes compilation time, see --benchmark): 81.6s\n",
      "I0810 17:02:59.685589 23189356598208 run_alphafold.py:416] Final timings for consensus-hd: {'features': 25.868306636810303, 'process_features_model_4_pred_0': 1.007582187652588, 'predict_and_compile_model_4_pred_0': 81.5921721458435}\n"
     ]
    },
    {
     "name": "stderr",
     "output_type": "stream",
     "text": [
      "I0810 17:03:03.678318 22730553911104 run_singularity.py:136] Binding /mmfs1/gscratch/cheme/usr/evankomp/repos/nomelt/analysis/tmp/af_dg -> /mnt/fasta_path_0\n",
      "I0810 17:03:03.678402 22730553911104 run_singularity.py:136] Binding /mmfs1/gscratch/cheme/usr/evankomp/repos/nomelt/analysis/tmp/af_dg -> /mnt/fasta_path_1\n",
      "I0810 17:03:03.678452 22730553911104 run_singularity.py:136] Binding /mmfs1/gscratch/cheme/usr/evankomp/af_reduced_dbs/uniref90 -> /mnt/uniref90_database_path\n",
      "I0810 17:03:03.678488 22730553911104 run_singularity.py:136] Binding /mmfs1/gscratch/cheme/usr/evankomp/af_reduced_dbs/mgnify -> /mnt/mgnify_database_path\n",
      "I0810 17:03:03.678519 22730553911104 run_singularity.py:136] Binding /mmfs1/gscratch/cheme/usr/evankomp/af_reduced_dbs -> /mnt/data_dir\n",
      "I0810 17:03:03.678550 22730553911104 run_singularity.py:136] Binding /mmfs1/gscratch/cheme/usr/evankomp/af_reduced_dbs/pdb_mmcif -> /mnt/template_mmcif_dir\n",
      "I0810 17:03:03.678594 22730553911104 run_singularity.py:136] Binding /mmfs1/gscratch/cheme/usr/evankomp/af_reduced_dbs/pdb_mmcif -> /mnt/obsolete_pdbs_path\n",
      "I0810 17:03:03.678627 22730553911104 run_singularity.py:136] Binding /mmfs1/gscratch/cheme/usr/evankomp/af_reduced_dbs/pdb70 -> /mnt/pdb70_database_path\n",
      "I0810 17:03:03.678676 22730553911104 run_singularity.py:136] Binding /mmfs1/gscratch/cheme/usr/evankomp/af_reduced_dbs/small_bfd -> /mnt/small_bfd_database_path\n",
      "I0810 17:03:03.678708 22730553911104 run_singularity.py:245] Binding ./tmp/af_dg/ -> /mnt/output\n",
      "I0810 17:03:03.678733 22730553911104 run_singularity.py:249] Binding /tmp -> /tmp\n",
      "INFO:nomelt.thermo_estimation.alphafold:Finished replicate 1. Time taken: 3.7413570046424867 mins.\n",
      "DEBUG:nomelt.thermo_estimation.alphafold:Renamed /mmfs1/gscratch/cheme/usr/evankomp/repos/nomelt/analysis/tmp/af_dg/enh/unrelaxed_model_4_pred_0.pdb to /mmfs1/gscratch/cheme/usr/evankomp/repos/nomelt/analysis/tmp/af_dg/enh/ensemble_replicate_1.pdb.\n",
      "DEBUG:nomelt.thermo_estimation.alphafold:Renamed /mmfs1/gscratch/cheme/usr/evankomp/repos/nomelt/analysis/tmp/af_dg/consensus-hd/unrelaxed_model_4_pred_0.pdb to /mmfs1/gscratch/cheme/usr/evankomp/repos/nomelt/analysis/tmp/af_dg/consensus-hd/ensemble_replicate_1.pdb.\n",
      "INFO:nomelt.thermo_estimation.alphafold:Computing ensemble energies...\n",
      "INFO:nomelt.thermo_estimation.alphafold:Computing energies for enh... found 2 PDB files in the ensemble.\n"
     ]
    },
    {
     "name": "stdout",
     "output_type": "stream",
     "text": [
      "/mmfs1/home/evankomp/cheme/repos/alphafold/alphafold.sif\n",
      "singularity run --nv --bind /mmfs1/gscratch/cheme/usr/evankomp/repos/nomelt/analysis/tmp/af_dg:/mnt/fasta_path_0,/mmfs1/gscratch/cheme/usr/evankomp/repos/nomelt/analysis/tmp/af_dg:/mnt/fasta_path_1,/mmfs1/gscratch/cheme/usr/evankomp/af_reduced_dbs/uniref90:/mnt/uniref90_database_path,/mmfs1/gscratch/cheme/usr/evankomp/af_reduced_dbs/mgnify:/mnt/mgnify_database_path,/mmfs1/gscratch/cheme/usr/evankomp/af_reduced_dbs:/mnt/data_dir,/mmfs1/gscratch/cheme/usr/evankomp/af_reduced_dbs/pdb_mmcif:/mnt/template_mmcif_dir,/mmfs1/gscratch/cheme/usr/evankomp/af_reduced_dbs/pdb_mmcif:/mnt/obsolete_pdbs_path,/mmfs1/gscratch/cheme/usr/evankomp/af_reduced_dbs/pdb70:/mnt/pdb70_database_path,/mmfs1/gscratch/cheme/usr/evankomp/af_reduced_dbs/small_bfd:/mnt/small_bfd_database_path,./tmp/af_dg/:/mnt/output,/tmp:/tmp --env NVIDIA_VISIBLE_DEVICES=all --env TF_FORCE_UNIFIED_MEMORY=1 --env XLA_PYTHON_CLIENT_MEM_FRACTION=4.0 /mmfs1/home/evankomp/cheme/repos/alphafold/alphafold.sif --fasta_paths=/mnt/fasta_path_0/enh.fasta,/mnt/fasta_path_1/consensus-hd.fasta --uniref90_database_path=/mnt/uniref90_database_path/uniref90.fasta --mgnify_database_path=/mnt/mgnify_database_path/mgy_clusters_2022_05.fa --data_dir=/mnt/data_dir --template_mmcif_dir=/mnt/template_mmcif_dir/mmcif_files --obsolete_pdbs_path=/mnt/obsolete_pdbs_path/obsolete.dat --pdb70_database_path=/mnt/pdb70_database_path/pdb70 --small_bfd_database_path=/mnt/small_bfd_database_path/bfd-first_non_consensus_sequences.fasta --output_dir=/mnt/output --max_template_date=2021-11-01 --db_preset=reduced_dbs --model_preset=model_4 --benchmark=False --use_precomputed_msas=True --num_multimer_predictions_per_model=5 --models_to_relax=none --use_gpu_relax=True --logtostderr\n",
      "INFO:absl:devices []\n",
      "I0810 17:03:11.038245 23053836497856 templates.py:857] Using precomputed obsolete pdbs /mnt/obsolete_pdbs_path/obsolete.dat.\n",
      "I0810 17:03:11.245864 23053836497856 xla_bridge.py:353] Unable to initialize backend 'tpu_driver': NOT_FOUND: Unable to find driver in registry given worker: \n",
      "I0810 17:03:11.734392 23053836497856 xla_bridge.py:353] Unable to initialize backend 'rocm': NOT_FOUND: Could not find registered platform with name: \"rocm\". Available platform names are: Interpreter CUDA Host\n",
      "I0810 17:03:11.734710 23053836497856 xla_bridge.py:353] Unable to initialize backend 'tpu': module 'jaxlib.xla_extension' has no attribute 'get_tpu_client'\n",
      "I0810 17:03:11.734796 23053836497856 xla_bridge.py:353] Unable to initialize backend 'plugin': xla_extension has no attributes named get_plugin_device_client. Compile TensorFlow with //tensorflow/compiler/xla/python:enable_plugin_device set to true (defaults to false) to enable this.\n",
      "I0810 17:03:13.534596 23053836497856 run_alphafold.py:528] Have 1 models: ['model_4_pred_0']\n",
      "I0810 17:03:13.534781 23053836497856 run_alphafold.py:542] Using random seed 8147526683537735349 for the data pipeline\n",
      "I0810 17:03:13.535023 23053836497856 run_alphafold.py:247] Predicting enh\n",
      "W0810 17:03:13.535176 23053836497856 pipeline.py:100] Reading MSA from file /mnt/output/enh/msas/uniref90_hits.sto\n",
      "W0810 17:03:13.588756 23053836497856 pipeline.py:100] Reading MSA from file /mnt/output/enh/msas/mgnify_hits.sto\n",
      "I0810 17:03:13.725254 23053836497856 hhsearch.py:85] Launching subprocess \"/usr/bin/hhsearch -i /tmp/tmpmegru5y5/query.a3m -o /tmp/tmpmegru5y5/output.hhr -maxseq 1000000 -d /mnt/pdb70_database_path/pdb70\"\n",
      "I0810 17:03:13.727214 23053836497856 utils.py:36] Started HHsearch query\n",
      "I0810 17:03:34.230354 23053836497856 utils.py:40] Finished HHsearch query in 20.503 seconds\n",
      "W0810 17:03:34.412786 23053836497856 pipeline.py:100] Reading MSA from file /mnt/output/enh/msas/small_bfd_hits.sto\n",
      "I0810 17:03:34.437644 23053836497856 templates.py:878] Searching for template for: DKRPRTAFSSEQLARLKREFNENRYLTERRRQQLSSELGLNEAQIKIWFQNKRAKIKK\n",
      "I0810 17:03:34.561957 23053836497856 templates.py:267] Found an exact template match 1au7_A.\n",
      "I0810 17:03:34.838370 23053836497856 templates.py:267] Found an exact template match 5wc9_A.\n",
      "I0810 17:03:34.945591 23053836497856 templates.py:267] Found an exact template match 1mh3_A.\n",
      "I0810 17:03:35.545216 23053836497856 templates.py:267] Found an exact template match 5flv_E.\n",
      "I0810 17:03:35.551296 23053836497856 templates.py:267] Found an exact template match 5flv_M.\n",
      "I0810 17:03:35.609285 23053836497856 templates.py:267] Found an exact template match 1e3o_C.\n",
      "I0810 17:03:35.929223 23053836497856 templates.py:267] Found an exact template match 3d1n_I.\n",
      "I0810 17:03:36.052108 23053836497856 templates.py:267] Found an exact template match 4ndj_A.\n",
      "I0810 17:03:36.162519 23053836497856 templates.py:267] Found an exact template match 2d5v_B.\n",
      "I0810 17:03:36.482377 23053836497856 templates.py:267] Found an exact template match 3l1p_A.\n",
      "I0810 17:03:36.570877 23053836497856 templates.py:267] Found an exact template match 1gt0_C.\n",
      "I0810 17:03:36.646924 23053836497856 templates.py:267] Found an exact template match 2xsd_C.\n",
      "I0810 17:03:37.373028 23053836497856 templates.py:267] Found an exact template match 2cuf_A.\n",
      "I0810 17:03:37.767976 23053836497856 templates.py:267] Found an exact template match 6u82_D.\n",
      "I0810 17:03:38.342983 23053836497856 templates.py:267] Found an exact template match 2mg4_A.\n",
      "I0810 17:03:38.446442 23053836497856 templates.py:267] Found an exact template match 5zfz_A.\n",
      "I0810 17:03:38.512984 23053836497856 templates.py:267] Found an exact template match 5zfy_A.\n",
      "I0810 17:03:39.406588 23053836497856 templates.py:267] Found an exact template match 1wh5_A.\n",
      "I0810 17:03:39.409865 23053836497856 templates.py:267] Found an exact template match 6u82_D.\n",
      "I0810 17:03:40.066659 23053836497856 templates.py:267] Found an exact template match 1ztr_A.\n",
      "I0810 17:03:40.121018 23053836497856 pipeline.py:234] Uniref90 MSA size: 10000 sequences.\n",
      "I0810 17:03:40.121127 23053836497856 pipeline.py:235] BFD MSA size: 2431 sequences.\n",
      "I0810 17:03:40.121156 23053836497856 pipeline.py:236] MGnify MSA size: 501 sequences.\n",
      "I0810 17:03:40.121187 23053836497856 pipeline.py:237] Final (deduplicated) MSA size: 5492 sequences.\n",
      "I0810 17:03:40.121359 23053836497856 pipeline.py:239] Total number of templates (NB: this can include bad templates and is later filtered to top 4): 20.\n",
      "I0810 17:03:40.129178 23053836497856 run_alphafold.py:278] Running model model_4_pred_0 on enh\n",
      "I0810 17:03:42.529354 23053836497856 model.py:165] Running predict with shape(feat) = {'aatype': (4, 58), 'residue_index': (4, 58), 'seq_length': (4,), 'is_distillation': (4,), 'seq_mask': (4, 58), 'msa_mask': (4, 512, 58), 'msa_row_mask': (4, 512), 'random_crop_to_size_seed': (4, 2), 'atom14_atom_exists': (4, 58, 14), 'residx_atom14_to_atom37': (4, 58, 14), 'residx_atom37_to_atom14': (4, 58, 37), 'atom37_atom_exists': (4, 58, 37), 'extra_msa': (4, 5120, 58), 'extra_msa_mask': (4, 5120, 58), 'extra_msa_row_mask': (4, 5120), 'bert_mask': (4, 512, 58), 'true_msa': (4, 512, 58), 'extra_has_deletion': (4, 5120, 58), 'extra_deletion_value': (4, 5120, 58), 'msa_feat': (4, 512, 58, 49), 'target_feat': (4, 58, 22)}\n",
      "I0810 17:04:56.942333 23053836497856 model.py:175] Output shape was {'distogram': {'bin_edges': (63,), 'logits': (58, 58, 64)}, 'experimentally_resolved': {'logits': (58, 37)}, 'masked_msa': {'logits': (512, 58, 23)}, 'predicted_lddt': {'logits': (58, 50)}, 'structure_module': {'final_atom_mask': (58, 37), 'final_atom_positions': (58, 37, 3)}, 'plddt': (58,), 'ranking_confidence': ()}\n",
      "I0810 17:04:56.942677 23053836497856 run_alphafold.py:290] Total JAX model model_4_pred_0 on enh predict time (includes compilation time, see --benchmark): 74.4s\n",
      "I0810 17:04:57.045191 23053836497856 run_alphafold.py:416] Final timings for enh: {'features': 26.588576555252075, 'process_features_model_4_pred_0': 2.399717330932617, 'predict_and_compile_model_4_pred_0': 74.41366767883301}\n",
      "I0810 17:04:57.045683 23053836497856 run_alphafold.py:247] Predicting consensus-hd\n",
      "W0810 17:04:57.045942 23053836497856 pipeline.py:100] Reading MSA from file /mnt/output/consensus-hd/msas/uniref90_hits.sto\n",
      "W0810 17:04:57.103661 23053836497856 pipeline.py:100] Reading MSA from file /mnt/output/consensus-hd/msas/mgnify_hits.sto\n",
      "I0810 17:04:57.236495 23053836497856 hhsearch.py:85] Launching subprocess \"/usr/bin/hhsearch -i /tmp/tmpjbqbz3a_/query.a3m -o /tmp/tmpjbqbz3a_/output.hhr -maxseq 1000000 -d /mnt/pdb70_database_path/pdb70\"\n",
      "I0810 17:04:57.237722 23053836497856 utils.py:36] Started HHsearch query\n",
      "I0810 17:05:17.797950 23053836497856 utils.py:40] Finished HHsearch query in 20.560 seconds\n",
      "W0810 17:05:18.393761 23053836497856 pipeline.py:100] Reading MSA from file /mnt/output/consensus-hd/msas/small_bfd_hits.sto\n",
      "I0810 17:05:18.447290 23053836497856 templates.py:878] Searching for template for: RRKRTTFTKEQLEELEELFEKNRYPSAEEREELAKKLGLTERQVKVWFQNRRAKEKK\n",
      "I0810 17:05:18.733851 23053836497856 templates.py:267] Found an exact template match 5wc9_A.\n",
      "I0810 17:05:18.869478 23053836497856 templates.py:267] Found an exact template match 1au7_A.\n",
      "I0810 17:05:18.980807 23053836497856 templates.py:267] Found an exact template match 1mh3_A.\n",
      "I0810 17:05:19.460323 23053836497856 templates.py:267] Found an exact template match 5flv_E.\n",
      "I0810 17:05:19.466870 23053836497856 templates.py:267] Found an exact template match 4ndj_A.\n",
      "I0810 17:05:19.474156 23053836497856 templates.py:267] Found an exact template match 5flv_M.\n",
      "I0810 17:05:19.784875 23053836497856 templates.py:267] Found an exact template match 3d1n_I.\n",
      "I0810 17:05:19.844456 23053836497856 templates.py:267] Found an exact template match 1e3o_C.\n",
      "I0810 17:05:19.959756 23053836497856 templates.py:267] Found an exact template match 2d5v_B.\n",
      "I0810 17:05:20.117214 23053836497856 templates.py:267] Found an exact template match 3l1p_A.\n",
      "I0810 17:05:20.207373 23053836497856 templates.py:267] Found an exact template match 2xsd_C.\n",
      "I0810 17:05:20.701847 23053836497856 templates.py:267] Found an exact template match 1gt0_C.\n",
      "I0810 17:05:20.706089 23053836497856 templates.py:267] Found an exact template match 6u82_D.\n",
      "I0810 17:05:21.462753 23053836497856 templates.py:267] Found an exact template match 2cuf_A.\n",
      "I0810 17:05:21.466799 23053836497856 templates.py:267] Found an exact template match 5zfy_A.\n",
      "I0810 17:05:21.470735 23053836497856 templates.py:267] Found an exact template match 1wh5_A.\n",
      "I0810 17:05:21.473824 23053836497856 templates.py:267] Found an exact template match 6u82_D.\n",
      "I0810 17:05:21.591245 23053836497856 templates.py:267] Found an exact template match 5zfz_A.\n",
      "I0810 17:05:21.819169 23053836497856 templates.py:267] Found an exact template match 4egc_A.\n",
      "I0810 17:05:22.824096 23053836497856 templates.py:267] Found an exact template match 2l9r_A.\n",
      "I0810 17:05:22.877362 23053836497856 pipeline.py:234] Uniref90 MSA size: 10000 sequences.\n",
      "I0810 17:05:22.877472 23053836497856 pipeline.py:235] BFD MSA size: 3807 sequences.\n",
      "I0810 17:05:22.877501 23053836497856 pipeline.py:236] MGnify MSA size: 501 sequences.\n",
      "I0810 17:05:22.877527 23053836497856 pipeline.py:237] Final (deduplicated) MSA size: 5210 sequences.\n",
      "I0810 17:05:22.877564 23053836497856 pipeline.py:239] Total number of templates (NB: this can include bad templates and is later filtered to top 4): 20.\n",
      "I0810 17:05:22.885454 23053836497856 run_alphafold.py:278] Running model model_4_pred_0 on consensus-hd\n",
      "I0810 17:05:23.810068 23053836497856 model.py:165] Running predict with shape(feat) = {'aatype': (4, 57), 'residue_index': (4, 57), 'seq_length': (4,), 'is_distillation': (4,), 'seq_mask': (4, 57), 'msa_mask': (4, 512, 57), 'msa_row_mask': (4, 512), 'random_crop_to_size_seed': (4, 2), 'atom14_atom_exists': (4, 57, 14), 'residx_atom14_to_atom37': (4, 57, 14), 'residx_atom37_to_atom14': (4, 57, 37), 'atom37_atom_exists': (4, 57, 37), 'extra_msa': (4, 5120, 57), 'extra_msa_mask': (4, 5120, 57), 'extra_msa_row_mask': (4, 5120), 'bert_mask': (4, 512, 57), 'true_msa': (4, 512, 57), 'extra_has_deletion': (4, 5120, 57), 'extra_deletion_value': (4, 5120, 57), 'msa_feat': (4, 512, 57, 49), 'target_feat': (4, 57, 22)}\n",
      "I0810 17:06:44.348351 23053836497856 model.py:175] Output shape was {'distogram': {'bin_edges': (63,), 'logits': (57, 57, 64)}, 'experimentally_resolved': {'logits': (57, 37)}, 'masked_msa': {'logits': (512, 57, 23)}, 'predicted_lddt': {'logits': (57, 50)}, 'structure_module': {'final_atom_mask': (57, 37), 'final_atom_positions': (57, 37, 3)}, 'plddt': (57,), 'ranking_confidence': ()}\n",
      "I0810 17:06:44.348813 23053836497856 run_alphafold.py:290] Total JAX model model_4_pred_0 on consensus-hd predict time (includes compilation time, see --benchmark): 80.5s\n",
      "I0810 17:06:44.451874 23053836497856 run_alphafold.py:416] Final timings for consensus-hd: {'features': 25.834402561187744, 'process_features_model_4_pred_0': 0.9243967533111572, 'predict_and_compile_model_4_pred_0': 80.53883171081543}\n",
      "INFO:absl:devices []\n",
      "I0810 17:03:11.038245 23053836497856 templates.py:857] Using precomputed obsolete pdbs /mnt/obsolete_pdbs_path/obsolete.dat.\n",
      "I0810 17:03:11.245864 23053836497856 xla_bridge.py:353] Unable to initialize backend 'tpu_driver': NOT_FOUND: Unable to find driver in registry given worker: \n",
      "I0810 17:03:11.734392 23053836497856 xla_bridge.py:353] Unable to initialize backend 'rocm': NOT_FOUND: Could not find registered platform with name: \"rocm\". Available platform names are: Interpreter CUDA Host\n",
      "I0810 17:03:11.734710 23053836497856 xla_bridge.py:353] Unable to initialize backend 'tpu': module 'jaxlib.xla_extension' has no attribute 'get_tpu_client'\n",
      "I0810 17:03:11.734796 23053836497856 xla_bridge.py:353] Unable to initialize backend 'plugin': xla_extension has no attributes named get_plugin_device_client. Compile TensorFlow with //tensorflow/compiler/xla/python:enable_plugin_device set to true (defaults to false) to enable this.\n",
      "I0810 17:03:13.534596 23053836497856 run_alphafold.py:528] Have 1 models: ['model_4_pred_0']\n",
      "I0810 17:03:13.534781 23053836497856 run_alphafold.py:542] Using random seed 8147526683537735349 for the data pipeline\n",
      "I0810 17:03:13.535023 23053836497856 run_alphafold.py:247] Predicting enh\n",
      "W0810 17:03:13.535176 23053836497856 pipeline.py:100] Reading MSA from file /mnt/output/enh/msas/uniref90_hits.sto\n",
      "W0810 17:03:13.588756 23053836497856 pipeline.py:100] Reading MSA from file /mnt/output/enh/msas/mgnify_hits.sto\n",
      "I0810 17:03:13.725254 23053836497856 hhsearch.py:85] Launching subprocess \"/usr/bin/hhsearch -i /tmp/tmpmegru5y5/query.a3m -o /tmp/tmpmegru5y5/output.hhr -maxseq 1000000 -d /mnt/pdb70_database_path/pdb70\"\n",
      "I0810 17:03:13.727214 23053836497856 utils.py:36] Started HHsearch query\n",
      "I0810 17:03:34.230354 23053836497856 utils.py:40] Finished HHsearch query in 20.503 seconds\n",
      "W0810 17:03:34.412786 23053836497856 pipeline.py:100] Reading MSA from file /mnt/output/enh/msas/small_bfd_hits.sto\n",
      "I0810 17:03:34.437644 23053836497856 templates.py:878] Searching for template for: DKRPRTAFSSEQLARLKREFNENRYLTERRRQQLSSELGLNEAQIKIWFQNKRAKIKK\n",
      "I0810 17:03:34.561957 23053836497856 templates.py:267] Found an exact template match 1au7_A.\n",
      "I0810 17:03:34.838370 23053836497856 templates.py:267] Found an exact template match 5wc9_A.\n",
      "I0810 17:03:34.945591 23053836497856 templates.py:267] Found an exact template match 1mh3_A.\n",
      "I0810 17:03:35.545216 23053836497856 templates.py:267] Found an exact template match 5flv_E.\n",
      "I0810 17:03:35.551296 23053836497856 templates.py:267] Found an exact template match 5flv_M.\n",
      "I0810 17:03:35.609285 23053836497856 templates.py:267] Found an exact template match 1e3o_C.\n",
      "I0810 17:03:35.929223 23053836497856 templates.py:267] Found an exact template match 3d1n_I.\n",
      "I0810 17:03:36.052108 23053836497856 templates.py:267] Found an exact template match 4ndj_A.\n",
      "I0810 17:03:36.162519 23053836497856 templates.py:267] Found an exact template match 2d5v_B.\n",
      "I0810 17:03:36.482377 23053836497856 templates.py:267] Found an exact template match 3l1p_A.\n",
      "I0810 17:03:36.570877 23053836497856 templates.py:267] Found an exact template match 1gt0_C.\n",
      "I0810 17:03:36.646924 23053836497856 templates.py:267] Found an exact template match 2xsd_C.\n",
      "I0810 17:03:37.373028 23053836497856 templates.py:267] Found an exact template match 2cuf_A.\n",
      "I0810 17:03:37.767976 23053836497856 templates.py:267] Found an exact template match 6u82_D.\n",
      "I0810 17:03:38.342983 23053836497856 templates.py:267] Found an exact template match 2mg4_A.\n",
      "I0810 17:03:38.446442 23053836497856 templates.py:267] Found an exact template match 5zfz_A.\n",
      "I0810 17:03:38.512984 23053836497856 templates.py:267] Found an exact template match 5zfy_A.\n",
      "I0810 17:03:39.406588 23053836497856 templates.py:267] Found an exact template match 1wh5_A.\n",
      "I0810 17:03:39.409865 23053836497856 templates.py:267] Found an exact template match 6u82_D.\n",
      "I0810 17:03:40.066659 23053836497856 templates.py:267] Found an exact template match 1ztr_A.\n",
      "I0810 17:03:40.121018 23053836497856 pipeline.py:234] Uniref90 MSA size: 10000 sequences.\n",
      "I0810 17:03:40.121127 23053836497856 pipeline.py:235] BFD MSA size: 2431 sequences.\n",
      "I0810 17:03:40.121156 23053836497856 pipeline.py:236] MGnify MSA size: 501 sequences.\n",
      "I0810 17:03:40.121187 23053836497856 pipeline.py:237] Final (deduplicated) MSA size: 5492 sequences.\n",
      "I0810 17:03:40.121359 23053836497856 pipeline.py:239] Total number of templates (NB: this can include bad templates and is later filtered to top 4): 20.\n",
      "I0810 17:03:40.129178 23053836497856 run_alphafold.py:278] Running model model_4_pred_0 on enh\n",
      "I0810 17:03:42.529354 23053836497856 model.py:165] Running predict with shape(feat) = {'aatype': (4, 58), 'residue_index': (4, 58), 'seq_length': (4,), 'is_distillation': (4,), 'seq_mask': (4, 58), 'msa_mask': (4, 512, 58), 'msa_row_mask': (4, 512), 'random_crop_to_size_seed': (4, 2), 'atom14_atom_exists': (4, 58, 14), 'residx_atom14_to_atom37': (4, 58, 14), 'residx_atom37_to_atom14': (4, 58, 37), 'atom37_atom_exists': (4, 58, 37), 'extra_msa': (4, 5120, 58), 'extra_msa_mask': (4, 5120, 58), 'extra_msa_row_mask': (4, 5120), 'bert_mask': (4, 512, 58), 'true_msa': (4, 512, 58), 'extra_has_deletion': (4, 5120, 58), 'extra_deletion_value': (4, 5120, 58), 'msa_feat': (4, 512, 58, 49), 'target_feat': (4, 58, 22)}\n",
      "I0810 17:04:56.942333 23053836497856 model.py:175] Output shape was {'distogram': {'bin_edges': (63,), 'logits': (58, 58, 64)}, 'experimentally_resolved': {'logits': (58, 37)}, 'masked_msa': {'logits': (512, 58, 23)}, 'predicted_lddt': {'logits': (58, 50)}, 'structure_module': {'final_atom_mask': (58, 37), 'final_atom_positions': (58, 37, 3)}, 'plddt': (58,), 'ranking_confidence': ()}\n",
      "I0810 17:04:56.942677 23053836497856 run_alphafold.py:290] Total JAX model model_4_pred_0 on enh predict time (includes compilation time, see --benchmark): 74.4s\n",
      "I0810 17:04:57.045191 23053836497856 run_alphafold.py:416] Final timings for enh: {'features': 26.588576555252075, 'process_features_model_4_pred_0': 2.399717330932617, 'predict_and_compile_model_4_pred_0': 74.41366767883301}\n",
      "I0810 17:04:57.045683 23053836497856 run_alphafold.py:247] Predicting consensus-hd\n",
      "W0810 17:04:57.045942 23053836497856 pipeline.py:100] Reading MSA from file /mnt/output/consensus-hd/msas/uniref90_hits.sto\n",
      "W0810 17:04:57.103661 23053836497856 pipeline.py:100] Reading MSA from file /mnt/output/consensus-hd/msas/mgnify_hits.sto\n",
      "I0810 17:04:57.236495 23053836497856 hhsearch.py:85] Launching subprocess \"/usr/bin/hhsearch -i /tmp/tmpjbqbz3a_/query.a3m -o /tmp/tmpjbqbz3a_/output.hhr -maxseq 1000000 -d /mnt/pdb70_database_path/pdb70\"\n",
      "I0810 17:04:57.237722 23053836497856 utils.py:36] Started HHsearch query\n",
      "I0810 17:05:17.797950 23053836497856 utils.py:40] Finished HHsearch query in 20.560 seconds\n",
      "W0810 17:05:18.393761 23053836497856 pipeline.py:100] Reading MSA from file /mnt/output/consensus-hd/msas/small_bfd_hits.sto\n",
      "I0810 17:05:18.447290 23053836497856 templates.py:878] Searching for template for: RRKRTTFTKEQLEELEELFEKNRYPSAEEREELAKKLGLTERQVKVWFQNRRAKEKK\n",
      "I0810 17:05:18.733851 23053836497856 templates.py:267] Found an exact template match 5wc9_A.\n",
      "I0810 17:05:18.869478 23053836497856 templates.py:267] Found an exact template match 1au7_A.\n",
      "I0810 17:05:18.980807 23053836497856 templates.py:267] Found an exact template match 1mh3_A.\n",
      "I0810 17:05:19.460323 23053836497856 templates.py:267] Found an exact template match 5flv_E.\n",
      "I0810 17:05:19.466870 23053836497856 templates.py:267] Found an exact template match 4ndj_A.\n",
      "I0810 17:05:19.474156 23053836497856 templates.py:267] Found an exact template match 5flv_M.\n",
      "I0810 17:05:19.784875 23053836497856 templates.py:267] Found an exact template match 3d1n_I.\n",
      "I0810 17:05:19.844456 23053836497856 templates.py:267] Found an exact template match 1e3o_C.\n",
      "I0810 17:05:19.959756 23053836497856 templates.py:267] Found an exact template match 2d5v_B.\n",
      "I0810 17:05:20.117214 23053836497856 templates.py:267] Found an exact template match 3l1p_A.\n",
      "I0810 17:05:20.207373 23053836497856 templates.py:267] Found an exact template match 2xsd_C.\n",
      "I0810 17:05:20.701847 23053836497856 templates.py:267] Found an exact template match 1gt0_C.\n",
      "I0810 17:05:20.706089 23053836497856 templates.py:267] Found an exact template match 6u82_D.\n",
      "I0810 17:05:21.462753 23053836497856 templates.py:267] Found an exact template match 2cuf_A.\n",
      "I0810 17:05:21.466799 23053836497856 templates.py:267] Found an exact template match 5zfy_A.\n",
      "I0810 17:05:21.470735 23053836497856 templates.py:267] Found an exact template match 1wh5_A.\n",
      "I0810 17:05:21.473824 23053836497856 templates.py:267] Found an exact template match 6u82_D.\n",
      "I0810 17:05:21.591245 23053836497856 templates.py:267] Found an exact template match 5zfz_A.\n",
      "I0810 17:05:21.819169 23053836497856 templates.py:267] Found an exact template match 4egc_A.\n",
      "I0810 17:05:22.824096 23053836497856 templates.py:267] Found an exact template match 2l9r_A.\n",
      "I0810 17:05:22.877362 23053836497856 pipeline.py:234] Uniref90 MSA size: 10000 sequences.\n",
      "I0810 17:05:22.877472 23053836497856 pipeline.py:235] BFD MSA size: 3807 sequences.\n",
      "I0810 17:05:22.877501 23053836497856 pipeline.py:236] MGnify MSA size: 501 sequences.\n",
      "I0810 17:05:22.877527 23053836497856 pipeline.py:237] Final (deduplicated) MSA size: 5210 sequences.\n",
      "I0810 17:05:22.877564 23053836497856 pipeline.py:239] Total number of templates (NB: this can include bad templates and is later filtered to top 4): 20.\n",
      "I0810 17:05:22.885454 23053836497856 run_alphafold.py:278] Running model model_4_pred_0 on consensus-hd\n",
      "I0810 17:05:23.810068 23053836497856 model.py:165] Running predict with shape(feat) = {'aatype': (4, 57), 'residue_index': (4, 57), 'seq_length': (4,), 'is_distillation': (4,), 'seq_mask': (4, 57), 'msa_mask': (4, 512, 57), 'msa_row_mask': (4, 512), 'random_crop_to_size_seed': (4, 2), 'atom14_atom_exists': (4, 57, 14), 'residx_atom14_to_atom37': (4, 57, 14), 'residx_atom37_to_atom14': (4, 57, 37), 'atom37_atom_exists': (4, 57, 37), 'extra_msa': (4, 5120, 57), 'extra_msa_mask': (4, 5120, 57), 'extra_msa_row_mask': (4, 5120), 'bert_mask': (4, 512, 57), 'true_msa': (4, 512, 57), 'extra_has_deletion': (4, 5120, 57), 'extra_deletion_value': (4, 5120, 57), 'msa_feat': (4, 512, 57, 49), 'target_feat': (4, 57, 22)}\n",
      "I0810 17:06:44.348351 23053836497856 model.py:175] Output shape was {'distogram': {'bin_edges': (63,), 'logits': (57, 57, 64)}, 'experimentally_resolved': {'logits': (57, 37)}, 'masked_msa': {'logits': (512, 57, 23)}, 'predicted_lddt': {'logits': (57, 50)}, 'structure_module': {'final_atom_mask': (57, 37), 'final_atom_positions': (57, 37, 3)}, 'plddt': (57,), 'ranking_confidence': ()}\n",
      "I0810 17:06:44.348813 23053836497856 run_alphafold.py:290] Total JAX model model_4_pred_0 on consensus-hd predict time (includes compilation time, see --benchmark): 80.5s\n",
      "I0810 17:06:44.451874 23053836497856 run_alphafold.py:416] Final timings for consensus-hd: {'features': 25.834402561187744, 'process_features_model_4_pred_0': 0.9243967533111572, 'predict_and_compile_model_4_pred_0': 80.53883171081543}\n"
     ]
    },
    {
     "name": "stderr",
     "output_type": "stream",
     "text": [
      "INFO:pyrosetta.rosetta:Found rosetta database at: /mmfs1/gscratch/cheme/usr/evankomp/mamba/mambaforge/envs/nomelt2/lib/python3.9/site-packages/pyrosetta-2023.27+release.e3ce6ea9faf-py3.9-linux-x86_64.egg/pyrosetta/database; using it....\n"
     ]
    },
    {
     "name": "stdout",
     "output_type": "stream",
     "text": [
      "PyRosetta-4 2023 [Rosetta PyRosetta4.Release.python39.ubuntu 2023.27+release.e3ce6ea9faf661ae8fa769511e2a9b8596417e58 2023-07-07T12:00:46] retrieved from: http://www.pyrosetta.org\n",
      "(C) Copyright Rosetta Commons Member Institutions. Created in JHU by Sergey Lyskov and PyRosetta Team.\n"
     ]
    },
    {
     "name": "stderr",
     "output_type": "stream",
     "text": [
      "INFO:pyrosetta.rosetta:PyRosetta-4 2023 [Rosetta PyRosetta4.Release.python39.ubuntu 2023.27+release.e3ce6ea9faf661ae8fa769511e2a9b8596417e58 2023-07-07T12:00:46] retrieved from: http://www.pyrosetta.org\n",
      "(C) Copyright Rosetta Commons Member Institutions. Created in JHU by Sergey Lyskov and PyRosetta Team.\n",
      "INFO:rosetta:core.init: Checking for fconfig files in pwd and ./rosetta/flags\n",
      "INFO:rosetta:core.init: Rosetta version: PyRosetta4.Release.python39.ubuntu r353 2023.27+release.e3ce6ea9faf e3ce6ea9faf661ae8fa769511e2a9b8596417e58 http://www.pyrosetta.org 2023-07-07T12:00:46\n",
      "INFO:rosetta:core.init: command: PyRosetta -ex1 -ex2aro -database /mmfs1/gscratch/cheme/usr/evankomp/mamba/mambaforge/envs/nomelt2/lib/python3.9/site-packages/pyrosetta-2023.27+release.e3ce6ea9faf-py3.9-linux-x86_64.egg/pyrosetta/database\n",
      "INFO:rosetta:basic.random.init_random_generator: 'RNG device' seed mode, using '/dev/urandom', seed=-351868217 seed_offset=0 real_seed=-351868217\n",
      "INFO:rosetta:basic.random.init_random_generator: RandomGenerator:init: Normal mode, seed=-351868217 RG_type=mt19937\n",
      "INFO:rosetta:core.chemical.GlobalResidueTypeSet: Finished initializing fa_standard residue type set.  Created 985 residue types\n",
      "INFO:rosetta:core.chemical.GlobalResidueTypeSet: Total time to initialize 0.595419 seconds.\n",
      "INFO:rosetta:core.import_pose.import_pose: File '/mmfs1/gscratch/cheme/usr/evankomp/repos/nomelt/analysis/tmp/af_dg/enh/ensemble_replicate_1.pdb' automatically determined to be of type PDB\n",
      "INFO:rosetta:core.conformation.Conformation: [ WARNING ] missing heavyatom:  OXT on residue LYS:CtermProteinFull 58\n",
      "INFO:rosetta:core.scoring.etable: Starting energy table calculation\n",
      "INFO:rosetta:core.scoring.etable: smooth_etable: changing atr/rep split to bottom of energy well\n",
      "INFO:rosetta:core.scoring.etable: smooth_etable: spline smoothing lj etables (maxdis = 6)\n",
      "INFO:rosetta:core.scoring.etable: smooth_etable: spline smoothing solvation etables (max_dis = 6)\n",
      "INFO:rosetta:core.scoring.etable: Finished calculating energy tables.\n",
      "INFO:rosetta:basic.io.database: Database file opened: scoring/score_functions/hbonds/ref2015_params/HBPoly1D.csv\n",
      "INFO:rosetta:basic.io.database: Database file opened: scoring/score_functions/hbonds/ref2015_params/HBFadeIntervals.csv\n",
      "INFO:rosetta:basic.io.database: Database file opened: scoring/score_functions/hbonds/ref2015_params/HBEval.csv\n",
      "INFO:rosetta:basic.io.database: Database file opened: scoring/score_functions/hbonds/ref2015_params/DonStrength.csv\n",
      "INFO:rosetta:basic.io.database: Database file opened: scoring/score_functions/hbonds/ref2015_params/AccStrength.csv\n",
      "INFO:rosetta:basic.io.database: Database file opened: scoring/score_functions/rama/fd/all.ramaProb\n",
      "INFO:rosetta:basic.io.database: Database file opened: scoring/score_functions/rama/fd/prepro.ramaProb\n",
      "INFO:rosetta:basic.io.database: Database file opened: scoring/score_functions/omega/omega_ppdep.all.txt\n",
      "INFO:rosetta:basic.io.database: Database file opened: scoring/score_functions/omega/omega_ppdep.gly.txt\n",
      "INFO:rosetta:basic.io.database: Database file opened: scoring/score_functions/omega/omega_ppdep.pro.txt\n",
      "INFO:rosetta:basic.io.database: Database file opened: scoring/score_functions/omega/omega_ppdep.valile.txt\n",
      "INFO:rosetta:basic.io.database: Database file opened: scoring/score_functions/P_AA_pp/P_AA\n",
      "INFO:rosetta:basic.io.database: Database file opened: scoring/score_functions/P_AA_pp/P_AA_n\n",
      "INFO:rosetta:core.scoring.P_AA: shapovalov_lib::shap_p_aa_pp_smooth_level of 1( aka low_smooth ) got activated.\n",
      "INFO:rosetta:basic.io.database: Database file opened: scoring/score_functions/P_AA_pp/shapovalov/10deg/kappa131/a20.prop\n",
      "INFO:rosetta:basic.io.database: Database file opened: scoring/score_functions/elec_cp_reps.dat\n",
      "INFO:rosetta:core.scoring.elec.util: Read 40 countpair representative atoms\n",
      "INFO:rosetta:core.pack.dunbrack.RotamerLibrary: shapovalov_lib_fixes_enable option is true.\n",
      "INFO:rosetta:core.pack.dunbrack.RotamerLibrary: shapovalov_lib::shap_dun10_smooth_level of 1( aka lowest_smooth ) got activated.\n",
      "INFO:rosetta:core.pack.dunbrack.RotamerLibrary: Binary rotamer library selected: /mmfs1/gscratch/cheme/usr/evankomp/mamba/mambaforge/envs/nomelt2/lib/python3.9/site-packages/pyrosetta-2023.27+release.e3ce6ea9faf-py3.9-linux-x86_64.egg/pyrosetta/database/rotamer/shapovalov/StpDwn_0-0-0/Dunbrack10.lib.bin\n",
      "INFO:rosetta:core.pack.dunbrack.RotamerLibrary: Using Dunbrack library binary file '/mmfs1/gscratch/cheme/usr/evankomp/mamba/mambaforge/envs/nomelt2/lib/python3.9/site-packages/pyrosetta-2023.27+release.e3ce6ea9faf-py3.9-linux-x86_64.egg/pyrosetta/database/rotamer/shapovalov/StpDwn_0-0-0/Dunbrack10.lib.bin'.\n",
      "INFO:rosetta:core.pack.dunbrack.RotamerLibrary: Dunbrack 2010 library took 0.168074 seconds to load from binary\n",
      "INFO:rosetta:core.import_pose.import_pose: File '/mmfs1/gscratch/cheme/usr/evankomp/repos/nomelt/analysis/tmp/af_dg/enh/ensemble_replicate_0.pdb' automatically determined to be of type PDB\n",
      "INFO:rosetta:core.conformation.Conformation: [ WARNING ] missing heavyatom:  OXT on residue LYS:CtermProteinFull 58\n",
      "INFO:nomelt.thermo_estimation.alphafold:Computed energies for enh: (-137.2163400038844, 5.359040241829916)\n",
      "INFO:nomelt.thermo_estimation.alphafold:Computing energies for consensus-hd... found 2 PDB files in the ensemble.\n",
      "INFO:pyrosetta.rosetta:Found rosetta database at: /mmfs1/gscratch/cheme/usr/evankomp/mamba/mambaforge/envs/nomelt2/lib/python3.9/site-packages/pyrosetta-2023.27+release.e3ce6ea9faf-py3.9-linux-x86_64.egg/pyrosetta/database; using it....\n"
     ]
    },
    {
     "name": "stdout",
     "output_type": "stream",
     "text": [
      "PyRosetta-4 2023 [Rosetta PyRosetta4.Release.python39.ubuntu 2023.27+release.e3ce6ea9faf661ae8fa769511e2a9b8596417e58 2023-07-07T12:00:46] retrieved from: http://www.pyrosetta.org\n",
      "(C) Copyright Rosetta Commons Member Institutions. Created in JHU by Sergey Lyskov and PyRosetta Team.\n"
     ]
    },
    {
     "name": "stderr",
     "output_type": "stream",
     "text": [
      "INFO:pyrosetta.rosetta:PyRosetta-4 2023 [Rosetta PyRosetta4.Release.python39.ubuntu 2023.27+release.e3ce6ea9faf661ae8fa769511e2a9b8596417e58 2023-07-07T12:00:46] retrieved from: http://www.pyrosetta.org\n",
      "(C) Copyright Rosetta Commons Member Institutions. Created in JHU by Sergey Lyskov and PyRosetta Team.\n",
      "INFO:rosetta:core.init: Checking for fconfig files in pwd and ./rosetta/flags\n",
      "INFO:rosetta:core.init: Rosetta version: PyRosetta4.Release.python39.ubuntu r353 2023.27+release.e3ce6ea9faf e3ce6ea9faf661ae8fa769511e2a9b8596417e58 http://www.pyrosetta.org 2023-07-07T12:00:46\n",
      "INFO:rosetta:core.init: command: PyRosetta -ex1 -ex2aro -database /mmfs1/gscratch/cheme/usr/evankomp/mamba/mambaforge/envs/nomelt2/lib/python3.9/site-packages/pyrosetta-2023.27+release.e3ce6ea9faf-py3.9-linux-x86_64.egg/pyrosetta/database\n",
      "INFO:rosetta:basic.random.init_random_generator: 'RNG device' seed mode, using '/dev/urandom', seed=-987919770 seed_offset=0 real_seed=-987919770\n",
      "INFO:rosetta:basic.random.init_random_generator: RandomGenerator:init: Normal mode, seed=-987919770 RG_type=mt19937\n",
      "INFO:rosetta:core.chemical.GlobalResidueTypeSet: Finished initializing fa_standard residue type set.  Created 985 residue types\n",
      "INFO:rosetta:core.chemical.GlobalResidueTypeSet: Total time to initialize 0.593046 seconds.\n",
      "INFO:rosetta:core.import_pose.import_pose: File '/mmfs1/gscratch/cheme/usr/evankomp/repos/nomelt/analysis/tmp/af_dg/consensus-hd/ensemble_replicate_1.pdb' automatically determined to be of type PDB\n",
      "INFO:rosetta:core.conformation.Conformation: [ WARNING ] missing heavyatom:  OXT on residue LYS:CtermProteinFull 57\n",
      "INFO:rosetta:core.scoring.etable: Starting energy table calculation\n",
      "INFO:rosetta:core.scoring.etable: smooth_etable: changing atr/rep split to bottom of energy well\n",
      "INFO:rosetta:core.scoring.etable: smooth_etable: spline smoothing lj etables (maxdis = 6)\n",
      "INFO:rosetta:core.scoring.etable: smooth_etable: spline smoothing solvation etables (max_dis = 6)\n",
      "INFO:rosetta:core.scoring.etable: Finished calculating energy tables.\n",
      "INFO:rosetta:basic.io.database: Database file opened: scoring/score_functions/hbonds/ref2015_params/HBPoly1D.csv\n",
      "INFO:rosetta:basic.io.database: Database file opened: scoring/score_functions/hbonds/ref2015_params/HBFadeIntervals.csv\n",
      "INFO:rosetta:basic.io.database: Database file opened: scoring/score_functions/hbonds/ref2015_params/HBEval.csv\n",
      "INFO:rosetta:basic.io.database: Database file opened: scoring/score_functions/hbonds/ref2015_params/DonStrength.csv\n",
      "INFO:rosetta:basic.io.database: Database file opened: scoring/score_functions/hbonds/ref2015_params/AccStrength.csv\n",
      "INFO:rosetta:basic.io.database: Database file opened: scoring/score_functions/rama/fd/all.ramaProb\n",
      "INFO:rosetta:basic.io.database: Database file opened: scoring/score_functions/rama/fd/prepro.ramaProb\n",
      "INFO:rosetta:basic.io.database: Database file opened: scoring/score_functions/omega/omega_ppdep.all.txt\n",
      "INFO:rosetta:basic.io.database: Database file opened: scoring/score_functions/omega/omega_ppdep.gly.txt\n",
      "INFO:rosetta:basic.io.database: Database file opened: scoring/score_functions/omega/omega_ppdep.pro.txt\n",
      "INFO:rosetta:basic.io.database: Database file opened: scoring/score_functions/omega/omega_ppdep.valile.txt\n",
      "INFO:rosetta:basic.io.database: Database file opened: scoring/score_functions/P_AA_pp/P_AA\n",
      "INFO:rosetta:basic.io.database: Database file opened: scoring/score_functions/P_AA_pp/P_AA_n\n",
      "INFO:rosetta:core.scoring.P_AA: shapovalov_lib::shap_p_aa_pp_smooth_level of 1( aka low_smooth ) got activated.\n",
      "INFO:rosetta:basic.io.database: Database file opened: scoring/score_functions/P_AA_pp/shapovalov/10deg/kappa131/a20.prop\n",
      "INFO:rosetta:basic.io.database: Database file opened: scoring/score_functions/elec_cp_reps.dat\n",
      "INFO:rosetta:core.scoring.elec.util: Read 40 countpair representative atoms\n",
      "INFO:rosetta:core.pack.dunbrack.RotamerLibrary: shapovalov_lib_fixes_enable option is true.\n",
      "INFO:rosetta:core.pack.dunbrack.RotamerLibrary: shapovalov_lib::shap_dun10_smooth_level of 1( aka lowest_smooth ) got activated.\n",
      "INFO:rosetta:core.pack.dunbrack.RotamerLibrary: Binary rotamer library selected: /mmfs1/gscratch/cheme/usr/evankomp/mamba/mambaforge/envs/nomelt2/lib/python3.9/site-packages/pyrosetta-2023.27+release.e3ce6ea9faf-py3.9-linux-x86_64.egg/pyrosetta/database/rotamer/shapovalov/StpDwn_0-0-0/Dunbrack10.lib.bin\n",
      "INFO:rosetta:core.pack.dunbrack.RotamerLibrary: Using Dunbrack library binary file '/mmfs1/gscratch/cheme/usr/evankomp/mamba/mambaforge/envs/nomelt2/lib/python3.9/site-packages/pyrosetta-2023.27+release.e3ce6ea9faf-py3.9-linux-x86_64.egg/pyrosetta/database/rotamer/shapovalov/StpDwn_0-0-0/Dunbrack10.lib.bin'.\n",
      "INFO:rosetta:core.pack.dunbrack.RotamerLibrary: Dunbrack 2010 library took 0.16417 seconds to load from binary\n",
      "INFO:rosetta:core.import_pose.import_pose: File '/mmfs1/gscratch/cheme/usr/evankomp/repos/nomelt/analysis/tmp/af_dg/consensus-hd/ensemble_replicate_0.pdb' automatically determined to be of type PDB\n",
      "INFO:rosetta:core.conformation.Conformation: [ WARNING ] missing heavyatom:  OXT on residue LYS:CtermProteinFull 57\n",
      "INFO:nomelt.thermo_estimation.alphafold:Computed energies for consensus-hd: (-150.90195406256407, 0.8423209088568342)\n",
      "INFO:nomelt.thermo_estimation.alphafold:Total time taken for estimator call: 7.7831811507542925 mins.\n"
     ]
    }
   ],
   "source": [
    "outs = estimator.run(sequences=sequences, ids=ids)"
   ]
  },
  {
   "cell_type": "code",
   "execution_count": 6,
   "id": "4f384557-cadd-40d4-95ad-96c90664c79f",
   "metadata": {},
   "outputs": [
    {
     "data": {
      "text/plain": [
       "{'enh': (-137.2163400038844, 5.359040241829916),\n",
       " 'consensus-hd': (-150.90195406256407, 0.8423209088568342)}"
      ]
     },
     "execution_count": 6,
     "metadata": {},
     "output_type": "execute_result"
    }
   ],
   "source": [
    "outs"
   ]
  },
  {
   "cell_type": "code",
   "execution_count": null,
   "id": "24e4acf1-b3b0-457b-99a0-8f14e83e1084",
   "metadata": {},
   "outputs": [],
   "source": []
  }
 ],
 "metadata": {
  "kernelspec": {
   "display_name": "Python 3 (ipykernel)",
   "language": "python",
   "name": "python3"
  },
  "language_info": {
   "codemirror_mode": {
    "name": "ipython",
    "version": 3
   },
   "file_extension": ".py",
   "mimetype": "text/x-python",
   "name": "python",
   "nbconvert_exporter": "python",
   "pygments_lexer": "ipython3",
   "version": "3.9.16"
  }
 },
 "nbformat": 4,
 "nbformat_minor": 5
}
