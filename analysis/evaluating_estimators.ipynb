{
 "cells": [
  {
   "cell_type": "markdown",
   "id": "24da123f-2401-4de0-9cb8-d8c8b51f060e",
   "metadata": {},
   "source": [
    "# Can the rosetta estimator distinguish between high stable and low stable?\n",
    "\n",
    "Use 1enh and engineered version"
   ]
  },
  {
   "cell_type": "code",
   "execution_count": 1,
   "id": "87a08b51-5ae3-4914-9fd0-07ba70161bdd",
   "metadata": {},
   "outputs": [
    {
     "name": "stdout",
     "output_type": "stream",
     "text": [
      "PyRosetta-4 2023 [Rosetta PyRosetta4.Release.python39.ubuntu 2023.27+release.e3ce6ea9faf661ae8fa769511e2a9b8596417e58 2023-07-07T12:00:46] retrieved from: http://www.pyrosetta.org\n",
      "(C) Copyright Rosetta Commons Member Institutions. Created in JHU by Sergey Lyskov and PyRosetta Team.\n",
      "core.init: Checking for fconfig files in pwd and ./rosetta/flags\n",
      "core.init: Rosetta version: PyRosetta4.Release.python39.ubuntu r353 2023.27+release.e3ce6ea9faf e3ce6ea9faf661ae8fa769511e2a9b8596417e58 http://www.pyrosetta.org 2023-07-07T12:00:46\n",
      "core.init: command: PyRosetta -ex1 -ex2aro -database /mmfs1/gscratch/cheme/usr/evankomp/mamba/mambaforge/envs/nomelt2/lib/python3.9/site-packages/pyrosetta-2023.27+release.e3ce6ea9faf-py3.9-linux-x86_64.egg/pyrosetta/database\n",
      "basic.random.init_random_generator: 'RNG device' seed mode, using '/dev/urandom', seed=2004693461 seed_offset=0 real_seed=2004693461\n",
      "basic.random.init_random_generator: RandomGenerator:init: Normal mode, seed=2004693461 RG_type=mt19937\n"
     ]
    },
    {
     "data": {
      "application/vnd.jupyter.widget-view+json": {
       "model_id": "742679e585b54bf68ae06e9e6efaf4df",
       "version_major": 2,
       "version_minor": 0
      },
      "text/plain": []
     },
     "metadata": {},
     "output_type": "display_data"
    },
    {
     "name": "stdout",
     "output_type": "stream",
     "text": [
      "[2023-07-27 15:12:28,712] [INFO] [real_accelerator.py:133:get_accelerator] Setting ds_accelerator to cuda (auto detect)\n"
     ]
    },
    {
     "name": "stderr",
     "output_type": "stream",
     "text": [
      "2023-07-27 15:12:35.074277: I tensorflow/core/platform/cpu_feature_guard.cc:193] This TensorFlow binary is optimized with oneAPI Deep Neural Network Library (oneDNN) to use the following CPU instructions in performance-critical operations:  SSE4.1 SSE4.2 AVX AVX2 AVX512F AVX512_VNNI FMA\n",
      "To enable them in other operations, rebuild TensorFlow with the appropriate compiler flags.\n",
      "2023-07-27 15:12:37.035178: I tensorflow/core/util/port.cc:104] oneDNN custom operations are on. You may see slightly different numerical results due to floating-point round-off errors from different computation orders. To turn them off, set the environment variable `TF_ENABLE_ONEDNN_OPTS=0`.\n"
     ]
    }
   ],
   "source": [
    "from nomelt.thermo_estimation.rosetta import minimize_structures\n",
    "from Bio.PDB import *\n",
    "import nglview as nv\n",
    "import ipywidgets\n",
    "import Bio.PDB.PDBList\n",
    "from nomelt.thermo_estimation.estimators import ESMFoldDGEstimator, ESMFoldDGArgs\n",
    "from nomelt.thermo_estimation.rosetta import RosettaMinimizationParameters\n",
    "parser = PDBParser()"
   ]
  },
  {
   "cell_type": "code",
   "execution_count": 2,
   "id": "297ef063-ba2f-406d-8874-740b9d3e7839",
   "metadata": {},
   "outputs": [],
   "source": [
    "from Bio.PDB import *\n",
    "import nglview as nv\n",
    "import ipywidgets"
   ]
  },
  {
   "cell_type": "code",
   "execution_count": 3,
   "id": "89107a58-d23e-4bcf-80ea-8da172ffa0b4",
   "metadata": {},
   "outputs": [],
   "source": [
    "import tempfile"
   ]
  },
  {
   "cell_type": "code",
   "execution_count": 4,
   "id": "5472a4c9-1536-4904-ab7b-0dbf6d34837a",
   "metadata": {},
   "outputs": [],
   "source": [
    "tmpdir = tempfile.mkdtemp(dir='./tmp')"
   ]
  },
  {
   "cell_type": "markdown",
   "id": "c68e72ad-d36c-4a26-8008-77700f6e30ae",
   "metadata": {},
   "source": [
    "### First try the ESM estimator"
   ]
  },
  {
   "cell_type": "code",
   "execution_count": 5,
   "id": "875c8d7a-9c5f-455d-81f8-c378aa75c038",
   "metadata": {},
   "outputs": [],
   "source": [
    "rosetta_params = RosettaMinimizationParameters(update_pdb=False)\n",
    "estimator_args = ESMFoldDGArgs(rosetta_params=rosetta_params)"
   ]
  },
  {
   "cell_type": "code",
   "execution_count": 6,
   "id": "8a0c5b95-b9fc-4c5a-b101-8fa643e43e90",
   "metadata": {},
   "outputs": [],
   "source": [
    "ENH1 = \"RPRTAFSSEQLARLKREFNENRYLTERRRQQLSSELGLNEAQIKIWFQNKRAKI\"\n",
    "_2P6J = \"MKQWSENVEEKLKEFVKRHQRITQEELHQYAQRLGLNEEAIRQFFEEFEQRK\""
   ]
  },
  {
   "cell_type": "code",
   "execution_count": 7,
   "id": "a953505f-b5b8-43ec-92c0-293cc96dfda8",
   "metadata": {},
   "outputs": [],
   "source": [
    "estimator = ESMFoldDGEstimator(sequences= [ENH1, _2P6J], ids = ['1enh', '2p6j'])"
   ]
  },
  {
   "cell_type": "code",
   "execution_count": 8,
   "id": "e5b81253-54ee-4881-8037-4d7f2d0016cd",
   "metadata": {},
   "outputs": [
    {
     "name": "stderr",
     "output_type": "stream",
     "text": [
      "100%|█████████████████████████████████████████████| 1/1 [00:01<00:00,  1.88s/it]\n"
     ]
    },
    {
     "name": "stdout",
     "output_type": "stream",
     "text": [
      "core.chemical.GlobalResidueTypeSet: Finished initializing fa_standard residue type set.  Created 985 residue types\n",
      "core.chemical.GlobalResidueTypeSet: Total time to initialize 0.702236 seconds.\n",
      "core.import_pose.import_pose: File './tmp/ESMFoldDGEstimator_structures/1enh.pdb' automatically determined to be of type PDB\n",
      "core.conformation.Conformation: [ WARNING ] missing heavyatom:  OXT on residue ILE:CtermProteinFull 54\n",
      "core.scoring.etable: Starting energy table calculation\n",
      "core.scoring.etable: smooth_etable: changing atr/rep split to bottom of energy well\n",
      "core.scoring.etable: smooth_etable: spline smoothing lj etables (maxdis = 6)\n",
      "core.scoring.etable: smooth_etable: spline smoothing solvation etables (max_dis = 6)\n",
      "core.scoring.etable: Finished calculating energy tables.\n",
      "basic.io.database: Database file opened: scoring/score_functions/hbonds/ref2015_params/HBPoly1D.csv\n",
      "basic.io.database: Database file opened: scoring/score_functions/hbonds/ref2015_params/HBFadeIntervals.csv\n",
      "basic.io.database: Database file opened: scoring/score_functions/hbonds/ref2015_params/HBEval.csv\n",
      "basic.io.database: Database file opened: scoring/score_functions/hbonds/ref2015_params/DonStrength.csv\n",
      "basic.io.database: Database file opened: scoring/score_functions/hbonds/ref2015_params/AccStrength.csv\n",
      "basic.io.database: Database file opened: scoring/score_functions/rama/fd/all.ramaProb\n",
      "basic.io.database: Database file opened: scoring/score_functions/rama/fd/prepro.ramaProb\n",
      "basic.io.database: Database file opened: scoring/score_functions/omega/omega_ppdep.all.txt\n",
      "basic.io.database: Database file opened: scoring/score_functions/omega/omega_ppdep.gly.txt\n",
      "basic.io.database: Database file opened: scoring/score_functions/omega/omega_ppdep.pro.txt\n",
      "basic.io.database: Database file opened: scoring/score_functions/omega/omega_ppdep.valile.txt\n",
      "basic.io.database: Database file opened: scoring/score_functions/P_AA_pp/P_AA\n",
      "basic.io.database: Database file opened: scoring/score_functions/P_AA_pp/P_AA_n\n",
      "core.scoring.P_AA: shapovalov_lib::shap_p_aa_pp_smooth_level of 1( aka low_smooth ) got activated.\n",
      "basic.io.database: Database file opened: scoring/score_functions/P_AA_pp/shapovalov/10deg/kappa131/a20.prop\n",
      "basic.io.database: Database file opened: scoring/score_functions/elec_cp_reps.dat\n",
      "core.scoring.elec.util: Read 40 countpair representative atoms\n",
      "core.pack.dunbrack.RotamerLibrary: shapovalov_lib_fixes_enable option is true.\n",
      "core.pack.dunbrack.RotamerLibrary: shapovalov_lib::shap_dun10_smooth_level of 1( aka lowest_smooth ) got activated.\n",
      "core.pack.dunbrack.RotamerLibrary: Binary rotamer library selected: /mmfs1/gscratch/cheme/usr/evankomp/mamba/mambaforge/envs/nomelt2/lib/python3.9/site-packages/pyrosetta-2023.27+release.e3ce6ea9faf-py3.9-linux-x86_64.egg/pyrosetta/database/rotamer/shapovalov/StpDwn_0-0-0/Dunbrack10.lib.bin\n",
      "core.pack.dunbrack.RotamerLibrary: Using Dunbrack library binary file '/mmfs1/gscratch/cheme/usr/evankomp/mamba/mambaforge/envs/nomelt2/lib/python3.9/site-packages/pyrosetta-2023.27+release.e3ce6ea9faf-py3.9-linux-x86_64.egg/pyrosetta/database/rotamer/shapovalov/StpDwn_0-0-0/Dunbrack10.lib.bin'.\n",
      "core.pack.dunbrack.RotamerLibrary: Dunbrack 2010 library took 0.217522 seconds to load from binary\n",
      "core.import_pose.import_pose: File './tmp/ESMFoldDGEstimator_structures/2p6j.pdb' automatically determined to be of type PDB\n",
      "core.conformation.Conformation: [ WARNING ] missing heavyatom:  OXT on residue LYS:CtermProteinFull 52\n"
     ]
    },
    {
     "data": {
      "text/plain": [
       "{'1enh': -132.44393295526166, '2p6j': -110.2349447847906}"
      ]
     },
     "execution_count": 8,
     "metadata": {},
     "output_type": "execute_result"
    }
   ],
   "source": [
    "estimator.run()"
   ]
  },
  {
   "cell_type": "markdown",
   "id": "9b2d5f8d-07e4-4960-a010-8aac7ad00dd2",
   "metadata": {},
   "source": [
    "The engineered variant is higher in energy than the WT.... not good. Maybe the structure is bungo"
   ]
  },
  {
   "cell_type": "code",
   "execution_count": 9,
   "id": "b91219e2-347d-443b-a874-0a7d2ca6fd3b",
   "metadata": {},
   "outputs": [
    {
     "name": "stderr",
     "output_type": "stream",
     "text": [
      "/mmfs1/gscratch/cheme/usr/evankomp/mamba/mambaforge/envs/nomelt2/lib/python3.9/site-packages/Bio/PDB/PDBParser.py:395: PDBConstructionWarning: Ignoring unrecognized record 'PARENT' at line 468\n",
      "  warnings.warn(\n",
      "/mmfs1/gscratch/cheme/usr/evankomp/mamba/mambaforge/envs/nomelt2/lib/python3.9/site-packages/Bio/PDB/PDBParser.py:395: PDBConstructionWarning: Ignoring unrecognized record 'END' at line 470\n",
      "  warnings.warn(\n"
     ]
    }
   ],
   "source": [
    "_2P6J_struc = parser.get_structure('2P6J',estimator.pdb_files_dict['2p6j'])"
   ]
  },
  {
   "cell_type": "code",
   "execution_count": 10,
   "id": "924d10e5-6224-4d56-b758-ee9d3640227b",
   "metadata": {},
   "outputs": [
    {
     "data": {
      "application/vnd.jupyter.widget-view+json": {
       "model_id": "f40dfc7ccdfa46e193efa9c7c7f7bb3b",
       "version_major": 2,
       "version_minor": 0
      },
      "text/plain": [
       "NGLWidget()"
      ]
     },
     "metadata": {},
     "output_type": "display_data"
    },
    {
     "data": {
      "application/vnd.jupyter.widget-view+json": {
       "model_id": "19568302f55d4211afda575ab74e5225",
       "version_major": 2,
       "version_minor": 0
      },
      "text/plain": [
       "Tab(children=(Box(children=(Box(children=(Box(children=(Label(value='step'), IntSlider(value=1, min=-100)), la…"
      ]
     },
     "metadata": {},
     "output_type": "display_data"
    }
   ],
   "source": [
    "nv.show_biopython(_2P6J_struc, gui=True)"
   ]
  },
  {
   "cell_type": "markdown",
   "id": "2a4c23af-6a82-4136-9a63-9e86f02396ae",
   "metadata": {},
   "source": [
    "ESM thinks the engineered variant is not a 3hb"
   ]
  },
  {
   "cell_type": "markdown",
   "id": "ddf904e7-5df8-4957-baca-aa2bc016a02b",
   "metadata": {},
   "source": [
    "### Now do jsut rosetta on PDB structs, get the two structure for rosetta from PDB"
   ]
  },
  {
   "cell_type": "code",
   "execution_count": 21,
   "id": "22984a52-688f-41a0-b1fd-e7e34b15d638",
   "metadata": {},
   "outputs": [],
   "source": [
    "pdblist = Bio.PDB.PDBList()"
   ]
  },
  {
   "cell_type": "code",
   "execution_count": 24,
   "id": "93c2d0db-431d-4495-a9cf-0680f0d21608",
   "metadata": {},
   "outputs": [
    {
     "name": "stdout",
     "output_type": "stream",
     "text": [
      "Downloading PDB structure '1enh'...\n"
     ]
    },
    {
     "data": {
      "text/plain": [
       "'./tmp/tmp6b4ggwfx/pdb1enh.ent'"
      ]
     },
     "execution_count": 24,
     "metadata": {},
     "output_type": "execute_result"
    }
   ],
   "source": [
    "pdblist.retrieve_pdb_file('1ENH', pdir=tmpdir, file_format='pdb')"
   ]
  },
  {
   "cell_type": "code",
   "execution_count": 25,
   "id": "f9d63186-8ae8-43c5-b671-3572c05a0b8c",
   "metadata": {},
   "outputs": [
    {
     "name": "stdout",
     "output_type": "stream",
     "text": [
      "Downloading PDB structure '2p6j'...\n"
     ]
    },
    {
     "data": {
      "text/plain": [
       "'./tmp/tmp6b4ggwfx/pdb2p6j.ent'"
      ]
     },
     "execution_count": 25,
     "metadata": {},
     "output_type": "execute_result"
    }
   ],
   "source": [
    "pdblist.retrieve_pdb_file('2P6J', pdir=tmpdir, file_format='pdb')"
   ]
  },
  {
   "cell_type": "markdown",
   "id": "e4c8baad-76de-4367-919e-c0be3db2c6e1",
   "metadata": {},
   "source": [
    "#### the engineered variant is a solvent model, let's get only one structure"
   ]
  },
  {
   "cell_type": "code",
   "execution_count": 27,
   "id": "28d4a751-69f6-4744-a458-4a447ffd79bd",
   "metadata": {},
   "outputs": [],
   "source": [
    "_2P6J_struc = parser.get_structure('2P6J',tmpdir+'/pdb2p6j.ent')"
   ]
  },
  {
   "cell_type": "code",
   "execution_count": 64,
   "id": "4f6a7820-3676-4dd5-a755-8c5b91f4f9ff",
   "metadata": {},
   "outputs": [],
   "source": [
    "model = next(_2P6J_struc.get_models())"
   ]
  },
  {
   "cell_type": "code",
   "execution_count": 65,
   "id": "f4ab7629-d3d7-422a-bfd3-1230388a41df",
   "metadata": {},
   "outputs": [
    {
     "data": {
      "application/vnd.jupyter.widget-view+json": {
       "model_id": "7fb5971dfa8b489dbdb15e48a24049b1",
       "version_major": 2,
       "version_minor": 0
      },
      "text/plain": [
       "NGLWidget()"
      ]
     },
     "metadata": {},
     "output_type": "display_data"
    },
    {
     "data": {
      "application/vnd.jupyter.widget-view+json": {
       "model_id": "49c102d01d8f402d8c72deaae147deec",
       "version_major": 2,
       "version_minor": 0
      },
      "text/plain": [
       "Tab(children=(Box(children=(Box(children=(Box(children=(Label(value='step'), IntSlider(value=1, min=-100)), la…"
      ]
     },
     "metadata": {},
     "output_type": "display_data"
    }
   ],
   "source": [
    "nv.show_biopython(model, gui=True)"
   ]
  },
  {
   "cell_type": "code",
   "execution_count": 66,
   "id": "3768785f-975a-45f4-95e3-d644e86e73ba",
   "metadata": {},
   "outputs": [
    {
     "data": {
      "text/plain": [
       "919"
      ]
     },
     "execution_count": 66,
     "metadata": {},
     "output_type": "execute_result"
    }
   ],
   "source": [
    "len([a for a in model.get_atoms()])"
   ]
  },
  {
   "cell_type": "code",
   "execution_count": 67,
   "id": "9b719321-a82b-45d3-8998-ed34b9499830",
   "metadata": {},
   "outputs": [],
   "source": [
    "from Bio.PDB.PDBIO import PDBIO"
   ]
  },
  {
   "cell_type": "code",
   "execution_count": 68,
   "id": "645aa5fd-d8d7-40e9-837c-55874a9a5b2e",
   "metadata": {},
   "outputs": [],
   "source": [
    "io=PDBIO()\n",
    "io.set_structure(model)\n",
    "io.save(tmpdir+'/2p6j_single.pdb')"
   ]
  },
  {
   "cell_type": "markdown",
   "id": "b11964bf-fa22-4d6b-8c6a-74d7f2e6f7d5",
   "metadata": {},
   "source": [
    "### Run rosetta on the pdbs"
   ]
  },
  {
   "cell_type": "code",
   "execution_count": 51,
   "id": "25fbc360-54cf-45ac-8100-e213709442e8",
   "metadata": {},
   "outputs": [
    {
     "name": "stdout",
     "output_type": "stream",
     "text": [
      "PyRosetta-4 2023 [Rosetta PyRosetta4.Release.python39.ubuntu 2023.27+release.e3ce6ea9faf661ae8fa769511e2a9b8596417e58 2023-07-07T12:00:46] retrieved from: http://www.pyrosetta.org\n",
      "(C) Copyright Rosetta Commons Member Institutions. Created in JHU by Sergey Lyskov and PyRosetta Team.\n",
      "core.init: Checking for fconfig files in pwd and ./rosetta/flags\n",
      "core.init: Rosetta version: PyRosetta4.Release.python39.ubuntu r353 2023.27+release.e3ce6ea9faf e3ce6ea9faf661ae8fa769511e2a9b8596417e58 http://www.pyrosetta.org 2023-07-07T12:00:46\n",
      "core.init: command: PyRosetta -ex1 -ex2aro -database /mmfs1/gscratch/cheme/usr/evankomp/mamba/mambaforge/envs/nomelt2/lib/python3.9/site-packages/pyrosetta-2023.27+release.e3ce6ea9faf-py3.9-linux-x86_64.egg/pyrosetta/database\n",
      "basic.random.init_random_generator: 'RNG device' seed mode, using '/dev/urandom', seed=1353088276 seed_offset=0 real_seed=1353088276\n",
      "basic.random.init_random_generator: RandomGenerator:init: Normal mode, seed=1353088276 RG_type=mt19937\n",
      "core.chemical.GlobalResidueTypeSet: Finished initializing fa_standard residue type set.  Created 985 residue types\n",
      "core.chemical.GlobalResidueTypeSet: Total time to initialize 0.661654 seconds.\n",
      "core.import_pose.import_pose: File './tmp/tmp6b4ggwfx/pdb1enh.ent' automatically determined to be of type PDB\n",
      "core.conformation.Conformation: [ WARNING ] missing heavyatom:  OXT on residue ILE:CtermProteinFull 54\n",
      "core.scoring.etable: Starting energy table calculation\n",
      "core.scoring.etable: smooth_etable: changing atr/rep split to bottom of energy well\n",
      "core.scoring.etable: smooth_etable: spline smoothing lj etables (maxdis = 6)\n",
      "core.scoring.etable: smooth_etable: spline smoothing solvation etables (max_dis = 6)\n",
      "core.scoring.etable: Finished calculating energy tables.\n",
      "basic.io.database: Database file opened: scoring/score_functions/hbonds/ref2015_params/HBPoly1D.csv\n",
      "basic.io.database: Database file opened: scoring/score_functions/hbonds/ref2015_params/HBFadeIntervals.csv\n",
      "basic.io.database: Database file opened: scoring/score_functions/hbonds/ref2015_params/HBEval.csv\n",
      "basic.io.database: Database file opened: scoring/score_functions/hbonds/ref2015_params/DonStrength.csv\n",
      "basic.io.database: Database file opened: scoring/score_functions/hbonds/ref2015_params/AccStrength.csv\n",
      "basic.io.database: Database file opened: scoring/score_functions/rama/fd/all.ramaProb\n",
      "basic.io.database: Database file opened: scoring/score_functions/rama/fd/prepro.ramaProb\n",
      "basic.io.database: Database file opened: scoring/score_functions/omega/omega_ppdep.all.txt\n",
      "basic.io.database: Database file opened: scoring/score_functions/omega/omega_ppdep.gly.txt\n",
      "basic.io.database: Database file opened: scoring/score_functions/omega/omega_ppdep.pro.txt\n",
      "basic.io.database: Database file opened: scoring/score_functions/omega/omega_ppdep.valile.txt\n",
      "basic.io.database: Database file opened: scoring/score_functions/P_AA_pp/P_AA\n",
      "basic.io.database: Database file opened: scoring/score_functions/P_AA_pp/P_AA_n\n",
      "core.scoring.P_AA: shapovalov_lib::shap_p_aa_pp_smooth_level of 1( aka low_smooth ) got activated.\n",
      "basic.io.database: Database file opened: scoring/score_functions/P_AA_pp/shapovalov/10deg/kappa131/a20.prop\n",
      "basic.io.database: Database file opened: scoring/score_functions/elec_cp_reps.dat\n",
      "core.scoring.elec.util: Read 40 countpair representative atoms\n",
      "core.pack.dunbrack.RotamerLibrary: shapovalov_lib_fixes_enable option is true.\n",
      "core.pack.dunbrack.RotamerLibrary: shapovalov_lib::shap_dun10_smooth_level of 1( aka lowest_smooth ) got activated.\n",
      "core.pack.dunbrack.RotamerLibrary: Binary rotamer library selected: /mmfs1/gscratch/cheme/usr/evankomp/mamba/mambaforge/envs/nomelt2/lib/python3.9/site-packages/pyrosetta-2023.27+release.e3ce6ea9faf-py3.9-linux-x86_64.egg/pyrosetta/database/rotamer/shapovalov/StpDwn_0-0-0/Dunbrack10.lib.bin\n",
      "core.pack.dunbrack.RotamerLibrary: Using Dunbrack library binary file '/mmfs1/gscratch/cheme/usr/evankomp/mamba/mambaforge/envs/nomelt2/lib/python3.9/site-packages/pyrosetta-2023.27+release.e3ce6ea9faf-py3.9-linux-x86_64.egg/pyrosetta/database/rotamer/shapovalov/StpDwn_0-0-0/Dunbrack10.lib.bin'.\n",
      "core.pack.dunbrack.RotamerLibrary: Dunbrack 2010 library took 0.204437 seconds to load from binary\n",
      "PyRosetta-4 2023 [Rosetta PyRosetta4.Release.python39.ubuntu 2023.27+release.e3ce6ea9faf661ae8fa769511e2a9b8596417e58 2023-07-07T12:00:46] retrieved from: http://www.pyrosetta.org\n",
      "(C) Copyright Rosetta Commons Member Institutions. Created in JHU by Sergey Lyskov and PyRosetta Team.\n",
      "core.init: Checking for fconfig files in pwd and ./rosetta/flags\n",
      "core.init: Rosetta version: PyRosetta4.Release.python39.ubuntu r353 2023.27+release.e3ce6ea9faf e3ce6ea9faf661ae8fa769511e2a9b8596417e58 http://www.pyrosetta.org 2023-07-07T12:00:46\n",
      "core.init: command: PyRosetta -ex1 -ex2aro -database /mmfs1/gscratch/cheme/usr/evankomp/mamba/mambaforge/envs/nomelt2/lib/python3.9/site-packages/pyrosetta-2023.27+release.e3ce6ea9faf-py3.9-linux-x86_64.egg/pyrosetta/database\n",
      "basic.random.init_random_generator: 'RNG device' seed mode, using '/dev/urandom', seed=-1994016833 seed_offset=0 real_seed=-1994016833\n",
      "basic.random.init_random_generator: RandomGenerator:init: Normal mode, seed=-1994016833 RG_type=mt19937\n",
      "core.import_pose.import_pose: File './tmp/tmp6b4ggwfx/2p6j_single.pdb' automatically determined to be of type PDB\n",
      "core.io.pose_from_sfr.PoseFromSFRBuilder: [ WARNING ] discarding 3 atoms at position 1 in file ./tmp/tmp6b4ggwfx/2p6j_single.pdb. Best match rsd_type:  MET:NtermProteinFull\n"
     ]
    },
    {
     "data": {
      "text/plain": [
       "[18.660016044232023, 173.3902176637841]"
      ]
     },
     "execution_count": 51,
     "metadata": {},
     "output_type": "execute_result"
    }
   ],
   "source": [
    "minimize_structures([tmpdir+'/pdb1enh.ent', tmpdir+'/2p6j_single.pdb'])"
   ]
  },
  {
   "cell_type": "markdown",
   "id": "42dc98a1-4097-4d07-a516-5e66bc35ea58",
   "metadata": {},
   "source": [
    "### Manual rosetta"
   ]
  },
  {
   "cell_type": "markdown",
   "id": "2b63372b-f819-4948-bea9-d5bfdbdc950c",
   "metadata": {},
   "source": [
    "#### 1enh"
   ]
  },
  {
   "cell_type": "code",
   "execution_count": 70,
   "id": "0484fd99-f7fe-42e2-bbed-83b993c03e4b",
   "metadata": {},
   "outputs": [
    {
     "name": "stdout",
     "output_type": "stream",
     "text": [
      "PyRosetta-4 2023 [Rosetta PyRosetta4.Release.python39.ubuntu 2023.27+release.e3ce6ea9faf661ae8fa769511e2a9b8596417e58 2023-07-07T12:00:46] retrieved from: http://www.pyrosetta.org\n",
      "(C) Copyright Rosetta Commons Member Institutions. Created in JHU by Sergey Lyskov and PyRosetta Team.\n",
      "core.init: Checking for fconfig files in pwd and ./rosetta/flags\n",
      "core.init: Rosetta version: PyRosetta4.Release.python39.ubuntu r353 2023.27+release.e3ce6ea9faf e3ce6ea9faf661ae8fa769511e2a9b8596417e58 http://www.pyrosetta.org 2023-07-07T12:00:46\n",
      "core.init: command: PyRosetta -ex1 -ex2aro -database /mmfs1/gscratch/cheme/usr/evankomp/mamba/mambaforge/envs/nomelt2/lib/python3.9/site-packages/pyrosetta-2023.27+release.e3ce6ea9faf-py3.9-linux-x86_64.egg/pyrosetta/database\n",
      "basic.random.init_random_generator: 'RNG device' seed mode, using '/dev/urandom', seed=945069454 seed_offset=0 real_seed=945069454\n",
      "basic.random.init_random_generator: RandomGenerator:init: Normal mode, seed=945069454 RG_type=mt19937\n"
     ]
    }
   ],
   "source": [
    "import pyrosetta # Local import\n",
    "import pyrosetta.io\n",
    "from pyrosetta.rosetta.protocols.minimization_packing import MinMover\n",
    "pyrosetta.init()\n"
   ]
  },
  {
   "cell_type": "code",
   "execution_count": 71,
   "id": "28cd4403-9bc8-41c6-97a3-050fcf6b15fb",
   "metadata": {},
   "outputs": [
    {
     "name": "stdout",
     "output_type": "stream",
     "text": [
      "core.import_pose.import_pose: File './tmp/tmp6b4ggwfx/pdb1enh.ent' automatically determined to be of type PDB\n",
      "core.conformation.Conformation: [ WARNING ] missing heavyatom:  OXT on residue ILE:CtermProteinFull 54\n"
     ]
    },
    {
     "data": {
      "text/plain": [
       "18.660016044232023"
      ]
     },
     "execution_count": 71,
     "metadata": {},
     "output_type": "execute_result"
    }
   ],
   "source": [
    "# Create a pose from the PDB file\n",
    "pose=pyrosetta.io.pose_from_pdb(tmpdir+'/pdb1enh.ent')\n",
    "# Create a score function\n",
    "scorefxn = pyrosetta.create_score_function('ref2015')\n",
    "# Add constraints to the score function, if requested\n",
    "scorefxn(pose)"
   ]
  },
  {
   "cell_type": "code",
   "execution_count": 72,
   "id": "dfae6d7c-ffc1-4bde-be09-a0e6f2b9423d",
   "metadata": {},
   "outputs": [],
   "source": [
    "# Setup the MinMover\n",
    "min_mover = MinMover()\n",
    "mm = pyrosetta.MoveMap()\n",
    "mm.set_bb(True)\n",
    "mm.set_chi(True)\n",
    "mm.set_jump(True)\n",
    "min_mover.score_function(scorefxn)\n",
    "min_mover.movemap(mm)\n",
    "min_mover.min_type('lbfgs_armijo_nonmonotone')\n",
    "min_mover.tolerance(.0001)\n",
    "\n",
    "# Apply the MinMover to the pose\n",
    "min_mover.apply(pose)"
   ]
  },
  {
   "cell_type": "code",
   "execution_count": 73,
   "id": "7547097c-690b-4989-b476-1840ff684e23",
   "metadata": {},
   "outputs": [
    {
     "data": {
      "text/plain": [
       "-122.29198104266534"
      ]
     },
     "execution_count": 73,
     "metadata": {},
     "output_type": "execute_result"
    }
   ],
   "source": [
    "scorefxn(pose)"
   ]
  },
  {
   "cell_type": "markdown",
   "id": "05f3f28e-5683-4d15-8e41-63a8c6c049b6",
   "metadata": {},
   "source": [
    "#### engineered one"
   ]
  },
  {
   "cell_type": "code",
   "execution_count": 80,
   "id": "348be559-3edb-4321-9b2d-296e8853df47",
   "metadata": {},
   "outputs": [
    {
     "name": "stdout",
     "output_type": "stream",
     "text": [
      "core.import_pose.import_pose: File './tmp/tmp6b4ggwfx/2p6j_single.pdb' automatically determined to be of type PDB\n",
      "core.io.pose_from_sfr.PoseFromSFRBuilder: [ WARNING ] discarding 3 atoms at position 1 in file ./tmp/tmp6b4ggwfx/2p6j_single.pdb. Best match rsd_type:  MET:NtermProteinFull\n"
     ]
    },
    {
     "data": {
      "text/plain": [
       "173.3902176637841"
      ]
     },
     "execution_count": 80,
     "metadata": {},
     "output_type": "execute_result"
    }
   ],
   "source": [
    "# Create a pose from the PDB file\n",
    "pose=pyrosetta.io.pose_from_pdb(tmpdir+'/2p6j_single.pdb')\n",
    "# Create a score function\n",
    "scorefxn = pyrosetta.create_score_function('ref2015')\n",
    "# Add constraints to the score function, if requested\n",
    "scorefxn(pose)"
   ]
  },
  {
   "cell_type": "code",
   "execution_count": 81,
   "id": "0d71a1a5-e77b-476d-95fb-65a4dde92227",
   "metadata": {},
   "outputs": [],
   "source": [
    "# Setup the MinMover\n",
    "min_mover = MinMover()\n",
    "mm = pyrosetta.MoveMap()\n",
    "mm.set_bb(True)\n",
    "mm.set_chi(True)\n",
    "mm.set_jump(True)\n",
    "min_mover.score_function(scorefxn)\n",
    "min_mover.movemap(mm)\n",
    "min_mover.min_type('lbfgs_armijo_nonmonotone')\n",
    "min_mover.tolerance(.0001)\n",
    "\n",
    "# Apply the MinMover to the pose\n",
    "min_mover.apply(pose)"
   ]
  },
  {
   "cell_type": "code",
   "execution_count": 82,
   "id": "fe4ff954-44c0-4663-bf98-cb7c447d201f",
   "metadata": {},
   "outputs": [
    {
     "data": {
      "text/plain": [
       "-66.21308110919267"
      ]
     },
     "execution_count": 82,
     "metadata": {},
     "output_type": "execute_result"
    }
   ],
   "source": [
    "scorefxn(pose)"
   ]
  },
  {
   "cell_type": "markdown",
   "id": "29aac5e3-10ef-4a6b-9614-a7a3cfbd2863",
   "metadata": {},
   "source": [
    "The engineered variant seems to have a more positive G unfolding..."
   ]
  },
  {
   "cell_type": "markdown",
   "id": "4cd9c126-3f93-4ccc-8928-7535f721e956",
   "metadata": {},
   "source": [
    "### try consensus engineered one.\n",
    "\n",
    "These sequences are highly similar, so are a good test of how well this estrimator could distinguish in the mutation regime we are working in."
   ]
  },
  {
   "cell_type": "code",
   "execution_count": 11,
   "id": "8b7f7362-dd94-468a-ad15-95742532a92b",
   "metadata": {},
   "outputs": [],
   "source": [
    "rosetta_params = RosettaMinimizationParameters(update_pdb=False)\n",
    "estimator_args = ESMFoldDGArgs(rosetta_params=rosetta_params)"
   ]
  },
  {
   "cell_type": "code",
   "execution_count": 12,
   "id": "739dead7-1aa1-4695-af0b-3d33d1ae421a",
   "metadata": {},
   "outputs": [],
   "source": [
    "concensus = \"RRKRTTFTKEQLEELEELFEKNRYPSAEEREELAKKLGLTERQVKVWFQNRRAKEKK\""
   ]
  },
  {
   "cell_type": "code",
   "execution_count": 13,
   "id": "8f9e0337-f860-4c32-8648-fb32b7acbfed",
   "metadata": {},
   "outputs": [],
   "source": [
    "enh1 = \"RPRTAFSSEQLARLKREFNENRYLTERRRQQLSSELGLNEAQIKIWFQNKRAKI\""
   ]
  },
  {
   "cell_type": "code",
   "execution_count": 14,
   "id": "0f7ed0d9-b4df-4ada-959f-5854b6f9cfe8",
   "metadata": {},
   "outputs": [],
   "source": [
    "estimator = ESMFoldDGEstimator(sequences = [enh1, concensus], ids=['wt', 'concensus'])"
   ]
  },
  {
   "cell_type": "code",
   "execution_count": 15,
   "id": "8fabcfb2-cf6c-4189-a8fa-8ec700f15613",
   "metadata": {
    "scrolled": true
   },
   "outputs": [
    {
     "name": "stderr",
     "output_type": "stream",
     "text": [
      "100%|█████████████████████████████████████████████| 1/1 [00:01<00:00,  1.27s/it]\n"
     ]
    },
    {
     "name": "stdout",
     "output_type": "stream",
     "text": [
      "core.chemical.GlobalResidueTypeSet: Finished initializing fa_standard residue type set.  Created 985 residue types\n",
      "core.chemical.GlobalResidueTypeSet: Total time to initialize 0.690042 seconds.\n",
      "core.import_pose.import_pose: File './tmp/ESMFoldDGEstimator_structures/wt.pdb' automatically determined to be of type PDB\n",
      "core.conformation.Conformation: [ WARNING ] missing heavyatom:  OXT on residue ILE:CtermProteinFull 54\n",
      "core.scoring.etable: Starting energy table calculation\n",
      "core.scoring.etable: smooth_etable: changing atr/rep split to bottom of energy well\n",
      "core.scoring.etable: smooth_etable: spline smoothing lj etables (maxdis = 6)\n",
      "core.scoring.etable: smooth_etable: spline smoothing solvation etables (max_dis = 6)\n",
      "core.scoring.etable: Finished calculating energy tables.\n",
      "basic.io.database: Database file opened: scoring/score_functions/hbonds/ref2015_params/HBPoly1D.csv\n",
      "basic.io.database: Database file opened: scoring/score_functions/hbonds/ref2015_params/HBFadeIntervals.csv\n",
      "basic.io.database: Database file opened: scoring/score_functions/hbonds/ref2015_params/HBEval.csv\n",
      "basic.io.database: Database file opened: scoring/score_functions/hbonds/ref2015_params/DonStrength.csv\n",
      "basic.io.database: Database file opened: scoring/score_functions/hbonds/ref2015_params/AccStrength.csv\n",
      "basic.io.database: Database file opened: scoring/score_functions/rama/fd/all.ramaProb\n",
      "basic.io.database: Database file opened: scoring/score_functions/rama/fd/prepro.ramaProb\n",
      "basic.io.database: Database file opened: scoring/score_functions/omega/omega_ppdep.all.txt\n",
      "basic.io.database: Database file opened: scoring/score_functions/omega/omega_ppdep.gly.txt\n",
      "basic.io.database: Database file opened: scoring/score_functions/omega/omega_ppdep.pro.txt\n",
      "basic.io.database: Database file opened: scoring/score_functions/omega/omega_ppdep.valile.txt\n",
      "basic.io.database: Database file opened: scoring/score_functions/P_AA_pp/P_AA\n",
      "basic.io.database: Database file opened: scoring/score_functions/P_AA_pp/P_AA_n\n",
      "core.scoring.P_AA: shapovalov_lib::shap_p_aa_pp_smooth_level of 1( aka low_smooth ) got activated.\n",
      "basic.io.database: Database file opened: scoring/score_functions/P_AA_pp/shapovalov/10deg/kappa131/a20.prop\n",
      "basic.io.database: Database file opened: scoring/score_functions/elec_cp_reps.dat\n",
      "core.scoring.elec.util: Read 40 countpair representative atoms\n",
      "core.pack.dunbrack.RotamerLibrary: shapovalov_lib_fixes_enable option is true.\n",
      "core.pack.dunbrack.RotamerLibrary: shapovalov_lib::shap_dun10_smooth_level of 1( aka lowest_smooth ) got activated.\n",
      "core.pack.dunbrack.RotamerLibrary: Binary rotamer library selected: /mmfs1/gscratch/cheme/usr/evankomp/mamba/mambaforge/envs/nomelt2/lib/python3.9/site-packages/pyrosetta-2023.27+release.e3ce6ea9faf-py3.9-linux-x86_64.egg/pyrosetta/database/rotamer/shapovalov/StpDwn_0-0-0/Dunbrack10.lib.bin\n",
      "core.pack.dunbrack.RotamerLibrary: Using Dunbrack library binary file '/mmfs1/gscratch/cheme/usr/evankomp/mamba/mambaforge/envs/nomelt2/lib/python3.9/site-packages/pyrosetta-2023.27+release.e3ce6ea9faf-py3.9-linux-x86_64.egg/pyrosetta/database/rotamer/shapovalov/StpDwn_0-0-0/Dunbrack10.lib.bin'.\n",
      "core.pack.dunbrack.RotamerLibrary: Dunbrack 2010 library took 0.209835 seconds to load from binary\n",
      "core.import_pose.import_pose: File './tmp/ESMFoldDGEstimator_structures/concensus.pdb' automatically determined to be of type PDB\n",
      "core.conformation.Conformation: [ WARNING ] missing heavyatom:  OXT on residue LYS:CtermProteinFull 57\n"
     ]
    },
    {
     "data": {
      "text/plain": [
       "{'wt': -130.62494306511954, 'concensus': -140.3217549930466}"
      ]
     },
     "execution_count": 15,
     "metadata": {},
     "output_type": "execute_result"
    }
   ],
   "source": [
    "estimator.run()"
   ]
  },
  {
   "cell_type": "markdown",
   "id": "f861df9c-239b-4bc3-a8f5-517c1c4c969d",
   "metadata": {},
   "source": [
    "It seems like it can distinguish between them. Let's make sure the structures are good."
   ]
  },
  {
   "cell_type": "code",
   "execution_count": 16,
   "id": "c5ba2985-7a63-4062-9cb3-65f9d818027c",
   "metadata": {},
   "outputs": [],
   "source": [
    "parser = PDBParser()"
   ]
  },
  {
   "cell_type": "code",
   "execution_count": 17,
   "id": "855fe0a5-24d7-4916-b56f-f3b49941736b",
   "metadata": {},
   "outputs": [
    {
     "data": {
      "text/plain": [
       "{'wt': './tmp/ESMFoldDGEstimator_structures/wt.pdb',\n",
       " 'concensus': './tmp/ESMFoldDGEstimator_structures/concensus.pdb'}"
      ]
     },
     "execution_count": 17,
     "metadata": {},
     "output_type": "execute_result"
    }
   ],
   "source": [
    "estimator.pdb_files_dict"
   ]
  },
  {
   "cell_type": "code",
   "execution_count": 18,
   "id": "7530fc18-c5a8-460e-b4d3-427d71487b73",
   "metadata": {},
   "outputs": [
    {
     "name": "stderr",
     "output_type": "stream",
     "text": [
      "/mmfs1/gscratch/cheme/usr/evankomp/mamba/mambaforge/envs/nomelt2/lib/python3.9/site-packages/Bio/PDB/PDBParser.py:395: PDBConstructionWarning: Ignoring unrecognized record 'PARENT' at line 469\n",
      "  warnings.warn(\n",
      "/mmfs1/gscratch/cheme/usr/evankomp/mamba/mambaforge/envs/nomelt2/lib/python3.9/site-packages/Bio/PDB/PDBParser.py:395: PDBConstructionWarning: Ignoring unrecognized record 'END' at line 471\n",
      "  warnings.warn(\n",
      "/mmfs1/gscratch/cheme/usr/evankomp/mamba/mambaforge/envs/nomelt2/lib/python3.9/site-packages/Bio/PDB/PDBParser.py:395: PDBConstructionWarning: Ignoring unrecognized record 'END' at line 504\n",
      "  warnings.warn(\n"
     ]
    }
   ],
   "source": [
    "wt_struct = parser.get_structure('wt', estimator.pdb_files_dict['wt'])\n",
    "conc_struct = parser.get_structure('conc', estimator.pdb_files_dict['concensus'])"
   ]
  },
  {
   "cell_type": "code",
   "execution_count": 19,
   "id": "791ba0f2-52cb-4675-abf7-51965cf78add",
   "metadata": {},
   "outputs": [
    {
     "data": {
      "application/vnd.jupyter.widget-view+json": {
       "model_id": "a85ee047632b4f4d8356ff3f58662d2e",
       "version_major": 2,
       "version_minor": 0
      },
      "text/plain": [
       "NGLWidget()"
      ]
     },
     "metadata": {},
     "output_type": "display_data"
    },
    {
     "data": {
      "application/vnd.jupyter.widget-view+json": {
       "model_id": "af0f2753abdf49d5b662f97fe6d17646",
       "version_major": 2,
       "version_minor": 0
      },
      "text/plain": [
       "Tab(children=(Box(children=(Box(children=(Box(children=(Label(value='step'), IntSlider(value=1, min=-100)), la…"
      ]
     },
     "metadata": {},
     "output_type": "display_data"
    }
   ],
   "source": [
    "nv.show_biopython(wt_struct, gui=True)"
   ]
  },
  {
   "cell_type": "code",
   "execution_count": 20,
   "id": "6694381f-5cdb-4a24-87da-edc157cb9773",
   "metadata": {},
   "outputs": [
    {
     "data": {
      "application/vnd.jupyter.widget-view+json": {
       "model_id": "401ad34467c344d4aba74b7122f25746",
       "version_major": 2,
       "version_minor": 0
      },
      "text/plain": [
       "NGLWidget()"
      ]
     },
     "metadata": {},
     "output_type": "display_data"
    },
    {
     "data": {
      "application/vnd.jupyter.widget-view+json": {
       "model_id": "7cf7ee5a508d4184ae5b2fca2c7ce24c",
       "version_major": 2,
       "version_minor": 0
      },
      "text/plain": [
       "Tab(children=(Box(children=(Box(children=(Box(children=(Label(value='step'), IntSlider(value=1, min=-100)), la…"
      ]
     },
     "metadata": {},
     "output_type": "display_data"
    }
   ],
   "source": [
    "nv.show_biopython(conc_struct, gui=True)"
   ]
  },
  {
   "cell_type": "code",
   "execution_count": null,
   "id": "10f9d263-659e-4806-b8a1-dbbc97be13a0",
   "metadata": {},
   "outputs": [],
   "source": []
  }
 ],
 "metadata": {
  "kernelspec": {
   "display_name": "Python 3 (ipykernel)",
   "language": "python",
   "name": "python3"
  },
  "language_info": {
   "codemirror_mode": {
    "name": "ipython",
    "version": 3
   },
   "file_extension": ".py",
   "mimetype": "text/x-python",
   "name": "python",
   "nbconvert_exporter": "python",
   "pygments_lexer": "ipython3",
   "version": "3.9.16"
  }
 },
 "nbformat": 4,
 "nbformat_minor": 5
}
