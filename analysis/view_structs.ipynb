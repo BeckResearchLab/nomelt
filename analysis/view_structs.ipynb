{
 "cells": [
  {
   "cell_type": "markdown",
   "id": "b7d9b3d3-dee3-4981-b7e6-7671d373c75d",
   "metadata": {},
   "source": [
    "## View structures\n"
   ]
  },
  {
   "cell_type": "code",
   "execution_count": 1,
   "id": "22c4b1cb-faf3-46c7-8579-6d3646afd3c1",
   "metadata": {},
   "outputs": [
    {
     "data": {
      "application/vnd.jupyter.widget-view+json": {
       "model_id": "3f0bf0f655644f99bf1ebc4eb43da11b",
       "version_major": 2,
       "version_minor": 0
      },
      "text/plain": []
     },
     "metadata": {},
     "output_type": "display_data"
    }
   ],
   "source": [
    "from Bio.PDB import *\n",
    "import nglview as nv\n",
    "import ipywidgets\n",
    "parser = PDBParser()"
   ]
  },
  {
   "cell_type": "markdown",
   "id": "3241d4b5-fa56-472c-adb1-9a4416dc11ff",
   "metadata": {},
   "source": [
    "## WT"
   ]
  },
  {
   "cell_type": "code",
   "execution_count": 2,
   "id": "4ac36025-a3b6-4e79-b018-b07cb522d806",
   "metadata": {},
   "outputs": [
    {
     "name": "stderr",
     "output_type": "stream",
     "text": [
      "/mmfs1/gscratch/cheme/usr/evankomp/mamba/mambaforge/envs/nomelt2/lib/python3.9/site-packages/Bio/PDB/PDBParser.py:395: PDBConstructionWarning: Ignoring unrecognized record '# All ' at line 958\n",
      "  warnings.warn(\n",
      "/mmfs1/gscratch/cheme/usr/evankomp/mamba/mambaforge/envs/nomelt2/lib/python3.9/site-packages/Bio/PDB/PDBParser.py:395: PDBConstructionWarning: Ignoring unrecognized record '#BEGIN' at line 959\n",
      "  warnings.warn(\n",
      "/mmfs1/gscratch/cheme/usr/evankomp/mamba/mambaforge/envs/nomelt2/lib/python3.9/site-packages/Bio/PDB/PDBParser.py:395: PDBConstructionWarning: Ignoring unrecognized record 'label ' at line 960\n",
      "  warnings.warn(\n",
      "/mmfs1/gscratch/cheme/usr/evankomp/mamba/mambaforge/envs/nomelt2/lib/python3.9/site-packages/Bio/PDB/PDBParser.py:395: PDBConstructionWarning: Ignoring unrecognized record 'weight' at line 961\n",
      "  warnings.warn(\n",
      "/mmfs1/gscratch/cheme/usr/evankomp/mamba/mambaforge/envs/nomelt2/lib/python3.9/site-packages/Bio/PDB/PDBParser.py:395: PDBConstructionWarning: Ignoring unrecognized record 'pose -' at line 962\n",
      "  warnings.warn(\n",
      "/mmfs1/gscratch/cheme/usr/evankomp/mamba/mambaforge/envs/nomelt2/lib/python3.9/site-packages/Bio/PDB/PDBParser.py:395: PDBConstructionWarning: Ignoring unrecognized record 'ARG:Nt' at line 963\n",
      "  warnings.warn(\n",
      "/mmfs1/gscratch/cheme/usr/evankomp/mamba/mambaforge/envs/nomelt2/lib/python3.9/site-packages/Bio/PDB/PDBParser.py:395: PDBConstructionWarning: Ignoring unrecognized record 'PRO_2 ' at line 964\n",
      "  warnings.warn(\n",
      "/mmfs1/gscratch/cheme/usr/evankomp/mamba/mambaforge/envs/nomelt2/lib/python3.9/site-packages/Bio/PDB/PDBParser.py:395: PDBConstructionWarning: Ignoring unrecognized record 'ARG_3 ' at line 965\n",
      "  warnings.warn(\n",
      "/mmfs1/gscratch/cheme/usr/evankomp/mamba/mambaforge/envs/nomelt2/lib/python3.9/site-packages/Bio/PDB/PDBParser.py:395: PDBConstructionWarning: Ignoring unrecognized record 'THR_4 ' at line 966\n",
      "  warnings.warn(\n",
      "/mmfs1/gscratch/cheme/usr/evankomp/mamba/mambaforge/envs/nomelt2/lib/python3.9/site-packages/Bio/PDB/PDBParser.py:395: PDBConstructionWarning: Ignoring unrecognized record 'ALA_5 ' at line 967\n",
      "  warnings.warn(\n",
      "/mmfs1/gscratch/cheme/usr/evankomp/mamba/mambaforge/envs/nomelt2/lib/python3.9/site-packages/Bio/PDB/PDBParser.py:395: PDBConstructionWarning: Ignoring unrecognized record 'PHE_6 ' at line 968\n",
      "  warnings.warn(\n",
      "/mmfs1/gscratch/cheme/usr/evankomp/mamba/mambaforge/envs/nomelt2/lib/python3.9/site-packages/Bio/PDB/PDBParser.py:395: PDBConstructionWarning: Ignoring unrecognized record 'SER_7 ' at line 969\n",
      "  warnings.warn(\n",
      "/mmfs1/gscratch/cheme/usr/evankomp/mamba/mambaforge/envs/nomelt2/lib/python3.9/site-packages/Bio/PDB/PDBParser.py:395: PDBConstructionWarning: Ignoring unrecognized record 'SER_8 ' at line 970\n",
      "  warnings.warn(\n",
      "/mmfs1/gscratch/cheme/usr/evankomp/mamba/mambaforge/envs/nomelt2/lib/python3.9/site-packages/Bio/PDB/PDBParser.py:395: PDBConstructionWarning: Ignoring unrecognized record 'GLU_9 ' at line 971\n",
      "  warnings.warn(\n",
      "/mmfs1/gscratch/cheme/usr/evankomp/mamba/mambaforge/envs/nomelt2/lib/python3.9/site-packages/Bio/PDB/PDBParser.py:395: PDBConstructionWarning: Ignoring unrecognized record 'GLN_10' at line 972\n",
      "  warnings.warn(\n",
      "/mmfs1/gscratch/cheme/usr/evankomp/mamba/mambaforge/envs/nomelt2/lib/python3.9/site-packages/Bio/PDB/PDBParser.py:395: PDBConstructionWarning: Ignoring unrecognized record 'LEU_11' at line 973\n",
      "  warnings.warn(\n",
      "/mmfs1/gscratch/cheme/usr/evankomp/mamba/mambaforge/envs/nomelt2/lib/python3.9/site-packages/Bio/PDB/PDBParser.py:395: PDBConstructionWarning: Ignoring unrecognized record 'ALA_12' at line 974\n",
      "  warnings.warn(\n",
      "/mmfs1/gscratch/cheme/usr/evankomp/mamba/mambaforge/envs/nomelt2/lib/python3.9/site-packages/Bio/PDB/PDBParser.py:395: PDBConstructionWarning: Ignoring unrecognized record 'ARG_13' at line 975\n",
      "  warnings.warn(\n",
      "/mmfs1/gscratch/cheme/usr/evankomp/mamba/mambaforge/envs/nomelt2/lib/python3.9/site-packages/Bio/PDB/PDBParser.py:395: PDBConstructionWarning: Ignoring unrecognized record 'LEU_14' at line 976\n",
      "  warnings.warn(\n",
      "/mmfs1/gscratch/cheme/usr/evankomp/mamba/mambaforge/envs/nomelt2/lib/python3.9/site-packages/Bio/PDB/PDBParser.py:395: PDBConstructionWarning: Ignoring unrecognized record 'LYS_15' at line 977\n",
      "  warnings.warn(\n",
      "/mmfs1/gscratch/cheme/usr/evankomp/mamba/mambaforge/envs/nomelt2/lib/python3.9/site-packages/Bio/PDB/PDBParser.py:395: PDBConstructionWarning: Ignoring unrecognized record 'ARG_16' at line 978\n",
      "  warnings.warn(\n",
      "/mmfs1/gscratch/cheme/usr/evankomp/mamba/mambaforge/envs/nomelt2/lib/python3.9/site-packages/Bio/PDB/PDBParser.py:395: PDBConstructionWarning: Ignoring unrecognized record 'GLU_17' at line 979\n",
      "  warnings.warn(\n",
      "/mmfs1/gscratch/cheme/usr/evankomp/mamba/mambaforge/envs/nomelt2/lib/python3.9/site-packages/Bio/PDB/PDBParser.py:395: PDBConstructionWarning: Ignoring unrecognized record 'PHE_18' at line 980\n",
      "  warnings.warn(\n",
      "/mmfs1/gscratch/cheme/usr/evankomp/mamba/mambaforge/envs/nomelt2/lib/python3.9/site-packages/Bio/PDB/PDBParser.py:395: PDBConstructionWarning: Ignoring unrecognized record 'ASN_19' at line 981\n",
      "  warnings.warn(\n",
      "/mmfs1/gscratch/cheme/usr/evankomp/mamba/mambaforge/envs/nomelt2/lib/python3.9/site-packages/Bio/PDB/PDBParser.py:395: PDBConstructionWarning: Ignoring unrecognized record 'GLU_20' at line 982\n",
      "  warnings.warn(\n",
      "/mmfs1/gscratch/cheme/usr/evankomp/mamba/mambaforge/envs/nomelt2/lib/python3.9/site-packages/Bio/PDB/PDBParser.py:395: PDBConstructionWarning: Ignoring unrecognized record 'ASN_21' at line 983\n",
      "  warnings.warn(\n",
      "/mmfs1/gscratch/cheme/usr/evankomp/mamba/mambaforge/envs/nomelt2/lib/python3.9/site-packages/Bio/PDB/PDBParser.py:395: PDBConstructionWarning: Ignoring unrecognized record 'ARG_22' at line 984\n",
      "  warnings.warn(\n",
      "/mmfs1/gscratch/cheme/usr/evankomp/mamba/mambaforge/envs/nomelt2/lib/python3.9/site-packages/Bio/PDB/PDBParser.py:395: PDBConstructionWarning: Ignoring unrecognized record 'TYR_23' at line 985\n",
      "  warnings.warn(\n",
      "/mmfs1/gscratch/cheme/usr/evankomp/mamba/mambaforge/envs/nomelt2/lib/python3.9/site-packages/Bio/PDB/PDBParser.py:395: PDBConstructionWarning: Ignoring unrecognized record 'LEU_24' at line 986\n",
      "  warnings.warn(\n",
      "/mmfs1/gscratch/cheme/usr/evankomp/mamba/mambaforge/envs/nomelt2/lib/python3.9/site-packages/Bio/PDB/PDBParser.py:395: PDBConstructionWarning: Ignoring unrecognized record 'THR_25' at line 987\n",
      "  warnings.warn(\n",
      "/mmfs1/gscratch/cheme/usr/evankomp/mamba/mambaforge/envs/nomelt2/lib/python3.9/site-packages/Bio/PDB/PDBParser.py:395: PDBConstructionWarning: Ignoring unrecognized record 'GLU_26' at line 988\n",
      "  warnings.warn(\n",
      "/mmfs1/gscratch/cheme/usr/evankomp/mamba/mambaforge/envs/nomelt2/lib/python3.9/site-packages/Bio/PDB/PDBParser.py:395: PDBConstructionWarning: Ignoring unrecognized record 'ARG_27' at line 989\n",
      "  warnings.warn(\n",
      "/mmfs1/gscratch/cheme/usr/evankomp/mamba/mambaforge/envs/nomelt2/lib/python3.9/site-packages/Bio/PDB/PDBParser.py:395: PDBConstructionWarning: Ignoring unrecognized record 'ARG_28' at line 990\n",
      "  warnings.warn(\n",
      "/mmfs1/gscratch/cheme/usr/evankomp/mamba/mambaforge/envs/nomelt2/lib/python3.9/site-packages/Bio/PDB/PDBParser.py:395: PDBConstructionWarning: Ignoring unrecognized record 'ARG_29' at line 991\n",
      "  warnings.warn(\n",
      "/mmfs1/gscratch/cheme/usr/evankomp/mamba/mambaforge/envs/nomelt2/lib/python3.9/site-packages/Bio/PDB/PDBParser.py:395: PDBConstructionWarning: Ignoring unrecognized record 'GLN_30' at line 992\n",
      "  warnings.warn(\n",
      "/mmfs1/gscratch/cheme/usr/evankomp/mamba/mambaforge/envs/nomelt2/lib/python3.9/site-packages/Bio/PDB/PDBParser.py:395: PDBConstructionWarning: Ignoring unrecognized record 'GLN_31' at line 993\n",
      "  warnings.warn(\n",
      "/mmfs1/gscratch/cheme/usr/evankomp/mamba/mambaforge/envs/nomelt2/lib/python3.9/site-packages/Bio/PDB/PDBParser.py:395: PDBConstructionWarning: Ignoring unrecognized record 'LEU_32' at line 994\n",
      "  warnings.warn(\n",
      "/mmfs1/gscratch/cheme/usr/evankomp/mamba/mambaforge/envs/nomelt2/lib/python3.9/site-packages/Bio/PDB/PDBParser.py:395: PDBConstructionWarning: Ignoring unrecognized record 'SER_33' at line 995\n",
      "  warnings.warn(\n",
      "/mmfs1/gscratch/cheme/usr/evankomp/mamba/mambaforge/envs/nomelt2/lib/python3.9/site-packages/Bio/PDB/PDBParser.py:395: PDBConstructionWarning: Ignoring unrecognized record 'SER_34' at line 996\n",
      "  warnings.warn(\n",
      "/mmfs1/gscratch/cheme/usr/evankomp/mamba/mambaforge/envs/nomelt2/lib/python3.9/site-packages/Bio/PDB/PDBParser.py:395: PDBConstructionWarning: Ignoring unrecognized record 'GLU_35' at line 997\n",
      "  warnings.warn(\n",
      "/mmfs1/gscratch/cheme/usr/evankomp/mamba/mambaforge/envs/nomelt2/lib/python3.9/site-packages/Bio/PDB/PDBParser.py:395: PDBConstructionWarning: Ignoring unrecognized record 'LEU_36' at line 998\n",
      "  warnings.warn(\n",
      "/mmfs1/gscratch/cheme/usr/evankomp/mamba/mambaforge/envs/nomelt2/lib/python3.9/site-packages/Bio/PDB/PDBParser.py:395: PDBConstructionWarning: Ignoring unrecognized record 'GLY_37' at line 999\n",
      "  warnings.warn(\n",
      "/mmfs1/gscratch/cheme/usr/evankomp/mamba/mambaforge/envs/nomelt2/lib/python3.9/site-packages/Bio/PDB/PDBParser.py:395: PDBConstructionWarning: Ignoring unrecognized record 'LEU_38' at line 1000\n",
      "  warnings.warn(\n",
      "/mmfs1/gscratch/cheme/usr/evankomp/mamba/mambaforge/envs/nomelt2/lib/python3.9/site-packages/Bio/PDB/PDBParser.py:395: PDBConstructionWarning: Ignoring unrecognized record 'ASN_39' at line 1001\n",
      "  warnings.warn(\n",
      "/mmfs1/gscratch/cheme/usr/evankomp/mamba/mambaforge/envs/nomelt2/lib/python3.9/site-packages/Bio/PDB/PDBParser.py:395: PDBConstructionWarning: Ignoring unrecognized record 'GLU_40' at line 1002\n",
      "  warnings.warn(\n",
      "/mmfs1/gscratch/cheme/usr/evankomp/mamba/mambaforge/envs/nomelt2/lib/python3.9/site-packages/Bio/PDB/PDBParser.py:395: PDBConstructionWarning: Ignoring unrecognized record 'ALA_41' at line 1003\n",
      "  warnings.warn(\n",
      "/mmfs1/gscratch/cheme/usr/evankomp/mamba/mambaforge/envs/nomelt2/lib/python3.9/site-packages/Bio/PDB/PDBParser.py:395: PDBConstructionWarning: Ignoring unrecognized record 'GLN_42' at line 1004\n",
      "  warnings.warn(\n",
      "/mmfs1/gscratch/cheme/usr/evankomp/mamba/mambaforge/envs/nomelt2/lib/python3.9/site-packages/Bio/PDB/PDBParser.py:395: PDBConstructionWarning: Ignoring unrecognized record 'ILE_43' at line 1005\n",
      "  warnings.warn(\n",
      "/mmfs1/gscratch/cheme/usr/evankomp/mamba/mambaforge/envs/nomelt2/lib/python3.9/site-packages/Bio/PDB/PDBParser.py:395: PDBConstructionWarning: Ignoring unrecognized record 'LYS_44' at line 1006\n",
      "  warnings.warn(\n",
      "/mmfs1/gscratch/cheme/usr/evankomp/mamba/mambaforge/envs/nomelt2/lib/python3.9/site-packages/Bio/PDB/PDBParser.py:395: PDBConstructionWarning: Ignoring unrecognized record 'ILE_45' at line 1007\n",
      "  warnings.warn(\n",
      "/mmfs1/gscratch/cheme/usr/evankomp/mamba/mambaforge/envs/nomelt2/lib/python3.9/site-packages/Bio/PDB/PDBParser.py:395: PDBConstructionWarning: Ignoring unrecognized record 'TRP_46' at line 1008\n",
      "  warnings.warn(\n",
      "/mmfs1/gscratch/cheme/usr/evankomp/mamba/mambaforge/envs/nomelt2/lib/python3.9/site-packages/Bio/PDB/PDBParser.py:395: PDBConstructionWarning: Ignoring unrecognized record 'PHE_47' at line 1009\n",
      "  warnings.warn(\n",
      "/mmfs1/gscratch/cheme/usr/evankomp/mamba/mambaforge/envs/nomelt2/lib/python3.9/site-packages/Bio/PDB/PDBParser.py:395: PDBConstructionWarning: Ignoring unrecognized record 'GLN_48' at line 1010\n",
      "  warnings.warn(\n",
      "/mmfs1/gscratch/cheme/usr/evankomp/mamba/mambaforge/envs/nomelt2/lib/python3.9/site-packages/Bio/PDB/PDBParser.py:395: PDBConstructionWarning: Ignoring unrecognized record 'ASN_49' at line 1011\n",
      "  warnings.warn(\n",
      "/mmfs1/gscratch/cheme/usr/evankomp/mamba/mambaforge/envs/nomelt2/lib/python3.9/site-packages/Bio/PDB/PDBParser.py:395: PDBConstructionWarning: Ignoring unrecognized record 'LYS_50' at line 1012\n",
      "  warnings.warn(\n",
      "/mmfs1/gscratch/cheme/usr/evankomp/mamba/mambaforge/envs/nomelt2/lib/python3.9/site-packages/Bio/PDB/PDBParser.py:395: PDBConstructionWarning: Ignoring unrecognized record 'ARG_51' at line 1013\n",
      "  warnings.warn(\n",
      "/mmfs1/gscratch/cheme/usr/evankomp/mamba/mambaforge/envs/nomelt2/lib/python3.9/site-packages/Bio/PDB/PDBParser.py:395: PDBConstructionWarning: Ignoring unrecognized record 'ALA_52' at line 1014\n",
      "  warnings.warn(\n",
      "/mmfs1/gscratch/cheme/usr/evankomp/mamba/mambaforge/envs/nomelt2/lib/python3.9/site-packages/Bio/PDB/PDBParser.py:395: PDBConstructionWarning: Ignoring unrecognized record 'LYS_53' at line 1015\n",
      "  warnings.warn(\n",
      "/mmfs1/gscratch/cheme/usr/evankomp/mamba/mambaforge/envs/nomelt2/lib/python3.9/site-packages/Bio/PDB/PDBParser.py:395: PDBConstructionWarning: Ignoring unrecognized record 'ILE:Ct' at line 1016\n",
      "  warnings.warn(\n",
      "/mmfs1/gscratch/cheme/usr/evankomp/mamba/mambaforge/envs/nomelt2/lib/python3.9/site-packages/Bio/PDB/PDBParser.py:395: PDBConstructionWarning: Ignoring unrecognized record '#END_P' at line 1017\n",
      "  warnings.warn(\n"
     ]
    },
    {
     "data": {
      "application/vnd.jupyter.widget-view+json": {
       "model_id": "043dbce3421845b8ab23a25c58a7ef6d",
       "version_major": 2,
       "version_minor": 0
      },
      "text/plain": [
       "NGLWidget()"
      ]
     },
     "metadata": {},
     "output_type": "display_data"
    }
   ],
   "source": [
    "struc = parser.get_structure('enh', '../data/pdbs/wt.pdb')\n",
    "nv.show_biopython(struc, gui=False)"
   ]
  },
  {
   "cell_type": "markdown",
   "id": "6d3c299c-81c1-4dd4-9f1a-905065558c0f",
   "metadata": {},
   "source": [
    "## Conc"
   ]
  },
  {
   "cell_type": "code",
   "execution_count": 3,
   "id": "2a257117-4f1e-4f09-85e1-71e7de61029e",
   "metadata": {},
   "outputs": [
    {
     "name": "stderr",
     "output_type": "stream",
     "text": [
      "/mmfs1/gscratch/cheme/usr/evankomp/mamba/mambaforge/envs/nomelt2/lib/python3.9/site-packages/Bio/PDB/PDBParser.py:395: PDBConstructionWarning: Ignoring unrecognized record 'END' at line 504\n",
      "  warnings.warn(\n"
     ]
    },
    {
     "data": {
      "application/vnd.jupyter.widget-view+json": {
       "model_id": "5335d8ccfdd2401f88e697f8a4023730",
       "version_major": 2,
       "version_minor": 0
      },
      "text/plain": [
       "NGLWidget()"
      ]
     },
     "metadata": {},
     "output_type": "display_data"
    }
   ],
   "source": [
    "struc = parser.get_structure('cons', '../data/pdbs/consensus_homeodomain.pdb')\n",
    "nv.show_biopython(struc, gui=False)"
   ]
  },
  {
   "cell_type": "markdown",
   "id": "a9752417-f395-4631-9108-94b14c05c9bf",
   "metadata": {},
   "source": [
    "## Translation"
   ]
  },
  {
   "cell_type": "code",
   "execution_count": 4,
   "id": "d58208eb-194d-4636-a864-69aa45a3a7bd",
   "metadata": {},
   "outputs": [
    {
     "data": {
      "application/vnd.jupyter.widget-view+json": {
       "model_id": "81530d5fa26f44108447f8c5644feb22",
       "version_major": 2,
       "version_minor": 0
      },
      "text/plain": [
       "NGLWidget()"
      ]
     },
     "metadata": {},
     "output_type": "display_data"
    }
   ],
   "source": [
    "struc = parser.get_structure('trans', '../data/enh/initial_estimate/trans/ensemble_replicate_0.pdb')\n",
    "nv.show_biopython(struc, gui=False)"
   ]
  },
  {
   "cell_type": "markdown",
   "id": "0254386e-64d7-43b6-9272-9994f05eec6c",
   "metadata": {},
   "source": [
    "## Good helix"
   ]
  },
  {
   "cell_type": "code",
   "execution_count": 5,
   "id": "c4b78902-300c-4c9e-8055-89d0f0ecf5a3",
   "metadata": {},
   "outputs": [
    {
     "data": {
      "application/vnd.jupyter.widget-view+json": {
       "model_id": "afaa0646d5b441b39b215cbfc8336781",
       "version_major": 2,
       "version_minor": 0
      },
      "text/plain": [
       "NGLWidget()"
      ]
     },
     "metadata": {},
     "output_type": "display_data"
    }
   ],
   "source": [
    "struc = parser.get_structure('gh', '../data/proof_of_principle/vary_mutations/add_good_helix/ensemble_replicate_0.pdb')\n",
    "nv.show_biopython(struc, gui=False)"
   ]
  },
  {
   "cell_type": "markdown",
   "id": "716a62d6-f29a-4936-956b-15adf186c115",
   "metadata": {},
   "source": [
    "## Long helix"
   ]
  },
  {
   "cell_type": "code",
   "execution_count": 6,
   "id": "50ef35b7-a223-4b7c-9cdc-09f596e30f63",
   "metadata": {},
   "outputs": [
    {
     "data": {
      "application/vnd.jupyter.widget-view+json": {
       "model_id": "30d81e95a9ef45bfb71024bd2d3a2333",
       "version_major": 2,
       "version_minor": 0
      },
      "text/plain": [
       "NGLWidget()"
      ]
     },
     "metadata": {},
     "output_type": "display_data"
    }
   ],
   "source": [
    "struc = parser.get_structure('gh', '../data/proof_of_principle/vary_mutations/add_many_helix/ensemble_replicate_0.pdb')\n",
    "nv.show_biopython(struc, gui=False)"
   ]
  },
  {
   "cell_type": "markdown",
   "id": "91c75bc6-6dcb-47c2-aa4e-8b809c33d772",
   "metadata": {},
   "source": [
    "## bad helix"
   ]
  },
  {
   "cell_type": "code",
   "execution_count": 7,
   "id": "815b2576-2f90-43ec-80cc-bbaa9bc88c1e",
   "metadata": {},
   "outputs": [
    {
     "data": {
      "application/vnd.jupyter.widget-view+json": {
       "model_id": "33693eb4dc184b9fa995c3353e9b0b98",
       "version_major": 2,
       "version_minor": 0
      },
      "text/plain": [
       "NGLWidget()"
      ]
     },
     "metadata": {},
     "output_type": "display_data"
    }
   ],
   "source": [
    "struc = parser.get_structure('gh', '../data/proof_of_principle/vary_mutations/add_bad_helix/ensemble_replicate_0.pdb')\n",
    "nv.show_biopython(struc, gui=False)"
   ]
  },
  {
   "cell_type": "code",
   "execution_count": null,
   "id": "da0b3062-2ad7-44eb-88cd-5637af40070f",
   "metadata": {},
   "outputs": [],
   "source": []
  }
 ],
 "metadata": {
  "kernelspec": {
   "display_name": "Python 3 (ipykernel)",
   "language": "python",
   "name": "python3"
  },
  "language_info": {
   "codemirror_mode": {
    "name": "ipython",
    "version": 3
   },
   "file_extension": ".py",
   "mimetype": "text/x-python",
   "name": "python",
   "nbconvert_exporter": "python",
   "pygments_lexer": "ipython3",
   "version": "3.9.17"
  }
 },
 "nbformat": 4,
 "nbformat_minor": 5
}
