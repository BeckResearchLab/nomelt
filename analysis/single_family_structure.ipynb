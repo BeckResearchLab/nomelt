{
 "cells": [
  {
   "cell_type": "markdown",
   "id": "6d763e26-d69b-40c0-995a-170c27ca145b",
   "metadata": {},
   "source": [
    "## Find a test example with a few thermophilic targets, create visuals of the structures, overlapped"
   ]
  },
  {
   "cell_type": "code",
   "execution_count": 1,
   "id": "e22cbdbb-972e-46ba-b449-8319bec7e524",
   "metadata": {},
   "outputs": [
    {
     "data": {
      "application/vnd.jupyter.widget-view+json": {
       "model_id": "5c29fe91363b4a3384cb8db659f3103f",
       "version_major": 2,
       "version_minor": 0
      },
      "text/plain": []
     },
     "metadata": {},
     "output_type": "display_data"
    }
   ],
   "source": [
    "import esm\n",
    "import torch\n",
    "import os\n",
    "import datasets\n",
    "import seaborn as sns\n",
    "import pandas as pd\n",
    "import numpy as np\n",
    "import matplotlib.pyplot as plt\n",
    "\n",
    "from Bio.PDB import *\n",
    "import nglview as nv\n",
    "import ipywidgets\n",
    "\n",
    "parser  = PDBParser()"
   ]
  },
  {
   "cell_type": "markdown",
   "id": "a4b73f0e-2dd7-4975-98e8-e4dd232ef211",
   "metadata": {},
   "source": [
    "### First find the example"
   ]
  },
  {
   "cell_type": "code",
   "execution_count": 2,
   "id": "d9576c78-05a6-4afa-9f74-ee4d941ac0b8",
   "metadata": {},
   "outputs": [
    {
     "data": {
      "application/vnd.jupyter.widget-view+json": {
       "model_id": "cce55d21b18b4826a408974a1b6eea0d",
       "version_major": 2,
       "version_minor": 0
      },
      "text/plain": [
       "Filter:   0%|          | 0/159970 [00:00<?, ? examples/s]"
      ]
     },
     "metadata": {},
     "output_type": "display_data"
    }
   ],
   "source": [
    "ds = datasets.load_from_disk('../data/dataset')['test']\n",
    "ds = ds.filter(lambda x: x['status_in_cluster'] in ['extreme', 'unique'])"
   ]
  },
  {
   "cell_type": "code",
   "execution_count": 3,
   "id": "c9b964fa-412f-4215-bd9a-9d7599316bcb",
   "metadata": {},
   "outputs": [],
   "source": [
    "predictions = pd.read_csv('../data/nomelt-model/predictions.tsv', sep='\\t', header=None)"
   ]
  },
  {
   "cell_type": "code",
   "execution_count": 4,
   "id": "b1535a10-05f6-405d-abc8-23d94f860080",
   "metadata": {},
   "outputs": [],
   "source": [
    "predictions = predictions.applymap(lambda s: ''.join(s.split()))\n",
    "predictions.columns = ['m', 'g', 't']"
   ]
  },
  {
   "cell_type": "code",
   "execution_count": 5,
   "id": "a02fba1b-f30b-4067-b8dc-7479c619e846",
   "metadata": {},
   "outputs": [
    {
     "data": {
      "application/vnd.jupyter.widget-view+json": {
       "model_id": "aaab171d622e4247925a860549db0c59",
       "version_major": 2,
       "version_minor": 0
      },
      "text/plain": [
       "Filter:   0%|          | 0/34537 [00:00<?, ? examples/s]"
      ]
     },
     "metadata": {},
     "output_type": "display_data"
    }
   ],
   "source": [
    "ds = ds.filter(lambda x: x['meso_seq'] in predictions['m'].values)"
   ]
  },
  {
   "cell_type": "code",
   "execution_count": 6,
   "id": "55acd999-fe8a-43d0-9ed7-1999f9bdee49",
   "metadata": {},
   "outputs": [
    {
     "data": {
      "text/plain": [
       "Dataset({\n",
       "    features: ['meso_seq', 'thermo_seq', 'taxid', 'query_align_cov', 'subject_align_cov', 'bit_score', 'scaled_local_symmetric_percent_id', 'meso_seq_len', 'thermo_seq_len', 'seq_len_diff', 'meso_temp', 'thermo_temp', 'index', 'cluster', 'status_in_cluster'],\n",
       "    num_rows: 1064\n",
       "})"
      ]
     },
     "execution_count": 6,
     "metadata": {},
     "output_type": "execute_result"
    }
   ],
   "source": [
    "ds"
   ]
  },
  {
   "cell_type": "code",
   "execution_count": 7,
   "id": "ea8dab31-79de-4b1d-9e6c-ea9ef09f7f06",
   "metadata": {},
   "outputs": [],
   "source": [
    "meso_replica_counts = pd.value_counts(ds['meso_seq'])"
   ]
  },
  {
   "cell_type": "code",
   "execution_count": 8,
   "id": "cef0e235-adc6-42a0-b8a7-24ca83910dbb",
   "metadata": {},
   "outputs": [],
   "source": [
    "mesoseq = meso_replica_counts.index[meso_replica_counts.argmax()]"
   ]
  },
  {
   "cell_type": "code",
   "execution_count": 9,
   "id": "b31a6298-7804-4693-9b80-ff859ff4a532",
   "metadata": {},
   "outputs": [
    {
     "data": {
      "application/vnd.jupyter.widget-view+json": {
       "model_id": "81cabe4bcaa844e1b6ae08f60acc2704",
       "version_major": 2,
       "version_minor": 0
      },
      "text/plain": [
       "Filter:   0%|          | 0/1064 [00:00<?, ? examples/s]"
      ]
     },
     "metadata": {},
     "output_type": "display_data"
    }
   ],
   "source": [
    "ds = ds.filter(lambda x: x['meso_seq']==mesoseq)"
   ]
  },
  {
   "cell_type": "code",
   "execution_count": 10,
   "id": "e4c28908-ef9a-41c6-9fc2-f9f6a539d088",
   "metadata": {},
   "outputs": [
    {
     "data": {
      "text/plain": [
       "Dataset({\n",
       "    features: ['meso_seq', 'thermo_seq', 'taxid', 'query_align_cov', 'subject_align_cov', 'bit_score', 'scaled_local_symmetric_percent_id', 'meso_seq_len', 'thermo_seq_len', 'seq_len_diff', 'meso_temp', 'thermo_temp', 'index', 'cluster', 'status_in_cluster'],\n",
       "    num_rows: 3\n",
       "})"
      ]
     },
     "execution_count": 10,
     "metadata": {},
     "output_type": "execute_result"
    }
   ],
   "source": [
    "ds"
   ]
  },
  {
   "cell_type": "code",
   "execution_count": 11,
   "id": "ff68322d-ee6f-4c47-9400-34b80a884548",
   "metadata": {},
   "outputs": [],
   "source": [
    "thermo_seqs = ds['thermo_seq']"
   ]
  },
  {
   "cell_type": "code",
   "execution_count": 12,
   "id": "bd3e7436-c94f-40cf-9ffb-36b87275a404",
   "metadata": {},
   "outputs": [],
   "source": [
    "translated_seq = predictions[predictions['m']==mesoseq]['g'].iloc[0]"
   ]
  },
  {
   "cell_type": "code",
   "execution_count": 13,
   "id": "8dcb418a-6fd9-476e-ab0c-abdd5720e09b",
   "metadata": {},
   "outputs": [
    {
     "data": {
      "text/plain": [
       "'MSKAHILVVDDEKPIVDIIKFNLEKEGYKVTASYDGEDALNRIKNENFDMVLLDVMLPKLDGFSVCKKVREFSDVPIIMITAKADEVDKVLGLELGADDYITKPFGIRELIARIRANLRRTAQSAAQDGKVLKAGNLTLNPETFEVKKDGKVIELTVREYELLKFLMSQKGQVFSREELLEKVWDYEYYGDVRTVDVTVRRLREKIEDNPSEPNFILTKRGIGYYFNPNI'"
      ]
     },
     "execution_count": 13,
     "metadata": {},
     "output_type": "execute_result"
    }
   ],
   "source": [
    "translated_seq"
   ]
  },
  {
   "cell_type": "markdown",
   "id": "f548c28e-f755-449b-96de-ae70433b2bbf",
   "metadata": {},
   "source": [
    "### get structure predictions"
   ]
  },
  {
   "cell_type": "code",
   "execution_count": 14,
   "id": "d1563f4f-cc80-4932-94c9-096bf5fc4ee2",
   "metadata": {},
   "outputs": [
    {
     "name": "stdout",
     "output_type": "stream",
     "text": [
      "[2023-09-22 14:07:02,849] [INFO] [real_accelerator.py:133:get_accelerator] Setting ds_accelerator to cuda (auto detect)\n"
     ]
    },
    {
     "name": "stderr",
     "output_type": "stream",
     "text": [
      "2023-09-22 14:07:21.622733: I tensorflow/core/platform/cpu_feature_guard.cc:193] This TensorFlow binary is optimized with oneAPI Deep Neural Network Library (oneDNN) to use the following CPU instructions in performance-critical operations:  SSE4.1 SSE4.2 AVX AVX2 AVX512F AVX512_VNNI FMA\n",
      "To enable them in other operations, rebuild TensorFlow with the appropriate compiler flags.\n",
      "2023-09-22 14:07:23.041900: I tensorflow/core/util/port.cc:104] oneDNN custom operations are on. You may see slightly different numerical results due to floating-point round-off errors from different computation orders. To turn them off, set the environment variable `TF_ENABLE_ONEDNN_OPTS=0`.\n"
     ]
    }
   ],
   "source": [
    "ESMFOLD = esm.pretrained.esmfold_v1().eval()"
   ]
  },
  {
   "cell_type": "code",
   "execution_count": 15,
   "id": "bdaa1083-110e-4c4d-b7e8-337d31bb8cad",
   "metadata": {},
   "outputs": [],
   "source": [
    "ESMFOLD = ESMFOLD.cuda()"
   ]
  },
  {
   "cell_type": "code",
   "execution_count": 17,
   "id": "89448c5e-a668-44ea-9cc8-84190ff7546d",
   "metadata": {},
   "outputs": [],
   "source": [
    "def esm_one_struc(name, sequence):\n",
    "    if not os.path.exists('./tmp/esmfold_predicts/'):\n",
    "        os.makedirs('./tmp/esmfold_predicts/')\n",
    "\n",
    "    if os.path.exists(f\"./tmp/esmfold_predicts/{name}.pdb\"):\n",
    "        pass\n",
    "    else:\n",
    "        with torch.no_grad():\n",
    "            output = ESMFOLD.infer_pdb(sequence)\n",
    "        \n",
    "        with open(f\"./tmp/esmfold_predicts/{name}.pdb\", \"w\") as f:\n",
    "            f.write(output)\n",
    "    return f\"./tmp/esmfold_predicts/{name}.pdb\""
   ]
  },
  {
   "cell_type": "code",
   "execution_count": 18,
   "id": "e85ef273-1606-48c5-80d7-bf8d2b8e2616",
   "metadata": {},
   "outputs": [],
   "source": [
    "structs_to_run = {\n",
    "    f'thermo_{i}': t for i, t in enumerate(thermo_seqs)\n",
    "}\n",
    "structs_to_run['meso'] = mesoseq\n",
    "structs_to_run['trans'] = translated_seq"
   ]
  },
  {
   "cell_type": "code",
   "execution_count": 19,
   "id": "36d378eb-4634-4e53-8dc3-8cfb97040936",
   "metadata": {},
   "outputs": [],
   "source": [
    "files = {}\n",
    "for name, seq in structs_to_run.items():\n",
    "    files[name] = esm_one_struc(name, seq)"
   ]
  },
  {
   "cell_type": "code",
   "execution_count": 20,
   "id": "de2ace33-7cb3-475e-87c7-cf97cc898f56",
   "metadata": {},
   "outputs": [
    {
     "data": {
      "text/plain": [
       "{'thermo_0': './tmp/esmfold_predicts/thermo_0.pdb',\n",
       " 'thermo_1': './tmp/esmfold_predicts/thermo_1.pdb',\n",
       " 'thermo_2': './tmp/esmfold_predicts/thermo_2.pdb',\n",
       " 'meso': './tmp/esmfold_predicts/meso.pdb',\n",
       " 'trans': './tmp/esmfold_predicts/trans.pdb'}"
      ]
     },
     "execution_count": 20,
     "metadata": {},
     "output_type": "execute_result"
    }
   ],
   "source": [
    "files"
   ]
  },
  {
   "cell_type": "markdown",
   "id": "e19cefb7-a366-4bb9-b46b-bc351d15e7fd",
   "metadata": {},
   "source": [
    "### View structures"
   ]
  },
  {
   "cell_type": "code",
   "execution_count": 21,
   "id": "aa524999-7774-4eeb-8ac6-75d81251d70b",
   "metadata": {},
   "outputs": [],
   "source": [
    "from nomelt.thermo_estimation.optimizer import OptTrajSuperimposer"
   ]
  },
  {
   "cell_type": "code",
   "execution_count": 22,
   "id": "a0f4b9b4-041c-418b-94ee-de793d25723e",
   "metadata": {},
   "outputs": [],
   "source": [
    "imposer = OptTrajSuperimposer(list(structs_to_run.values()), list(files.values()), values=range(len(files)))"
   ]
  },
  {
   "cell_type": "code",
   "execution_count": 23,
   "id": "c2833c5d-8b2f-4c21-9f2b-cfbd653f4447",
   "metadata": {
    "scrolled": true
   },
   "outputs": [
    {
     "data": {
      "text/plain": [
       "['__class__',\n",
       " '__delattr__',\n",
       " '__dict__',\n",
       " '__dir__',\n",
       " '__doc__',\n",
       " '__eq__',\n",
       " '__format__',\n",
       " '__ge__',\n",
       " '__getattribute__',\n",
       " '__gt__',\n",
       " '__hash__',\n",
       " '__init__',\n",
       " '__init_subclass__',\n",
       " '__le__',\n",
       " '__lt__',\n",
       " '__module__',\n",
       " '__ne__',\n",
       " '__new__',\n",
       " '__reduce__',\n",
       " '__reduce_ex__',\n",
       " '__repr__',\n",
       " '__setattr__',\n",
       " '__sizeof__',\n",
       " '__str__',\n",
       " '__subclasshook__',\n",
       " '__weakref__',\n",
       " '_make_movie',\n",
       " '_parse_universes',\n",
       " '_run_vmd_script',\n",
       " '_save_trajectory',\n",
       " '_superimpose_one',\n",
       " '_vmd_script_single',\n",
       " 'make_optimization_movie',\n",
       " 'output_dir',\n",
       " 'output_files',\n",
       " 'ref_struct',\n",
       " 'run',\n",
       " 'sequences',\n",
       " 'structure_files',\n",
       " 'temp_dir',\n",
       " 'universes',\n",
       " 'values']"
      ]
     },
     "execution_count": 23,
     "metadata": {},
     "output_type": "execute_result"
    }
   ],
   "source": [
    "dir(imposer)"
   ]
  },
  {
   "cell_type": "code",
   "execution_count": 26,
   "id": "b56787cb-4497-4149-8790-9bcda97231db",
   "metadata": {},
   "outputs": [
    {
     "name": "stderr",
     "output_type": "stream",
     "text": [
      "/mmfs1/gscratch/cheme/usr/evankomp/mamba/mambaforge/envs/nomelt2/lib/python3.9/site-packages/MDAnalysis/coordinates/PDB.py:775: UserWarning: Unit cell dimensions not found. CRYST1 record set to unitary values.\n",
      "  warnings.warn(\"Unit cell dimensions not found. \"\n",
      "/mmfs1/gscratch/cheme/usr/evankomp/mamba/mambaforge/envs/nomelt2/lib/python3.9/site-packages/MDAnalysis/coordinates/PDB.py:1151: UserWarning: Found no information for attr: 'formalcharges' Using default value of '0'\n",
      "  warnings.warn(\"Found no information for attr: '{}'\"\n"
     ]
    }
   ],
   "source": [
    "imposed_files = imposer.run()"
   ]
  },
  {
   "cell_type": "code",
   "execution_count": 27,
   "id": "7f46b6c1-35c4-40cb-bbf8-522dfdd22e36",
   "metadata": {},
   "outputs": [
    {
     "name": "stderr",
     "output_type": "stream",
     "text": [
      "/mmfs1/gscratch/cheme/usr/evankomp/mamba/mambaforge/envs/nomelt2/lib/python3.9/site-packages/Bio/PDB/PDBParser.py:395: PDBConstructionWarning: Ignoring unrecognized record 'END' at line 1844\n",
      "  warnings.warn(\n",
      "/mmfs1/gscratch/cheme/usr/evankomp/mamba/mambaforge/envs/nomelt2/lib/python3.9/site-packages/Bio/PDB/PDBParser.py:395: PDBConstructionWarning: Ignoring unrecognized record 'END' at line 1865\n",
      "  warnings.warn(\n",
      "/mmfs1/gscratch/cheme/usr/evankomp/mamba/mambaforge/envs/nomelt2/lib/python3.9/site-packages/Bio/PDB/PDBParser.py:395: PDBConstructionWarning: Ignoring unrecognized record 'END' at line 1872\n",
      "  warnings.warn(\n",
      "/mmfs1/gscratch/cheme/usr/evankomp/mamba/mambaforge/envs/nomelt2/lib/python3.9/site-packages/Bio/PDB/PDBParser.py:395: PDBConstructionWarning: Ignoring unrecognized record 'END' at line 1811\n",
      "  warnings.warn(\n",
      "/mmfs1/gscratch/cheme/usr/evankomp/mamba/mambaforge/envs/nomelt2/lib/python3.9/site-packages/Bio/PDB/PDBParser.py:395: PDBConstructionWarning: Ignoring unrecognized record 'END' at line 1868\n",
      "  warnings.warn(\n"
     ]
    }
   ],
   "source": [
    "structures = {name: parser.get_structure(i, imposed_files[i]) for i, name in enumerate(files.keys())}"
   ]
  },
  {
   "cell_type": "code",
   "execution_count": 28,
   "id": "959159dc-e0a4-484c-b019-671df8185dc9",
   "metadata": {},
   "outputs": [
    {
     "data": {
      "text/plain": [
       "{'thermo_0': <Structure id=0>,\n",
       " 'thermo_1': <Structure id=1>,\n",
       " 'thermo_2': <Structure id=2>,\n",
       " 'meso': <Structure id=3>,\n",
       " 'trans': <Structure id=4>}"
      ]
     },
     "execution_count": 28,
     "metadata": {},
     "output_type": "execute_result"
    }
   ],
   "source": [
    "structures"
   ]
  },
  {
   "cell_type": "code",
   "execution_count": 76,
   "id": "45eb36c6-1162-42ec-907b-e2ab921ee2a5",
   "metadata": {},
   "outputs": [],
   "source": [
    "view = nv.NGLWidget(gui=True)"
   ]
  },
  {
   "cell_type": "code",
   "execution_count": 77,
   "id": "eb7ae86d-d083-4910-ac6d-b55169c11212",
   "metadata": {},
   "outputs": [],
   "source": [
    "components = {k: view.add_component(nv.BiopythonStructure(v)) for k, v in structures.items()}"
   ]
  },
  {
   "cell_type": "code",
   "execution_count": 78,
   "id": "daf14041-f38b-4890-ba3e-2464ad393f98",
   "metadata": {},
   "outputs": [],
   "source": [
    "for c in components.values():\n",
    "    c.remove_cartoon()"
   ]
  },
  {
   "cell_type": "code",
   "execution_count": 79,
   "id": "196721ae-8bf3-4145-afc0-353a3a72a6a1",
   "metadata": {},
   "outputs": [],
   "source": [
    "# components['meso'].add_representation('cartoon', color='#CCF5FF')\n",
    "components['thermo_0'].add_representation('cartoon', color='#FFD6D6')\n",
    "components['thermo_1'].add_representation('cartoon', color='#FFD6D6')\n",
    "components['thermo_2'].add_representation('cartoon', color='#FFD6D6')\n",
    "components['trans'].add_representation('cartoon', color='#C890FF', )"
   ]
  },
  {
   "cell_type": "code",
   "execution_count": 80,
   "id": "779df58c-9102-4b71-8c74-edf21ec28a2f",
   "metadata": {},
   "outputs": [
    {
     "data": {
      "application/vnd.jupyter.widget-view+json": {
       "model_id": "912000ce255d4876ae570df76bbb048c",
       "version_major": 2,
       "version_minor": 0
      },
      "text/plain": [
       "NGLWidget()"
      ]
     },
     "metadata": {},
     "output_type": "display_data"
    },
    {
     "data": {
      "application/vnd.jupyter.widget-view+json": {
       "model_id": "60a377107e454d1eab1821688fe1a80f",
       "version_major": 2,
       "version_minor": 0
      },
      "text/plain": [
       "Tab(children=(Box(children=(Box(children=(Box(children=(Label(value='step'), IntSlider(value=1, min=-100)), la…"
      ]
     },
     "metadata": {},
     "output_type": "display_data"
    }
   ],
   "source": [
    "view"
   ]
  },
  {
   "cell_type": "code",
   "execution_count": 81,
   "id": "775e7ccf-9e80-481c-a40a-7759384868bf",
   "metadata": {},
   "outputs": [],
   "source": [
    "import time\n",
    "def save_image(view, name):\n",
    "    img = view.render_image()\n",
    "    \n",
    "    while not img.value:\n",
    "        time.sleep(0.1)\n",
    "    \n",
    "    with open(f\"./tmp/{name}.png\", \"wb\") as f:\n",
    "        f.write(img.value)\n",
    "\n",
    "\n",
    "thread = threading.Thread(target=save_image, args=(view, 'thermo_superimposed'), daemon=False)\n",
    "thread.start()"
   ]
  },
  {
   "cell_type": "code",
   "execution_count": 82,
   "id": "da8f395d-f1b8-4910-a0f6-d8cf2951cc66",
   "metadata": {},
   "outputs": [
    {
     "data": {
      "application/vnd.jupyter.widget-view+json": {
       "model_id": "fb47f52f67484d71b932be155dfcd0f5",
       "version_major": 2,
       "version_minor": 0
      },
      "text/plain": [
       "NGLWidget()"
      ]
     },
     "metadata": {},
     "output_type": "display_data"
    },
    {
     "data": {
      "application/vnd.jupyter.widget-view+json": {
       "model_id": "6d2d4568e28f4545aa8d3fcbf29281b0",
       "version_major": 2,
       "version_minor": 0
      },
      "text/plain": [
       "Tab(children=(Box(children=(Box(children=(Box(children=(Label(value='step'), IntSlider(value=1, min=-100)), la…"
      ]
     },
     "metadata": {},
     "output_type": "display_data"
    }
   ],
   "source": [
    "view = nv.NGLWidget(gui=True)\n",
    "components = {k: view.add_component(nv.BiopythonStructure(v)) for k, v in structures.items()}\n",
    "for c in components.values():\n",
    "    c.remove_cartoon()\n",
    "components['meso'].add_representation('cartoon', color='#CCF5FF')\n",
    "components['trans'].add_representation('cartoon', color='#C890FF', )\n",
    "view"
   ]
  },
  {
   "cell_type": "code",
   "execution_count": 83,
   "id": "db5284ed-d2ff-4cfd-8dfc-c7990f967f11",
   "metadata": {},
   "outputs": [],
   "source": [
    "thread = threading.Thread(target=save_image, args=(view, 'meso_trans'), daemon=False)\n",
    "thread.start()"
   ]
  },
  {
   "cell_type": "code",
   "execution_count": 85,
   "id": "b549ed14-a639-4f74-a219-c1a96ab6ef32",
   "metadata": {},
   "outputs": [
    {
     "data": {
      "application/vnd.jupyter.widget-view+json": {
       "model_id": "0565a905f0594f049b72e1802ec6f89e",
       "version_major": 2,
       "version_minor": 0
      },
      "text/plain": [
       "NGLWidget()"
      ]
     },
     "metadata": {},
     "output_type": "display_data"
    },
    {
     "data": {
      "application/vnd.jupyter.widget-view+json": {
       "model_id": "8e2dbf17bef04e96b68ad6205ecfdec3",
       "version_major": 2,
       "version_minor": 0
      },
      "text/plain": [
       "Tab(children=(Box(children=(Box(children=(Box(children=(Label(value='step'), IntSlider(value=1, min=-100)), la…"
      ]
     },
     "metadata": {},
     "output_type": "display_data"
    }
   ],
   "source": [
    "view = nv.NGLWidget(gui=True)\n",
    "view.add_component(nv.BiopythonStructure(structures['meso']))\n",
    "view"
   ]
  },
  {
   "cell_type": "code",
   "execution_count": 86,
   "id": "c0ffa83d-91ec-4640-9744-c8602898edfd",
   "metadata": {},
   "outputs": [],
   "source": [
    "thread = threading.Thread(target=save_image, args=(view, 'meso'), daemon=False)\n",
    "thread.start()"
   ]
  },
  {
   "cell_type": "code",
   "execution_count": 87,
   "id": "1cbe653f-cce5-494c-95a0-e094efa07376",
   "metadata": {},
   "outputs": [
    {
     "data": {
      "application/vnd.jupyter.widget-view+json": {
       "model_id": "bc83a78af3fa4904ab278fcf4fa8acd8",
       "version_major": 2,
       "version_minor": 0
      },
      "text/plain": [
       "NGLWidget()"
      ]
     },
     "metadata": {},
     "output_type": "display_data"
    },
    {
     "data": {
      "application/vnd.jupyter.widget-view+json": {
       "model_id": "2221a2e2a8bd434f948cdf12d9e4da58",
       "version_major": 2,
       "version_minor": 0
      },
      "text/plain": [
       "Tab(children=(Box(children=(Box(children=(Box(children=(Label(value='step'), IntSlider(value=1, min=-100)), la…"
      ]
     },
     "metadata": {},
     "output_type": "display_data"
    }
   ],
   "source": [
    "view = nv.NGLWidget(gui=True)\n",
    "view.add_component(nv.BiopythonStructure(structures['trans']))\n",
    "view"
   ]
  },
  {
   "cell_type": "code",
   "execution_count": 93,
   "id": "b98320a5-7e50-4c23-8d74-a292e7711f39",
   "metadata": {},
   "outputs": [],
   "source": [
    "thread = threading.Thread(target=save_image, args=(view, 'trans'), daemon=False)\n",
    "thread.start()"
   ]
  },
  {
   "cell_type": "code",
   "execution_count": 89,
   "id": "8fc1e5b1-38fc-4f1e-b6e5-2eb4d9442487",
   "metadata": {},
   "outputs": [
    {
     "data": {
      "text/plain": [
       "'MTEGARILVVDDEHYLADLAANALRRAGFQAEVAGTGGAALAVGLSRRPDLLVLDLRLAKGPGGSLADQLRRFGCSIPVLFLLGRDATQQDKITGLSVPGADYLGKPFSLGELVARCRAALRRSTGAGSPLLSCAGLRLDEDAHLVLRDETRVDLSPTEFRLLRHLLTHQNRVLTKQHILDHVWEYDYAGEDSVVPTYISYLRRKVDARREPMIHTIPRTGYVLRPPTPPAGPS'"
      ]
     },
     "execution_count": 89,
     "metadata": {},
     "output_type": "execute_result"
    }
   ],
   "source": [
    "mesoseq"
   ]
  },
  {
   "cell_type": "code",
   "execution_count": 90,
   "id": "7eaea63f-fec1-4a6b-970b-3d0728fa023e",
   "metadata": {},
   "outputs": [
    {
     "data": {
      "text/plain": [
       "['MEKLLIIDDEEMFVKGLKLSLEEEGFEVDAAYDGEEGLDKVRLGNYDLVILDIMLPKLDGFSVCREIRTFSNIPIIMLTARGDDIDKIVGIEIGADDYLAKPFNTRELTARIRALLRRATNPYTKRKDEIRRGELYINIPERAVYKRGKRIELTNKEFEILVLLASNPGKVYTKDKLLDLIWGFDFYGDTNTVTVHVRKLREKIEDDPANPQYIFTKWGAGYYMK',\n",
       " 'MNKKILVVDDEKPIADILKFNLEKEGFEVTTAYDGESAVNKTLEDQPDLVLLDIMLPKKDGFQVLREIRKKLQIPILMLTAKEEEVDKVLGLELGADDYITKPFSIRELIARVKANLRRAEISLVNGNELIVSDSLVIDLNKYEVKKGNTIIELTLREFELLKFLATRAGQVFSREKLLEEVWGYEYYGDIRTVDVTIRRLREKVEDDSSNPKYVLTKRGVGYYFRRS',\n",
       " 'MANKILIVDDEPLLVKGLKYSLEQDGYTVDAAYDGKEALDKFEKDDFDLIILDLMLPSIDGLEVCQKIRQKSQVPIIMLTAKGEDISKILGLEYGADDYLTKPFNILELKARIKAILRRVNTSETKIGEQVIKMDDFTINTLGRKVIAKDKEINLTAKEFDLLLLLASNPGKVFSREELLKIIWGYEYFGDLRTVDVHIRRLREKIEKNSSQPEYILTKWGVGYYFRNKT']"
      ]
     },
     "execution_count": 90,
     "metadata": {},
     "output_type": "execute_result"
    }
   ],
   "source": [
    "thermo_seqs"
   ]
  },
  {
   "cell_type": "code",
   "execution_count": null,
   "id": "aec5d78e-5faf-475d-825b-2ac517590529",
   "metadata": {},
   "outputs": [],
   "source": []
  }
 ],
 "metadata": {
  "kernelspec": {
   "display_name": "Python 3 (ipykernel)",
   "language": "python",
   "name": "python3"
  },
  "language_info": {
   "codemirror_mode": {
    "name": "ipython",
    "version": 3
   },
   "file_extension": ".py",
   "mimetype": "text/x-python",
   "name": "python",
   "nbconvert_exporter": "python",
   "pygments_lexer": "ipython3",
   "version": "3.9.17"
  }
 },
 "nbformat": 4,
 "nbformat_minor": 5
}
