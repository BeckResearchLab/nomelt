{
 "cells": [
  {
   "cell_type": "markdown",
   "id": "6d763e26-d69b-40c0-995a-170c27ca145b",
   "metadata": {},
   "source": [
    "## Find a test example with a few thermophilic targets, create visuals of the structures, overlapped"
   ]
  },
  {
   "cell_type": "code",
   "execution_count": 1,
   "id": "e22cbdbb-972e-46ba-b449-8319bec7e524",
   "metadata": {},
   "outputs": [
    {
     "data": {
      "application/vnd.jupyter.widget-view+json": {
       "model_id": "835fe1ee2ca64de8bd9c42f2ce29c24f",
       "version_major": 2,
       "version_minor": 0
      },
      "text/plain": []
     },
     "metadata": {},
     "output_type": "display_data"
    }
   ],
   "source": [
    "import esm\n",
    "import torch\n",
    "import os\n",
    "import datasets\n",
    "import seaborn as sns\n",
    "import pandas as pd\n",
    "import numpy as np\n",
    "import matplotlib.pyplot as plt\n",
    "\n",
    "from Bio.PDB import *\n",
    "import nglview as nv\n",
    "import ipywidgets\n",
    "\n",
    "parser  = PDBParser()"
   ]
  },
  {
   "cell_type": "markdown",
   "id": "a4b73f0e-2dd7-4975-98e8-e4dd232ef211",
   "metadata": {},
   "source": [
    "### First find the example"
   ]
  },
  {
   "cell_type": "code",
   "execution_count": 2,
   "id": "d9576c78-05a6-4afa-9f74-ee4d941ac0b8",
   "metadata": {},
   "outputs": [],
   "source": [
    "ds = datasets.load_from_disk('../data/dataset')['test']\n",
    "ds = ds.filter(lambda x: x['status_in_cluster'] in ['extreme', 'unique'])"
   ]
  },
  {
   "cell_type": "code",
   "execution_count": 3,
   "id": "c9b964fa-412f-4215-bd9a-9d7599316bcb",
   "metadata": {},
   "outputs": [],
   "source": [
    "predictions = pd.read_csv('../data/nomelt-model/predictions.tsv', sep='\\t', header=None)"
   ]
  },
  {
   "cell_type": "code",
   "execution_count": 4,
   "id": "b1535a10-05f6-405d-abc8-23d94f860080",
   "metadata": {},
   "outputs": [],
   "source": [
    "predictions = predictions.applymap(lambda s: ''.join(s.split()))\n",
    "predictions.columns = ['m', 'g', 't']"
   ]
  },
  {
   "cell_type": "code",
   "execution_count": 5,
   "id": "a02fba1b-f30b-4067-b8dc-7479c619e846",
   "metadata": {},
   "outputs": [],
   "source": [
    "ds = ds.filter(lambda x: x['meso_seq'] in predictions['m'].values)"
   ]
  },
  {
   "cell_type": "code",
   "execution_count": 6,
   "id": "55acd999-fe8a-43d0-9ed7-1999f9bdee49",
   "metadata": {},
   "outputs": [
    {
     "data": {
      "text/plain": [
       "Dataset({\n",
       "    features: ['meso_seq', 'thermo_seq', 'taxid', 'query_align_cov', 'subject_align_cov', 'bit_score', 'scaled_local_symmetric_percent_id', 'meso_seq_len', 'thermo_seq_len', 'seq_len_diff', 'meso_temp', 'thermo_temp', 'index', 'cluster', 'status_in_cluster'],\n",
       "    num_rows: 1064\n",
       "})"
      ]
     },
     "execution_count": 6,
     "metadata": {},
     "output_type": "execute_result"
    }
   ],
   "source": [
    "ds"
   ]
  },
  {
   "cell_type": "code",
   "execution_count": 7,
   "id": "ea8dab31-79de-4b1d-9e6c-ea9ef09f7f06",
   "metadata": {},
   "outputs": [],
   "source": [
    "meso_replica_counts = pd.value_counts(ds['meso_seq'])"
   ]
  },
  {
   "cell_type": "code",
   "execution_count": 8,
   "id": "cef0e235-adc6-42a0-b8a7-24ca83910dbb",
   "metadata": {},
   "outputs": [],
   "source": [
    "mesoseq = meso_replica_counts.index[meso_replica_counts.argmax()]"
   ]
  },
  {
   "cell_type": "code",
   "execution_count": 9,
   "id": "b31a6298-7804-4693-9b80-ff859ff4a532",
   "metadata": {},
   "outputs": [],
   "source": [
    "ds = ds.filter(lambda x: x['meso_seq']==mesoseq)"
   ]
  },
  {
   "cell_type": "code",
   "execution_count": 10,
   "id": "e4c28908-ef9a-41c6-9fc2-f9f6a539d088",
   "metadata": {},
   "outputs": [
    {
     "data": {
      "text/plain": [
       "Dataset({\n",
       "    features: ['meso_seq', 'thermo_seq', 'taxid', 'query_align_cov', 'subject_align_cov', 'bit_score', 'scaled_local_symmetric_percent_id', 'meso_seq_len', 'thermo_seq_len', 'seq_len_diff', 'meso_temp', 'thermo_temp', 'index', 'cluster', 'status_in_cluster'],\n",
       "    num_rows: 3\n",
       "})"
      ]
     },
     "execution_count": 10,
     "metadata": {},
     "output_type": "execute_result"
    }
   ],
   "source": [
    "ds"
   ]
  },
  {
   "cell_type": "code",
   "execution_count": 11,
   "id": "ff68322d-ee6f-4c47-9400-34b80a884548",
   "metadata": {},
   "outputs": [],
   "source": [
    "thermo_seqs = ds['thermo_seq']"
   ]
  },
  {
   "cell_type": "code",
   "execution_count": 12,
   "id": "bd3e7436-c94f-40cf-9ffb-36b87275a404",
   "metadata": {},
   "outputs": [],
   "source": [
    "translated_seq = predictions[predictions['m']==mesoseq]['g'].iloc[0]"
   ]
  },
  {
   "cell_type": "code",
   "execution_count": 13,
   "id": "8dcb418a-6fd9-476e-ab0c-abdd5720e09b",
   "metadata": {},
   "outputs": [
    {
     "data": {
      "text/plain": [
       "'MSKAHILVVDDEKPIVDIIKFNLEKEGYKVTASYDGEDALNRIKNENFDMVLLDVMLPKLDGFSVCKKVREFSDVPIIMITAKADEVDKVLGLELGADDYITKPFGIRELIARIRANLRRTAQSAAQDGKVLKAGNLTLNPETFEVKKDGKVIELTVREYELLKFLMSQKGQVFSREELLEKVWDYEYYGDVRTVDVTVRRLREKIEDNPSEPNFILTKRGIGYYFNPNI'"
      ]
     },
     "execution_count": 13,
     "metadata": {},
     "output_type": "execute_result"
    }
   ],
   "source": [
    "translated_seq"
   ]
  },
  {
   "cell_type": "markdown",
   "id": "89cf1634-9f4a-40fe-8ed1-016b5eb59957",
   "metadata": {},
   "source": [
    "### make sure sequence is not perfectly in the trainign set"
   ]
  },
  {
   "cell_type": "code",
   "execution_count": 14,
   "id": "b62e4435-ccfb-4c6c-ad74-02b77bbfb80e",
   "metadata": {},
   "outputs": [],
   "source": [
    "from nomelt.blast import run_blast_search"
   ]
  },
  {
   "cell_type": "code",
   "execution_count": 15,
   "id": "a177fbf8-6c1d-4229-b491-905ef1532fc6",
   "metadata": {},
   "outputs": [
    {
     "name": "stderr",
     "output_type": "stream",
     "text": [
      "100%|████████████████████████████████████████████████████████████████████████████████████████████████████████████████████████████████████| 131/131 [00:49<00:00,  2.66it/s]\n"
     ]
    },
    {
     "name": "stdout",
     "output_type": "stream",
     "text": [
      "\n",
      "\n",
      "Building a new DB, current time: 10/02/2023 13:27:35\n",
      "New DB name:   /mmfs1/gscratch/cheme/usr/evankomp/repos/nomelt/analysis/tmp/blasttraining_meso_db.fasta\n",
      "New DB title:  ./tmp/blasttraining_meso_db.fasta\n",
      "Sequence type: Protein\n",
      "Keep MBits: T\n",
      "Maximum file size: 3000000000B\n",
      "Adding sequences from FASTA; added 1304897 sequences in 18.2346 seconds.\n",
      "\n",
      "\n"
     ]
    }
   ],
   "source": [
    "records = run_blast_search(mesoseq, '../data/dataset', './tmp/blast')"
   ]
  },
  {
   "cell_type": "code",
   "execution_count": 16,
   "id": "8d356562-a754-4dae-9b72-7ee6ee532427",
   "metadata": {},
   "outputs": [
    {
     "data": {
      "text/plain": [
       "[<Bio.Blast.Record.Blast at 0x1536691d4dc0>]"
      ]
     },
     "execution_count": 16,
     "metadata": {},
     "output_type": "execute_result"
    }
   ],
   "source": [
    "records"
   ]
  },
  {
   "cell_type": "code",
   "execution_count": 21,
   "id": "82149512-5026-4c08-ab46-7009b72ef8d6",
   "metadata": {},
   "outputs": [
    {
     "data": {
      "text/plain": [
       "2.16135e-83"
      ]
     },
     "execution_count": 21,
     "metadata": {},
     "output_type": "execute_result"
    }
   ],
   "source": [
    "records[0].alignments[0].hsps[0].expect"
   ]
  },
  {
   "cell_type": "code",
   "execution_count": 24,
   "id": "84fed89f-f38f-476f-b2f1-2c270b362d8e",
   "metadata": {},
   "outputs": [],
   "source": [
    "hsp = records[0].alignments[0].hsps[0]"
   ]
  },
  {
   "cell_type": "code",
   "execution_count": 25,
   "id": "b3462bdf-94d3-4376-bb80-284ae1150916",
   "metadata": {},
   "outputs": [
    {
     "data": {
      "text/plain": [
       "['__class__',\n",
       " '__delattr__',\n",
       " '__dict__',\n",
       " '__dir__',\n",
       " '__doc__',\n",
       " '__eq__',\n",
       " '__format__',\n",
       " '__ge__',\n",
       " '__getattribute__',\n",
       " '__gt__',\n",
       " '__hash__',\n",
       " '__init__',\n",
       " '__init_subclass__',\n",
       " '__le__',\n",
       " '__lt__',\n",
       " '__module__',\n",
       " '__ne__',\n",
       " '__new__',\n",
       " '__reduce__',\n",
       " '__reduce_ex__',\n",
       " '__repr__',\n",
       " '__setattr__',\n",
       " '__sizeof__',\n",
       " '__str__',\n",
       " '__subclasshook__',\n",
       " '__weakref__',\n",
       " 'align_length',\n",
       " 'bits',\n",
       " 'expect',\n",
       " 'frame',\n",
       " 'gaps',\n",
       " 'identities',\n",
       " 'match',\n",
       " 'num_alignments',\n",
       " 'positives',\n",
       " 'query',\n",
       " 'query_end',\n",
       " 'query_start',\n",
       " 'sbjct',\n",
       " 'sbjct_end',\n",
       " 'sbjct_start',\n",
       " 'score',\n",
       " 'strand']"
      ]
     },
     "execution_count": 25,
     "metadata": {},
     "output_type": "execute_result"
    }
   ],
   "source": [
    "dir(hsp)"
   ]
  },
  {
   "cell_type": "code",
   "execution_count": 27,
   "id": "cd6557a7-1e06-40aa-bc36-ae4175bea2cf",
   "metadata": {},
   "outputs": [
    {
     "data": {
      "text/plain": [
       "0.9826839826839827"
      ]
     },
     "execution_count": 27,
     "metadata": {},
     "output_type": "execute_result"
    }
   ],
   "source": [
    "(hsp.sbjct_end - hsp.sbjct_start) / records[0].alignments[0].length"
   ]
  },
  {
   "cell_type": "code",
   "execution_count": 31,
   "id": "e3be0f3f-226b-46ff-b51d-766a76a577b7",
   "metadata": {},
   "outputs": [
    {
     "data": {
      "text/plain": [
       "0.9658119658119658"
      ]
     },
     "execution_count": 31,
     "metadata": {},
     "output_type": "execute_result"
    }
   ],
   "source": [
    "(hsp.query_end - hsp.query_start) / records[0].query_length"
   ]
  },
  {
   "cell_type": "code",
   "execution_count": 35,
   "id": "f2194c9c-7514-4ff6-873d-4a6fcd639c94",
   "metadata": {},
   "outputs": [
    {
     "data": {
      "text/plain": [
       "0.5598290598290598"
      ]
     },
     "execution_count": 35,
     "metadata": {},
     "output_type": "execute_result"
    }
   ],
   "source": [
    "hsp.identities/records[0].query_length"
   ]
  },
  {
   "cell_type": "markdown",
   "id": "d015c4a9-7b73-403c-bf74-bad98b1a9594",
   "metadata": {},
   "source": [
    "55% id did not get put in the same cluster. Let's check the jaccard."
   ]
  },
  {
   "cell_type": "code",
   "execution_count": 61,
   "id": "9a93afa1-27cc-4f42-b484-58248771caf3",
   "metadata": {},
   "outputs": [],
   "source": [
    "training_set = datasets.load_from_disk('../data/dataset')['train']"
   ]
  },
  {
   "cell_type": "code",
   "execution_count": 65,
   "id": "8d93deda-4ece-469c-99e1-0a1d5ed86563",
   "metadata": {},
   "outputs": [],
   "source": [
    "subject = training_set[int(records[0].alignments[0].accession)]['meso_seq']"
   ]
  },
  {
   "cell_type": "code",
   "execution_count": 36,
   "id": "fc2cb8e9-32c4-43e4-871f-6bbcf62ff8b1",
   "metadata": {},
   "outputs": [],
   "source": [
    "from nomelt.deduplication import compute_protein_kgram, compute_min_hash"
   ]
  },
  {
   "cell_type": "code",
   "execution_count": 45,
   "id": "77e884a7-e199-4fbf-b4c6-28635d32f3b0",
   "metadata": {},
   "outputs": [],
   "source": [
    "query_hash = compute_min_hash(mesoseq, k=4, num_perm=128)"
   ]
  },
  {
   "cell_type": "code",
   "execution_count": 66,
   "id": "d9b8acbe-b02c-4f5e-9bdc-a65d6b1b39ee",
   "metadata": {},
   "outputs": [],
   "source": [
    "sbjct_hash = compute_min_hash(subject, k=4, num_perm=128)"
   ]
  },
  {
   "cell_type": "code",
   "execution_count": 67,
   "id": "0162ece6-7e47-4c8e-b2d8-2f71e7605075",
   "metadata": {},
   "outputs": [
    {
     "data": {
      "text/plain": [
       "0.0546875"
      ]
     },
     "execution_count": 67,
     "metadata": {},
     "output_type": "execute_result"
    }
   ],
   "source": [
    "query_hash.jaccard(sbjct_hash)"
   ]
  },
  {
   "cell_type": "code",
   "execution_count": 72,
   "id": "a9b450b3-9233-4900-a772-ad47314f0029",
   "metadata": {},
   "outputs": [
    {
     "data": {
      "text/plain": [
       "['__class__',\n",
       " '__delattr__',\n",
       " '__dict__',\n",
       " '__dir__',\n",
       " '__doc__',\n",
       " '__eq__',\n",
       " '__format__',\n",
       " '__ge__',\n",
       " '__getattribute__',\n",
       " '__gt__',\n",
       " '__hash__',\n",
       " '__init__',\n",
       " '__init_subclass__',\n",
       " '__le__',\n",
       " '__len__',\n",
       " '__lt__',\n",
       " '__module__',\n",
       " '__ne__',\n",
       " '__new__',\n",
       " '__reduce__',\n",
       " '__reduce_ex__',\n",
       " '__repr__',\n",
       " '__setattr__',\n",
       " '__sizeof__',\n",
       " '__str__',\n",
       " '__subclasshook__',\n",
       " '__weakref__',\n",
       " '_init_hashvalues',\n",
       " '_init_permutations',\n",
       " '_parse_hashvalues',\n",
       " 'bulk',\n",
       " 'clear',\n",
       " 'copy',\n",
       " 'count',\n",
       " 'digest',\n",
       " 'generator',\n",
       " 'hashfunc',\n",
       " 'hashvalues',\n",
       " 'is_empty',\n",
       " 'jaccard',\n",
       " 'merge',\n",
       " 'num_perm',\n",
       " 'permutations',\n",
       " 'seed',\n",
       " 'union',\n",
       " 'update',\n",
       " 'update_batch']"
      ]
     },
     "execution_count": 72,
     "metadata": {},
     "output_type": "execute_result"
    }
   ],
   "source": [
    "dir(sbjct_hash)"
   ]
  },
  {
   "cell_type": "markdown",
   "id": "4c034eec-98b4-485d-be19-7db2195bfa10",
   "metadata": {},
   "source": [
    "There jaccard is close yet the ended up in different clusters. Something is off with the splitting algorithm."
   ]
  },
  {
   "cell_type": "code",
   "execution_count": 69,
   "id": "e5ce62ff-5691-4555-ac7b-5fa1a70130a2",
   "metadata": {},
   "outputs": [
    {
     "data": {
      "text/plain": [
       "[-19692, -25913, -2496]"
      ]
     },
     "execution_count": 69,
     "metadata": {},
     "output_type": "execute_result"
    }
   ],
   "source": [
    "ds['cluster']"
   ]
  },
  {
   "cell_type": "markdown",
   "id": "0e08731f-35d9-46de-be77-3ece8a26218b",
   "metadata": {},
   "source": [
    "Yeah.... they have different clusters even though they are teh same input sequence."
   ]
  },
  {
   "cell_type": "code",
   "execution_count": 70,
   "id": "b7fec91a-706e-41e1-8d02-cad587ee695a",
   "metadata": {},
   "outputs": [
    {
     "data": {
      "text/plain": [
       "['MTEGARILVVDDEHYLADLAANALRRAGFQAEVAGTGGAALAVGLSRRPDLLVLDLRLAKGPGGSLADQLRRFGCSIPVLFLLGRDATQQDKITGLSVPGADYLGKPFSLGELVARCRAALRRSTGAGSPLLSCAGLRLDEDAHLVLRDETRVDLSPTEFRLLRHLLTHQNRVLTKQHILDHVWEYDYAGEDSVVPTYISYLRRKVDARREPMIHTIPRTGYVLRPPTPPAGPS',\n",
       " 'MTEGARILVVDDEHYLADLAANALRRAGFQAEVAGTGGAALAVGLSRRPDLLVLDLRLAKGPGGSLADQLRRFGCSIPVLFLLGRDATQQDKITGLSVPGADYLGKPFSLGELVARCRAALRRSTGAGSPLLSCAGLRLDEDAHLVLRDETRVDLSPTEFRLLRHLLTHQNRVLTKQHILDHVWEYDYAGEDSVVPTYISYLRRKVDARREPMIHTIPRTGYVLRPPTPPAGPS',\n",
       " 'MTEGARILVVDDEHYLADLAANALRRAGFQAEVAGTGGAALAVGLSRRPDLLVLDLRLAKGPGGSLADQLRRFGCSIPVLFLLGRDATQQDKITGLSVPGADYLGKPFSLGELVARCRAALRRSTGAGSPLLSCAGLRLDEDAHLVLRDETRVDLSPTEFRLLRHLLTHQNRVLTKQHILDHVWEYDYAGEDSVVPTYISYLRRKVDARREPMIHTIPRTGYVLRPPTPPAGPS']"
      ]
     },
     "execution_count": 70,
     "metadata": {},
     "output_type": "execute_result"
    }
   ],
   "source": [
    "ds['meso_seq']"
   ]
  },
  {
   "cell_type": "markdown",
   "id": "f548c28e-f755-449b-96de-ae70433b2bbf",
   "metadata": {},
   "source": [
    "### get structure predictions"
   ]
  },
  {
   "cell_type": "code",
   "execution_count": 14,
   "id": "d1563f4f-cc80-4932-94c9-096bf5fc4ee2",
   "metadata": {},
   "outputs": [
    {
     "name": "stdout",
     "output_type": "stream",
     "text": [
      "[2023-09-22 14:07:02,849] [INFO] [real_accelerator.py:133:get_accelerator] Setting ds_accelerator to cuda (auto detect)\n"
     ]
    },
    {
     "name": "stderr",
     "output_type": "stream",
     "text": [
      "2023-09-22 14:07:21.622733: I tensorflow/core/platform/cpu_feature_guard.cc:193] This TensorFlow binary is optimized with oneAPI Deep Neural Network Library (oneDNN) to use the following CPU instructions in performance-critical operations:  SSE4.1 SSE4.2 AVX AVX2 AVX512F AVX512_VNNI FMA\n",
      "To enable them in other operations, rebuild TensorFlow with the appropriate compiler flags.\n",
      "2023-09-22 14:07:23.041900: I tensorflow/core/util/port.cc:104] oneDNN custom operations are on. You may see slightly different numerical results due to floating-point round-off errors from different computation orders. To turn them off, set the environment variable `TF_ENABLE_ONEDNN_OPTS=0`.\n"
     ]
    }
   ],
   "source": [
    "ESMFOLD = esm.pretrained.esmfold_v1().eval()"
   ]
  },
  {
   "cell_type": "code",
   "execution_count": 15,
   "id": "bdaa1083-110e-4c4d-b7e8-337d31bb8cad",
   "metadata": {},
   "outputs": [],
   "source": [
    "ESMFOLD = ESMFOLD.cuda()"
   ]
  },
  {
   "cell_type": "code",
   "execution_count": 17,
   "id": "89448c5e-a668-44ea-9cc8-84190ff7546d",
   "metadata": {},
   "outputs": [],
   "source": [
    "def esm_one_struc(name, sequence):\n",
    "    if not os.path.exists('./tmp/esmfold_predicts/'):\n",
    "        os.makedirs('./tmp/esmfold_predicts/')\n",
    "\n",
    "    if os.path.exists(f\"./tmp/esmfold_predicts/{name}.pdb\"):\n",
    "        pass\n",
    "    else:\n",
    "        with torch.no_grad():\n",
    "            output = ESMFOLD.infer_pdb(sequence)\n",
    "        \n",
    "        with open(f\"./tmp/esmfold_predicts/{name}.pdb\", \"w\") as f:\n",
    "            f.write(output)\n",
    "    return f\"./tmp/esmfold_predicts/{name}.pdb\""
   ]
  },
  {
   "cell_type": "code",
   "execution_count": 18,
   "id": "e85ef273-1606-48c5-80d7-bf8d2b8e2616",
   "metadata": {},
   "outputs": [],
   "source": [
    "structs_to_run = {\n",
    "    f'thermo_{i}': t for i, t in enumerate(thermo_seqs)\n",
    "}\n",
    "structs_to_run['meso'] = mesoseq\n",
    "structs_to_run['trans'] = translated_seq"
   ]
  },
  {
   "cell_type": "code",
   "execution_count": 19,
   "id": "36d378eb-4634-4e53-8dc3-8cfb97040936",
   "metadata": {},
   "outputs": [],
   "source": [
    "files = {}\n",
    "for name, seq in structs_to_run.items():\n",
    "    files[name] = esm_one_struc(name, seq)"
   ]
  },
  {
   "cell_type": "code",
   "execution_count": 20,
   "id": "de2ace33-7cb3-475e-87c7-cf97cc898f56",
   "metadata": {},
   "outputs": [
    {
     "data": {
      "text/plain": [
       "{'thermo_0': './tmp/esmfold_predicts/thermo_0.pdb',\n",
       " 'thermo_1': './tmp/esmfold_predicts/thermo_1.pdb',\n",
       " 'thermo_2': './tmp/esmfold_predicts/thermo_2.pdb',\n",
       " 'meso': './tmp/esmfold_predicts/meso.pdb',\n",
       " 'trans': './tmp/esmfold_predicts/trans.pdb'}"
      ]
     },
     "execution_count": 20,
     "metadata": {},
     "output_type": "execute_result"
    }
   ],
   "source": [
    "files"
   ]
  },
  {
   "cell_type": "markdown",
   "id": "e19cefb7-a366-4bb9-b46b-bc351d15e7fd",
   "metadata": {},
   "source": [
    "### View structures"
   ]
  },
  {
   "cell_type": "code",
   "execution_count": 21,
   "id": "aa524999-7774-4eeb-8ac6-75d81251d70b",
   "metadata": {},
   "outputs": [],
   "source": [
    "from nomelt.thermo_estimation.optimizer import OptTrajSuperimposer"
   ]
  },
  {
   "cell_type": "code",
   "execution_count": 22,
   "id": "a0f4b9b4-041c-418b-94ee-de793d25723e",
   "metadata": {},
   "outputs": [],
   "source": [
    "imposer = OptTrajSuperimposer(list(structs_to_run.values()), list(files.values()), values=range(len(files)))"
   ]
  },
  {
   "cell_type": "code",
   "execution_count": 23,
   "id": "c2833c5d-8b2f-4c21-9f2b-cfbd653f4447",
   "metadata": {
    "scrolled": true
   },
   "outputs": [
    {
     "data": {
      "text/plain": [
       "['__class__',\n",
       " '__delattr__',\n",
       " '__dict__',\n",
       " '__dir__',\n",
       " '__doc__',\n",
       " '__eq__',\n",
       " '__format__',\n",
       " '__ge__',\n",
       " '__getattribute__',\n",
       " '__gt__',\n",
       " '__hash__',\n",
       " '__init__',\n",
       " '__init_subclass__',\n",
       " '__le__',\n",
       " '__lt__',\n",
       " '__module__',\n",
       " '__ne__',\n",
       " '__new__',\n",
       " '__reduce__',\n",
       " '__reduce_ex__',\n",
       " '__repr__',\n",
       " '__setattr__',\n",
       " '__sizeof__',\n",
       " '__str__',\n",
       " '__subclasshook__',\n",
       " '__weakref__',\n",
       " '_make_movie',\n",
       " '_parse_universes',\n",
       " '_run_vmd_script',\n",
       " '_save_trajectory',\n",
       " '_superimpose_one',\n",
       " '_vmd_script_single',\n",
       " 'make_optimization_movie',\n",
       " 'output_dir',\n",
       " 'output_files',\n",
       " 'ref_struct',\n",
       " 'run',\n",
       " 'sequences',\n",
       " 'structure_files',\n",
       " 'temp_dir',\n",
       " 'universes',\n",
       " 'values']"
      ]
     },
     "execution_count": 23,
     "metadata": {},
     "output_type": "execute_result"
    }
   ],
   "source": [
    "dir(imposer)"
   ]
  },
  {
   "cell_type": "code",
   "execution_count": 26,
   "id": "b56787cb-4497-4149-8790-9bcda97231db",
   "metadata": {},
   "outputs": [
    {
     "name": "stderr",
     "output_type": "stream",
     "text": [
      "/mmfs1/gscratch/cheme/usr/evankomp/mamba/mambaforge/envs/nomelt2/lib/python3.9/site-packages/MDAnalysis/coordinates/PDB.py:775: UserWarning: Unit cell dimensions not found. CRYST1 record set to unitary values.\n",
      "  warnings.warn(\"Unit cell dimensions not found. \"\n",
      "/mmfs1/gscratch/cheme/usr/evankomp/mamba/mambaforge/envs/nomelt2/lib/python3.9/site-packages/MDAnalysis/coordinates/PDB.py:1151: UserWarning: Found no information for attr: 'formalcharges' Using default value of '0'\n",
      "  warnings.warn(\"Found no information for attr: '{}'\"\n"
     ]
    }
   ],
   "source": [
    "imposed_files = imposer.run()"
   ]
  },
  {
   "cell_type": "code",
   "execution_count": 27,
   "id": "7f46b6c1-35c4-40cb-bbf8-522dfdd22e36",
   "metadata": {},
   "outputs": [
    {
     "name": "stderr",
     "output_type": "stream",
     "text": [
      "/mmfs1/gscratch/cheme/usr/evankomp/mamba/mambaforge/envs/nomelt2/lib/python3.9/site-packages/Bio/PDB/PDBParser.py:395: PDBConstructionWarning: Ignoring unrecognized record 'END' at line 1844\n",
      "  warnings.warn(\n",
      "/mmfs1/gscratch/cheme/usr/evankomp/mamba/mambaforge/envs/nomelt2/lib/python3.9/site-packages/Bio/PDB/PDBParser.py:395: PDBConstructionWarning: Ignoring unrecognized record 'END' at line 1865\n",
      "  warnings.warn(\n",
      "/mmfs1/gscratch/cheme/usr/evankomp/mamba/mambaforge/envs/nomelt2/lib/python3.9/site-packages/Bio/PDB/PDBParser.py:395: PDBConstructionWarning: Ignoring unrecognized record 'END' at line 1872\n",
      "  warnings.warn(\n",
      "/mmfs1/gscratch/cheme/usr/evankomp/mamba/mambaforge/envs/nomelt2/lib/python3.9/site-packages/Bio/PDB/PDBParser.py:395: PDBConstructionWarning: Ignoring unrecognized record 'END' at line 1811\n",
      "  warnings.warn(\n",
      "/mmfs1/gscratch/cheme/usr/evankomp/mamba/mambaforge/envs/nomelt2/lib/python3.9/site-packages/Bio/PDB/PDBParser.py:395: PDBConstructionWarning: Ignoring unrecognized record 'END' at line 1868\n",
      "  warnings.warn(\n"
     ]
    }
   ],
   "source": [
    "structures = {name: parser.get_structure(i, imposed_files[i]) for i, name in enumerate(files.keys())}"
   ]
  },
  {
   "cell_type": "code",
   "execution_count": 28,
   "id": "959159dc-e0a4-484c-b019-671df8185dc9",
   "metadata": {},
   "outputs": [
    {
     "data": {
      "text/plain": [
       "{'thermo_0': <Structure id=0>,\n",
       " 'thermo_1': <Structure id=1>,\n",
       " 'thermo_2': <Structure id=2>,\n",
       " 'meso': <Structure id=3>,\n",
       " 'trans': <Structure id=4>}"
      ]
     },
     "execution_count": 28,
     "metadata": {},
     "output_type": "execute_result"
    }
   ],
   "source": [
    "structures"
   ]
  },
  {
   "cell_type": "code",
   "execution_count": 76,
   "id": "45eb36c6-1162-42ec-907b-e2ab921ee2a5",
   "metadata": {},
   "outputs": [],
   "source": [
    "view = nv.NGLWidget(gui=True)"
   ]
  },
  {
   "cell_type": "code",
   "execution_count": 77,
   "id": "eb7ae86d-d083-4910-ac6d-b55169c11212",
   "metadata": {},
   "outputs": [],
   "source": [
    "components = {k: view.add_component(nv.BiopythonStructure(v)) for k, v in structures.items()}"
   ]
  },
  {
   "cell_type": "code",
   "execution_count": 78,
   "id": "daf14041-f38b-4890-ba3e-2464ad393f98",
   "metadata": {},
   "outputs": [],
   "source": [
    "for c in components.values():\n",
    "    c.remove_cartoon()"
   ]
  },
  {
   "cell_type": "code",
   "execution_count": 79,
   "id": "196721ae-8bf3-4145-afc0-353a3a72a6a1",
   "metadata": {},
   "outputs": [],
   "source": [
    "# components['meso'].add_representation('cartoon', color='#CCF5FF')\n",
    "components['thermo_0'].add_representation('cartoon', color='#FFD6D6')\n",
    "components['thermo_1'].add_representation('cartoon', color='#FFD6D6')\n",
    "components['thermo_2'].add_representation('cartoon', color='#FFD6D6')\n",
    "components['trans'].add_representation('cartoon', color='#C890FF', )"
   ]
  },
  {
   "cell_type": "code",
   "execution_count": 80,
   "id": "779df58c-9102-4b71-8c74-edf21ec28a2f",
   "metadata": {},
   "outputs": [
    {
     "data": {
      "application/vnd.jupyter.widget-view+json": {
       "model_id": "912000ce255d4876ae570df76bbb048c",
       "version_major": 2,
       "version_minor": 0
      },
      "text/plain": [
       "NGLWidget()"
      ]
     },
     "metadata": {},
     "output_type": "display_data"
    },
    {
     "data": {
      "application/vnd.jupyter.widget-view+json": {
       "model_id": "60a377107e454d1eab1821688fe1a80f",
       "version_major": 2,
       "version_minor": 0
      },
      "text/plain": [
       "Tab(children=(Box(children=(Box(children=(Box(children=(Label(value='step'), IntSlider(value=1, min=-100)), la…"
      ]
     },
     "metadata": {},
     "output_type": "display_data"
    }
   ],
   "source": [
    "view"
   ]
  },
  {
   "cell_type": "code",
   "execution_count": 81,
   "id": "775e7ccf-9e80-481c-a40a-7759384868bf",
   "metadata": {},
   "outputs": [],
   "source": [
    "import time\n",
    "def save_image(view, name):\n",
    "    img = view.render_image()\n",
    "    \n",
    "    while not img.value:\n",
    "        time.sleep(0.1)\n",
    "    \n",
    "    with open(f\"./tmp/{name}.png\", \"wb\") as f:\n",
    "        f.write(img.value)\n",
    "\n",
    "\n",
    "thread = threading.Thread(target=save_image, args=(view, 'thermo_superimposed'), daemon=False)\n",
    "thread.start()"
   ]
  },
  {
   "cell_type": "code",
   "execution_count": 82,
   "id": "da8f395d-f1b8-4910-a0f6-d8cf2951cc66",
   "metadata": {},
   "outputs": [
    {
     "data": {
      "application/vnd.jupyter.widget-view+json": {
       "model_id": "fb47f52f67484d71b932be155dfcd0f5",
       "version_major": 2,
       "version_minor": 0
      },
      "text/plain": [
       "NGLWidget()"
      ]
     },
     "metadata": {},
     "output_type": "display_data"
    },
    {
     "data": {
      "application/vnd.jupyter.widget-view+json": {
       "model_id": "6d2d4568e28f4545aa8d3fcbf29281b0",
       "version_major": 2,
       "version_minor": 0
      },
      "text/plain": [
       "Tab(children=(Box(children=(Box(children=(Box(children=(Label(value='step'), IntSlider(value=1, min=-100)), la…"
      ]
     },
     "metadata": {},
     "output_type": "display_data"
    }
   ],
   "source": [
    "view = nv.NGLWidget(gui=True)\n",
    "components = {k: view.add_component(nv.BiopythonStructure(v)) for k, v in structures.items()}\n",
    "for c in components.values():\n",
    "    c.remove_cartoon()\n",
    "components['meso'].add_representation('cartoon', color='#CCF5FF')\n",
    "components['trans'].add_representation('cartoon', color='#C890FF', )\n",
    "view"
   ]
  },
  {
   "cell_type": "code",
   "execution_count": 83,
   "id": "db5284ed-d2ff-4cfd-8dfc-c7990f967f11",
   "metadata": {},
   "outputs": [],
   "source": [
    "thread = threading.Thread(target=save_image, args=(view, 'meso_trans'), daemon=False)\n",
    "thread.start()"
   ]
  },
  {
   "cell_type": "code",
   "execution_count": 85,
   "id": "b549ed14-a639-4f74-a219-c1a96ab6ef32",
   "metadata": {},
   "outputs": [
    {
     "data": {
      "application/vnd.jupyter.widget-view+json": {
       "model_id": "0565a905f0594f049b72e1802ec6f89e",
       "version_major": 2,
       "version_minor": 0
      },
      "text/plain": [
       "NGLWidget()"
      ]
     },
     "metadata": {},
     "output_type": "display_data"
    },
    {
     "data": {
      "application/vnd.jupyter.widget-view+json": {
       "model_id": "8e2dbf17bef04e96b68ad6205ecfdec3",
       "version_major": 2,
       "version_minor": 0
      },
      "text/plain": [
       "Tab(children=(Box(children=(Box(children=(Box(children=(Label(value='step'), IntSlider(value=1, min=-100)), la…"
      ]
     },
     "metadata": {},
     "output_type": "display_data"
    }
   ],
   "source": [
    "view = nv.NGLWidget(gui=True)\n",
    "view.add_component(nv.BiopythonStructure(structures['meso']))\n",
    "view"
   ]
  },
  {
   "cell_type": "code",
   "execution_count": 86,
   "id": "c0ffa83d-91ec-4640-9744-c8602898edfd",
   "metadata": {},
   "outputs": [],
   "source": [
    "thread = threading.Thread(target=save_image, args=(view, 'meso'), daemon=False)\n",
    "thread.start()"
   ]
  },
  {
   "cell_type": "code",
   "execution_count": 87,
   "id": "1cbe653f-cce5-494c-95a0-e094efa07376",
   "metadata": {},
   "outputs": [
    {
     "data": {
      "application/vnd.jupyter.widget-view+json": {
       "model_id": "bc83a78af3fa4904ab278fcf4fa8acd8",
       "version_major": 2,
       "version_minor": 0
      },
      "text/plain": [
       "NGLWidget()"
      ]
     },
     "metadata": {},
     "output_type": "display_data"
    },
    {
     "data": {
      "application/vnd.jupyter.widget-view+json": {
       "model_id": "2221a2e2a8bd434f948cdf12d9e4da58",
       "version_major": 2,
       "version_minor": 0
      },
      "text/plain": [
       "Tab(children=(Box(children=(Box(children=(Box(children=(Label(value='step'), IntSlider(value=1, min=-100)), la…"
      ]
     },
     "metadata": {},
     "output_type": "display_data"
    }
   ],
   "source": [
    "view = nv.NGLWidget(gui=True)\n",
    "view.add_component(nv.BiopythonStructure(structures['trans']))\n",
    "view"
   ]
  },
  {
   "cell_type": "code",
   "execution_count": 93,
   "id": "b98320a5-7e50-4c23-8d74-a292e7711f39",
   "metadata": {},
   "outputs": [],
   "source": [
    "thread = threading.Thread(target=save_image, args=(view, 'trans'), daemon=False)\n",
    "thread.start()"
   ]
  },
  {
   "cell_type": "code",
   "execution_count": 89,
   "id": "8fc1e5b1-38fc-4f1e-b6e5-2eb4d9442487",
   "metadata": {},
   "outputs": [
    {
     "data": {
      "text/plain": [
       "'MTEGARILVVDDEHYLADLAANALRRAGFQAEVAGTGGAALAVGLSRRPDLLVLDLRLAKGPGGSLADQLRRFGCSIPVLFLLGRDATQQDKITGLSVPGADYLGKPFSLGELVARCRAALRRSTGAGSPLLSCAGLRLDEDAHLVLRDETRVDLSPTEFRLLRHLLTHQNRVLTKQHILDHVWEYDYAGEDSVVPTYISYLRRKVDARREPMIHTIPRTGYVLRPPTPPAGPS'"
      ]
     },
     "execution_count": 89,
     "metadata": {},
     "output_type": "execute_result"
    }
   ],
   "source": [
    "mesoseq"
   ]
  },
  {
   "cell_type": "code",
   "execution_count": 90,
   "id": "7eaea63f-fec1-4a6b-970b-3d0728fa023e",
   "metadata": {},
   "outputs": [
    {
     "data": {
      "text/plain": [
       "['MEKLLIIDDEEMFVKGLKLSLEEEGFEVDAAYDGEEGLDKVRLGNYDLVILDIMLPKLDGFSVCREIRTFSNIPIIMLTARGDDIDKIVGIEIGADDYLAKPFNTRELTARIRALLRRATNPYTKRKDEIRRGELYINIPERAVYKRGKRIELTNKEFEILVLLASNPGKVYTKDKLLDLIWGFDFYGDTNTVTVHVRKLREKIEDDPANPQYIFTKWGAGYYMK',\n",
       " 'MNKKILVVDDEKPIADILKFNLEKEGFEVTTAYDGESAVNKTLEDQPDLVLLDIMLPKKDGFQVLREIRKKLQIPILMLTAKEEEVDKVLGLELGADDYITKPFSIRELIARVKANLRRAEISLVNGNELIVSDSLVIDLNKYEVKKGNTIIELTLREFELLKFLATRAGQVFSREKLLEEVWGYEYYGDIRTVDVTIRRLREKVEDDSSNPKYVLTKRGVGYYFRRS',\n",
       " 'MANKILIVDDEPLLVKGLKYSLEQDGYTVDAAYDGKEALDKFEKDDFDLIILDLMLPSIDGLEVCQKIRQKSQVPIIMLTAKGEDISKILGLEYGADDYLTKPFNILELKARIKAILRRVNTSETKIGEQVIKMDDFTINTLGRKVIAKDKEINLTAKEFDLLLLLASNPGKVFSREELLKIIWGYEYFGDLRTVDVHIRRLREKIEKNSSQPEYILTKWGVGYYFRNKT']"
      ]
     },
     "execution_count": 90,
     "metadata": {},
     "output_type": "execute_result"
    }
   ],
   "source": [
    "thermo_seqs"
   ]
  },
  {
   "cell_type": "code",
   "execution_count": null,
   "id": "aec5d78e-5faf-475d-825b-2ac517590529",
   "metadata": {},
   "outputs": [],
   "source": []
  }
 ],
 "metadata": {
  "kernelspec": {
   "display_name": "Python 3 (ipykernel)",
   "language": "python",
   "name": "python3"
  },
  "language_info": {
   "codemirror_mode": {
    "name": "ipython",
    "version": 3
   },
   "file_extension": ".py",
   "mimetype": "text/x-python",
   "name": "python",
   "nbconvert_exporter": "python",
   "pygments_lexer": "ipython3",
   "version": "3.9.18"
  }
 },
 "nbformat": 4,
 "nbformat_minor": 5
}
