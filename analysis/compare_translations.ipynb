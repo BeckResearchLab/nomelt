{
 "cells": [
  {
   "cell_type": "markdown",
   "id": "dce76f94-932d-4b73-a93a-b75dd1e731b8",
   "metadata": {},
   "source": [
    "##"
   ]
  },
  {
   "cell_type": "code",
   "execution_count": null,
   "id": "bfa5bed0-e5c2-4b0f-97c7-5bd3c1264acc",
   "metadata": {},
   "outputs": [],
   "source": []
  },
  {
   "cell_type": "markdown",
   "id": "5b4edac5-3092-403e-9b23-dd5bb6fcc90e",
   "metadata": {},
   "source": [
    "# Assess the structural overlap of actual pairs vs translations"
   ]
  },
  {
   "cell_type": "code",
   "execution_count": 1,
   "id": "762f9c59-f1c6-4b8d-b9d2-aba87c2cdb40",
   "metadata": {},
   "outputs": [],
   "source": [
    "import datasets\n",
    "from nomelt.translate import translate_sequences\n",
    "import torch\n",
    "import esm\n",
    "import os\n",
    "import copy\n",
    "from tqdm import tqdm\n",
    "\n",
    "import Bio.pairwise2 as pairwise2\n",
    "import biotite.structure.io as bsio"
   ]
  },
  {
   "cell_type": "code",
   "execution_count": 2,
   "id": "3bc06605-53f2-46db-b192-749b8c88109f",
   "metadata": {},
   "outputs": [
    {
     "data": {
      "application/vnd.jupyter.widget-view+json": {
       "model_id": "f759709f9f12410cbb3fd2011d35c85d",
       "version_major": 2,
       "version_minor": 0
      },
      "text/plain": []
     },
     "metadata": {},
     "output_type": "display_data"
    }
   ],
   "source": [
    "from Bio.PDB import *\n",
    "import nglview as nv\n",
    "import ipywidgets"
   ]
  },
  {
   "cell_type": "code",
   "execution_count": 3,
   "id": "a2d84672-1c1d-48a8-8c71-070d81cba363",
   "metadata": {},
   "outputs": [],
   "source": [
    "from Bio.Align import substitution_matrices"
   ]
  },
  {
   "cell_type": "code",
   "execution_count": 4,
   "id": "e96352c8-fdcf-4c37-ba0e-a1de543bc02f",
   "metadata": {},
   "outputs": [],
   "source": [
    "import datasets\n",
    "import numpy"
   ]
  },
  {
   "cell_type": "code",
   "execution_count": 5,
   "id": "bda5b517-2e7c-49cf-b82f-f55fbdd35046",
   "metadata": {},
   "outputs": [],
   "source": [
    "mat = substitution_matrices.load('BLOSUM62')"
   ]
  },
  {
   "cell_type": "code",
   "execution_count": 6,
   "id": "37ae3da8-e3ad-4149-9cf9-ea65cd7ce0f4",
   "metadata": {},
   "outputs": [],
   "source": [
    "parser = PDBParser()"
   ]
  },
  {
   "cell_type": "code",
   "execution_count": 7,
   "id": "61109b35-5fb4-47f2-a046-98bbbbf2fd6b",
   "metadata": {},
   "outputs": [
    {
     "data": {
      "text/plain": [
       "True"
      ]
     },
     "execution_count": 7,
     "metadata": {},
     "output_type": "execute_result"
    }
   ],
   "source": [
    "torch.cuda.is_available()"
   ]
  },
  {
   "cell_type": "code",
   "execution_count": 8,
   "id": "66db168c-c0c8-457c-98c1-e1b811a7498d",
   "metadata": {},
   "outputs": [
    {
     "name": "stdout",
     "output_type": "stream",
     "text": [
      "[2023-08-18 12:57:39,503] [INFO] [real_accelerator.py:133:get_accelerator] Setting ds_accelerator to cuda (auto detect)\n"
     ]
    },
    {
     "name": "stderr",
     "output_type": "stream",
     "text": [
      "2023-08-18 12:57:50.086650: I tensorflow/core/platform/cpu_feature_guard.cc:193] This TensorFlow binary is optimized with oneAPI Deep Neural Network Library (oneDNN) to use the following CPU instructions in performance-critical operations:  SSE4.1 SSE4.2 AVX AVX2 AVX512F AVX512_VNNI FMA\n",
      "To enable them in other operations, rebuild TensorFlow with the appropriate compiler flags.\n",
      "2023-08-18 12:57:51.613166: I tensorflow/core/util/port.cc:104] oneDNN custom operations are on. You may see slightly different numerical results due to floating-point round-off errors from different computation orders. To turn them off, set the environment variable `TF_ENABLE_ONEDNN_OPTS=0`.\n"
     ]
    }
   ],
   "source": [
    "ESMFOLD = esm.pretrained.esmfold_v1().eval()"
   ]
  },
  {
   "cell_type": "code",
   "execution_count": 9,
   "id": "ea83f365-f111-4c86-8827-86a4b5bb0392",
   "metadata": {},
   "outputs": [],
   "source": [
    "def get_structures(sequences, ids, dir='./tmp/esm', gpu_id=None):\n",
    "    \n",
    "    if gpu_id is None:\n",
    "        device='cuda'\n",
    "    else:\n",
    "        device=f'cuda:{gpu_id}'\n",
    "\n",
    "    if not os.path.exists(dir):\n",
    "        os.makedirs(dir)\n",
    "\n",
    "\n",
    "    local_model = copy.deepcopy(ESMFOLD)\n",
    "    local_model.to(device)\n",
    "\n",
    "    pdb_outputs = {}\n",
    "    \n",
    "    with torch.no_grad():\n",
    "        for pos in tqdm(range(0, len(sequences), 4)):\n",
    "            batch_sequences = sequences[pos:pos + 4]\n",
    "            batch_ids = ids[pos:pos + 4]\n",
    "            \n",
    "            outputs = local_model.infer(batch_sequences)\n",
    "            \n",
    "            # Convert outputs to pdb and save them immediately for the current batch\n",
    "            batch_pdb_list = local_model.output_to_pdb(outputs)\n",
    "            for seq_id, pdb_data in zip(batch_ids, batch_pdb_list):\n",
    "                pdb_filename = os.path.join(dir, f\"{seq_id}.pdb\")\n",
    "                with open(pdb_filename, \"w\") as f:\n",
    "                    f.write(pdb_data)\n",
    "                pdb_outputs[seq_id] = pdb_filename\n",
    "    del local_model\n",
    "    return pdb_outputs"
   ]
  },
  {
   "cell_type": "markdown",
   "id": "611e0a9f-2f2f-4ec7-aa86-9855a890f400",
   "metadata": {},
   "source": [
    "## translate a training example"
   ]
  },
  {
   "cell_type": "code",
   "execution_count": 10,
   "id": "f552584a-1db8-4115-8218-e16860a6e223",
   "metadata": {},
   "outputs": [],
   "source": [
    "dataset = datasets.load_from_disk('../data/dataset')"
   ]
  },
  {
   "cell_type": "code",
   "execution_count": 11,
   "id": "6cc7e7f0-8c63-44ae-a801-69f244c0b905",
   "metadata": {},
   "outputs": [],
   "source": [
    "train_example = dataset['train'].select([numpy.random.randint(len(dataset['train']))])[0]"
   ]
  },
  {
   "cell_type": "code",
   "execution_count": 12,
   "id": "4f817463-a1d3-476b-9816-194fc5fc11d4",
   "metadata": {},
   "outputs": [],
   "source": [
    "meso=train_example['meso_seq']\n",
    "# thermo=train_example['thermo_seq']"
   ]
  },
  {
   "cell_type": "code",
   "execution_count": null,
   "id": "d13d248b-173e-4152-b95e-8f9d45fde188",
   "metadata": {},
   "outputs": [],
   "source": [
    "meso"
   ]
  },
  {
   "cell_type": "code",
   "execution_count": 20,
   "id": "8dd1ad6e-64cb-4b03-93d7-c4c51edb755c",
   "metadata": {},
   "outputs": [],
   "source": [
    "translation = translate_sequences([meso], model_path='../data/nomelt-model/model')"
   ]
  },
  {
   "cell_type": "code",
   "execution_count": 21,
   "id": "e94fe5c6-a3c5-4356-a1d9-e72aff310639",
   "metadata": {},
   "outputs": [
    {
     "data": {
      "text/plain": [
       "array([['MSKAHILVVDDEKPIVDIIKFNLEKEGYKVTASYDGEDALNRIKNENFDMVLLDVMLPKLDGFSVCKKVREFSDVPIIMITAKADEVDKVLGLELGADDYITKPFGIRELIARIRANLRRTAQSAAQDGKVLKAGNLTLNPETFEVKKDGKVIELTVREYELLKFLMSQKGQVFSREELLEKVWDYEYYGDVRTVDVTVRRLREKIEDNPSEPNFILTKRGIGYYFNPNI']],\n",
       "      dtype='<U230')"
      ]
     },
     "execution_count": 21,
     "metadata": {},
     "output_type": "execute_result"
    }
   ],
   "source": [
    "translation[0][0]"
   ]
  },
  {
   "cell_type": "markdown",
   "id": "4a71f4fa-e2bb-4114-9eef-380905548467",
   "metadata": {},
   "source": [
    "### true alignment"
   ]
  },
  {
   "cell_type": "code",
   "execution_count": 17,
   "id": "61a1f9dc-472f-4ae8-832e-a02f77604df6",
   "metadata": {},
   "outputs": [],
   "source": [
    "alignment = pairwise2.align.globalds(meso, thermo, mat, -2,-1, one_alignment_only=True, penalize_extend_when_opening=False, penalize_end_gaps=False)"
   ]
  },
  {
   "cell_type": "code",
   "execution_count": 18,
   "id": "7bd438a2-5671-4c27-9411-0c5f09447b61",
   "metadata": {},
   "outputs": [
    {
     "name": "stdout",
     "output_type": "stream",
     "text": [
      "MRLLLLED--DI-T-LGEGL-RDYLRSDGYL-VDWCSNLAQAR-AL-IS-E-PYD-AWLLDWNLPDG-SGIDWL-RSLRAKGLR-VPALLLTARDRLSD-RIEGLDSGADDFLVKPFAPEELSARLRAISRRVAG-S--ALRKAFGPVEIDLNAKAAWFEGQGVELTAREWGILEALVLRAGRIVSKADL-EALVL-GFDSELASNST-EVHVFKLRSKL---GKAL--IETVRGLGYRI-----PAA\n",
      "||.|..||  .. . |.|.| |   |  | | ||  .. ...| .| .. | ||| | ..|..|||  .|.. | |.|||.. | .|.|.||||.|. | ...||..||||.|||||..|||.|||.|..||.|| |  .||  .||.|.|..|.....||..|||||.|...||.||||||...||..| |.|.. .||..  || | ||.|..||.||   |. |  |||.||.|||.     || \n",
      "MRVLVVEDEPELRARLVEALGR---R--G-LAVD--AT-GEGREGLFLAREIPYDVA-VVDLGLPD-LDGLE-LIRTLRAED-RPLPVLILTARGRW-DEKVAGLEAGADDYLVKPFHMEELVARLNALVRRAAGWSDPVLR--VGPLEVDTRAQRVRVEGREVELTAFEYRLLEQLVLRAGEVLSKSELTEHLYAQDFDRD--SN-TIEVFVARLRRKLDPEGR-LRPIETLRGQGYRLAWRREPA-\n",
      "  Score=501\n",
      "\n"
     ]
    }
   ],
   "source": [
    "print(pairwise2.format_alignment(*alignment[0], full_sequences=True))"
   ]
  },
  {
   "cell_type": "code",
   "execution_count": 23,
   "id": "033fba3b-578f-4225-8076-51b76fdf8e4a",
   "metadata": {},
   "outputs": [],
   "source": [
    "alignment = pairwise2.align.globalds(meso, translation[0][0], mat, -2,-1, one_alignment_only=True, penalize_extend_when_opening=False, penalize_end_gaps=False)"
   ]
  },
  {
   "cell_type": "code",
   "execution_count": 24,
   "id": "5f1c5911-f90d-459e-b38f-34b4c9efdab0",
   "metadata": {},
   "outputs": [
    {
     "name": "stdout",
     "output_type": "stream",
     "text": [
      "M-R--LLLLED-----DI---TLG-EGLRDY-LR-S-DGYLVDWCS-NLAQARALI-SEPYDAWLLDWNLP--DG-SGIDWLRSLRAKGLR-VPALLLTAR-DRLSDRIEGLDSGADDFLVKPFAPEELSARLRA-ISRRVA------GSALRKAFGPVEIDLNAKAAWFE----GQGV-ELTAREWGILEALVLRAGRIVSKADL-EALVLGFDSELASN-ST-EVHVFKLRSKL----GKA-LIETVRGLGYRI-PAA--\n",
      "| .  .|...|     ||   .|. ||   | .. | ||  .|  . |    |  | .|..|..|||..||  || | .  ....| . .. ||....||. |.. |...||..||||...|||...||.||.|| . ||.|      |..| || |  ...||...  ||    |. | |||.||...|..|....|...|...| |. |  .|.|.... .| .|.|..||.|.    ... .|.|.||.||.. |    \n",
      "MSKAHILVVDDEKPIVDIIKFNLEKEG---YKVTASYDG--ED--ALN----R--IKNENFDMVLLDVMLPKLDGFS-V--CKKVR-E-FSDVPIIMITAKADEV-DKVLGLELGADDYITKPFGIRELIARIRANL-RRTAQSAAQDGKVL-KA-G--NLTLNPET--FEVKKDGK-VIELTVREYELLKFLMSQKGQVFSREELLEK-V--WDYEYYGDVRTVDVTVRRLREKIEDNPSEPNFILTKRGIGYYFNP--NI\n",
      "  Score=351\n",
      "\n"
     ]
    }
   ],
   "source": [
    "print(pairwise2.format_alignment(*alignment[0], full_sequences=True))"
   ]
  },
  {
   "cell_type": "markdown",
   "id": "0a2ea9ef-2b42-48da-bfbc-1a4256fa1d27",
   "metadata": {},
   "source": [
    "### structure differences"
   ]
  },
  {
   "cell_type": "code",
   "execution_count": 43,
   "id": "9dc17e8a-b932-4237-974a-0b65943c5d03",
   "metadata": {},
   "outputs": [
    {
     "name": "stderr",
     "output_type": "stream",
     "text": [
      "100%|█████████████████████████████████████████████████████████████████████████████████████████████████████████████████████████████████████████████████| 1/1 [00:14<00:00, 14.37s/it]\n"
     ]
    }
   ],
   "source": [
    "# predict structures\n",
    "structures = get_structures([meso, thermo, translation[0][0]], ['meso_training', 'thermo_training', 'trans_training'])"
   ]
  },
  {
   "cell_type": "code",
   "execution_count": 44,
   "id": "26e115bf-8bca-43b5-a13c-0701e66e374c",
   "metadata": {},
   "outputs": [
    {
     "data": {
      "text/plain": [
       "{'meso_training': './tmp/esm/meso_training.pdb',\n",
       " 'thermo_training': './tmp/esm/thermo_training.pdb',\n",
       " 'trans_training': './tmp/esm/trans_training.pdb'}"
      ]
     },
     "execution_count": 44,
     "metadata": {},
     "output_type": "execute_result"
    }
   ],
   "source": [
    "structures"
   ]
  },
  {
   "cell_type": "code",
   "execution_count": 45,
   "id": "c79f76ff-7a16-4d6c-8e7d-09124f3442a8",
   "metadata": {
    "scrolled": true
   },
   "outputs": [
    {
     "name": "stderr",
     "output_type": "stream",
     "text": [
      "/mmfs1/gscratch/cheme/usr/evankomp/mamba/mambaforge/envs/nomelt2/lib/python3.9/site-packages/Bio/PDB/PDBParser.py:395: PDBConstructionWarning: Ignoring unrecognized record 'PARENT' at line 1693\n",
      "  warnings.warn(\n",
      "/mmfs1/gscratch/cheme/usr/evankomp/mamba/mambaforge/envs/nomelt2/lib/python3.9/site-packages/Bio/PDB/PDBParser.py:395: PDBConstructionWarning: Ignoring unrecognized record 'END' at line 1695\n",
      "  warnings.warn(\n"
     ]
    }
   ],
   "source": [
    "meso_struct = parser.get_structure('meso_training', structures['meso_training'])"
   ]
  },
  {
   "cell_type": "code",
   "execution_count": 46,
   "id": "c8e1496e-ca1f-449c-9012-e1e402c99079",
   "metadata": {
    "scrolled": true
   },
   "outputs": [
    {
     "data": {
      "application/vnd.jupyter.widget-view+json": {
       "model_id": "f4f611aab6cd44b3baab3affc03909d3",
       "version_major": 2,
       "version_minor": 0
      },
      "text/plain": [
       "NGLWidget()"
      ]
     },
     "metadata": {},
     "output_type": "display_data"
    },
    {
     "data": {
      "application/vnd.jupyter.widget-view+json": {
       "model_id": "704c94737569420da57b5bedb2269016",
       "version_major": 2,
       "version_minor": 0
      },
      "text/plain": [
       "Tab(children=(Box(children=(Box(children=(Box(children=(Label(value='step'), IntSlider(value=1, min=-100)), la…"
      ]
     },
     "metadata": {},
     "output_type": "display_data"
    }
   ],
   "source": [
    "nv.show_biopython(meso_struct, gui=True)"
   ]
  },
  {
   "cell_type": "code",
   "execution_count": 47,
   "id": "76900404-8299-4404-9299-dbc13a58f44b",
   "metadata": {},
   "outputs": [
    {
     "name": "stderr",
     "output_type": "stream",
     "text": [
      "/mmfs1/gscratch/cheme/usr/evankomp/mamba/mambaforge/envs/nomelt2/lib/python3.9/site-packages/Bio/PDB/PDBParser.py:395: PDBConstructionWarning: Ignoring unrecognized record 'PARENT' at line 1822\n",
      "  warnings.warn(\n",
      "/mmfs1/gscratch/cheme/usr/evankomp/mamba/mambaforge/envs/nomelt2/lib/python3.9/site-packages/Bio/PDB/PDBParser.py:395: PDBConstructionWarning: Ignoring unrecognized record 'END' at line 1824\n",
      "  warnings.warn(\n"
     ]
    },
    {
     "data": {
      "application/vnd.jupyter.widget-view+json": {
       "model_id": "9fa02e53d6b745fe8d71d31fb4dc1730",
       "version_major": 2,
       "version_minor": 0
      },
      "text/plain": [
       "NGLWidget()"
      ]
     },
     "metadata": {},
     "output_type": "display_data"
    },
    {
     "data": {
      "application/vnd.jupyter.widget-view+json": {
       "model_id": "2a2e226aa087416cb98ba4ddab283461",
       "version_major": 2,
       "version_minor": 0
      },
      "text/plain": [
       "Tab(children=(Box(children=(Box(children=(Box(children=(Label(value='step'), IntSlider(value=1, min=-100)), la…"
      ]
     },
     "metadata": {},
     "output_type": "display_data"
    }
   ],
   "source": [
    "thermo_struct = parser.get_structure('thermo_training', structures['thermo_training'])\n",
    "nv.show_biopython(thermo_struct, gui=True)"
   ]
  },
  {
   "cell_type": "code",
   "execution_count": 48,
   "id": "8fce883f-f95c-46d2-b38a-aefea615e04f",
   "metadata": {},
   "outputs": [
    {
     "name": "stderr",
     "output_type": "stream",
     "text": [
      "/mmfs1/gscratch/cheme/usr/evankomp/mamba/mambaforge/envs/nomelt2/lib/python3.9/site-packages/Bio/PDB/PDBParser.py:395: PDBConstructionWarning: Ignoring unrecognized record 'END' at line 1861\n",
      "  warnings.warn(\n"
     ]
    },
    {
     "data": {
      "application/vnd.jupyter.widget-view+json": {
       "model_id": "64647397eeb747b0aa370403a20c5192",
       "version_major": 2,
       "version_minor": 0
      },
      "text/plain": [
       "NGLWidget()"
      ]
     },
     "metadata": {},
     "output_type": "display_data"
    },
    {
     "data": {
      "application/vnd.jupyter.widget-view+json": {
       "model_id": "2f4673653a9644b6ae1e1fe841fb30f7",
       "version_major": 2,
       "version_minor": 0
      },
      "text/plain": [
       "Tab(children=(Box(children=(Box(children=(Box(children=(Label(value='step'), IntSlider(value=1, min=-100)), la…"
      ]
     },
     "metadata": {},
     "output_type": "display_data"
    }
   ],
   "source": [
    "trans_struct = parser.get_structure('trans_training', structures['trans_training'])\n",
    "nv.show_biopython(trans_struct, gui=True)"
   ]
  },
  {
   "cell_type": "markdown",
   "id": "fd96a9a8-b77a-4ea6-a697-4a1ef52c2c0b",
   "metadata": {},
   "source": [
    "The structure is mostly recovered for the training example. "
   ]
  },
  {
   "cell_type": "markdown",
   "id": "f90f9b8d-f722-42f2-b50c-2b67580a6fb8",
   "metadata": {},
   "source": [
    "# Run estimator on the three sequences"
   ]
  },
  {
   "cell_type": "code",
   "execution_count": 49,
   "id": "db95d439-60ae-4cff-b1ec-6358a56e39da",
   "metadata": {},
   "outputs": [],
   "source": [
    "from nomelt.thermo_estimation import mAFminDGEstimator, mAFminDGArgs, AlphaFoldArgs\n",
    "\n",
    "import logging\n",
    "logger = logging.getLogger('root')\n",
    "logger.setLevel(logging.INFO)\n",
    "\n",
    "logger.info(\"test\")"
   ]
  },
  {
   "cell_type": "code",
   "execution_count": null,
   "id": "dcd58c5a-bd7d-4f98-9a49-a573f9bac8cf",
   "metadata": {
    "scrolled": true
   },
   "outputs": [
    {
     "name": "stderr",
     "output_type": "stream",
     "text": [
      "I0814 09:29:23.740637 23097726142272 run_singularity.py:136] Binding /mmfs1/gscratch/cheme/usr/evankomp/repos/nomelt/analysis/tmp/af_dg -> /mnt/fasta_path_0\n",
      "I0814 09:29:23.740730 23097726142272 run_singularity.py:136] Binding /mmfs1/gscratch/cheme/usr/evankomp/repos/nomelt/analysis/tmp/af_dg -> /mnt/fasta_path_1\n",
      "I0814 09:29:23.740778 23097726142272 run_singularity.py:136] Binding /mmfs1/gscratch/cheme/usr/evankomp/repos/nomelt/analysis/tmp/af_dg -> /mnt/fasta_path_2\n",
      "I0814 09:29:23.740824 23097726142272 run_singularity.py:136] Binding /mmfs1/gscratch/cheme/usr/evankomp/af_reduced_dbs/uniref90 -> /mnt/uniref90_database_path\n",
      "I0814 09:29:23.740863 23097726142272 run_singularity.py:136] Binding /mmfs1/gscratch/cheme/usr/evankomp/af_reduced_dbs/mgnify -> /mnt/mgnify_database_path\n",
      "I0814 09:29:23.740900 23097726142272 run_singularity.py:136] Binding /mmfs1/gscratch/cheme/usr/evankomp/af_reduced_dbs -> /mnt/data_dir\n",
      "I0814 09:29:23.740935 23097726142272 run_singularity.py:136] Binding /mmfs1/gscratch/cheme/usr/evankomp/af_reduced_dbs/pdb_mmcif -> /mnt/template_mmcif_dir\n",
      "I0814 09:29:23.740971 23097726142272 run_singularity.py:136] Binding /mmfs1/gscratch/cheme/usr/evankomp/af_reduced_dbs/pdb_mmcif -> /mnt/obsolete_pdbs_path\n",
      "I0814 09:29:23.741007 23097726142272 run_singularity.py:136] Binding /mmfs1/gscratch/cheme/usr/evankomp/af_reduced_dbs/pdb70 -> /mnt/pdb70_database_path\n",
      "I0814 09:29:23.741042 23097726142272 run_singularity.py:136] Binding /mmfs1/gscratch/cheme/usr/evankomp/af_reduced_dbs/small_bfd -> /mnt/small_bfd_database_path\n",
      "I0814 09:29:23.741076 23097726142272 run_singularity.py:245] Binding ./tmp/af_dg/ -> /mnt/output\n",
      "I0814 09:29:23.741104 23097726142272 run_singularity.py:249] Binding /tmp -> /tmp\n"
     ]
    }
   ],
   "source": [
    "af_args= AlphaFoldArgs(\n",
    "    data_dir='/mmfs1/gscratch/cheme/usr/evankomp/af_reduced_dbs/',\n",
    "    db_preset='reduced_dbs',\n",
    "    use_precomputed_msas=False,\n",
    "    base_executable_path=\"/mmfs1/home/evankomp/cheme/repos/alphafold/run_singularity.py\",\n",
    "    model_preset='model_4',\n",
    "    models_to_relax='none'\n",
    ")\n",
    "estimator_args=mAFminDGArgs(\n",
    "    af_params=af_args,\n",
    "    wdir='./tmp/af_dg/',\n",
    "    use_relaxed=False,\n",
    "    num_replicates=20,\n",
    "    fix_msas=False\n",
    ")\n",
    "estimator = mAFminDGEstimator(args=estimator_args)\n",
    "sequences = [\n",
    "    meso,\n",
    "    thermo,\n",
    "    translation[0][0]\n",
    "]\n",
    "ids = ['meso_ex', \"thermo_ex\", \"trans_ex\"]\n",
    "outs = estimator.run(sequences=sequences, ids=ids)"
   ]
  },
  {
   "cell_type": "code",
   "execution_count": null,
   "id": "2b61f87f-ce22-4386-8c97-da6c49fb8d1e",
   "metadata": {},
   "outputs": [],
   "source": []
  }
 ],
 "metadata": {
  "kernelspec": {
   "display_name": "Python 3 (ipykernel)",
   "language": "python",
   "name": "python3"
  },
  "language_info": {
   "codemirror_mode": {
    "name": "ipython",
    "version": 3
   },
   "file_extension": ".py",
   "mimetype": "text/x-python",
   "name": "python",
   "nbconvert_exporter": "python",
   "pygments_lexer": "ipython3",
   "version": "3.9.17"
  }
 },
 "nbformat": 4,
 "nbformat_minor": 5
}
