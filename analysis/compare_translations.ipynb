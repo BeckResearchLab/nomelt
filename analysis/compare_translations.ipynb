{
 "cells": [
  {
   "cell_type": "markdown",
   "id": "5b4edac5-3092-403e-9b23-dd5bb6fcc90e",
   "metadata": {},
   "source": [
    "# Assess the structural overlap of actual pairs vs tranlsations"
   ]
  },
  {
   "cell_type": "code",
   "execution_count": 1,
   "id": "1869f0f0-3d7b-46a9-85f2-46b1fbba6011",
   "metadata": {},
   "outputs": [
    {
     "name": "stdout",
     "output_type": "stream",
     "text": [
      "[2023-08-07 10:13:51,975] [INFO] [real_accelerator.py:133:get_accelerator] Setting ds_accelerator to cuda (auto detect)\n"
     ]
    },
    {
     "name": "stderr",
     "output_type": "stream",
     "text": [
      "2023-08-07 10:14:00.670851: I tensorflow/core/platform/cpu_feature_guard.cc:193] This TensorFlow binary is optimized with oneAPI Deep Neural Network Library (oneDNN) to use the following CPU instructions in performance-critical operations:  SSE4.1 SSE4.2 AVX AVX2 AVX512F AVX512_VNNI FMA\n",
      "To enable them in other operations, rebuild TensorFlow with the appropriate compiler flags.\n",
      "2023-08-07 10:14:00.985368: I tensorflow/core/util/port.cc:104] oneDNN custom operations are on. You may see slightly different numerical results due to floating-point round-off errors from different computation orders. To turn them off, set the environment variable `TF_ENABLE_ONEDNN_OPTS=0`.\n"
     ]
    }
   ],
   "source": [
    "from nomelt.thermo_estimation import ESMFoldDGEstimator"
   ]
  },
  {
   "cell_type": "code",
   "execution_count": 2,
   "id": "762f9c59-f1c6-4b8d-b9d2-aba87c2cdb40",
   "metadata": {},
   "outputs": [
    {
     "name": "stderr",
     "output_type": "stream",
     "text": [
      "/mmfs1/gscratch/cheme/usr/evankomp/mamba/mambaforge/envs/nomelt2/lib/python3.9/site-packages/Bio/pairwise2.py:278: BiopythonDeprecationWarning: Bio.pairwise2 has been deprecated, and we intend to remove it in a future release of Biopython. As an alternative, please consider using Bio.Align.PairwiseAligner as a replacement, and contact the Biopython developers if you still need the Bio.pairwise2 module.\n",
      "  warnings.warn(\n"
     ]
    }
   ],
   "source": [
    "import datasets\n",
    "from nomelt.translate import translate_sequences\n",
    "import torch\n",
    "import esm\n",
    "\n",
    "import Bio.pairwise2 as pairwise2\n",
    "import biotite.structure.io as bsio"
   ]
  },
  {
   "cell_type": "code",
   "execution_count": 3,
   "id": "3bc06605-53f2-46db-b192-749b8c88109f",
   "metadata": {},
   "outputs": [
    {
     "data": {
      "application/vnd.jupyter.widget-view+json": {
       "model_id": "b2b11b6caacb4c7694d213bfd30d137d",
       "version_major": 2,
       "version_minor": 0
      },
      "text/plain": []
     },
     "metadata": {},
     "output_type": "display_data"
    }
   ],
   "source": [
    "from Bio.PDB import *\n",
    "import nglview as nv\n",
    "import ipywidgets"
   ]
  },
  {
   "cell_type": "code",
   "execution_count": 4,
   "id": "a2d84672-1c1d-48a8-8c71-070d81cba363",
   "metadata": {},
   "outputs": [],
   "source": [
    "from Bio.Align import substitution_matrices"
   ]
  },
  {
   "cell_type": "code",
   "execution_count": 5,
   "id": "e96352c8-fdcf-4c37-ba0e-a1de543bc02f",
   "metadata": {},
   "outputs": [],
   "source": [
    "import datasets\n",
    "import numpy"
   ]
  },
  {
   "cell_type": "code",
   "execution_count": 6,
   "id": "bda5b517-2e7c-49cf-b82f-f55fbdd35046",
   "metadata": {},
   "outputs": [],
   "source": [
    "mat = substitution_matrices.load('BLOSUM62')"
   ]
  },
  {
   "cell_type": "code",
   "execution_count": 7,
   "id": "37ae3da8-e3ad-4149-9cf9-ea65cd7ce0f4",
   "metadata": {},
   "outputs": [],
   "source": [
    "parser = PDBParser()"
   ]
  },
  {
   "cell_type": "code",
   "execution_count": 8,
   "id": "61109b35-5fb4-47f2-a046-98bbbbf2fd6b",
   "metadata": {},
   "outputs": [
    {
     "data": {
      "text/plain": [
       "True"
      ]
     },
     "execution_count": 8,
     "metadata": {},
     "output_type": "execute_result"
    }
   ],
   "source": [
    "torch.cuda.is_available()"
   ]
  },
  {
   "cell_type": "markdown",
   "id": "611e0a9f-2f2f-4ec7-aa86-9855a890f400",
   "metadata": {
    "jp-MarkdownHeadingCollapsed": true
   },
   "source": [
    "## translate a training example"
   ]
  },
  {
   "cell_type": "code",
   "execution_count": 9,
   "id": "f552584a-1db8-4115-8218-e16860a6e223",
   "metadata": {},
   "outputs": [],
   "source": [
    "dataset = datasets.load_from_disk('../data/dataset')"
   ]
  },
  {
   "cell_type": "code",
   "execution_count": 25,
   "id": "6cc7e7f0-8c63-44ae-a801-69f244c0b905",
   "metadata": {},
   "outputs": [],
   "source": [
    "train_example = dataset['train'].select([numpy.random.randint(len(dataset['train']))])[0]"
   ]
  },
  {
   "cell_type": "code",
   "execution_count": 26,
   "id": "4f817463-a1d3-476b-9816-194fc5fc11d4",
   "metadata": {},
   "outputs": [],
   "source": [
    "meso=train_example['meso_seq']\n",
    "thermo=train_example['thermo_seq']"
   ]
  },
  {
   "cell_type": "code",
   "execution_count": 27,
   "id": "8dd1ad6e-64cb-4b03-93d7-c4c51edb755c",
   "metadata": {},
   "outputs": [],
   "source": [
    "translation = translate_sequences([meso], model_path='../data/nomelt-model/model')[0]"
   ]
  },
  {
   "cell_type": "code",
   "execution_count": 28,
   "id": "e94fe5c6-a3c5-4356-a1d9-e72aff310639",
   "metadata": {},
   "outputs": [
    {
     "data": {
      "text/plain": [
       "'MARRSKRMRQIRERIDRTRQYPVEEAIQLLKELSSVKFDESVDVAVNLGVDPRKSDQVVRGATVLPHGTGAKVRVAVFAQGAAAEAAREAGADIVGFEDLAERIKGGELDFDVVIATPDAMRVVGQLGKILGPRGLMPNPKVGTVTADVAQAVRNAKAGQVRYRTDKAGIIHCTIGKVSFEPKALKENLEALLGDLQKAKPSAAKGTYMKKITLSTTMGPGLAVDRASLSV'"
      ]
     },
     "execution_count": 28,
     "metadata": {},
     "output_type": "execute_result"
    }
   ],
   "source": [
    "translation"
   ]
  },
  {
   "cell_type": "markdown",
   "id": "4a71f4fa-e2bb-4114-9eef-380905548467",
   "metadata": {},
   "source": [
    "### true alignment"
   ]
  },
  {
   "cell_type": "code",
   "execution_count": 33,
   "id": "61a1f9dc-472f-4ae8-832e-a02f77604df6",
   "metadata": {},
   "outputs": [],
   "source": [
    "alignment = pairwise2.align.globalds(meso, thermo, mat, -2,-1, one_alignment_only=True, penalize_extend_when_opening=False, penalize_end_gaps=False)"
   ]
  },
  {
   "cell_type": "code",
   "execution_count": 34,
   "id": "7bd438a2-5671-4c27-9411-0c5f09447b61",
   "metadata": {},
   "outputs": [
    {
     "name": "stdout",
     "output_type": "stream",
     "text": [
      "MAKQSKKLTAAY----KAFDREKSFALVEAVKMV-R-ANATAKFDETVEISMNLGIDPRHADQMVRG-MVGLPNGTGKTVRVAVFARGAKAEEAQAAGADIVGADDLAAAVQDGK---MDFDRCIATPDMMGLVGRLGKVLGPRGLMPNPKLGTVTMDV-KGAIAAARAGQVEYRAEKAGIVHAGIGKVSFDEDKLIENARAFV-DAIQKARPTGAKGTYVKKVAVSSSMGVGVKVDVASL-SANG\n",
      "| |..|.    |    |..|........||...| . ||  ||||||......||.|||||||.||| .. ||.||||||.|.|||.|.||.||.|||||.|||..|....|  |   .|.|..||||||||.||||||.|||.|||||||.||||..| | |...|.||..|||..||||.|..|||.||...||.||.|. | |||.|..|..|||.|.|.|..||.||.||||..|.. .   \n",
      "M-KRGKR----YLENLKLYDKTQQYSSDEAMDIVLKTAN--AKFDETIDLAVRLGVDPRHADQQVRGTVI-LPHGTGKTVKVLVFAKGEKAKEAEAAGADYVGAEELVEKIQ--KENWFDYDVVIATPDMMGVVGRLGKLLGPKGLMPNPKSGTVTFEVEK-AVKEAKAGKIEYRIDKAGIIHVPIGKKSFGKEKLLENFRT-VMDAIIKSKPAAAKGQYIKSVVLSSTMGPGVKVNPARIFE---\n",
      "  Score=683\n",
      "\n"
     ]
    }
   ],
   "source": [
    "print(pairwise2.format_alignment(*alignment[0], full_sequences=True))"
   ]
  },
  {
   "cell_type": "code",
   "execution_count": 35,
   "id": "033fba3b-578f-4225-8076-51b76fdf8e4a",
   "metadata": {},
   "outputs": [],
   "source": [
    "alignment = pairwise2.align.globalds(meso, translation, mat, -2,-1, one_alignment_only=True, penalize_extend_when_opening=False, penalize_end_gaps=False)"
   ]
  },
  {
   "cell_type": "code",
   "execution_count": 36,
   "id": "5f1c5911-f90d-459e-b38f-34b4c9efdab0",
   "metadata": {},
   "outputs": [
    {
     "name": "stdout",
     "output_type": "stream",
     "text": [
      "MAKQSKKLTAAYKAFDREKSFALVE-AVKMVRAN-ATAKFDETVEISMNLGIDPRHADQMVRGM-VGLPNGTG-KTVRVAVFARGAKAEEAQAAGADIVGADDLAAAVQDGKMDFDRCIATPDMMGLVGRLGKVLGPRGLMPNPKLGTVTMDVKGAIAAARAGQVEYRAEKAGIVHAGIGKVSFDEDKLI-ENARAFV-DAIQKARPTGAKGTYVKKVAVSSSMGVGVKVDVASLSANG\n",
      "||..||.........||..... || |..... . ...||||.|....|||.|||..||.|||. | ||.||| | |||||||.||.||.|..|||||||..|||.....|..|||..|||||.|..||.|||.|||||||||||.||||.||..|...|.||||.||..||||.|..|||||| |.|.. ||..|.. | .|||.|..|||||.||...|..||.|..||.||||.  \n",
      "MARRSKRMRQIRERIDRTRQYP-VEEAIQLLK-ELSSVKFDESVDVAVNLGVDPRKSDQVVRGATV-LPHGTGAK-VRVAVFAQGAAAEAAREAGADIVGFEDLAERIKGGELDFDVVIATPDAMRVVGQLGKILGPRGLMPNPKVGTVTADVAQAVRNAKAGQVRYRTDKAGIIHCTIGKVSF-EPKALKENLEALLGD-LQKAKPSAAKGTYMKKITLSTTMGPGLAVDRASLSV--\n",
      "  Score=684\n",
      "\n"
     ]
    }
   ],
   "source": [
    "print(pairwise2.format_alignment(*alignment[0], full_sequences=True))"
   ]
  },
  {
   "cell_type": "markdown",
   "id": "12885ccb-5a0a-48e5-84c9-c62fba456a10",
   "metadata": {},
   "source": [
    "#### energy differences"
   ]
  },
  {
   "cell_type": "code",
   "execution_count": 37,
   "id": "c6401c58-441f-4c91-ac1e-b2831e4e35bd",
   "metadata": {},
   "outputs": [],
   "source": [
    "estimator = ESMFoldDGEstimator(sequences=[meso, thermo, translation], ids=['meso', 'thermo', 'trans'])"
   ]
  },
  {
   "cell_type": "code",
   "execution_count": 38,
   "id": "c31b8037-9c37-4b99-9213-3de9e32aec4a",
   "metadata": {},
   "outputs": [
    {
     "name": "stdout",
     "output_type": "stream",
     "text": [
      "Running ESMfold in 3 proteins.\n"
     ]
    },
    {
     "name": "stderr",
     "output_type": "stream",
     "text": [
      "100%|███████████████████████████████████████████████████████████████████████████████████████████████████████████████████████████████████████████████████████████████████████████████████████████████| 1/1 [00:15<00:00, 15.97s/it]\n"
     ]
    },
    {
     "name": "stdout",
     "output_type": "stream",
     "text": [
      "core.chemical.GlobalResidueTypeSet: Finished initializing fa_standard residue type set.  Created 985 residue types\n",
      "core.chemical.GlobalResidueTypeSet: Total time to initialize 0.690416 seconds.\n",
      "core.import_pose.import_pose: File './tmp/tmp7m3kb7qe/meso.pdb' automatically determined to be of type PDB\n",
      "core.conformation.Conformation: [ WARNING ] missing heavyatom:  OXT on residue GLY:CtermProteinFull 233\n",
      "core.scoring.etable: Starting energy table calculation\n",
      "core.scoring.etable: smooth_etable: changing atr/rep split to bottom of energy well\n",
      "core.scoring.etable: smooth_etable: spline smoothing lj etables (maxdis = 6)\n",
      "core.scoring.etable: smooth_etable: spline smoothing solvation etables (max_dis = 6)\n",
      "core.scoring.etable: Finished calculating energy tables.\n",
      "basic.io.database: Database file opened: scoring/score_functions/hbonds/ref2015_params/HBPoly1D.csv\n",
      "basic.io.database: Database file opened: scoring/score_functions/hbonds/ref2015_params/HBFadeIntervals.csv\n",
      "basic.io.database: Database file opened: scoring/score_functions/hbonds/ref2015_params/HBEval.csv\n",
      "basic.io.database: Database file opened: scoring/score_functions/hbonds/ref2015_params/DonStrength.csv\n",
      "basic.io.database: Database file opened: scoring/score_functions/hbonds/ref2015_params/AccStrength.csv\n",
      "basic.io.database: Database file opened: scoring/score_functions/rama/fd/all.ramaProb\n",
      "basic.io.database: Database file opened: scoring/score_functions/rama/fd/prepro.ramaProb\n",
      "basic.io.database: Database file opened: scoring/score_functions/omega/omega_ppdep.all.txt\n",
      "basic.io.database: Database file opened: scoring/score_functions/omega/omega_ppdep.gly.txt\n",
      "basic.io.database: Database file opened: scoring/score_functions/omega/omega_ppdep.pro.txt\n",
      "basic.io.database: Database file opened: scoring/score_functions/omega/omega_ppdep.valile.txt\n",
      "basic.io.database: Database file opened: scoring/score_functions/P_AA_pp/P_AA\n",
      "basic.io.database: Database file opened: scoring/score_functions/P_AA_pp/P_AA_n\n",
      "core.scoring.P_AA: shapovalov_lib::shap_p_aa_pp_smooth_level of 1( aka low_smooth ) got activated.\n",
      "basic.io.database: Database file opened: scoring/score_functions/P_AA_pp/shapovalov/10deg/kappa131/a20.prop\n",
      "basic.io.database: Database file opened: scoring/score_functions/elec_cp_reps.dat\n",
      "core.scoring.elec.util: Read 40 countpair representative atoms\n",
      "core.pack.dunbrack.RotamerLibrary: shapovalov_lib_fixes_enable option is true.\n",
      "core.pack.dunbrack.RotamerLibrary: shapovalov_lib::shap_dun10_smooth_level of 1( aka lowest_smooth ) got activated.\n",
      "core.pack.dunbrack.RotamerLibrary: Binary rotamer library selected: /mmfs1/gscratch/cheme/usr/evankomp/mamba/mambaforge/envs/nomelt2/lib/python3.9/site-packages/pyrosetta-2023.27+release.e3ce6ea9faf-py3.9-linux-x86_64.egg/pyrosetta/database/rotamer/shapovalov/StpDwn_0-0-0/Dunbrack10.lib.bin\n",
      "core.pack.dunbrack.RotamerLibrary: Using Dunbrack library binary file '/mmfs1/gscratch/cheme/usr/evankomp/mamba/mambaforge/envs/nomelt2/lib/python3.9/site-packages/pyrosetta-2023.27+release.e3ce6ea9faf-py3.9-linux-x86_64.egg/pyrosetta/database/rotamer/shapovalov/StpDwn_0-0-0/Dunbrack10.lib.bin'.\n",
      "core.pack.dunbrack.RotamerLibrary: Dunbrack 2010 library took 0.216367 seconds to load from binary\n",
      "core.import_pose.import_pose: File './tmp/tmp7m3kb7qe/thermo.pdb' automatically determined to be of type PDB\n",
      "core.conformation.Conformation: [ WARNING ] missing heavyatom:  OXT on residue GLU:CtermProteinFull 231\n",
      "core.import_pose.import_pose: File './tmp/tmp7m3kb7qe/trans.pdb' automatically determined to be of type PDB\n",
      "core.conformation.Conformation: [ WARNING ] missing heavyatom:  OXT on residue VAL:CtermProteinFull 231\n"
     ]
    },
    {
     "data": {
      "text/plain": [
       "{'meso': -618.2627009136091,\n",
       " 'thermo': -672.0713673963103,\n",
       " 'trans': -642.3347080698281}"
      ]
     },
     "execution_count": 38,
     "metadata": {},
     "output_type": "execute_result"
    }
   ],
   "source": [
    "estimator.run()"
   ]
  },
  {
   "cell_type": "markdown",
   "id": "01571ad3-b5a8-4f27-85b4-a6d7f8d401ac",
   "metadata": {},
   "source": [
    "The translation is stabilizing, but does not do this for every sequence."
   ]
  },
  {
   "cell_type": "markdown",
   "id": "0a2ea9ef-2b42-48da-bfbc-1a4256fa1d27",
   "metadata": {},
   "source": [
    "### structure differences"
   ]
  },
  {
   "cell_type": "code",
   "execution_count": 40,
   "id": "c79f76ff-7a16-4d6c-8e7d-09124f3442a8",
   "metadata": {},
   "outputs": [
    {
     "name": "stderr",
     "output_type": "stream",
     "text": [
      "/mmfs1/gscratch/cheme/usr/evankomp/mamba/mambaforge/envs/nomelt2/lib/python3.9/site-packages/Bio/PDB/PDBParser.py:395: PDBConstructionWarning: Ignoring unrecognized record 'END' at line 1700\n",
      "  warnings.warn(\n"
     ]
    }
   ],
   "source": [
    "meso_struct = parser.get_structure('train_meso', estimator.pdb_files_dict['meso'])"
   ]
  },
  {
   "cell_type": "code",
   "execution_count": 41,
   "id": "c8e1496e-ca1f-449c-9012-e1e402c99079",
   "metadata": {},
   "outputs": [
    {
     "data": {
      "application/vnd.jupyter.widget-view+json": {
       "model_id": "7b4dba3551aa4ff692c99e4eabc6ab40",
       "version_major": 2,
       "version_minor": 0
      },
      "text/plain": [
       "NGLWidget()"
      ]
     },
     "metadata": {},
     "output_type": "display_data"
    },
    {
     "data": {
      "application/vnd.jupyter.widget-view+json": {
       "model_id": "9e36c4b323e84b2f954f1ab7c3232c75",
       "version_major": 2,
       "version_minor": 0
      },
      "text/plain": [
       "Tab(children=(Box(children=(Box(children=(Box(children=(Label(value='step'), IntSlider(value=1, min=-100)), la…"
      ]
     },
     "metadata": {},
     "output_type": "display_data"
    }
   ],
   "source": [
    "nv.show_biopython(meso_struct, gui=True)"
   ]
  },
  {
   "cell_type": "code",
   "execution_count": 42,
   "id": "76900404-8299-4404-9299-dbc13a58f44b",
   "metadata": {},
   "outputs": [
    {
     "name": "stderr",
     "output_type": "stream",
     "text": [
      "/mmfs1/gscratch/cheme/usr/evankomp/mamba/mambaforge/envs/nomelt2/lib/python3.9/site-packages/Bio/PDB/PDBParser.py:395: PDBConstructionWarning: Ignoring unrecognized record 'PARENT' at line 1782\n",
      "  warnings.warn(\n",
      "/mmfs1/gscratch/cheme/usr/evankomp/mamba/mambaforge/envs/nomelt2/lib/python3.9/site-packages/Bio/PDB/PDBParser.py:395: PDBConstructionWarning: Ignoring unrecognized record 'END' at line 1784\n",
      "  warnings.warn(\n"
     ]
    },
    {
     "data": {
      "application/vnd.jupyter.widget-view+json": {
       "model_id": "bfc41da2822544bf91c5f766de835447",
       "version_major": 2,
       "version_minor": 0
      },
      "text/plain": [
       "NGLWidget()"
      ]
     },
     "metadata": {},
     "output_type": "display_data"
    },
    {
     "data": {
      "application/vnd.jupyter.widget-view+json": {
       "model_id": "7121238d533247488abf74c3448bc12e",
       "version_major": 2,
       "version_minor": 0
      },
      "text/plain": [
       "Tab(children=(Box(children=(Box(children=(Box(children=(Label(value='step'), IntSlider(value=1, min=-100)), la…"
      ]
     },
     "metadata": {},
     "output_type": "display_data"
    }
   ],
   "source": [
    "thermo_struct = parser.get_structure('train_thermo', estimator.pdb_files_dict['thermo'])\n",
    "nv.show_biopython(thermo_struct, gui=True)"
   ]
  },
  {
   "cell_type": "code",
   "execution_count": 44,
   "id": "8fce883f-f95c-46d2-b38a-aefea615e04f",
   "metadata": {},
   "outputs": [
    {
     "name": "stderr",
     "output_type": "stream",
     "text": [
      "/mmfs1/gscratch/cheme/usr/evankomp/mamba/mambaforge/envs/nomelt2/lib/python3.9/site-packages/Bio/PDB/PDBParser.py:395: PDBConstructionWarning: Ignoring unrecognized record 'PARENT' at line 1736\n",
      "  warnings.warn(\n",
      "/mmfs1/gscratch/cheme/usr/evankomp/mamba/mambaforge/envs/nomelt2/lib/python3.9/site-packages/Bio/PDB/PDBParser.py:395: PDBConstructionWarning: Ignoring unrecognized record 'END' at line 1738\n",
      "  warnings.warn(\n"
     ]
    },
    {
     "data": {
      "application/vnd.jupyter.widget-view+json": {
       "model_id": "745a9c7f3d9643448265086c68350f5a",
       "version_major": 2,
       "version_minor": 0
      },
      "text/plain": [
       "NGLWidget()"
      ]
     },
     "metadata": {},
     "output_type": "display_data"
    },
    {
     "data": {
      "application/vnd.jupyter.widget-view+json": {
       "model_id": "55b1edfd7dda430a8062442396cff8a7",
       "version_major": 2,
       "version_minor": 0
      },
      "text/plain": [
       "Tab(children=(Box(children=(Box(children=(Box(children=(Label(value='step'), IntSlider(value=1, min=-100)), la…"
      ]
     },
     "metadata": {},
     "output_type": "display_data"
    }
   ],
   "source": [
    "trans_struct = parser.get_structure('train_translation', estimator.pdb_files_dict['trans'])\n",
    "nv.show_biopython(trans_struct, gui=True)"
   ]
  },
  {
   "cell_type": "markdown",
   "id": "fd96a9a8-b77a-4ea6-a697-4a1ef52c2c0b",
   "metadata": {},
   "source": [
    "The structure is mostly recovered for the training example. "
   ]
  },
  {
   "cell_type": "markdown",
   "id": "b0089c22-7b3b-471c-9b57-ddbc14ef0681",
   "metadata": {},
   "source": [
    "## translate 1ENH as a check, no ground truth to compare"
   ]
  },
  {
   "cell_type": "markdown",
   "id": "063b7126-4222-4d4d-a8ad-fd0b67dcac9d",
   "metadata": {},
   "source": [
    "### Get translations"
   ]
  },
  {
   "cell_type": "code",
   "execution_count": 9,
   "id": "28cf82e1-5661-4a00-bc3c-3ecfa85de359",
   "metadata": {},
   "outputs": [],
   "source": [
    "ENH1 = \"RPRTAFSSEQLARLKREFNENRYLTERRRQQLSSELGLNEAQIKIWFQNKRAKI\""
   ]
  },
  {
   "cell_type": "code",
   "execution_count": 10,
   "id": "f80f6b38-1e22-4bcd-b20a-1171bb1acacd",
   "metadata": {},
   "outputs": [
    {
     "name": "stderr",
     "output_type": "stream",
     "text": [
      "You are using the legacy behaviour of the <class 'transformers.models.t5.tokenization_t5.T5Tokenizer'>. This means that tokens that come after special tokens will not be properly handled. We recommend you to read the related pull request available at https://github.com/huggingface/transformers/pull/24565\n"
     ]
    }
   ],
   "source": [
    "ENH1_translation = translate_sequences([ENH1], model_path='../data/nomelt-model/model')"
   ]
  },
  {
   "cell_type": "code",
   "execution_count": 11,
   "id": "b64643a2-5f87-44ff-84ae-28bdc0711e5c",
   "metadata": {},
   "outputs": [
    {
     "data": {
      "text/plain": [
       "['RPRTAFTAEQLQRLKAEFQRSRYLSEQRRQELARELGLNESQIKIWFQNKRAKIKKASGVK']"
      ]
     },
     "execution_count": 11,
     "metadata": {},
     "output_type": "execute_result"
    }
   ],
   "source": [
    "ENH1_translation"
   ]
  },
  {
   "cell_type": "code",
   "execution_count": 12,
   "id": "976ea750-f318-468d-9f67-75fac414cc0e",
   "metadata": {},
   "outputs": [],
   "source": [
    "alignment = pairwise2.align.globalds(ENH1, ENH1_translation[0], mat, -2,-1, one_alignment_only=True, penalize_extend_when_opening=False, penalize_end_gaps=False)"
   ]
  },
  {
   "cell_type": "code",
   "execution_count": 13,
   "id": "df8a5538-4986-4350-9cb7-22c8f9229cc8",
   "metadata": {},
   "outputs": [
    {
     "name": "stdout",
     "output_type": "stream",
     "text": [
      "RPRTAFSSEQLARLKREFNENRYLTERRRQQLSSELGLNEAQIKIWFQNKRAKI-------\n",
      "||||||..|||.|||.||...|||.|.|||.|..||||||.|||||||||||||       \n",
      "RPRTAFTAEQLQRLKAEFQRSRYLSEQRRQELARELGLNESQIKIWFQNKRAKIKKASGVK\n",
      "  Score=216\n",
      "\n"
     ]
    }
   ],
   "source": [
    "print(pairwise2.format_alignment(*alignment[0], full_sequences=True))"
   ]
  },
  {
   "cell_type": "code",
   "execution_count": 10,
   "id": "d15fcf7c-466c-4b05-ae48-f94dcb8b8348",
   "metadata": {},
   "outputs": [],
   "source": [
    "estimator = ESMFoldDGEstimator()"
   ]
  },
  {
   "cell_type": "code",
   "execution_count": 11,
   "id": "8a22b076-4406-4afa-88f1-0a6d1b0ad14f",
   "metadata": {},
   "outputs": [
    {
     "name": "stderr",
     "output_type": "stream",
     "text": [
      "100%|█████████████████████████████████████████████████████████████████████████████████████████████████████████████████████████████████████████████████████████████████████| 1/1 [00:01<00:00,  1.81s/it]\n"
     ]
    },
    {
     "name": "stdout",
     "output_type": "stream",
     "text": [
      "PyRosetta-4 2023 [Rosetta PyRosetta4.Release.python39.ubuntu 2023.27+release.e3ce6ea9faf661ae8fa769511e2a9b8596417e58 2023-07-07T12:00:46] retrieved from: http://www.pyrosetta.org\n",
      "(C) Copyright Rosetta Commons Member Institutions. Created in JHU by Sergey Lyskov and PyRosetta Team.\n",
      "core.init: Checking for fconfig files in pwd and ./rosetta/flags\n",
      "core.init: Rosetta version: PyRosetta4.Release.python39.ubuntu r353 2023.27+release.e3ce6ea9faf e3ce6ea9faf661ae8fa769511e2a9b8596417e58 http://www.pyrosetta.org 2023-07-07T12:00:46\n",
      "core.init: command: PyRosetta -ex1 -ex2aro -database /mmfs1/gscratch/cheme/usr/evankomp/mamba/mambaforge/envs/nomelt2/lib/python3.9/site-packages/pyrosetta-2023.27+release.e3ce6ea9faf-py3.9-linux-x86_64.egg/pyrosetta/database\n",
      "basic.random.init_random_generator: 'RNG device' seed mode, using '/dev/urandom', seed=1673372157 seed_offset=0 real_seed=1673372157\n",
      "basic.random.init_random_generator: RandomGenerator:init: Normal mode, seed=1673372157 RG_type=mt19937\n",
      "core.chemical.GlobalResidueTypeSet: Finished initializing fa_standard residue type set.  Created 985 residue types\n",
      "core.chemical.GlobalResidueTypeSet: Total time to initialize 0.626055 seconds.\n",
      "core.import_pose.import_pose: File '/mmfs1/gscratch/cheme/usr/evankomp/repos/nomelt/analysis/tmp/ESMFoldDGEstimator_structures/enh1_wt.pdb' automatically determined to be of type PDB\n",
      "core.conformation.Conformation: [ WARNING ] missing heavyatom:  OXT on residue ILE:CtermProteinFull 54\n",
      "core.scoring.etable: Starting energy table calculation\n",
      "core.scoring.etable: smooth_etable: changing atr/rep split to bottom of energy well\n",
      "core.scoring.etable: smooth_etable: spline smoothing lj etables (maxdis = 6)\n",
      "core.scoring.etable: smooth_etable: spline smoothing solvation etables (max_dis = 6)\n",
      "core.scoring.etable: Finished calculating energy tables.\n",
      "basic.io.database: Database file opened: scoring/score_functions/hbonds/ref2015_params/HBPoly1D.csv\n",
      "basic.io.database: Database file opened: scoring/score_functions/hbonds/ref2015_params/HBFadeIntervals.csv\n",
      "basic.io.database: Database file opened: scoring/score_functions/hbonds/ref2015_params/HBEval.csv\n",
      "basic.io.database: Database file opened: scoring/score_functions/hbonds/ref2015_params/DonStrength.csv\n",
      "basic.io.database: Database file opened: scoring/score_functions/hbonds/ref2015_params/AccStrength.csv\n",
      "basic.io.database: Database file opened: scoring/score_functions/rama/fd/all.ramaProb\n",
      "basic.io.database: Database file opened: scoring/score_functions/rama/fd/prepro.ramaProb\n",
      "basic.io.database: Database file opened: scoring/score_functions/omega/omega_ppdep.all.txt\n",
      "basic.io.database: Database file opened: scoring/score_functions/omega/omega_ppdep.gly.txt\n",
      "basic.io.database: Database file opened: scoring/score_functions/omega/omega_ppdep.pro.txt\n",
      "basic.io.database: Database file opened: scoring/score_functions/omega/omega_ppdep.valile.txt\n",
      "basic.io.database: Database file opened: scoring/score_functions/P_AA_pp/P_AA\n",
      "basic.io.database: Database file opened: scoring/score_functions/P_AA_pp/P_AA_n\n",
      "core.scoring.P_AA: shapovalov_lib::shap_p_aa_pp_smooth_level of 1( aka low_smooth ) got activated.\n",
      "basic.io.database: Database file opened: scoring/score_functions/P_AA_pp/shapovalov/10deg/kappa131/a20.prop\n",
      "basic.io.database: Database file opened: scoring/score_functions/elec_cp_reps.dat\n",
      "core.scoring.elec.util: Read 40 countpair representative atoms\n",
      "core.pack.dunbrack.RotamerLibrary: shapovalov_lib_fixes_enable option is true.\n",
      "core.pack.dunbrack.RotamerLibrary: shapovalov_lib::shap_dun10_smooth_level of 1( aka lowest_smooth ) got activated.\n",
      "core.pack.dunbrack.RotamerLibrary: Binary rotamer library selected: /mmfs1/gscratch/cheme/usr/evankomp/mamba/mambaforge/envs/nomelt2/lib/python3.9/site-packages/pyrosetta-2023.27+release.e3ce6ea9faf-py3.9-linux-x86_64.egg/pyrosetta/database/rotamer/shapovalov/StpDwn_0-0-0/Dunbrack10.lib.bin\n",
      "core.pack.dunbrack.RotamerLibrary: Using Dunbrack library binary file '/mmfs1/gscratch/cheme/usr/evankomp/mamba/mambaforge/envs/nomelt2/lib/python3.9/site-packages/pyrosetta-2023.27+release.e3ce6ea9faf-py3.9-linux-x86_64.egg/pyrosetta/database/rotamer/shapovalov/StpDwn_0-0-0/Dunbrack10.lib.bin'.\n",
      "core.pack.dunbrack.RotamerLibrary: Dunbrack 2010 library took 0.201918 seconds to load from binary\n",
      "core.import_pose.import_pose: File '/mmfs1/gscratch/cheme/usr/evankomp/repos/nomelt/analysis/tmp/ESMFoldDGEstimator_structures/enh1_trans.pdb' automatically determined to be of type PDB\n",
      "core.conformation.Conformation: [ WARNING ] missing heavyatom:  OXT on residue LYS:CtermProteinFull 61\n"
     ]
    },
    {
     "data": {
      "text/plain": [
       "{'enh1_wt': -133.4652284624724, 'enh1_trans': -162.53537554680292}"
      ]
     },
     "execution_count": 11,
     "metadata": {},
     "output_type": "execute_result"
    }
   ],
   "source": [
    "estimator.run(sequences=[ENH1, \"RPRTAFTAEQLQRLKAEFQRSRYLSEQRRQELARELGLNESQIKIWFQNKRAKIKKASGVK\"], ids=['enh1_wt', 'enh1_trans'])"
   ]
  },
  {
   "cell_type": "markdown",
   "id": "51b71ce3-5588-49b1-bda5-9c6e02a2c845",
   "metadata": {},
   "source": [
    "Apparently the translation is much more stable."
   ]
  },
  {
   "cell_type": "code",
   "execution_count": 13,
   "id": "1307523e-ce1d-4b2c-b3dd-983359800f8e",
   "metadata": {},
   "outputs": [
    {
     "name": "stderr",
     "output_type": "stream",
     "text": [
      "/mmfs1/gscratch/cheme/usr/evankomp/mamba/mambaforge/envs/nomelt2/lib/python3.9/site-packages/Bio/PDB/PDBParser.py:395: PDBConstructionWarning: Ignoring unrecognized record 'END' at line 519\n",
      "  warnings.warn(\n"
     ]
    }
   ],
   "source": [
    "trans = parser.get_structure('1enh_t', estimator.pdb_files_history['enh1_trans'])"
   ]
  },
  {
   "cell_type": "code",
   "execution_count": 14,
   "id": "c08db4e6-ba50-4d4e-9f79-0b033f0d53e5",
   "metadata": {},
   "outputs": [
    {
     "data": {
      "application/vnd.jupyter.widget-view+json": {
       "model_id": "3016db0bba1240dd8e95dbacc83bc043",
       "version_major": 2,
       "version_minor": 0
      },
      "text/plain": [
       "NGLWidget()"
      ]
     },
     "metadata": {},
     "output_type": "display_data"
    },
    {
     "data": {
      "application/vnd.jupyter.widget-view+json": {
       "model_id": "21874387b61e4eb382e825e14868d137",
       "version_major": 2,
       "version_minor": 0
      },
      "text/plain": [
       "Tab(children=(Box(children=(Box(children=(Box(children=(Label(value='step'), IntSlider(value=1, min=-100)), la…"
      ]
     },
     "metadata": {},
     "output_type": "display_data"
    }
   ],
   "source": [
    "nv.show_biopython(trans, gui=True)"
   ]
  },
  {
   "cell_type": "markdown",
   "id": "0192d455-bdf6-4b3d-9e53-1654eccc1308",
   "metadata": {},
   "source": [
    "The model extended the crap out of 1ENH but it actually has a similar motif... if has an additional floppy helix. I wonder if it would be more stable and still be a transcription factor?"
   ]
  },
  {
   "cell_type": "code",
   "execution_count": 54,
   "id": "2e1bd3c2-9ee4-48b1-9ce5-495f460fea6a",
   "metadata": {},
   "outputs": [
    {
     "name": "stderr",
     "output_type": "stream",
     "text": [
      "/mmfs1/gscratch/cheme/usr/evankomp/mamba/mambaforge/envs/nomelt2/lib/python3.9/site-packages/Bio/PDB/PDBParser.py:395: PDBConstructionWarning: Ignoring unrecognized record 'PARENT' at line 469\n",
      "  warnings.warn(\n",
      "/mmfs1/gscratch/cheme/usr/evankomp/mamba/mambaforge/envs/nomelt2/lib/python3.9/site-packages/Bio/PDB/PDBParser.py:395: PDBConstructionWarning: Ignoring unrecognized record 'END' at line 471\n",
      "  warnings.warn(\n"
     ]
    }
   ],
   "source": [
    "wt = parser.get_structure('1enh_wt', estimator.pdb_files_dict['enh1_wt'])"
   ]
  },
  {
   "cell_type": "code",
   "execution_count": 55,
   "id": "f2a2ad59-f570-44dc-a179-de56ffc545ea",
   "metadata": {},
   "outputs": [
    {
     "data": {
      "application/vnd.jupyter.widget-view+json": {
       "model_id": "cc856fd4001f49d1b63e2b270763fd55",
       "version_major": 2,
       "version_minor": 0
      },
      "text/plain": [
       "NGLWidget()"
      ]
     },
     "metadata": {},
     "output_type": "display_data"
    },
    {
     "data": {
      "application/vnd.jupyter.widget-view+json": {
       "model_id": "7337a4d7814943e6802f5418553828e7",
       "version_major": 2,
       "version_minor": 0
      },
      "text/plain": [
       "Tab(children=(Box(children=(Box(children=(Box(children=(Label(value='step'), IntSlider(value=1, min=-100)), la…"
      ]
     },
     "metadata": {},
     "output_type": "display_data"
    }
   ],
   "source": [
    "nv.show_biopython(wt, gui=True)"
   ]
  },
  {
   "cell_type": "markdown",
   "id": "2e7940de-d890-4043-ad9c-b3f8b0f164df",
   "metadata": {},
   "source": [
    "### cut off the tail and see what happens."
   ]
  },
  {
   "cell_type": "code",
   "execution_count": 67,
   "id": "91ab2054-3d90-4d16-8e18-1c893cf2adaa",
   "metadata": {},
   "outputs": [
    {
     "data": {
      "text/plain": [
       "30"
      ]
     },
     "execution_count": 67,
     "metadata": {},
     "output_type": "execute_result"
    }
   ],
   "source": [
    "tail_length = len(alignment[0].seqA) - len(alignment[0].seqA.rstrip('-'))\n",
    "tail_length"
   ]
  },
  {
   "cell_type": "code",
   "execution_count": 81,
   "id": "7b9acfa5-267b-49e4-a178-0d88e1a00ed8",
   "metadata": {},
   "outputs": [
    {
     "data": {
      "text/plain": [
       "'KPRTSFTNEQIARLEKEFNRQRYLSAQRRAELAASLNLTETQVKIWFQNRRYKT'"
      ]
     },
     "execution_count": 81,
     "metadata": {},
     "output_type": "execute_result"
    }
   ],
   "source": [
    "ENH1_translation_cut = ENH1_translation[0][2:-tail_length]\n",
    "ENH1_translation_cut"
   ]
  },
  {
   "cell_type": "code",
   "execution_count": 82,
   "id": "e971e3b9-b51e-470a-8026-6b4e3f403c25",
   "metadata": {},
   "outputs": [],
   "source": [
    "estimator = ESMFoldDGEstimator(sequences=[ENH1, ENH1_translation_cut], ids=['enh1_wt', 'enh1_trans_cut'])"
   ]
  },
  {
   "cell_type": "code",
   "execution_count": 83,
   "id": "e67d506a-1b1d-478d-b8ad-f64666d58ac4",
   "metadata": {},
   "outputs": [
    {
     "name": "stdout",
     "output_type": "stream",
     "text": [
      "Running ESMfold in 2 proteins.\n"
     ]
    },
    {
     "name": "stderr",
     "output_type": "stream",
     "text": [
      "100%|███████████████████████████████████████████████████████████████████████████████████████████████████████████████████████████████████████████████████████████████████████████████████████████████| 1/1 [00:01<00:00,  1.04s/it]\n"
     ]
    },
    {
     "name": "stdout",
     "output_type": "stream",
     "text": [
      "core.chemical.GlobalResidueTypeSet: Finished initializing fa_standard residue type set.  Created 985 residue types\n",
      "core.chemical.GlobalResidueTypeSet: Total time to initialize 0.678758 seconds.\n",
      "core.import_pose.import_pose: File './tmp/tmpfd_6o41h/enh1_wt.pdb' automatically determined to be of type PDB\n",
      "core.conformation.Conformation: [ WARNING ] missing heavyatom:  OXT on residue ILE:CtermProteinFull 54\n",
      "core.scoring.etable: Starting energy table calculation\n",
      "core.scoring.etable: smooth_etable: changing atr/rep split to bottom of energy well\n",
      "core.scoring.etable: smooth_etable: spline smoothing lj etables (maxdis = 6)\n",
      "core.scoring.etable: smooth_etable: spline smoothing solvation etables (max_dis = 6)\n",
      "core.scoring.etable: Finished calculating energy tables.\n",
      "basic.io.database: Database file opened: scoring/score_functions/hbonds/ref2015_params/HBPoly1D.csv\n",
      "basic.io.database: Database file opened: scoring/score_functions/hbonds/ref2015_params/HBFadeIntervals.csv\n",
      "basic.io.database: Database file opened: scoring/score_functions/hbonds/ref2015_params/HBEval.csv\n",
      "basic.io.database: Database file opened: scoring/score_functions/hbonds/ref2015_params/DonStrength.csv\n",
      "basic.io.database: Database file opened: scoring/score_functions/hbonds/ref2015_params/AccStrength.csv\n",
      "basic.io.database: Database file opened: scoring/score_functions/rama/fd/all.ramaProb\n",
      "basic.io.database: Database file opened: scoring/score_functions/rama/fd/prepro.ramaProb\n",
      "basic.io.database: Database file opened: scoring/score_functions/omega/omega_ppdep.all.txt\n",
      "basic.io.database: Database file opened: scoring/score_functions/omega/omega_ppdep.gly.txt\n",
      "basic.io.database: Database file opened: scoring/score_functions/omega/omega_ppdep.pro.txt\n",
      "basic.io.database: Database file opened: scoring/score_functions/omega/omega_ppdep.valile.txt\n",
      "basic.io.database: Database file opened: scoring/score_functions/P_AA_pp/P_AA\n",
      "basic.io.database: Database file opened: scoring/score_functions/P_AA_pp/P_AA_n\n",
      "core.scoring.P_AA: shapovalov_lib::shap_p_aa_pp_smooth_level of 1( aka low_smooth ) got activated.\n",
      "basic.io.database: Database file opened: scoring/score_functions/P_AA_pp/shapovalov/10deg/kappa131/a20.prop\n",
      "basic.io.database: Database file opened: scoring/score_functions/elec_cp_reps.dat\n",
      "core.scoring.elec.util: Read 40 countpair representative atoms\n",
      "core.pack.dunbrack.RotamerLibrary: shapovalov_lib_fixes_enable option is true.\n",
      "core.pack.dunbrack.RotamerLibrary: shapovalov_lib::shap_dun10_smooth_level of 1( aka lowest_smooth ) got activated.\n",
      "core.pack.dunbrack.RotamerLibrary: Binary rotamer library selected: /mmfs1/gscratch/cheme/usr/evankomp/mamba/mambaforge/envs/nomelt2/lib/python3.9/site-packages/pyrosetta-2023.27+release.e3ce6ea9faf-py3.9-linux-x86_64.egg/pyrosetta/database/rotamer/shapovalov/StpDwn_0-0-0/Dunbrack10.lib.bin\n",
      "core.pack.dunbrack.RotamerLibrary: Using Dunbrack library binary file '/mmfs1/gscratch/cheme/usr/evankomp/mamba/mambaforge/envs/nomelt2/lib/python3.9/site-packages/pyrosetta-2023.27+release.e3ce6ea9faf-py3.9-linux-x86_64.egg/pyrosetta/database/rotamer/shapovalov/StpDwn_0-0-0/Dunbrack10.lib.bin'.\n",
      "core.pack.dunbrack.RotamerLibrary: Dunbrack 2010 library took 0.198709 seconds to load from binary\n",
      "core.import_pose.import_pose: File './tmp/tmpfd_6o41h/enh1_trans_cut.pdb' automatically determined to be of type PDB\n",
      "core.conformation.Conformation: [ WARNING ] missing heavyatom:  OXT on residue THR:CtermProteinFull 54\n"
     ]
    },
    {
     "data": {
      "text/plain": [
       "{'enh1_wt': -130.82074528039993, 'enh1_trans_cut': -138.2588679216842}"
      ]
     },
     "execution_count": 83,
     "metadata": {},
     "output_type": "execute_result"
    }
   ],
   "source": [
    "estimator.run()"
   ]
  },
  {
   "cell_type": "code",
   "execution_count": 84,
   "id": "20964ba2-6a75-44ff-be0f-7f6a13a206de",
   "metadata": {},
   "outputs": [
    {
     "name": "stderr",
     "output_type": "stream",
     "text": [
      "/mmfs1/gscratch/cheme/usr/evankomp/mamba/mambaforge/envs/nomelt2/lib/python3.9/site-packages/Bio/PDB/PDBParser.py:395: PDBConstructionWarning: Ignoring unrecognized record 'END' at line 468\n",
      "  warnings.warn(\n"
     ]
    }
   ],
   "source": [
    "trans = parser.get_structure('1enh_t_cut', estimator.pdb_files_dict['enh1_trans_cut'])"
   ]
  },
  {
   "cell_type": "code",
   "execution_count": 86,
   "id": "4bd16904-52a7-4376-b006-a0f2479059ca",
   "metadata": {},
   "outputs": [
    {
     "data": {
      "text/plain": [
       "{'enh1_wt': './tmp/tmpfd_6o41h/enh1_wt.pdb',\n",
       " 'enh1_trans_cut': './tmp/tmpfd_6o41h/enh1_trans_cut.pdb'}"
      ]
     },
     "execution_count": 86,
     "metadata": {},
     "output_type": "execute_result"
    }
   ],
   "source": [
    "estimator.pdb_files_dict"
   ]
  },
  {
   "cell_type": "code",
   "execution_count": 85,
   "id": "7981d61c-4cae-4c4a-ad46-6f5a57edc860",
   "metadata": {},
   "outputs": [
    {
     "data": {
      "application/vnd.jupyter.widget-view+json": {
       "model_id": "a70cbad92138424fad24954d025e1fa0",
       "version_major": 2,
       "version_minor": 0
      },
      "text/plain": [
       "NGLWidget()"
      ]
     },
     "metadata": {},
     "output_type": "display_data"
    },
    {
     "data": {
      "application/vnd.jupyter.widget-view+json": {
       "model_id": "c933dc8bb1c240ec9ca0c25e06147e7b",
       "version_major": 2,
       "version_minor": 0
      },
      "text/plain": [
       "Tab(children=(Box(children=(Box(children=(Box(children=(Label(value='step'), IntSlider(value=1, min=-100)), la…"
      ]
     },
     "metadata": {},
     "output_type": "display_data"
    }
   ],
   "source": [
    "nv.show_biopython(trans, gui=True)"
   ]
  },
  {
   "cell_type": "markdown",
   "id": "e0f8f822-1b41-478c-91a5-c260486ca422",
   "metadata": {},
   "source": [
    "Even when we cut off the tails, the energy is slightly better. this is good."
   ]
  },
  {
   "cell_type": "code",
   "execution_count": null,
   "id": "b273094b-88f4-476e-ad13-67d0100d1ddd",
   "metadata": {},
   "outputs": [],
   "source": []
  }
 ],
 "metadata": {
  "kernelspec": {
   "display_name": "Python 3 (ipykernel)",
   "language": "python",
   "name": "python3"
  },
  "language_info": {
   "codemirror_mode": {
    "name": "ipython",
    "version": 3
   },
   "file_extension": ".py",
   "mimetype": "text/x-python",
   "name": "python",
   "nbconvert_exporter": "python",
   "pygments_lexer": "ipython3",
   "version": "3.9.16"
  }
 },
 "nbformat": 4,
 "nbformat_minor": 5
}
