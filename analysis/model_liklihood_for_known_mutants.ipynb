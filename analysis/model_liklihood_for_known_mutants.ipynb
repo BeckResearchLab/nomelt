{
 "cells": [
  {
   "cell_type": "markdown",
   "id": "3be90fc4-c3a1-4c4c-a65b-cf88aa564db4",
   "metadata": {},
   "source": [
    "# Do the model amino acid probabilies correspond with actual increases in temperature?"
   ]
  },
  {
   "cell_type": "code",
   "execution_count": 139,
   "id": "72448b0d-6559-4038-be2e-fb1af9a57dc3",
   "metadata": {},
   "outputs": [],
   "source": [
    "import pandas as pd\n",
    "import numpy as np\n",
    "import matplotlib.pyplot as plt\n",
    "import seaborn as sns\n",
    "import os\n",
    "import MDAnalysis as mda\n",
    "import io\n",
    "import copy\n",
    "sns.set_style('ticks')\n",
    "sns.set_context('talk')"
   ]
  },
  {
   "cell_type": "code",
   "execution_count": 131,
   "id": "8b24dad8-4811-483f-97f5-d82e6d870f57",
   "metadata": {},
   "outputs": [],
   "source": [
    "aa_three_to_one = {\n",
    "    'ALA': 'A',\n",
    "    'ARG': 'R',\n",
    "    'ASN': 'N',\n",
    "    'ASP': 'D',\n",
    "    'CYS': 'C',\n",
    "    'GLN': 'Q',\n",
    "    'GLU': 'E',\n",
    "    'GLY': 'G',\n",
    "    'HIS': 'H',\n",
    "    'ILE': 'I',\n",
    "    'LEU': 'L',\n",
    "    'LYS': 'K',\n",
    "    'MET': 'M',\n",
    "    'PHE': 'F',\n",
    "    'PRO': 'P',\n",
    "    'SER': 'S',\n",
    "    'THR': 'T',\n",
    "    'TRP': 'W',\n",
    "    'TYR': 'Y',\n",
    "    'VAL': 'V'\n",
    "}"
   ]
  },
  {
   "cell_type": "code",
   "execution_count": 2,
   "id": "4d0a3fb4-5883-4e22-b514-5616773a7102",
   "metadata": {},
   "outputs": [
    {
     "name": "stderr",
     "output_type": "stream",
     "text": [
      "2023-09-14 10:27:43.379599: I tensorflow/core/platform/cpu_feature_guard.cc:193] This TensorFlow binary is optimized with oneAPI Deep Neural Network Library (oneDNN) to use the following CPU instructions in performance-critical operations:  SSE4.1 SSE4.2 AVX AVX2 AVX512F AVX512_VNNI FMA\n",
      "To enable them in other operations, rebuild TensorFlow with the appropriate compiler flags.\n",
      "2023-09-14 10:27:44.969382: I tensorflow/core/util/port.cc:104] oneDNN custom operations are on. You may see slightly different numerical results due to floating-point round-off errors from different computation orders. To turn them off, set the environment variable `TF_ENABLE_ONEDNN_OPTS=0`.\n"
     ]
    },
    {
     "name": "stdout",
     "output_type": "stream",
     "text": [
      "[2023-09-14 10:28:26,823] [INFO] [real_accelerator.py:133:get_accelerator] Setting ds_accelerator to cuda (auto detect)\n"
     ]
    }
   ],
   "source": [
    "import logging\n",
    "import numpy as np\n",
    "import pandas as pd\n",
    "import os\n",
    "import re\n",
    "import torch\n",
    "import pprint\n",
    "from yaml import safe_load, dump\n",
    "from torch.utils.data import DataLoader\n",
    "from tqdm import tqdm\n",
    "\n",
    "from datasets import load_from_disk\n",
    "from evaluate import load\n",
    "import transformers.integrations\n",
    "from transformers import (\n",
    "    AutoConfig,\n",
    "    AutoModelForSeq2SeqLM,\n",
    "    AutoTokenizer,\n",
    "    T5Tokenizer,\n",
    "    DataCollatorForSeq2Seq\n",
    ")\n"
   ]
  },
  {
   "cell_type": "markdown",
   "id": "fe9b4c38-5d70-4c73-b405-c73218af1bc4",
   "metadata": {},
   "source": [
    "### load wild type sequence and mutations"
   ]
  },
  {
   "cell_type": "markdown",
   "id": "3300b13d-a4ab-4b02-8869-10d90e682670",
   "metadata": {},
   "source": [
    "https://chemistry-europe.onlinelibrary.wiley.com/doi/10.1002/cctc.202101349"
   ]
  },
  {
   "cell_type": "code",
   "execution_count": 3,
   "id": "f950fb8a-57eb-4aaa-a621-e2a3efa066d3",
   "metadata": {},
   "outputs": [],
   "source": [
    "full_seqs = {\n",
    "    'LovD': \"MGSIIDAAAAADPVVLMETAFRKAVKSRQIPGAVIMARDASGNLNYTRCFGARTVRRDENNQLPPLQVDTPCRLASATKLLTTIMALQCMERGLVDLDETVDRLLPDLSAMPVLEGFDDAGNARLRERRGKITLRHLLTHTSGLSYVFLHPLLREYMAQGHLQSAEKFGIQSRLAPPAVNDPGAEWIYGANLDWAGKLVERATGLDLEQYLQENICAPLGITDMTFKLQQRPDMLARRADQTHRNSADGRLRYDDSVYFRADGEECFGGQGVFSGPGSYMKVLHSLLKRDGLLLQPQTVDLMFQPALEPRLEEQMNQHMDASPHINYGGPMPMVLRRSFGLGGIIALEDLDGENWRRKGSLTFGGGPNIVWQIDPKAGLCTLAFFQLEPWNDPVCRDLTRTFEHAIYAQYQQG\",\n",
    "    'LovD1': \"MGSIIDAAAAADPVVLMETAFRKAVKSRQIPGAVIMARDASGNLNYTRCFGARTVRRDENNQLPPLQVDTPCRLASATKLLTTIMALQCMERGLVDLDETVDRLLPDLSAMPVLEGFDDAGNARLRERRGKITLRHLLTHTSGLSYVFLHPLLREYMAQGHLQSAEKFGIQSRLAPPAVNDPGAEWIYGANLDWAGKLVERATGLDLEQYLQENICAPLGITDMTFKLQQRPDMLARRADQTHRNSADGRLRYDDSVYFRADGEECFGGQGVFSGPGSYMKVLHSLLKRDGLLLQPQTVDLMFQPALEPRLEEQMNQHMDASPHINYGGPMPMVLRRSFGLGGIIALEDLDGENWRRKGSMTFGGGPNIVWQIDPKAGLCTLAFFQLEPWNDPVCRDLTRTFEHAIYAQYQQG\",\n",
    "    'LovD2': \"MGSIIDAAAAADPVVLMETAFRKAVKSRQIPGAVIMARDASGNLNYTRCFGARTVRRDENNQLPPLQVDTPCRLASATKLLTTIMALQCMERGLVDLDETVDRLLPDLSAMPVLEGFDDAGNPRLRERRGKITLRHLLTHTSGLSYVFLHPLLREYMAQGHLQSAEKFGIQSRFAPPLVNDPGAEWIYGASLDWAGKLVERATGLDLEQYLQENICAPLGITDMTFKLQQRPDMLARRADQTHRNSSDGRLRYDDSVYFRADGEECFGGQGVFSGPGSYMKVLHSLLKRDGLLLQPQTVDLMFQPALEPRLEEQMNQHMDASPHINYGGPMPMVLRRSFGLGGIIALEDLDGENWRRKGSMTFGGGPNIVWQIDPKAGLCTLAFFQLEPWNDPVCRDLTRTFEHAIYAQYQQG\",\n",
    "    'LovD3': \"MGSIIDAAAAADPVVLMETAFRKAVKSRQIPGAVIMARDASGNLNYTRCFGARTVRRDENNQLPPLQVDTPCRLASATKLLTTIMALQCMERGLVDLDETVDRLLPDLSAMPVLEGFDDAGNPRLRERRGKITLRHLLTHTSGLSYVFLHPLLREYMAQGHLQSAEKFGIQSRFAPPLVNDPGAEWIYGASLDWAGKLVERATGLDLEQYLQENICAPLGITDMTFKLQQRPDMLARRADQTHRNSSDGRLRYDDSVYFRADGEECFGGQGVFSSPGSYMKVLHSLLKRDGLLLQPQTVDLMFQPALEPRLEEQMNQHMDASPHINYGGPMPMVLRRSFGLGGIIALEDLDGENWRRKGSMTFGGGPNIVWQIDPKAGLCTLAFFQLEPWNDPVCRDLTRTFEHAIYAQYQQG\",\n",
    "    'LovD4': \"MGSIIDAAAAADPVVLMETAFRKAVKSRQIPGAVIMARDASGNLNYTRCFGARTVRRDENNQLPPLQVDTPCRLASATKLLTTIMALQCMERGLVDLDETVDRLLPDLSAMPVLEGFDDAGNPRLRERRGKITLRHLLTHTSGLSYVFLHPLLREYVAQGHLQSAEKFGIQNRFAPPLVNDPGAEWIYGASLDWAGKLVERATGLDLEQYLQENICAPLGITDMTFKLQQRPDMLARRADQTHRNSSDGRLRYDDSVYFRADGEECFGGQGVFSSPGSYMKVLHSLLKRDGLLLQPQTVDLMFQPALEPRLEEQMNQHMDASPHINYGGPMPMVLRRSFGLGGIIALEDLDGENWRRKGSMTFGGGPNIVWQIDPKAGLCTLAFFQLEPWNDPVCRDLTRTFEHAIYAQYQQG\",\n",
    "    'LovD5': \"MGSIIDAAVAADPVVLMETAFRKAVESRQIPGAVIMARDASGNLNYTRCFGARTVRRDENNQLPPLQVDTPCRLASATKLLTTIMALQCMERGLVDLDETVDRLLPDLSAMPVLEGFDDAGNPRLRERRGKITLRHLLTHTSGLSYVFLHPLLREYVAQGHLQSAEKFGIQNRFAPPLVNDPGAEWIYGASIDWAGKLVERATGLDLEQYLQENICAPLGITDMTFKLQQRPDMLARRADQTHRNSSDGKLRYDDSVYFRADGEECFGGQGVFSSPGSYMKVLHSLLKRDGLLLQPETVDLMFQPALEPRLEEQMNQHMDASPHINYGGPMPMVLRRSFGLGGIIALEDLDGENWRRKGSMTFGGGPNIVWQIDPKAGLCTLVFFQLEPWNDPVCRDLTRTFEHAIYAQYQQG\",\n",
    "    'LovD6': \"MGSIIDAAVAADPVVLMETAFRKAVESRQIPGAVIMARDASGRLNYTRCFGARTVRRDENNQLPPLQVDTPCRLASATKLLTTIMALQCMERGLVDLDETVDRLLPDLSAMPVLEGFDDAGNPRLRERRGKITLRHLLTHTSGLSYVFLHPLLREYVAQGHLQGAEKFGIQNRFAPPLVNDPGAEWIYGAGIDWAGKLVERATGLDLEQYLQENICAPLGITDMTFKLQQRPDMLARRADMTHRNSSDGKLRYDDSVYFRADGEECFGGQGVFSSPGSYMKVLHSLLKRDGLLLQPETVDLMFQPALEPRLEEQMNQHMDASPHINYGGPMPMVLRRSFGLGGIIALEDLDGENWRRKGSMTFGGGPNIIWQIDPKAGLCTLVFFQLEPWNDPVCRDLTRTFEKAIYAQYQQG\",\n",
    "    'LovD7': \"MGSIIDAAVAADPVVLMETAFRKAVESRQIPGAVIMARDASGRLNYTRCFGARTVRRDENNQLPPLQVDTPCRLASATKLLTTIMALQCMERGLVDLDETVDRLLPDLSAMPVLEGFDDAGNPRLRERRGKITLRHLLTHTSGLSYVFLHPLLREYVAQGHLQGAEKFGIQNRFAPPLVNDPGAEWIYGAGIDWAGKLVERATGLDLEQYLQENICAPLGITDMTFKLQQRPDMLARRADMTHRNSSDGKLRYDDTVYFRVDGEECFGGQGVFSSPGSYMKVLHSLLKRDGLLLQPGTVDLMFQPALEPRLEEQMNQHMDASPHINYGGPMPMVLRRSFGLGGIIALEDLDGENWRRKGSMTFGGGPNIIWQIDPKAGLCTLVFFQLEPWSDPVCRDLTRTFEKAIYAQYQQG\",\n",
    "    'LovD8': \"MGSNIDAAVAADPVVLMETAFRKAVESSQIPGAVIMARDASGRLNYTRCFGARTVRRDENNQLPPLQVDTPCRLASATKLLTTIMALQCMERGLVDLDETVDRLLPDLSAMPVLEGFDDAGNPRLRERRGKITLRHLLTHTSGLSYVFLHPLLREYVAQGHLQGAEKFGIQNRFAPPLVNDPGAEWIYGAGIDWAGKLVERATGLDLEQYLQENICAPLGITDMTFKLQQRPDMLARRADMTHRNSSDGKLRYDDTVYFRHDGEECFGGQGVFSSPGSYMKVLHSLLKRDGLLLQPGTVDLMFQPALEPRLEEQMNQHMDASPHINYGGPMPMVLRRSFGLGGIIALEDLDGENWRRKGSMTFGGGPNIIWQIDPKAGLCTLVFFQLEPWSDPVCRDLTRTFEKAIYAQYQQG\",\n",
    "    'LovD9': \"MGSNIDAAVAADPVVLMETAFRKAVESSQIPGAVLMARDASGRLNYTRCFGARTVRRDENNQLPPLQVDTPCRLASATKLLTTIMALQCMERGLVRLDETVDRLLPDLCAMPVLEGFDDAGNPRLRERRGKITLRHLLTHTSGLSYVFLHPLLREYVAQGHLQGAEKFGIQNRFAPPLVNDPGAEWIYGAGIDWAGKLVERATGLDLEQYLQENICAPLGITDMTFKLQQRPDMLARRADMTHRNSSDGKLRYDDTVYFRHDGEECFGGQGVFSSPGSYMKVLHSLLKRDGLLLQPGTVDLMFQPALEPRLEEQMNQHMDASPHINYGGPMPMVMRRSFGLGGIIALEDLDGENWRRKGSMTFGGGPNIIWQIDPKAGLCTLVFFQLEPWSDPVCRDLTRTFEKAIYAQYQQG\"\n",
    "}"
   ]
  },
  {
   "cell_type": "code",
   "execution_count": 4,
   "id": "8563938d-e527-40c5-b915-309e551b3ead",
   "metadata": {},
   "outputs": [],
   "source": [
    "temperatures = [38.5, 39.5, 44.0, 44.3, 45.0, 46.0, 52.0, 49.0, 49.3, 50.8]"
   ]
  },
  {
   "cell_type": "code",
   "execution_count": 5,
   "id": "7965ebfb-90b5-4875-aa5b-86bee0eef2dc",
   "metadata": {},
   "outputs": [],
   "source": [
    "def get_mutation_positions(wt, seq):\n",
    "    assert len(wt) == len(seq)\n",
    "    positions = []\n",
    "    for i in range(len(wt)):\n",
    "        if wt[i] != seq[i]:\n",
    "            positions.append(i)\n",
    "    return positions"
   ]
  },
  {
   "cell_type": "code",
   "execution_count": 6,
   "id": "c413f2fd-1992-46a5-bdba-bf6d9c2ef2c6",
   "metadata": {},
   "outputs": [
    {
     "data": {
      "text/plain": [
       "[3,\n",
       " 8,\n",
       " 25,\n",
       " 27,\n",
       " 34,\n",
       " 42,\n",
       " 95,\n",
       " 108,\n",
       " 122,\n",
       " 156,\n",
       " 163,\n",
       " 171,\n",
       " 173,\n",
       " 177,\n",
       " 190,\n",
       " 191,\n",
       " 240,\n",
       " 246,\n",
       " 249,\n",
       " 255,\n",
       " 260,\n",
       " 274,\n",
       " 296,\n",
       " 334,\n",
       " 360,\n",
       " 369,\n",
       " 382,\n",
       " 390,\n",
       " 403]"
      ]
     },
     "execution_count": 6,
     "metadata": {},
     "output_type": "execute_result"
    }
   ],
   "source": [
    "get_mutation_positions(full_seqs['LovD'], full_seqs['LovD9'],)"
   ]
  },
  {
   "cell_type": "markdown",
   "id": "4e92a4de-5ddc-4be3-9b48-046edbe2aadc",
   "metadata": {},
   "source": [
    "### Model"
   ]
  },
  {
   "cell_type": "code",
   "execution_count": 7,
   "id": "2452a320-457e-4b09-95c5-a9fbf880eeb4",
   "metadata": {},
   "outputs": [],
   "source": [
    "with open('../params.yaml', 'r') as f:\n",
    "        params = safe_load(f)"
   ]
  },
  {
   "cell_type": "code",
   "execution_count": 8,
   "id": "05e78140-25fe-424a-84af-862291504d74",
   "metadata": {},
   "outputs": [
    {
     "name": "stderr",
     "output_type": "stream",
     "text": [
      "You are using the legacy behaviour of the <class 'transformers.models.t5.tokenization_t5.T5Tokenizer'>. This means that tokens that come after special tokens will not be properly handled. We recommend you to read the related pull request available at https://github.com/huggingface/transformers/pull/24565\n"
     ]
    },
    {
     "data": {
      "text/plain": [
       "T5ForConditionalGeneration(\n",
       "  (shared): Embedding(128, 1024)\n",
       "  (encoder): T5Stack(\n",
       "    (embed_tokens): Embedding(128, 1024)\n",
       "    (block): ModuleList(\n",
       "      (0): T5Block(\n",
       "        (layer): ModuleList(\n",
       "          (0): T5LayerSelfAttention(\n",
       "            (SelfAttention): T5Attention(\n",
       "              (q): Linear(in_features=1024, out_features=4096, bias=False)\n",
       "              (k): Linear(in_features=1024, out_features=4096, bias=False)\n",
       "              (v): Linear(in_features=1024, out_features=4096, bias=False)\n",
       "              (o): Linear(in_features=4096, out_features=1024, bias=False)\n",
       "              (relative_attention_bias): Embedding(32, 32)\n",
       "            )\n",
       "            (layer_norm): T5LayerNorm()\n",
       "            (dropout): Dropout(p=0.1, inplace=False)\n",
       "          )\n",
       "          (1): T5LayerFF(\n",
       "            (DenseReluDense): T5DenseActDense(\n",
       "              (wi): Linear(in_features=1024, out_features=16384, bias=False)\n",
       "              (wo): Linear(in_features=16384, out_features=1024, bias=False)\n",
       "              (dropout): Dropout(p=0.1, inplace=False)\n",
       "              (act): ReLU()\n",
       "            )\n",
       "            (layer_norm): T5LayerNorm()\n",
       "            (dropout): Dropout(p=0.1, inplace=False)\n",
       "          )\n",
       "        )\n",
       "      )\n",
       "      (1-23): 23 x T5Block(\n",
       "        (layer): ModuleList(\n",
       "          (0): T5LayerSelfAttention(\n",
       "            (SelfAttention): T5Attention(\n",
       "              (q): Linear(in_features=1024, out_features=4096, bias=False)\n",
       "              (k): Linear(in_features=1024, out_features=4096, bias=False)\n",
       "              (v): Linear(in_features=1024, out_features=4096, bias=False)\n",
       "              (o): Linear(in_features=4096, out_features=1024, bias=False)\n",
       "            )\n",
       "            (layer_norm): T5LayerNorm()\n",
       "            (dropout): Dropout(p=0.1, inplace=False)\n",
       "          )\n",
       "          (1): T5LayerFF(\n",
       "            (DenseReluDense): T5DenseActDense(\n",
       "              (wi): Linear(in_features=1024, out_features=16384, bias=False)\n",
       "              (wo): Linear(in_features=16384, out_features=1024, bias=False)\n",
       "              (dropout): Dropout(p=0.1, inplace=False)\n",
       "              (act): ReLU()\n",
       "            )\n",
       "            (layer_norm): T5LayerNorm()\n",
       "            (dropout): Dropout(p=0.1, inplace=False)\n",
       "          )\n",
       "        )\n",
       "      )\n",
       "    )\n",
       "    (final_layer_norm): T5LayerNorm()\n",
       "    (dropout): Dropout(p=0.1, inplace=False)\n",
       "  )\n",
       "  (decoder): T5Stack(\n",
       "    (embed_tokens): Embedding(128, 1024)\n",
       "    (block): ModuleList(\n",
       "      (0): T5Block(\n",
       "        (layer): ModuleList(\n",
       "          (0): T5LayerSelfAttention(\n",
       "            (SelfAttention): T5Attention(\n",
       "              (q): Linear(in_features=1024, out_features=4096, bias=False)\n",
       "              (k): Linear(in_features=1024, out_features=4096, bias=False)\n",
       "              (v): Linear(in_features=1024, out_features=4096, bias=False)\n",
       "              (o): Linear(in_features=4096, out_features=1024, bias=False)\n",
       "              (relative_attention_bias): Embedding(32, 32)\n",
       "            )\n",
       "            (layer_norm): T5LayerNorm()\n",
       "            (dropout): Dropout(p=0.1, inplace=False)\n",
       "          )\n",
       "          (1): T5LayerCrossAttention(\n",
       "            (EncDecAttention): T5Attention(\n",
       "              (q): Linear(in_features=1024, out_features=4096, bias=False)\n",
       "              (k): Linear(in_features=1024, out_features=4096, bias=False)\n",
       "              (v): Linear(in_features=1024, out_features=4096, bias=False)\n",
       "              (o): Linear(in_features=4096, out_features=1024, bias=False)\n",
       "            )\n",
       "            (layer_norm): T5LayerNorm()\n",
       "            (dropout): Dropout(p=0.1, inplace=False)\n",
       "          )\n",
       "          (2): T5LayerFF(\n",
       "            (DenseReluDense): T5DenseActDense(\n",
       "              (wi): Linear(in_features=1024, out_features=16384, bias=False)\n",
       "              (wo): Linear(in_features=16384, out_features=1024, bias=False)\n",
       "              (dropout): Dropout(p=0.1, inplace=False)\n",
       "              (act): ReLU()\n",
       "            )\n",
       "            (layer_norm): T5LayerNorm()\n",
       "            (dropout): Dropout(p=0.1, inplace=False)\n",
       "          )\n",
       "        )\n",
       "      )\n",
       "      (1-23): 23 x T5Block(\n",
       "        (layer): ModuleList(\n",
       "          (0): T5LayerSelfAttention(\n",
       "            (SelfAttention): T5Attention(\n",
       "              (q): Linear(in_features=1024, out_features=4096, bias=False)\n",
       "              (k): Linear(in_features=1024, out_features=4096, bias=False)\n",
       "              (v): Linear(in_features=1024, out_features=4096, bias=False)\n",
       "              (o): Linear(in_features=4096, out_features=1024, bias=False)\n",
       "            )\n",
       "            (layer_norm): T5LayerNorm()\n",
       "            (dropout): Dropout(p=0.1, inplace=False)\n",
       "          )\n",
       "          (1): T5LayerCrossAttention(\n",
       "            (EncDecAttention): T5Attention(\n",
       "              (q): Linear(in_features=1024, out_features=4096, bias=False)\n",
       "              (k): Linear(in_features=1024, out_features=4096, bias=False)\n",
       "              (v): Linear(in_features=1024, out_features=4096, bias=False)\n",
       "              (o): Linear(in_features=4096, out_features=1024, bias=False)\n",
       "            )\n",
       "            (layer_norm): T5LayerNorm()\n",
       "            (dropout): Dropout(p=0.1, inplace=False)\n",
       "          )\n",
       "          (2): T5LayerFF(\n",
       "            (DenseReluDense): T5DenseActDense(\n",
       "              (wi): Linear(in_features=1024, out_features=16384, bias=False)\n",
       "              (wo): Linear(in_features=16384, out_features=1024, bias=False)\n",
       "              (dropout): Dropout(p=0.1, inplace=False)\n",
       "              (act): ReLU()\n",
       "            )\n",
       "            (layer_norm): T5LayerNorm()\n",
       "            (dropout): Dropout(p=0.1, inplace=False)\n",
       "          )\n",
       "        )\n",
       "      )\n",
       "    )\n",
       "    (final_layer_norm): T5LayerNorm()\n",
       "    (dropout): Dropout(p=0.1, inplace=False)\n",
       "  )\n",
       "  (lm_head): Linear(in_features=1024, out_features=128, bias=False)\n",
       ")"
      ]
     },
     "execution_count": 8,
     "metadata": {},
     "output_type": "execute_result"
    }
   ],
   "source": [
    "tokenizer = T5Tokenizer.from_pretrained(params['model']['pretrained_model'])\n",
    "model_config = AutoConfig.from_pretrained('../data/nomelt-model/model')\n",
    "for model_hyperparam in params['model']['model_hyperparams']:\n",
    "    setattr(model_config, model_hyperparam, params['model']['model_hyperparams'][model_hyperparam])\n",
    "setattr(model_config, 'max_length', params['model']['generation_max_length'])\n",
    "model = AutoModelForSeq2SeqLM.from_pretrained('../data/nomelt-model/model', config=model_config)\n",
    "model.to('cuda')"
   ]
  },
  {
   "cell_type": "code",
   "execution_count": 9,
   "id": "b97e9d39-08b3-47a3-859b-b8d2f2850e2c",
   "metadata": {},
   "outputs": [],
   "source": [
    "def prepare_string(string):\n",
    "    out = ' '.join(string)\n",
    "    out = re.sub(r\"[UZOB]\", \"X\", out)\n",
    "    return out\n",
    "def tokenize(in_seq, out_seq):\n",
    "    a, b = prepare_string(in_seq), prepare_string(out_seq)\n",
    "    inputs = tokenizer(a, text_target=b)\n",
    "    return inputs\n",
    "def dict_to_torch(dic):\n",
    "    return {k: torch.tensor(v).reshape(1,-1).to('cuda') for k, v in dic.items()}"
   ]
  },
  {
   "cell_type": "code",
   "execution_count": 10,
   "id": "ed3172ad-d294-4a03-b6ec-b07d90c5e962",
   "metadata": {},
   "outputs": [],
   "source": [
    "vocab = tokenizer.get_vocab()"
   ]
  },
  {
   "cell_type": "code",
   "execution_count": 157,
   "id": "5f450173-58f6-4322-87ec-a2c20f3d3169",
   "metadata": {},
   "outputs": [],
   "source": [
    "def get_log_probs_dif(wt, seq, use_all_positions=True):\n",
    "    print(len(wt), len(seq))\n",
    "    if not use_all_positions:\n",
    "        positions = get_mutation_positions(wt, seq)\n",
    "        wt_positions = positions\n",
    "        seq_positions = positions\n",
    "    else:\n",
    "        wt_positions = list(range(len(wt)))\n",
    "        seq_positions = list(range(len(seq)))\n",
    "\n",
    "    wt_inputs = tokenize(wt, wt)\n",
    "    wt_inputs = dict_to_torch(wt_inputs)\n",
    "    wt_logits = model(**wt_inputs).logits[0].detach().cpu()\n",
    "    del wt_inputs\n",
    "\n",
    "    wt_probs_all = torch.softmax(wt_logits, axis=1)\n",
    "\n",
    "    wt_probs = []\n",
    "    for pos in wt_positions:\n",
    "        aa_probs = wt_probs_all[pos]\n",
    "        aa_true = wt[pos]\n",
    "        aa_true_index = vocab['▁'+aa_true]\n",
    "        aa_true_prob = aa_probs[aa_true_index]\n",
    "        wt_probs.append(float(aa_true_prob))\n",
    "\n",
    "    seq_inputs = tokenize(wt, seq)\n",
    "    seq_inputs = dict_to_torch(seq_inputs)\n",
    "    seq_logits = model(**seq_inputs).logits[0].detach().cpu()\n",
    "    del seq_inputs\n",
    "\n",
    "    seq_probs_all = torch.softmax(seq_logits, axis=1)\n",
    "\n",
    "    seq_probs = []\n",
    "    for pos in seq_positions:\n",
    "        aa_probs = seq_probs_all[pos]\n",
    "        aa_true = seq[pos]\n",
    "        aa_true_index = vocab['▁'+aa_true]\n",
    "        aa_true_prob = aa_probs[aa_true_index]\n",
    "        seq_probs.append(float(aa_true_prob))\n",
    "    torch.cuda.empty_cache()\n",
    "    return wt_probs, seq_probs"
   ]
  },
  {
   "cell_type": "code",
   "execution_count": 12,
   "id": "a0b478ef-301c-4d87-9d3f-afe6692c2234",
   "metadata": {},
   "outputs": [],
   "source": [
    "wt_probs, seq_probs = get_log_probs_dif(full_seqs['LovD'], full_seqs['LovD9'])"
   ]
  },
  {
   "cell_type": "code",
   "execution_count": 13,
   "id": "e3e7915d-c350-4a66-8108-11701b23d01d",
   "metadata": {},
   "outputs": [
    {
     "data": {
      "text/plain": [
       "2.4390291003801394"
      ]
     },
     "execution_count": 13,
     "metadata": {},
     "output_type": "execute_result"
    }
   ],
   "source": [
    "sum(wt_probs)"
   ]
  },
  {
   "cell_type": "code",
   "execution_count": 14,
   "id": "198b158a-e11b-4ce8-b65f-86ec8b2c5065",
   "metadata": {},
   "outputs": [
    {
     "data": {
      "text/plain": [
       "4.382837396929972"
      ]
     },
     "execution_count": 14,
     "metadata": {},
     "output_type": "execute_result"
    }
   ],
   "source": [
    "sum(seq_probs)"
   ]
  },
  {
   "cell_type": "markdown",
   "id": "f80c85c3-17b8-4aa3-8885-eacf003aab71",
   "metadata": {},
   "source": [
    "### Run on all of them"
   ]
  },
  {
   "cell_type": "code",
   "execution_count": 59,
   "id": "26bbf6f9-b3ff-49a9-a0fe-098b5cb8914e",
   "metadata": {},
   "outputs": [],
   "source": [
    "df = pd.DataFrame(pd.Series(data=full_seqs), columns=['seq'])"
   ]
  },
  {
   "cell_type": "code",
   "execution_count": 60,
   "id": "e25cfbbf-f998-4c4d-8483-ac3ed6e270d3",
   "metadata": {},
   "outputs": [],
   "source": [
    "def do_one(v_seq):\n",
    "    wt_probs, seq_probs = get_log_probs_dif(full_seqs['LovD'], v_seq, use_all_positions=True)\n",
    "    return (wt_probs, seq_probs)"
   ]
  },
  {
   "cell_type": "code",
   "execution_count": 61,
   "id": "84b3ff56-d1a6-45b5-83aa-573758809ba7",
   "metadata": {},
   "outputs": [],
   "source": [
    "df['probs_data'] = df['seq'].apply(do_one)"
   ]
  },
  {
   "cell_type": "code",
   "execution_count": 62,
   "id": "dd018293-334c-4f07-8e54-db77cc51b8fa",
   "metadata": {},
   "outputs": [
    {
     "data": {
      "text/html": [
       "<div>\n",
       "<style scoped>\n",
       "    .dataframe tbody tr th:only-of-type {\n",
       "        vertical-align: middle;\n",
       "    }\n",
       "\n",
       "    .dataframe tbody tr th {\n",
       "        vertical-align: top;\n",
       "    }\n",
       "\n",
       "    .dataframe thead th {\n",
       "        text-align: right;\n",
       "    }\n",
       "</style>\n",
       "<table border=\"1\" class=\"dataframe\">\n",
       "  <thead>\n",
       "    <tr style=\"text-align: right;\">\n",
       "      <th></th>\n",
       "      <th>seq</th>\n",
       "      <th>probs_data</th>\n",
       "      <th>T</th>\n",
       "    </tr>\n",
       "  </thead>\n",
       "  <tbody>\n",
       "    <tr>\n",
       "      <th>LovD</th>\n",
       "      <td>MGSIIDAAAAADPVVLMETAFRKAVKSRQIPGAVIMARDASGNLNY...</td>\n",
       "      <td>([0.9999514818191528, 0.10209151357412338, 0.0...</td>\n",
       "      <td>38.5</td>\n",
       "    </tr>\n",
       "    <tr>\n",
       "      <th>LovD1</th>\n",
       "      <td>MGSIIDAAAAADPVVLMETAFRKAVKSRQIPGAVIMARDASGNLNY...</td>\n",
       "      <td>([0.9999514818191528, 0.10209151357412338, 0.0...</td>\n",
       "      <td>39.5</td>\n",
       "    </tr>\n",
       "    <tr>\n",
       "      <th>LovD2</th>\n",
       "      <td>MGSIIDAAAAADPVVLMETAFRKAVKSRQIPGAVIMARDASGNLNY...</td>\n",
       "      <td>([0.9999514818191528, 0.10209151357412338, 0.0...</td>\n",
       "      <td>44.0</td>\n",
       "    </tr>\n",
       "    <tr>\n",
       "      <th>LovD3</th>\n",
       "      <td>MGSIIDAAAAADPVVLMETAFRKAVKSRQIPGAVIMARDASGNLNY...</td>\n",
       "      <td>([0.9999514818191528, 0.10209151357412338, 0.0...</td>\n",
       "      <td>44.3</td>\n",
       "    </tr>\n",
       "    <tr>\n",
       "      <th>LovD4</th>\n",
       "      <td>MGSIIDAAAAADPVVLMETAFRKAVKSRQIPGAVIMARDASGNLNY...</td>\n",
       "      <td>([0.9999514818191528, 0.10209151357412338, 0.0...</td>\n",
       "      <td>45.0</td>\n",
       "    </tr>\n",
       "    <tr>\n",
       "      <th>LovD5</th>\n",
       "      <td>MGSIIDAAVAADPVVLMETAFRKAVESRQIPGAVIMARDASGNLNY...</td>\n",
       "      <td>([0.9999514818191528, 0.10209151357412338, 0.0...</td>\n",
       "      <td>46.0</td>\n",
       "    </tr>\n",
       "    <tr>\n",
       "      <th>LovD6</th>\n",
       "      <td>MGSIIDAAVAADPVVLMETAFRKAVESRQIPGAVIMARDASGRLNY...</td>\n",
       "      <td>([0.9999514818191528, 0.10209151357412338, 0.0...</td>\n",
       "      <td>52.0</td>\n",
       "    </tr>\n",
       "    <tr>\n",
       "      <th>LovD7</th>\n",
       "      <td>MGSIIDAAVAADPVVLMETAFRKAVESRQIPGAVIMARDASGRLNY...</td>\n",
       "      <td>([0.9999514818191528, 0.10209151357412338, 0.0...</td>\n",
       "      <td>49.0</td>\n",
       "    </tr>\n",
       "    <tr>\n",
       "      <th>LovD8</th>\n",
       "      <td>MGSNIDAAVAADPVVLMETAFRKAVESSQIPGAVIMARDASGRLNY...</td>\n",
       "      <td>([0.9999514818191528, 0.10209151357412338, 0.0...</td>\n",
       "      <td>49.3</td>\n",
       "    </tr>\n",
       "    <tr>\n",
       "      <th>LovD9</th>\n",
       "      <td>MGSNIDAAVAADPVVLMETAFRKAVESSQIPGAVLMARDASGRLNY...</td>\n",
       "      <td>([0.9999514818191528, 0.10209151357412338, 0.0...</td>\n",
       "      <td>50.8</td>\n",
       "    </tr>\n",
       "  </tbody>\n",
       "</table>\n",
       "</div>"
      ],
      "text/plain": [
       "                                                     seq  \\\n",
       "LovD   MGSIIDAAAAADPVVLMETAFRKAVKSRQIPGAVIMARDASGNLNY...   \n",
       "LovD1  MGSIIDAAAAADPVVLMETAFRKAVKSRQIPGAVIMARDASGNLNY...   \n",
       "LovD2  MGSIIDAAAAADPVVLMETAFRKAVKSRQIPGAVIMARDASGNLNY...   \n",
       "LovD3  MGSIIDAAAAADPVVLMETAFRKAVKSRQIPGAVIMARDASGNLNY...   \n",
       "LovD4  MGSIIDAAAAADPVVLMETAFRKAVKSRQIPGAVIMARDASGNLNY...   \n",
       "LovD5  MGSIIDAAVAADPVVLMETAFRKAVESRQIPGAVIMARDASGNLNY...   \n",
       "LovD6  MGSIIDAAVAADPVVLMETAFRKAVESRQIPGAVIMARDASGRLNY...   \n",
       "LovD7  MGSIIDAAVAADPVVLMETAFRKAVESRQIPGAVIMARDASGRLNY...   \n",
       "LovD8  MGSNIDAAVAADPVVLMETAFRKAVESSQIPGAVIMARDASGRLNY...   \n",
       "LovD9  MGSNIDAAVAADPVVLMETAFRKAVESSQIPGAVLMARDASGRLNY...   \n",
       "\n",
       "                                              probs_data     T  \n",
       "LovD   ([0.9999514818191528, 0.10209151357412338, 0.0...  38.5  \n",
       "LovD1  ([0.9999514818191528, 0.10209151357412338, 0.0...  39.5  \n",
       "LovD2  ([0.9999514818191528, 0.10209151357412338, 0.0...  44.0  \n",
       "LovD3  ([0.9999514818191528, 0.10209151357412338, 0.0...  44.3  \n",
       "LovD4  ([0.9999514818191528, 0.10209151357412338, 0.0...  45.0  \n",
       "LovD5  ([0.9999514818191528, 0.10209151357412338, 0.0...  46.0  \n",
       "LovD6  ([0.9999514818191528, 0.10209151357412338, 0.0...  52.0  \n",
       "LovD7  ([0.9999514818191528, 0.10209151357412338, 0.0...  49.0  \n",
       "LovD8  ([0.9999514818191528, 0.10209151357412338, 0.0...  49.3  \n",
       "LovD9  ([0.9999514818191528, 0.10209151357412338, 0.0...  50.8  "
      ]
     },
     "execution_count": 62,
     "metadata": {},
     "output_type": "execute_result"
    }
   ],
   "source": [
    "df['T'] = temperatures\n",
    "df"
   ]
  },
  {
   "cell_type": "code",
   "execution_count": 63,
   "id": "f05829f2-3c93-4d46-9875-27ce73a67287",
   "metadata": {},
   "outputs": [],
   "source": [
    "def difference_metric(wt_probs, seq_probs):\n",
    "    try:\n",
    "        return sum(np.log(seq_probs))/len(seq_probs) - sum(np.log(wt_probs))/len(wt_probs)\n",
    "    except:\n",
    "        return 0.0\n",
    "df['metric'] = df['probs_data'].apply(lambda d: difference_metric(*d))"
   ]
  },
  {
   "cell_type": "code",
   "execution_count": 64,
   "id": "c834da7c-0d88-4255-925f-add6c46e2b8a",
   "metadata": {
    "scrolled": true
   },
   "outputs": [
    {
     "data": {
      "text/plain": [
       "LovD     0.000000\n",
       "LovD1   -0.002932\n",
       "LovD2    0.008703\n",
       "LovD3    0.015080\n",
       "LovD4    0.016797\n",
       "LovD5    0.023328\n",
       "LovD6    0.043929\n",
       "LovD7    0.030314\n",
       "LovD8    0.033560\n",
       "LovD9    0.016768\n",
       "Name: metric, dtype: float64"
      ]
     },
     "execution_count": 64,
     "metadata": {},
     "output_type": "execute_result"
    }
   ],
   "source": [
    "df['metric']"
   ]
  },
  {
   "cell_type": "code",
   "execution_count": 65,
   "id": "822f9770-a359-4be4-8599-f0b8b9d510d4",
   "metadata": {},
   "outputs": [
    {
     "data": {
      "text/plain": [
       "<AxesSubplot: xlabel='T', ylabel='metric'>"
      ]
     },
     "execution_count": 65,
     "metadata": {},
     "output_type": "execute_result"
    },
    {
     "data": {
      "image/png": "[encoded data removed]",
      "text/plain": [
       "<Figure size 640x480 with 1 Axes>"
      ]
     },
     "metadata": {},
     "output_type": "display_data"
    }
   ],
   "source": [
    "sns.regplot(data=df, x='T', y='metric')"
   ]
  },
  {
   "cell_type": "markdown",
   "id": "58892873-08d5-429d-a472-d071987c27bf",
   "metadata": {},
   "source": [
    "## Another example, variable sequence length"
   ]
  },
  {
   "cell_type": "markdown",
   "id": "01fd670b-2392-4ea3-a115-7d5c1f03c042",
   "metadata": {},
   "source": [
    "Conformational Stability and Thermodynamics of Folding of Ribonucleases Sa, Sa2 and Sa3"
   ]
  },
  {
   "cell_type": "code",
   "execution_count": 66,
   "id": "474bc23b-ec72-42ea-9295-d690f9674c26",
   "metadata": {},
   "outputs": [],
   "source": [
    "full_seqs2 = {\n",
    "    'Sa':  \"DVSGTVCLSALPPEATDTLNLIASDGPFPYSQDGVVFQNRESVLPTQSYGYYHEYTVITPGARTRGTRRIITGEATQEDYYTGDHYATFSLIDQTC\",\n",
    "    'Sa2': \"ADPALDVCRTKLPSQAQDTLALIAKNGPYPYNRDGVVFENRESRLPKKGNGYYHEFTVVTPGSNERGTRRVVTGGYGEQYESPDHYATFQEIDPRC\",\n",
    "    'Sa3': \"ASVKAVGRVCYSALPSQAHDTLDLIDEGGPFPYSQDGVVFQNREGLLPAHSTGYYHEYTVITPGSPTRGARRIITGQQWQEDYYTADHYASFRRVDFAC\",\n",
    "    'Ba':  \"AQVINTFDGVADYLQTYHKLPNDYITKSEAQALGWVASKGNLADVAPGKSIGGDIFSNREGKLPGKSGRTWREADINYTSGFRNSDRILYSSDWLIYKTTDHYQTFTKIR\",\n",
    "    'T1':  \"ACDYTCGSNCYSSSDVSTAQAAGYQLHEDGETVGSNSYPHKYNNYEGFDFSVSSPYYEWPILSSGDVYSGGSPGADRVVFNENNQLAGVITHTGASGNNFVECT\",\n",
    "    'A': \"KETAAAKFERQHMDSSTSAASSSNYCNQMMKSRNLTKDRCKPVNTFVHESLADVQAVCSQKNVACKNGQTNCYQSYSTMSITDCRETGSSKYPNCAYKTTQANKHIIVACEGNPYVPVHFDASV\"\n",
    "}"
   ]
  },
  {
   "cell_type": "code",
   "execution_count": 67,
   "id": "63b18b1a-4f43-48be-9244-d05bef9e931f",
   "metadata": {},
   "outputs": [],
   "source": [
    "temps2 = [48.4, 41.1, 47.2, 53.2, 51.6, 62.8]"
   ]
  },
  {
   "cell_type": "code",
   "execution_count": 68,
   "id": "6438f201-be5c-4a05-a0b1-e20d951a18e1",
   "metadata": {},
   "outputs": [
    {
     "data": {
      "text/html": [
       "<div>\n",
       "<style scoped>\n",
       "    .dataframe tbody tr th:only-of-type {\n",
       "        vertical-align: middle;\n",
       "    }\n",
       "\n",
       "    .dataframe tbody tr th {\n",
       "        vertical-align: top;\n",
       "    }\n",
       "\n",
       "    .dataframe thead th {\n",
       "        text-align: right;\n",
       "    }\n",
       "</style>\n",
       "<table border=\"1\" class=\"dataframe\">\n",
       "  <thead>\n",
       "    <tr style=\"text-align: right;\">\n",
       "      <th></th>\n",
       "      <th>seq</th>\n",
       "      <th>T</th>\n",
       "    </tr>\n",
       "  </thead>\n",
       "  <tbody>\n",
       "    <tr>\n",
       "      <th>Sa</th>\n",
       "      <td>DVSGTVCLSALPPEATDTLNLIASDGPFPYSQDGVVFQNRESVLPT...</td>\n",
       "      <td>48.4</td>\n",
       "    </tr>\n",
       "    <tr>\n",
       "      <th>Sa2</th>\n",
       "      <td>ADPALDVCRTKLPSQAQDTLALIAKNGPYPYNRDGVVFENRESRLP...</td>\n",
       "      <td>41.1</td>\n",
       "    </tr>\n",
       "    <tr>\n",
       "      <th>Sa3</th>\n",
       "      <td>ASVKAVGRVCYSALPSQAHDTLDLIDEGGPFPYSQDGVVFQNREGL...</td>\n",
       "      <td>47.2</td>\n",
       "    </tr>\n",
       "    <tr>\n",
       "      <th>Ba</th>\n",
       "      <td>AQVINTFDGVADYLQTYHKLPNDYITKSEAQALGWVASKGNLADVA...</td>\n",
       "      <td>53.2</td>\n",
       "    </tr>\n",
       "    <tr>\n",
       "      <th>T1</th>\n",
       "      <td>ACDYTCGSNCYSSSDVSTAQAAGYQLHEDGETVGSNSYPHKYNNYE...</td>\n",
       "      <td>51.6</td>\n",
       "    </tr>\n",
       "    <tr>\n",
       "      <th>A</th>\n",
       "      <td>KETAAAKFERQHMDSSTSAASSSNYCNQMMKSRNLTKDRCKPVNTF...</td>\n",
       "      <td>62.8</td>\n",
       "    </tr>\n",
       "  </tbody>\n",
       "</table>\n",
       "</div>"
      ],
      "text/plain": [
       "                                                   seq     T\n",
       "Sa   DVSGTVCLSALPPEATDTLNLIASDGPFPYSQDGVVFQNRESVLPT...  48.4\n",
       "Sa2  ADPALDVCRTKLPSQAQDTLALIAKNGPYPYNRDGVVFENRESRLP...  41.1\n",
       "Sa3  ASVKAVGRVCYSALPSQAHDTLDLIDEGGPFPYSQDGVVFQNREGL...  47.2\n",
       "Ba   AQVINTFDGVADYLQTYHKLPNDYITKSEAQALGWVASKGNLADVA...  53.2\n",
       "T1   ACDYTCGSNCYSSSDVSTAQAAGYQLHEDGETVGSNSYPHKYNNYE...  51.6\n",
       "A    KETAAAKFERQHMDSSTSAASSSNYCNQMMKSRNLTKDRCKPVNTF...  62.8"
      ]
     },
     "execution_count": 68,
     "metadata": {},
     "output_type": "execute_result"
    }
   ],
   "source": [
    "df2 = pd.DataFrame(pd.Series(full_seqs2), columns=['seq'])\n",
    "df2['T'] = temps2\n",
    "df2"
   ]
  },
  {
   "cell_type": "code",
   "execution_count": 74,
   "id": "2bab1940-1ecb-4d5a-8e4e-62a9da80fffb",
   "metadata": {},
   "outputs": [],
   "source": [
    "def do_one(v_seq):\n",
    "    wt_probs, seq_probs = get_log_probs_dif(full_seqs2['Sa'], v_seq, use_all_positions=True)\n",
    "    return (wt_probs, seq_probs)"
   ]
  },
  {
   "cell_type": "code",
   "execution_count": 75,
   "id": "9cde35ee-96fd-4b08-8a1a-79cc6319c428",
   "metadata": {},
   "outputs": [],
   "source": [
    "df2['probs_data'] = df2['seq'].apply(do_one)"
   ]
  },
  {
   "cell_type": "code",
   "execution_count": 76,
   "id": "27eb6435-7d40-462d-95cb-4f7cdb9edde8",
   "metadata": {},
   "outputs": [],
   "source": [
    "df2['metric'] = df2['probs_data'].apply(lambda d: difference_metric(*d))"
   ]
  },
  {
   "cell_type": "code",
   "execution_count": 77,
   "id": "70a7e414-006e-4757-a81c-47330c68fffa",
   "metadata": {},
   "outputs": [
    {
     "data": {
      "text/plain": [
       "<AxesSubplot: xlabel='T', ylabel='metric'>"
      ]
     },
     "execution_count": 77,
     "metadata": {},
     "output_type": "execute_result"
    },
    {
     "data": {
      "image/png": "[encoded data removed]",
      "text/plain": [
       "<Figure size 640x480 with 1 Axes>"
      ]
     },
     "metadata": {},
     "output_type": "display_data"
    }
   ],
   "source": [
    "sns.regplot(data=df2, x='T', y='metric')"
   ]
  },
  {
   "cell_type": "markdown",
   "id": "240dc299-efd1-484b-9120-a89255d13022",
   "metadata": {},
   "source": [
    "This one does not work. This is likely due to the way the encoder is fixed by a particular sequence, determined via homology in training data. If we have a different matching patter here, it will not work. A low N number of mutations as in the last case is more robust.\n",
    "\n",
    "Let's try averging over encoder reference sequences."
   ]
  },
  {
   "cell_type": "code",
   "execution_count": 87,
   "id": "163992f9-4db5-421d-a2ef-79a7ce238afe",
   "metadata": {},
   "outputs": [],
   "source": [
    "def do_one(v_seq):\n",
    "    wt_probs_list = []\n",
    "    seq_probs_list = []\n",
    "    for s in df2.index:\n",
    "        if full_seqs2[s] == v_seq:\n",
    "            continue\n",
    "        wt_probs, seq_probs = get_log_probs_dif(full_seqs2[s], v_seq, use_all_positions=True)\n",
    "        wt_probs_list.append(wt_probs)\n",
    "        seq_probs_list.append(seq_probs)\n",
    "    return (wt_probs_list, seq_probs_list)"
   ]
  },
  {
   "cell_type": "code",
   "execution_count": 88,
   "id": "6e4136be-c3df-4ebe-8a26-be88dd50f3c8",
   "metadata": {},
   "outputs": [],
   "source": [
    "df2['probs_data'] = df2['seq'].apply(do_one)"
   ]
  },
  {
   "cell_type": "code",
   "execution_count": 96,
   "id": "f8a45720-073d-45ff-a8ba-b8800f52346f",
   "metadata": {},
   "outputs": [],
   "source": [
    "def difference_metric(wt_probs, seq_probs):\n",
    "    all_vals = []\n",
    "    for wt, seq in zip(wt_probs, seq_probs):\n",
    "        try:\n",
    "            v = sum(np.log(seq))/len(seq) - sum(np.log(wt))/len(wt)\n",
    "        except:\n",
    "            v = 0.0\n",
    "        all_vals.append(v)\n",
    "    return all_vals\n",
    "df2['all_metric'] = df2['probs_data'].apply(lambda d: difference_metric(*d))"
   ]
  },
  {
   "cell_type": "code",
   "execution_count": 98,
   "id": "1e40caf8-4007-4956-8e82-6a8f477e2521",
   "metadata": {},
   "outputs": [
    {
     "data": {
      "text/plain": [
       "Sa    -1.382328\n",
       "Sa2   -1.486910\n",
       "Sa3   -1.275179\n",
       "Ba    -1.586756\n",
       "T1    -1.833478\n",
       "A     -2.352244\n",
       "Name: all_metric, dtype: float64"
      ]
     },
     "execution_count": 98,
     "metadata": {},
     "output_type": "execute_result"
    }
   ],
   "source": [
    "df2['all_metric'].apply(np.mean)"
   ]
  },
  {
   "cell_type": "markdown",
   "id": "6cb068ac-45f4-47e9-b0ba-65a82625d737",
   "metadata": {},
   "source": [
    "It will not work for this set of data. We need closer homologs."
   ]
  },
  {
   "cell_type": "markdown",
   "id": "eacef146-efdb-476e-97b7-571cced7906b",
   "metadata": {},
   "source": [
    "## Confirm that it works for the other variant sets in the mAFDG paper"
   ]
  },
  {
   "cell_type": "code",
   "execution_count": 197,
   "id": "b09a5b12-187c-4d6b-b54d-4baef2be4272",
   "metadata": {},
   "outputs": [],
   "source": [
    "LipA = \"AEHNPVVMVHGIGGASFNFAGIKSYLVSQGWSRDKLYAVDFWDKTGTNYNNGPVLSRFVQKVLDETGAKKVDIVAHSMGGANTLYYIKNLDGGNKVANVVTLGGANRLTTGKALPGTDPNQKILYTSIYSSADMIVMNYLSRLDGARNVQIHGVGHIGLLYSSQVNSLIKEGLNGGGQNTN\"\n",
    "LipA_mutation_table = pd.read_csv(io.StringIO(\"\"\"\n",
    "Name,Mutations,TM (°C)\n",
    "WT,,56.0\n",
    "TM,L114P A132D N166Y,61.2\n",
    "2D9,F17S N89Y L114P A132D I157M N166Y,67.4\n",
    "4D3,A15S F17S A20E N89Y G111D L114P A132D I157M N166Y,71.2\n",
    "6B,A15S F17S A20E N89Y G111D L114P A132D M134E M137P I157M S163P N166Y,78.2\n",
    "\n",
    "\"\"\"))"
   ]
  },
  {
   "cell_type": "code",
   "execution_count": 198,
   "id": "fc4abd86-46d2-47b5-acd0-8e51ce2109ef",
   "metadata": {},
   "outputs": [],
   "source": [
    "def parse_mutation(mutation_str):\n",
    "    \"\"\"\n",
    "    Parse a mutation string to get the original amino acid, position, and new amino acid.\n",
    "\n",
    "    Parameters:\n",
    "        mutation_str (str): The mutation string (e.g., \"A132D\")\n",
    "\n",
    "    Returns:\n",
    "        tuple: original amino acid (str), position (int), new amino acid (str)\n",
    "    \"\"\"\n",
    "    original_aa = mutation_str[0]\n",
    "    new_aa = mutation_str[-1]\n",
    "    position = int(mutation_str[1:-1]) - 1  # Convert to Python 0-based index\n",
    "\n",
    "    return original_aa, position, new_aa"
   ]
  },
  {
   "cell_type": "code",
   "execution_count": 199,
   "id": "5eb8b9f7-7133-4be7-83d1-b36cf069e361",
   "metadata": {},
   "outputs": [],
   "source": [
    "def check_mutation_table(df, wt):\n",
    "    df = df.copy()\n",
    "    df['Mutations'] = df['Mutations'].fillna('')\n",
    "    df['Mutations'] = df['Mutations'].apply(lambda s: s.split())\n",
    "\n",
    "    all_mutations = np.unique(np.hstack(df['Mutations'].values))\n",
    "    print(all_mutations)\n",
    "    for m in all_mutations:\n",
    "        a, pos, b = parse_mutation(m)\n",
    "        assert wt[pos] == a, m\n",
    "    return df"
   ]
  },
  {
   "cell_type": "code",
   "execution_count": 200,
   "id": "e48e892c-99de-4dba-a97b-2e042d10566b",
   "metadata": {},
   "outputs": [
    {
     "name": "stdout",
     "output_type": "stream",
     "text": [
      "['A132D' 'A15S' 'A20E' 'F17S' 'G111D' 'I157M' 'L114P' 'M134E' 'M137P'\n",
      " 'N166Y' 'N89Y' 'S163P']\n"
     ]
    }
   ],
   "source": [
    "LipA_mutation_table = check_mutation_table(LipA_mutation_table, LipA)"
   ]
  },
  {
   "cell_type": "code",
   "execution_count": 201,
   "id": "449c4b54-9d3f-48a7-b5fd-809047edc399",
   "metadata": {},
   "outputs": [],
   "source": [
    "def convert_seq(mutations):\n",
    "    seq = list(copy.copy(LipA))\n",
    "    for m in mutations:\n",
    "        _, pos, new = parse_mutation(m)\n",
    "        seq[pos] = new\n",
    "    return ''.join(seq)"
   ]
  },
  {
   "cell_type": "code",
   "execution_count": 202,
   "id": "e832b07d-89aa-46d7-82b6-1697d60adb30",
   "metadata": {},
   "outputs": [],
   "source": [
    "LipA_mutation_table['seq'] = LipA_mutation_table['Mutations'].apply(convert_seq)"
   ]
  },
  {
   "cell_type": "code",
   "execution_count": 203,
   "id": "79fa30e6-9fbf-4fea-b425-cb4fbbf5aee6",
   "metadata": {},
   "outputs": [],
   "source": [
    "def do_one(v_seq):\n",
    "    wt_probs, seq_probs = get_log_probs_dif(LipA, v_seq, use_all_positions=False)\n",
    "    return (wt_probs, seq_probs)"
   ]
  },
  {
   "cell_type": "code",
   "execution_count": 204,
   "id": "32de3b01-e080-473d-bf84-1e5c2b6c5f4a",
   "metadata": {},
   "outputs": [
    {
     "name": "stdout",
     "output_type": "stream",
     "text": [
      "181 181\n",
      "181 181\n",
      "181 181\n",
      "181 181\n",
      "181 181\n"
     ]
    }
   ],
   "source": [
    "LipA_mutation_table['probs_data'] = LipA_mutation_table['seq'].apply(do_one)"
   ]
  },
  {
   "cell_type": "code",
   "execution_count": 211,
   "id": "2f80e45b-7d07-4d3c-b5b6-eb6ea2c01671",
   "metadata": {},
   "outputs": [],
   "source": [
    "def difference_metric(wt_probs, seq_probs):\n",
    "    try:\n",
    "        return sum(np.log(seq_probs))/len(seq_probs)  - sum(np.log(wt_probs))/len(wt_probs)\n",
    "    except:\n",
    "        return 0.0\n",
    "LipA_mutation_table['metric'] = LipA_mutation_table['probs_data'].apply(lambda d: difference_metric(*d))"
   ]
  },
  {
   "cell_type": "code",
   "execution_count": 212,
   "id": "585cd19c-2a50-4afd-a4ab-6a1493ba9e96",
   "metadata": {},
   "outputs": [
    {
     "data": {
      "text/html": [
       "<div>\n",
       "<style scoped>\n",
       "    .dataframe tbody tr th:only-of-type {\n",
       "        vertical-align: middle;\n",
       "    }\n",
       "\n",
       "    .dataframe tbody tr th {\n",
       "        vertical-align: top;\n",
       "    }\n",
       "\n",
       "    .dataframe thead th {\n",
       "        text-align: right;\n",
       "    }\n",
       "</style>\n",
       "<table border=\"1\" class=\"dataframe\">\n",
       "  <thead>\n",
       "    <tr style=\"text-align: right;\">\n",
       "      <th></th>\n",
       "      <th>Name</th>\n",
       "      <th>Mutations</th>\n",
       "      <th>TM (°C)</th>\n",
       "      <th>seq</th>\n",
       "      <th>probs_data</th>\n",
       "      <th>metric</th>\n",
       "    </tr>\n",
       "  </thead>\n",
       "  <tbody>\n",
       "    <tr>\n",
       "      <th>0</th>\n",
       "      <td>WT</td>\n",
       "      <td>[]</td>\n",
       "      <td>56.0</td>\n",
       "      <td>AEHNPVVMVHGIGGASFNFAGIKSYLVSQGWSRDKLYAVDFWDKTG...</td>\n",
       "      <td>([], [])</td>\n",
       "      <td>0.000000</td>\n",
       "    </tr>\n",
       "    <tr>\n",
       "      <th>1</th>\n",
       "      <td>TM</td>\n",
       "      <td>[L114P, A132D, N166Y]</td>\n",
       "      <td>61.2</td>\n",
       "      <td>AEHNPVVMVHGIGGASFNFAGIKSYLVSQGWSRDKLYAVDFWDKTG...</td>\n",
       "      <td>([0.15163595974445343, 0.11841215938329697, 0....</td>\n",
       "      <td>-1.281055</td>\n",
       "    </tr>\n",
       "    <tr>\n",
       "      <th>2</th>\n",
       "      <td>2D9</td>\n",
       "      <td>[F17S, N89Y, L114P, A132D, I157M, N166Y]</td>\n",
       "      <td>67.4</td>\n",
       "      <td>AEHNPVVMVHGIGGASSNFAGIKSYLVSQGWSRDKLYAVDFWDKTG...</td>\n",
       "      <td>([0.2528879642486572, 0.10695084184408188, 0.1...</td>\n",
       "      <td>-0.897192</td>\n",
       "    </tr>\n",
       "    <tr>\n",
       "      <th>3</th>\n",
       "      <td>4D3</td>\n",
       "      <td>[A15S, F17S, A20E, N89Y, G111D, L114P, A132D, ...</td>\n",
       "      <td>71.2</td>\n",
       "      <td>AEHNPVVMVHGIGGSSSNFEGIKSYLVSQGWSRDKLYAVDFWDKTG...</td>\n",
       "      <td>([0.021892203018069267, 0.2528879642486572, 0....</td>\n",
       "      <td>-0.371993</td>\n",
       "    </tr>\n",
       "    <tr>\n",
       "      <th>4</th>\n",
       "      <td>6B</td>\n",
       "      <td>[A15S, F17S, A20E, N89Y, G111D, L114P, A132D, ...</td>\n",
       "      <td>78.2</td>\n",
       "      <td>AEHNPVVMVHGIGGSSSNFEGIKSYLVSQGWSRDKLYAVDFWDKTG...</td>\n",
       "      <td>([0.021892203018069267, 0.2528879642486572, 0....</td>\n",
       "      <td>0.137101</td>\n",
       "    </tr>\n",
       "  </tbody>\n",
       "</table>\n",
       "</div>"
      ],
      "text/plain": [
       "  Name                                          Mutations  TM (°C)  \\\n",
       "0   WT                                                 []     56.0   \n",
       "1   TM                              [L114P, A132D, N166Y]     61.2   \n",
       "2  2D9           [F17S, N89Y, L114P, A132D, I157M, N166Y]     67.4   \n",
       "3  4D3  [A15S, F17S, A20E, N89Y, G111D, L114P, A132D, ...     71.2   \n",
       "4   6B  [A15S, F17S, A20E, N89Y, G111D, L114P, A132D, ...     78.2   \n",
       "\n",
       "                                                 seq  \\\n",
       "0  AEHNPVVMVHGIGGASFNFAGIKSYLVSQGWSRDKLYAVDFWDKTG...   \n",
       "1  AEHNPVVMVHGIGGASFNFAGIKSYLVSQGWSRDKLYAVDFWDKTG...   \n",
       "2  AEHNPVVMVHGIGGASSNFAGIKSYLVSQGWSRDKLYAVDFWDKTG...   \n",
       "3  AEHNPVVMVHGIGGSSSNFEGIKSYLVSQGWSRDKLYAVDFWDKTG...   \n",
       "4  AEHNPVVMVHGIGGSSSNFEGIKSYLVSQGWSRDKLYAVDFWDKTG...   \n",
       "\n",
       "                                          probs_data    metric  \n",
       "0                                           ([], [])  0.000000  \n",
       "1  ([0.15163595974445343, 0.11841215938329697, 0.... -1.281055  \n",
       "2  ([0.2528879642486572, 0.10695084184408188, 0.1... -0.897192  \n",
       "3  ([0.021892203018069267, 0.2528879642486572, 0.... -0.371993  \n",
       "4  ([0.021892203018069267, 0.2528879642486572, 0....  0.137101  "
      ]
     },
     "execution_count": 212,
     "metadata": {},
     "output_type": "execute_result"
    }
   ],
   "source": [
    "LipA_mutation_table"
   ]
  },
  {
   "cell_type": "code",
   "execution_count": 213,
   "id": "40f0a626-4af9-43ae-a654-5e4864c99482",
   "metadata": {},
   "outputs": [
    {
     "data": {
      "text/plain": [
       "<AxesSubplot: xlabel='TM (°C)', ylabel='metric'>"
      ]
     },
     "execution_count": 213,
     "metadata": {},
     "output_type": "execute_result"
    },
    {
     "data": {
      "image/png": "[encoded data removed]",
      "text/plain": [
       "<Figure size 640x480 with 1 Axes>"
      ]
     },
     "metadata": {},
     "output_type": "display_data"
    }
   ],
   "source": [
    "sns.regplot(data=LipA_mutation_table, x='TM (°C)', y='metric')"
   ]
  },
  {
   "cell_type": "code",
   "execution_count": null,
   "id": "39d98d55-269c-427d-9826-0331df3a1d1d",
   "metadata": {},
   "outputs": [],
   "source": []
  }
 ],
 "metadata": {
  "kernelspec": {
   "display_name": "Python 3 (ipykernel)",
   "language": "python",
   "name": "python3"
  },
  "language_info": {
   "codemirror_mode": {
    "name": "ipython",
    "version": 3
   },
   "file_extension": ".py",
   "mimetype": "text/x-python",
   "name": "python",
   "nbconvert_exporter": "python",
   "pygments_lexer": "ipython3",
   "version": "3.9.17"
  }
 },
 "nbformat": 4,
 "nbformat_minor": 5
}
