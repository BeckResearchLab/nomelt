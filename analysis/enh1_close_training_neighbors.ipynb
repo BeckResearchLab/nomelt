{
 "cells": [
  {
   "cell_type": "markdown",
   "id": "fab0fb69-ad63-4a40-b95e-6865e8b9200f",
   "metadata": {},
   "source": [
    "# Look at similar sequences to 1enh in training set"
   ]
  },
  {
   "cell_type": "markdown",
   "id": "a8e375c1-37b6-4dac-9d08-32b91f83b9a1",
   "metadata": {},
   "source": [
    "See `diamond_1enh.py` for the local alignment search for similar sequences. Let's look at the top N sequences"
   ]
  },
  {
   "cell_type": "markdown",
   "id": "25eb042e-17be-4fee-8fd5-822f057e30b7",
   "metadata": {},
   "source": [
    "### Open an index of the dataset"
   ]
  },
  {
   "cell_type": "code",
   "execution_count": 1,
   "id": "bf271cd3-5b1c-46cb-bcf8-5f1c833e9390",
   "metadata": {},
   "outputs": [
    {
     "name": "stderr",
     "output_type": "stream",
     "text": [
      "/mmfs1/gscratch/cheme/usr/evankomp/mamba/mambaforge/envs/nomelt2/lib/python3.9/site-packages/Bio/pairwise2.py:278: BiopythonDeprecationWarning: Bio.pairwise2 has been deprecated, and we intend to remove it in a future release of Biopython. As an alternative, please consider using Bio.Align.PairwiseAligner as a replacement, and contact the Biopython developers if you still need the Bio.pairwise2 module.\n",
      "  warnings.warn(\n"
     ]
    }
   ],
   "source": [
    "import pandas as pd\n",
    "from Bio import SeqIO\n",
    "import numpy as np\n",
    "import Bio.pairwise2 as pairwise2\n",
    "from Bio.Align import substitution_matrices\n",
    "mat = substitution_matrices.load('BLOSUM62')\n",
    "import os"
   ]
  },
  {
   "cell_type": "code",
   "execution_count": 2,
   "id": "4c680c2a-d43a-465c-b8d7-d6aeb2b95f02",
   "metadata": {},
   "outputs": [
    {
     "name": "stdout",
     "output_type": "stream",
     "text": [
      "MKILLGEDEEKMRELLRKFFEKAGYSVVEVSDGEAALTKFYEEQFDLAVLDWMMPKLSGIKVAKRMKQERNIKILMLTAKNLPEDEVQALVVGADDYLAKPFHAAVLLARVAKLLGVLQQDIKQPLVFIPAEQRALFQGEELALTKREYELLLYLYQNRGQALTREQILLAVWGLDHETDERTVDSFIRILREKIGKERIQTVYGIGYRFDDQKT\n",
      "MRILVVDDEAPMRALLRLFLEQHGFAVSEAEDGYEALERVRTERPDLVLLDIMLPGIDGWAVCRILRRESDVPVIMLTARDDVRDRVSGLEAGADDYLVKPFAEEELLARIRAVLRRTPKVEGRPADRVIVGPLLIDVPAREAYCHGRRLNLTPKEFDLLALLARHPGQVLDRARIIERVWGWDYDGDVRTVDTHVKTLRAKLVAAGCSRHLIETVRSIGYRLNPHHDGRGGTIP\n"
     ]
    }
   ],
   "source": [
    "# Indexing the FASTA file\n",
    "fasta_index = SeqIO.index(\"./diamond_1enh/training_meso_db.fasta\", \"fasta\")\n",
    "thermo_index = SeqIO.index(\"./diamond_1enh/training_thermo.fasta\", \"fasta\")\n",
    "print(fasta_index[\"seq_52\"].seq)\n",
    "print(thermo_index[\"seq_52\"].seq)"
   ]
  },
  {
   "cell_type": "markdown",
   "id": "db3f3e4e-b362-47ce-823b-c2e7c34a75af",
   "metadata": {},
   "source": [
    "index works"
   ]
  },
  {
   "cell_type": "markdown",
   "id": "4d79c0a6-73b6-4ade-8926-82416d440922",
   "metadata": {},
   "source": [
    "### Open the hits for 1 enh by blast"
   ]
  },
  {
   "cell_type": "code",
   "execution_count": 7,
   "id": "a8eba256-f9b5-4586-b3e5-49ea17a2ecd7",
   "metadata": {},
   "outputs": [],
   "source": [
    "hits = pd.read_csv('./diamond_1enh/blast_out.tsv', sep='\\t', skiprows=5, header=None)"
   ]
  },
  {
   "cell_type": "code",
   "execution_count": 8,
   "id": "3429836b-0acf-4784-9a3e-2a0bbdbe076b",
   "metadata": {},
   "outputs": [],
   "source": [
    "hit_ids = hits[1].dropna().values"
   ]
  },
  {
   "cell_type": "code",
   "execution_count": 9,
   "id": "9d35c694-bde4-4a0e-aede-62ce441bc601",
   "metadata": {},
   "outputs": [],
   "source": [
    "meso_seqs = [str(fasta_index[s].seq) for s in hit_ids]\n",
    "thermo_seqs = [str(thermo_index[s].seq) for s in hit_ids]"
   ]
  },
  {
   "cell_type": "code",
   "execution_count": 10,
   "id": "eaa487c8-452b-427d-b9fb-ce7065285b30",
   "metadata": {},
   "outputs": [],
   "source": [
    "df = pd.DataFrame({'m': meso_seqs, 't': thermo_seqs})"
   ]
  },
  {
   "cell_type": "code",
   "execution_count": 11,
   "id": "70af6ea9-aae1-4769-b94b-2e27f4a81ecc",
   "metadata": {},
   "outputs": [
    {
     "data": {
      "text/html": [
       "<div>\n",
       "<style scoped>\n",
       "    .dataframe tbody tr th:only-of-type {\n",
       "        vertical-align: middle;\n",
       "    }\n",
       "\n",
       "    .dataframe tbody tr th {\n",
       "        vertical-align: top;\n",
       "    }\n",
       "\n",
       "    .dataframe thead th {\n",
       "        text-align: right;\n",
       "    }\n",
       "</style>\n",
       "<table border=\"1\" class=\"dataframe\">\n",
       "  <thead>\n",
       "    <tr style=\"text-align: right;\">\n",
       "      <th></th>\n",
       "      <th>m</th>\n",
       "      <th>t</th>\n",
       "    </tr>\n",
       "  </thead>\n",
       "  <tbody>\n",
       "    <tr>\n",
       "      <th>0</th>\n",
       "      <td>MSTKSRTRSKTRLSRALGIALTPKAARFLEKRPYAPGEHGRTKRKT...</td>\n",
       "      <td>MARYTGPVCRLCRREGMKLYLKGSRCYTDKCAFERRPFPPGQHGRN...</td>\n",
       "    </tr>\n",
       "    <tr>\n",
       "      <th>1</th>\n",
       "      <td>MSTKSRTRSKTRLSRALGIALTPKAARFLEKRPYAPGEHGRTKRKT...</td>\n",
       "      <td>MARYTGPSCKLCRREGVKLYLKGDRCYSDKCALVRRPYAPGQHGHN...</td>\n",
       "    </tr>\n",
       "    <tr>\n",
       "      <th>2</th>\n",
       "      <td>MSTKSRTRSKTRLSRALGIALTPKAARFLEKRPYAPGEHGRTKRKT...</td>\n",
       "      <td>MARYTGPVCRLCRREGIKLYLKGERCYTPKCAIDRRGYAPGQHGQM...</td>\n",
       "    </tr>\n",
       "    <tr>\n",
       "      <th>3</th>\n",
       "      <td>MSTKSRTRSKTRLSRALGIALTPKAARFLEKRPYAPGEHGRTKRKT...</td>\n",
       "      <td>MARHTGPVCRLCRREGLKLYLKGEKCYTDKCPVSRRNYAPGQHGKA...</td>\n",
       "    </tr>\n",
       "    <tr>\n",
       "      <th>4</th>\n",
       "      <td>MSTKSRTRSKTRLSRALGIALTPKAARFLEKRPYAPGEHGRTKRKT...</td>\n",
       "      <td>MARYTGPVCKLCRREGIKLFLKGDRCYTDKCAIARRNYAPGQHGHT...</td>\n",
       "    </tr>\n",
       "    <tr>\n",
       "      <th>...</th>\n",
       "      <td>...</td>\n",
       "      <td>...</td>\n",
       "    </tr>\n",
       "    <tr>\n",
       "      <th>398</th>\n",
       "      <td>MNHPAQQLDPQFLPQHIALVMDGNGRWAQQRGMKRTEGHKRGEQVL...</td>\n",
       "      <td>MVFFRQKNRDLSDKIDKNKLPIHIGIIMDGNGRWAQKRGMMRFYGH...</td>\n",
       "    </tr>\n",
       "    <tr>\n",
       "      <th>399</th>\n",
       "      <td>MNHPAQQLDPQFLPQHIALVMDGNGRWAQQRGMKRTEGHKRGEQVL...</td>\n",
       "      <td>MFEFLKRKKIKIDKEKMPQHIAIIMDGNGRWAKKRGLPRSAGHRFG...</td>\n",
       "    </tr>\n",
       "    <tr>\n",
       "      <th>400</th>\n",
       "      <td>MNHPAQQLDPQFLPQHIALVMDGNGRWAQQRGMKRTEGHKRGEQVL...</td>\n",
       "      <td>MRIPNHIGIIPDGNRRWALKNGLNKEDGYDFGLKPGLELFRLCKKV...</td>\n",
       "    </tr>\n",
       "    <tr>\n",
       "      <th>401</th>\n",
       "      <td>MNHPAQQLDPQFLPQHIALVMDGNGRWAQQRGMKRTEGHKRGEQVL...</td>\n",
       "      <td>MGIKEIDLIDPKKLPCHIAIIMDGNGRWAQKRGLPRIAGHWAGAEA...</td>\n",
       "    </tr>\n",
       "    <tr>\n",
       "      <th>402</th>\n",
       "      <td>MNHPAQQLDPQFLPQHIALVMDGNGRWAQQRGMKRTEGHKRGEQVL...</td>\n",
       "      <td>MIFFNEEKLIKKLDKTRLPQHVGIIMDGNGRWAQKRGMPRVYGHKA...</td>\n",
       "    </tr>\n",
       "  </tbody>\n",
       "</table>\n",
       "<p>403 rows × 2 columns</p>\n",
       "</div>"
      ],
      "text/plain": [
       "                                                     m  \\\n",
       "0    MSTKSRTRSKTRLSRALGIALTPKAARFLEKRPYAPGEHGRTKRKT...   \n",
       "1    MSTKSRTRSKTRLSRALGIALTPKAARFLEKRPYAPGEHGRTKRKT...   \n",
       "2    MSTKSRTRSKTRLSRALGIALTPKAARFLEKRPYAPGEHGRTKRKT...   \n",
       "3    MSTKSRTRSKTRLSRALGIALTPKAARFLEKRPYAPGEHGRTKRKT...   \n",
       "4    MSTKSRTRSKTRLSRALGIALTPKAARFLEKRPYAPGEHGRTKRKT...   \n",
       "..                                                 ...   \n",
       "398  MNHPAQQLDPQFLPQHIALVMDGNGRWAQQRGMKRTEGHKRGEQVL...   \n",
       "399  MNHPAQQLDPQFLPQHIALVMDGNGRWAQQRGMKRTEGHKRGEQVL...   \n",
       "400  MNHPAQQLDPQFLPQHIALVMDGNGRWAQQRGMKRTEGHKRGEQVL...   \n",
       "401  MNHPAQQLDPQFLPQHIALVMDGNGRWAQQRGMKRTEGHKRGEQVL...   \n",
       "402  MNHPAQQLDPQFLPQHIALVMDGNGRWAQQRGMKRTEGHKRGEQVL...   \n",
       "\n",
       "                                                     t  \n",
       "0    MARYTGPVCRLCRREGMKLYLKGSRCYTDKCAFERRPFPPGQHGRN...  \n",
       "1    MARYTGPSCKLCRREGVKLYLKGDRCYSDKCALVRRPYAPGQHGHN...  \n",
       "2    MARYTGPVCRLCRREGIKLYLKGERCYTPKCAIDRRGYAPGQHGQM...  \n",
       "3    MARHTGPVCRLCRREGLKLYLKGEKCYTDKCPVSRRNYAPGQHGKA...  \n",
       "4    MARYTGPVCKLCRREGIKLFLKGDRCYTDKCAIARRNYAPGQHGHT...  \n",
       "..                                                 ...  \n",
       "398  MVFFRQKNRDLSDKIDKNKLPIHIGIIMDGNGRWAQKRGMMRFYGH...  \n",
       "399  MFEFLKRKKIKIDKEKMPQHIAIIMDGNGRWAKKRGLPRSAGHRFG...  \n",
       "400  MRIPNHIGIIPDGNRRWALKNGLNKEDGYDFGLKPGLELFRLCKKV...  \n",
       "401  MGIKEIDLIDPKKLPCHIAIIMDGNGRWAQKRGLPRIAGHWAGAEA...  \n",
       "402  MIFFNEEKLIKKLDKTRLPQHVGIIMDGNGRWAQKRGMPRVYGHKA...  \n",
       "\n",
       "[403 rows x 2 columns]"
      ]
     },
     "execution_count": 11,
     "metadata": {},
     "output_type": "execute_result"
    }
   ],
   "source": [
    "df"
   ]
  },
  {
   "cell_type": "markdown",
   "id": "23cd34bd-51d8-448a-8c6e-6bb4797e6ec9",
   "metadata": {},
   "source": [
    "### Make structure predictions"
   ]
  },
  {
   "cell_type": "code",
   "execution_count": 12,
   "id": "48b4a148-fb4d-45d0-a79f-b45424a3c11f",
   "metadata": {},
   "outputs": [
    {
     "data": {
      "application/vnd.jupyter.widget-view+json": {
       "model_id": "beff76f6c4274afda9cee12fa77acd08",
       "version_major": 2,
       "version_minor": 0
      },
      "text/plain": []
     },
     "metadata": {},
     "output_type": "display_data"
    },
    {
     "name": "stdout",
     "output_type": "stream",
     "text": [
      "[2023-08-02 14:37:28,433] [INFO] [real_accelerator.py:133:get_accelerator] Setting ds_accelerator to cuda (auto detect)\n"
     ]
    },
    {
     "name": "stderr",
     "output_type": "stream",
     "text": [
      "2023-08-02 14:37:35.995484: I tensorflow/core/platform/cpu_feature_guard.cc:193] This TensorFlow binary is optimized with oneAPI Deep Neural Network Library (oneDNN) to use the following CPU instructions in performance-critical operations:  SSE4.1 SSE4.2 AVX AVX2 AVX512F AVX512_VNNI FMA\n",
      "To enable them in other operations, rebuild TensorFlow with the appropriate compiler flags.\n",
      "2023-08-02 14:37:37.115567: I tensorflow/core/util/port.cc:104] oneDNN custom operations are on. You may see slightly different numerical results due to floating-point round-off errors from different computation orders. To turn them off, set the environment variable `TF_ENABLE_ONEDNN_OPTS=0`.\n"
     ]
    }
   ],
   "source": [
    "import torch\n",
    "import esm\n",
    "from Bio.PDB import *\n",
    "import nglview as nv\n",
    "import ipywidgets\n",
    "parser = PDBParser()\n",
    "\n",
    "model = esm.pretrained.esmfold_v1()\n",
    "model = model.eval().cuda()"
   ]
  },
  {
   "cell_type": "code",
   "execution_count": 13,
   "id": "07bb332e-9c24-4638-8eb0-7fa524fe5e0b",
   "metadata": {},
   "outputs": [],
   "source": [
    "os.makedirs(\"./enh_similar_seq/\", exist_ok=True)"
   ]
  },
  {
   "cell_type": "code",
   "execution_count": 14,
   "id": "16a4d83d-4d0b-4bb3-ac1c-065816a4bf62",
   "metadata": {},
   "outputs": [],
   "source": [
    "ENH1 = \"RPRTAFSSEQLARLKREFNENRYLTERRRQQLSSELGLNEAQIKIWFQNKRAKI\""
   ]
  },
  {
   "cell_type": "code",
   "execution_count": 15,
   "id": "a05224d8-0e86-44d0-930e-b24694221f79",
   "metadata": {},
   "outputs": [],
   "source": [
    "# Lower sizes will have lower memory requirements at the cost of increased speed.\n",
    "# model.set_chunk_size(128)\n",
    "def one_struc(i, sequence):\n",
    "    # Multimer prediction can be done with chains separated by ':'\n",
    "    \n",
    "    with torch.no_grad():\n",
    "        output = model.infer_pdb(sequence)\n",
    "    \n",
    "    with open(f\"./enh_similar_seq/structure_{i}.pdb\", \"w\") as f:\n",
    "        f.write(output)\n",
    "    \n",
    "    struct = parser.get_structure(f'tmp_{i}', f\"./enh_similar_seq/structure_{i}.pdb\")\n",
    "    return struct\n",
    "    "
   ]
  },
  {
   "cell_type": "code",
   "execution_count": 32,
   "id": "8d74be37-fb1f-4b84-bdcf-e1bbb4da38d2",
   "metadata": {},
   "outputs": [],
   "source": [
    "def align(a, b):\n",
    "    alignment = pairwise2.align.globalds(a, b, mat, -11,-1, one_alignment_only=True, penalize_extend_when_opening=False, penalize_end_gaps=False)\n",
    "    a_strings = pairwise2.format_alignment(*alignment[0], full_sequences=True).split('\\n')\n",
    "    wt_chunks = [a_strings[0][i:i+79] for i in range(0, len(a_strings[0]), 79)]\n",
    "    variant_chunks = [a_strings[2][i:i+79] for i in range(0, len(a_strings[2]), 79)]\n",
    "    alignment_chunks = [a_strings[1][i:i+79] for i in range(0, len(a_strings[1]), 79)]\n",
    "    net_string = \"\"\n",
    "    for wt_chunk, variant_chunk, alignment_chunk in zip(wt_chunks, variant_chunks, alignment_chunks):\n",
    "        net_string += '\\n'.join([wt_chunk, alignment_chunk, variant_chunk]) + '\\n\\n'\n",
    "    print(net_string)"
   ]
  },
  {
   "cell_type": "code",
   "execution_count": 33,
   "id": "7eb82c08-6b5e-46c8-aa99-70e432e375f5",
   "metadata": {},
   "outputs": [
    {
     "name": "stdout",
     "output_type": "stream",
     "text": [
      "-------------------------------RPRTAFSSEQLARLKREFNENRYLTERRRQQLSSELGLNEAQIKIWFQ\n",
      "                               ||   .......|.||..........|..|.|....|..|||.||.|.\n",
      "MSTKSRTRSKTRLSRALGIALTPKAARFLEKRP---YAPGEHGRTKRKTDSDYAVRLREKQRLRAQYGIREAQLKIAFE\n",
      "\n",
      "NKRAKI-------------------------------------------------------------------------\n",
      "..|...                                                                         \n",
      "QARRRQGLTGENLVEILETRLDALLVRSAIARTTAQARQMIVHRHILVDGELVDRPSFRVKPGQLMHVKARSEGMEPFQ\n",
      "\n",
      "------------------------------------------------------\n",
      "                                                      \n",
      "VAAAGGHVDLLPKLPPYLEVEVDKLQARLVRAPKRIEIPVTCEVQLVVEYYAAR\n",
      "\n",
      "\n"
     ]
    }
   ],
   "source": [
    "align(ENH1, meso_seqs[0])"
   ]
  },
  {
   "cell_type": "markdown",
   "id": "86c9038b-4e46-4f5a-83d2-eac98c062c2c",
   "metadata": {},
   "source": [
    "Not a very good alignment, let's look at the structure of all three"
   ]
  },
  {
   "cell_type": "code",
   "execution_count": 16,
   "id": "e8412ae9-33b5-4cd9-b86c-a65f4e832754",
   "metadata": {},
   "outputs": [
    {
     "name": "stderr",
     "output_type": "stream",
     "text": [
      "/mmfs1/gscratch/cheme/usr/evankomp/mamba/mambaforge/envs/nomelt2/lib/python3.9/site-packages/Bio/PDB/PDBParser.py:395: PDBConstructionWarning: Ignoring unrecognized record 'END' at line 469\n",
      "  warnings.warn(\n"
     ]
    },
    {
     "data": {
      "application/vnd.jupyter.widget-view+json": {
       "model_id": "860466e8c16f43d080955863b6db29f3",
       "version_major": 2,
       "version_minor": 0
      },
      "text/plain": [
       "NGLWidget()"
      ]
     },
     "metadata": {},
     "output_type": "display_data"
    },
    {
     "data": {
      "application/vnd.jupyter.widget-view+json": {
       "model_id": "2a6b17198afd43b998aa8e5c3f61e892",
       "version_major": 2,
       "version_minor": 0
      },
      "text/plain": [
       "Tab(children=(Box(children=(Box(children=(Box(children=(Label(value='step'), IntSlider(value=1, min=-100)), la…"
      ]
     },
     "metadata": {},
     "output_type": "display_data"
    }
   ],
   "source": [
    "enh_struct = one_struc(-1, ENH1)\n",
    "nv.show_biopython(enh_struct, gui=True)"
   ]
  },
  {
   "cell_type": "code",
   "execution_count": 28,
   "id": "84e6fcf4-b816-4d98-8ad5-f155f330cbb3",
   "metadata": {},
   "outputs": [
    {
     "name": "stderr",
     "output_type": "stream",
     "text": [
      "/mmfs1/gscratch/cheme/usr/evankomp/mamba/mambaforge/envs/nomelt2/lib/python3.9/site-packages/Bio/PDB/PDBParser.py:395: PDBConstructionWarning: Ignoring unrecognized record 'END' at line 1675\n",
      "  warnings.warn(\n"
     ]
    },
    {
     "data": {
      "application/vnd.jupyter.widget-view+json": {
       "model_id": "029c427b041d445baf119b1f67e2d7f5",
       "version_major": 2,
       "version_minor": 0
      },
      "text/plain": [
       "NGLWidget()"
      ]
     },
     "metadata": {},
     "output_type": "display_data"
    },
    {
     "data": {
      "application/vnd.jupyter.widget-view+json": {
       "model_id": "10a141f40b8c44feb81a90258ef1a152",
       "version_major": 2,
       "version_minor": 0
      },
      "text/plain": [
       "Tab(children=(Box(children=(Box(children=(Box(children=(Label(value='step'), IntSlider(value=1, min=-100)), la…"
      ]
     },
     "metadata": {},
     "output_type": "display_data"
    }
   ],
   "source": [
    "meso_struct = one_struc(0, meso_seqs[0])\n",
    "nv.show_biopython(meso_struct, gui=True)"
   ]
  },
  {
   "cell_type": "code",
   "execution_count": 30,
   "id": "9af0bf2c-c565-45fc-a027-dbaead2973d3",
   "metadata": {},
   "outputs": [
    {
     "name": "stderr",
     "output_type": "stream",
     "text": [
      "/mmfs1/gscratch/cheme/usr/evankomp/mamba/mambaforge/envs/nomelt2/lib/python3.9/site-packages/Bio/PDB/PDBParser.py:395: PDBConstructionWarning: Ignoring unrecognized record 'END' at line 1700\n",
      "  warnings.warn(\n"
     ]
    },
    {
     "data": {
      "application/vnd.jupyter.widget-view+json": {
       "model_id": "b980c134448043c994df972d6f0c204c",
       "version_major": 2,
       "version_minor": 0
      },
      "text/plain": [
       "NGLWidget()"
      ]
     },
     "metadata": {},
     "output_type": "display_data"
    },
    {
     "data": {
      "application/vnd.jupyter.widget-view+json": {
       "model_id": "e95a0050e25748cfb40423efc676faa6",
       "version_major": 2,
       "version_minor": 0
      },
      "text/plain": [
       "Tab(children=(Box(children=(Box(children=(Box(children=(Label(value='step'), IntSlider(value=1, min=-100)), la…"
      ]
     },
     "metadata": {},
     "output_type": "display_data"
    }
   ],
   "source": [
    "thermo_struct = one_struc(0, thermo_seqs[0])\n",
    "nv.show_biopython(thermo_struct, gui=True)"
   ]
  },
  {
   "cell_type": "markdown",
   "id": "7f3e1438-aaad-426b-88ec-436e54de5b89",
   "metadata": {},
   "source": [
    "The thermo structure looks like the meso one"
   ]
  },
  {
   "cell_type": "code",
   "execution_count": 34,
   "id": "ede8480f-e9f8-42c9-a8d5-76f7b609585d",
   "metadata": {},
   "outputs": [
    {
     "name": "stdout",
     "output_type": "stream",
     "text": [
      "MSTKSRTRSKTRLSRALGIALTPKAAR------FLEKRPYAPGEHGRTKRKTDSDYAVRLREKQRLRAQYGIREAQLKI\n",
      "  ....|....||.|..|..|..|..|      ..|.||..||.|||...|. |.|...|||||.....||..|.|...\n",
      "--MARYTGPVCRLCRREGMKLYLKGSRCYTDKCAFERRPFPPGQHGRNRKKL-SEYGLQLREKQKVKRIYGVLERQFER\n",
      "\n",
      "AFEQARRRQGLTGENLVEILETRLDALLVRSAIARTTAQARQMIVHRHILVDGELVDRPSFRVKPGQLMHVKARSEG-M\n",
      ".||.|.|..|.|||||..|||.|||....|...|...|||||...|.|..|.|..|..||..|..|....|...|.. |\n",
      "YFEMAERMKGVTGENLLQILERRLDNVVYRMGFASSRAQARQLVRHGHFTVNGKRVNIPSYLVDVGDVIAVAEKSAAKM\n",
      "\n",
      "EPFQVAAAGGHVDLLPKLPPYLEVEVDKLQARLVRAPKRIEIPVTCEVQLVVEYYAAR\n",
      "|.|......|...   ...|.|.|..|||.......|.|..|.|.....|.||.|.. \n",
      "EHFKALREQGPAG---NIVPWLSVDFDKLEGTVTALPTRQDIDVPIQEHLIVELYSK-\n",
      "\n",
      "\n"
     ]
    }
   ],
   "source": [
    "align(meso_seqs[0], thermo_seqs[0])"
   ]
  },
  {
   "cell_type": "markdown",
   "id": "07bba320-18df-496e-92db-ba60d957c4d9",
   "metadata": {},
   "source": [
    "The thermo and meso are nice and similar."
   ]
  },
  {
   "cell_type": "code",
   "execution_count": 36,
   "id": "cb89f7e9-d934-4bb7-bf6f-bf68222e4de0",
   "metadata": {},
   "outputs": [],
   "source": [
    "from nomelt.thermo_estimation.optimizer import OptTrajSuperimposer"
   ]
  },
  {
   "cell_type": "code",
   "execution_count": 37,
   "id": "fd8aa8f6-e5f9-4c23-80f7-6515ed95a9ba",
   "metadata": {},
   "outputs": [],
   "source": [
    "siser = OptTrajSuperimposer(\n",
    "    sequences = [meso_seqs[0], ENH1], structure_files=[\"./enh_similar_seq/structure_0.pdb\", \"./enh_similar_seq/structure_-1.pdb\"], trials_dataframe = 1\n",
    ")"
   ]
  },
  {
   "cell_type": "code",
   "execution_count": 38,
   "id": "73f8057c-3234-4afe-bc36-8d99f28d2148",
   "metadata": {},
   "outputs": [
    {
     "name": "stderr",
     "output_type": "stream",
     "text": [
      "/mmfs1/gscratch/cheme/usr/evankomp/mamba/mambaforge/envs/nomelt2/lib/python3.9/site-packages/MDAnalysis/analysis/align.py:1394: SelectionWarning: Reference and trajectory atom selections do not contain the same number of atoms: \n",
      "atoms:    N_ref=262, N_traj=267\n",
      "but we attempt to create a valid selection (use strict=True to disable this heuristic).\n",
      "  warnings.warn(msg, category=SelectionWarning)\n"
     ]
    },
    {
     "data": {
      "text/plain": [
       "['/mmfs1/gscratch/cheme/usr/evankomp/repos/nomelt/analysis/tmp/opt_traj_superimposer/structure_0000.pdb',\n",
       " '/mmfs1/gscratch/cheme/usr/evankomp/repos/nomelt/analysis/tmp/opt_traj_superimposer/structure_0001.pdb']"
      ]
     },
     "execution_count": 38,
     "metadata": {},
     "output_type": "execute_result"
    }
   ],
   "source": [
    "siser.run()"
   ]
  },
  {
   "cell_type": "code",
   "execution_count": 39,
   "id": "e14d2a13-f5ca-43ac-9cc3-350d81cd0acd",
   "metadata": {},
   "outputs": [
    {
     "name": "stderr",
     "output_type": "stream",
     "text": [
      "/mmfs1/gscratch/cheme/usr/evankomp/mamba/mambaforge/envs/nomelt2/lib/python3.9/site-packages/Bio/PDB/PDBParser.py:395: PDBConstructionWarning: Ignoring unrecognized record 'END' at line 476\n",
      "  warnings.warn(\n",
      "/mmfs1/gscratch/cheme/usr/evankomp/mamba/mambaforge/envs/nomelt2/lib/python3.9/site-packages/Bio/PDB/PDBParser.py:395: PDBConstructionWarning: Ignoring unrecognized record 'END' at line 1707\n",
      "  warnings.warn(\n"
     ]
    }
   ],
   "source": [
    "enh_struct = nv.BiopythonStructure(parser.get_structure('enh', '/mmfs1/gscratch/cheme/usr/evankomp/repos/nomelt/analysis/tmp/opt_traj_superimposer/structure_0001.pdb'))\n",
    "other_struct = nv.BiopythonStructure(parser.get_structure('other', '/mmfs1/gscratch/cheme/usr/evankomp/repos/nomelt/analysis/tmp/opt_traj_superimposer/structure_0000.pdb'))"
   ]
  },
  {
   "cell_type": "code",
   "execution_count": 82,
   "id": "47f519dd-8caf-4d2e-ab4a-ea218e168707",
   "metadata": {},
   "outputs": [],
   "source": [
    "view = nv.NGLWidget(gui=True)"
   ]
  },
  {
   "cell_type": "code",
   "execution_count": 83,
   "id": "57d8bcf1-4646-4b1c-9434-2b7e488ee71a",
   "metadata": {},
   "outputs": [],
   "source": [
    "view.add_component(enh_struct)\n",
    "view.add_representation(\"cartoon\", selection=\"all\", color='blue')"
   ]
  },
  {
   "cell_type": "code",
   "execution_count": 84,
   "id": "33c81c88-199a-4e47-8c1b-65be6a930152",
   "metadata": {},
   "outputs": [
    {
     "data": {
      "application/vnd.jupyter.widget-view+json": {
       "model_id": "cad669f6ac2c4588bfc1625538172cde",
       "version_major": 2,
       "version_minor": 0
      },
      "text/plain": [
       "NGLWidget()"
      ]
     },
     "metadata": {},
     "output_type": "display_data"
    },
    {
     "data": {
      "application/vnd.jupyter.widget-view+json": {
       "model_id": "5ad454ff6c494a3289bdd4ee764704db",
       "version_major": 2,
       "version_minor": 0
      },
      "text/plain": [
       "Tab(children=(Box(children=(Box(children=(Box(children=(Label(value='step'), IntSlider(value=1, min=-100)), la…"
      ]
     },
     "metadata": {},
     "output_type": "display_data"
    }
   ],
   "source": [
    "view"
   ]
  },
  {
   "cell_type": "code",
   "execution_count": 85,
   "id": "f2d843e1-b7f7-4daa-ba02-70f31c5fd5b4",
   "metadata": {},
   "outputs": [
    {
     "name": "stderr",
     "output_type": "stream",
     "text": [
      "/mmfs1/gscratch/cheme/usr/evankomp/mamba/mambaforge/envs/nomelt2/lib/python3.9/site-packages/Bio/PDB/PDBParser.py:395: PDBConstructionWarning: Ignoring unrecognized record 'END' at line 1707\n",
      "  warnings.warn(\n"
     ]
    }
   ],
   "source": [
    "other_struct = nv.BiopythonStructure(parser.get_structure('enh', '/mmfs1/gscratch/cheme/usr/evankomp/repos/nomelt/analysis/tmp/opt_traj_superimposer/structure_0000.pdb'))"
   ]
  },
  {
   "cell_type": "code",
   "execution_count": 86,
   "id": "5a3c3ba2-d51a-476c-9cd3-6396314f8576",
   "metadata": {},
   "outputs": [
    {
     "data": {
      "text/plain": [
       "<nglview.component.ComponentViewer at 0x15034f76d1f0>"
      ]
     },
     "execution_count": 86,
     "metadata": {},
     "output_type": "execute_result"
    }
   ],
   "source": [
    "view.add_component(other_struct)"
   ]
  },
  {
   "cell_type": "code",
   "execution_count": 87,
   "id": "301b7839-217c-45bc-8281-8d66dd200358",
   "metadata": {},
   "outputs": [
    {
     "data": {
      "application/vnd.jupyter.widget-view+json": {
       "model_id": "cad669f6ac2c4588bfc1625538172cde",
       "version_major": 2,
       "version_minor": 0
      },
      "text/plain": [
       "NGLWidget(n_components=2)"
      ]
     },
     "metadata": {},
     "output_type": "display_data"
    },
    {
     "data": {
      "application/vnd.jupyter.widget-view+json": {
       "model_id": "5ad454ff6c494a3289bdd4ee764704db",
       "version_major": 2,
       "version_minor": 0
      },
      "text/plain": [
       "Tab(children=(Box(children=(Box(children=(Box(children=(Label(value='step'), IntSlider(value=1, min=-100)), la…"
      ]
     },
     "metadata": {},
     "output_type": "display_data"
    }
   ],
   "source": [
    "view"
   ]
  },
  {
   "cell_type": "code",
   "execution_count": null,
   "id": "93260327-d010-4efa-a32c-8c965e97ccef",
   "metadata": {},
   "outputs": [],
   "source": []
  },
  {
   "cell_type": "code",
   "execution_count": 39,
   "id": "788df6ec-4324-4ee5-b582-5cf6170ed115",
   "metadata": {},
   "outputs": [
    {
     "name": "stderr",
     "output_type": "stream",
     "text": [
      "/mmfs1/gscratch/cheme/usr/evankomp/mamba/mambaforge/envs/nomelt2/lib/python3.9/site-packages/Bio/PDB/PDBParser.py:395: PDBConstructionWarning: Ignoring unrecognized record 'END' at line 1799\n",
      "  warnings.warn(\n"
     ]
    },
    {
     "data": {
      "application/vnd.jupyter.widget-view+json": {
       "model_id": "9fe9fc6638d245f28d6411d80ab6ac3e",
       "version_major": 2,
       "version_minor": 0
      },
      "text/plain": [
       "NGLWidget()"
      ]
     },
     "metadata": {},
     "output_type": "display_data"
    },
    {
     "data": {
      "application/vnd.jupyter.widget-view+json": {
       "model_id": "6be8cbb9d57643338a93b60bccfd87b7",
       "version_major": 2,
       "version_minor": 0
      },
      "text/plain": [
       "Tab(children=(Box(children=(Box(children=(Box(children=(Label(value='step'), IntSlider(value=1, min=-100)), la…"
      ]
     },
     "metadata": {},
     "output_type": "display_data"
    }
   ],
   "source": [
    "struct = one_struc(-1, hit_seqs[-1])\n",
    "nv.show_biopython(struct, gui=True)"
   ]
  },
  {
   "cell_type": "code",
   "execution_count": 40,
   "id": "a130c0b2-cf5f-498c-9cfb-904413227fdc",
   "metadata": {},
   "outputs": [
    {
     "name": "stderr",
     "output_type": "stream",
     "text": [
      "/mmfs1/gscratch/cheme/usr/evankomp/mamba/mambaforge/envs/nomelt2/lib/python3.9/site-packages/Bio/PDB/PDBParser.py:395: PDBConstructionWarning: Ignoring unrecognized record 'END' at line 1651\n",
      "  warnings.warn(\n",
      "/mmfs1/gscratch/cheme/usr/evankomp/mamba/mambaforge/envs/nomelt2/lib/python3.9/site-packages/Bio/PDB/PDBParser.py:395: PDBConstructionWarning: Ignoring unrecognized record 'END' at line 1765\n",
      "  warnings.warn(\n",
      "/mmfs1/gscratch/cheme/usr/evankomp/mamba/mambaforge/envs/nomelt2/lib/python3.9/site-packages/Bio/PDB/PDBParser.py:395: PDBConstructionWarning: Ignoring unrecognized record 'END' at line 1762\n",
      "  warnings.warn(\n",
      "/mmfs1/gscratch/cheme/usr/evankomp/mamba/mambaforge/envs/nomelt2/lib/python3.9/site-packages/Bio/PDB/PDBParser.py:395: PDBConstructionWarning: Ignoring unrecognized record 'END' at line 1761\n",
      "  warnings.warn(\n",
      "/mmfs1/gscratch/cheme/usr/evankomp/mamba/mambaforge/envs/nomelt2/lib/python3.9/site-packages/Bio/PDB/PDBParser.py:395: PDBConstructionWarning: Ignoring unrecognized record 'END' at line 1762\n",
      "  warnings.warn(\n",
      "/mmfs1/gscratch/cheme/usr/evankomp/mamba/mambaforge/envs/nomelt2/lib/python3.9/site-packages/Bio/PDB/PDBParser.py:395: PDBConstructionWarning: Ignoring unrecognized record 'END' at line 1769\n",
      "  warnings.warn(\n",
      "/mmfs1/gscratch/cheme/usr/evankomp/mamba/mambaforge/envs/nomelt2/lib/python3.9/site-packages/Bio/PDB/PDBParser.py:395: PDBConstructionWarning: Ignoring unrecognized record 'END' at line 1787\n",
      "  warnings.warn(\n",
      "/mmfs1/gscratch/cheme/usr/evankomp/mamba/mambaforge/envs/nomelt2/lib/python3.9/site-packages/Bio/PDB/PDBParser.py:395: PDBConstructionWarning: Ignoring unrecognized record 'END' at line 1788\n",
      "  warnings.warn(\n",
      "/mmfs1/gscratch/cheme/usr/evankomp/mamba/mambaforge/envs/nomelt2/lib/python3.9/site-packages/Bio/PDB/PDBParser.py:395: PDBConstructionWarning: Ignoring unrecognized record 'END' at line 1672\n",
      "  warnings.warn(\n",
      "/mmfs1/gscratch/cheme/usr/evankomp/mamba/mambaforge/envs/nomelt2/lib/python3.9/site-packages/Bio/PDB/PDBParser.py:395: PDBConstructionWarning: Ignoring unrecognized record 'END' at line 1185\n",
      "  warnings.warn(\n",
      "/mmfs1/gscratch/cheme/usr/evankomp/mamba/mambaforge/envs/nomelt2/lib/python3.9/site-packages/Bio/PDB/PDBParser.py:395: PDBConstructionWarning: Ignoring unrecognized record 'END' at line 1429\n",
      "  warnings.warn(\n",
      "/mmfs1/gscratch/cheme/usr/evankomp/mamba/mambaforge/envs/nomelt2/lib/python3.9/site-packages/Bio/PDB/PDBParser.py:395: PDBConstructionWarning: Ignoring unrecognized record 'END' at line 1243\n",
      "  warnings.warn(\n",
      "/mmfs1/gscratch/cheme/usr/evankomp/mamba/mambaforge/envs/nomelt2/lib/python3.9/site-packages/Bio/PDB/PDBParser.py:395: PDBConstructionWarning: Ignoring unrecognized record 'END' at line 1779\n",
      "  warnings.warn(\n",
      "/mmfs1/gscratch/cheme/usr/evankomp/mamba/mambaforge/envs/nomelt2/lib/python3.9/site-packages/Bio/PDB/PDBParser.py:395: PDBConstructionWarning: Ignoring unrecognized record 'END' at line 1710\n",
      "  warnings.warn(\n",
      "/mmfs1/gscratch/cheme/usr/evankomp/mamba/mambaforge/envs/nomelt2/lib/python3.9/site-packages/Bio/PDB/PDBParser.py:395: PDBConstructionWarning: Ignoring unrecognized record 'END' at line 1916\n",
      "  warnings.warn(\n",
      "/mmfs1/gscratch/cheme/usr/evankomp/mamba/mambaforge/envs/nomelt2/lib/python3.9/site-packages/Bio/PDB/PDBParser.py:395: PDBConstructionWarning: Ignoring unrecognized record 'END' at line 1813\n",
      "  warnings.warn(\n",
      "/mmfs1/gscratch/cheme/usr/evankomp/mamba/mambaforge/envs/nomelt2/lib/python3.9/site-packages/Bio/PDB/PDBParser.py:395: PDBConstructionWarning: Ignoring unrecognized record 'END' at line 1813\n",
      "  warnings.warn(\n",
      "/mmfs1/gscratch/cheme/usr/evankomp/mamba/mambaforge/envs/nomelt2/lib/python3.9/site-packages/Bio/PDB/PDBParser.py:395: PDBConstructionWarning: Ignoring unrecognized record 'END' at line 1699\n",
      "  warnings.warn(\n",
      "/mmfs1/gscratch/cheme/usr/evankomp/mamba/mambaforge/envs/nomelt2/lib/python3.9/site-packages/Bio/PDB/PDBParser.py:395: PDBConstructionWarning: Ignoring unrecognized record 'END' at line 1996\n",
      "  warnings.warn(\n",
      "/mmfs1/gscratch/cheme/usr/evankomp/mamba/mambaforge/envs/nomelt2/lib/python3.9/site-packages/Bio/PDB/PDBParser.py:395: PDBConstructionWarning: Ignoring unrecognized record 'END' at line 1900\n",
      "  warnings.warn(\n",
      "/mmfs1/gscratch/cheme/usr/evankomp/mamba/mambaforge/envs/nomelt2/lib/python3.9/site-packages/Bio/PDB/PDBParser.py:395: PDBConstructionWarning: Ignoring unrecognized record 'END' at line 1833\n",
      "  warnings.warn(\n",
      "/mmfs1/gscratch/cheme/usr/evankomp/mamba/mambaforge/envs/nomelt2/lib/python3.9/site-packages/Bio/PDB/PDBParser.py:395: PDBConstructionWarning: Ignoring unrecognized record 'END' at line 1562\n",
      "  warnings.warn(\n",
      "/mmfs1/gscratch/cheme/usr/evankomp/mamba/mambaforge/envs/nomelt2/lib/python3.9/site-packages/Bio/PDB/PDBParser.py:395: PDBConstructionWarning: Ignoring unrecognized record 'END' at line 1561\n",
      "  warnings.warn(\n",
      "/mmfs1/gscratch/cheme/usr/evankomp/mamba/mambaforge/envs/nomelt2/lib/python3.9/site-packages/Bio/PDB/PDBParser.py:395: PDBConstructionWarning: Ignoring unrecognized record 'END' at line 1757\n",
      "  warnings.warn(\n",
      "/mmfs1/gscratch/cheme/usr/evankomp/mamba/mambaforge/envs/nomelt2/lib/python3.9/site-packages/Bio/PDB/PDBParser.py:395: PDBConstructionWarning: Ignoring unrecognized record 'END' at line 1486\n",
      "  warnings.warn(\n",
      "/mmfs1/gscratch/cheme/usr/evankomp/mamba/mambaforge/envs/nomelt2/lib/python3.9/site-packages/Bio/PDB/PDBParser.py:395: PDBConstructionWarning: Ignoring unrecognized record 'END' at line 1625\n",
      "  warnings.warn(\n",
      "/mmfs1/gscratch/cheme/usr/evankomp/mamba/mambaforge/envs/nomelt2/lib/python3.9/site-packages/Bio/PDB/PDBParser.py:395: PDBConstructionWarning: Ignoring unrecognized record 'END' at line 1654\n",
      "  warnings.warn(\n",
      "/mmfs1/gscratch/cheme/usr/evankomp/mamba/mambaforge/envs/nomelt2/lib/python3.9/site-packages/Bio/PDB/PDBParser.py:395: PDBConstructionWarning: Ignoring unrecognized record 'END' at line 1658\n",
      "  warnings.warn(\n",
      "/mmfs1/gscratch/cheme/usr/evankomp/mamba/mambaforge/envs/nomelt2/lib/python3.9/site-packages/Bio/PDB/PDBParser.py:395: PDBConstructionWarning: Ignoring unrecognized record 'END' at line 1649\n",
      "  warnings.warn(\n",
      "/mmfs1/gscratch/cheme/usr/evankomp/mamba/mambaforge/envs/nomelt2/lib/python3.9/site-packages/Bio/PDB/PDBParser.py:395: PDBConstructionWarning: Ignoring unrecognized record 'END' at line 1674\n",
      "  warnings.warn(\n",
      "/mmfs1/gscratch/cheme/usr/evankomp/mamba/mambaforge/envs/nomelt2/lib/python3.9/site-packages/Bio/PDB/PDBParser.py:395: PDBConstructionWarning: Ignoring unrecognized record 'END' at line 1673\n",
      "  warnings.warn(\n",
      "/mmfs1/gscratch/cheme/usr/evankomp/mamba/mambaforge/envs/nomelt2/lib/python3.9/site-packages/Bio/PDB/PDBParser.py:395: PDBConstructionWarning: Ignoring unrecognized record 'END' at line 1675\n",
      "  warnings.warn(\n",
      "/mmfs1/gscratch/cheme/usr/evankomp/mamba/mambaforge/envs/nomelt2/lib/python3.9/site-packages/Bio/PDB/PDBParser.py:395: PDBConstructionWarning: Ignoring unrecognized record 'END' at line 1673\n",
      "  warnings.warn(\n",
      "/mmfs1/gscratch/cheme/usr/evankomp/mamba/mambaforge/envs/nomelt2/lib/python3.9/site-packages/Bio/PDB/PDBParser.py:395: PDBConstructionWarning: Ignoring unrecognized record 'END' at line 1673\n",
      "  warnings.warn(\n",
      "/mmfs1/gscratch/cheme/usr/evankomp/mamba/mambaforge/envs/nomelt2/lib/python3.9/site-packages/Bio/PDB/PDBParser.py:395: PDBConstructionWarning: Ignoring unrecognized record 'END' at line 1677\n",
      "  warnings.warn(\n",
      "/mmfs1/gscratch/cheme/usr/evankomp/mamba/mambaforge/envs/nomelt2/lib/python3.9/site-packages/Bio/PDB/PDBParser.py:395: PDBConstructionWarning: Ignoring unrecognized record 'END' at line 1675\n",
      "  warnings.warn(\n",
      "/mmfs1/gscratch/cheme/usr/evankomp/mamba/mambaforge/envs/nomelt2/lib/python3.9/site-packages/Bio/PDB/PDBParser.py:395: PDBConstructionWarning: Ignoring unrecognized record 'END' at line 1663\n",
      "  warnings.warn(\n",
      "/mmfs1/gscratch/cheme/usr/evankomp/mamba/mambaforge/envs/nomelt2/lib/python3.9/site-packages/Bio/PDB/PDBParser.py:395: PDBConstructionWarning: Ignoring unrecognized record 'END' at line 1669\n",
      "  warnings.warn(\n",
      "/mmfs1/gscratch/cheme/usr/evankomp/mamba/mambaforge/envs/nomelt2/lib/python3.9/site-packages/Bio/PDB/PDBParser.py:395: PDBConstructionWarning: Ignoring unrecognized record 'END' at line 1667\n",
      "  warnings.warn(\n",
      "/mmfs1/gscratch/cheme/usr/evankomp/mamba/mambaforge/envs/nomelt2/lib/python3.9/site-packages/Bio/PDB/PDBParser.py:395: PDBConstructionWarning: Ignoring unrecognized record 'END' at line 1685\n",
      "  warnings.warn(\n",
      "/mmfs1/gscratch/cheme/usr/evankomp/mamba/mambaforge/envs/nomelt2/lib/python3.9/site-packages/Bio/PDB/PDBParser.py:395: PDBConstructionWarning: Ignoring unrecognized record 'END' at line 1671\n",
      "  warnings.warn(\n",
      "/mmfs1/gscratch/cheme/usr/evankomp/mamba/mambaforge/envs/nomelt2/lib/python3.9/site-packages/Bio/PDB/PDBParser.py:395: PDBConstructionWarning: Ignoring unrecognized record 'END' at line 1674\n",
      "  warnings.warn(\n",
      "/mmfs1/gscratch/cheme/usr/evankomp/mamba/mambaforge/envs/nomelt2/lib/python3.9/site-packages/Bio/PDB/PDBParser.py:395: PDBConstructionWarning: Ignoring unrecognized record 'END' at line 1673\n",
      "  warnings.warn(\n",
      "/mmfs1/gscratch/cheme/usr/evankomp/mamba/mambaforge/envs/nomelt2/lib/python3.9/site-packages/Bio/PDB/PDBParser.py:395: PDBConstructionWarning: Ignoring unrecognized record 'END' at line 1674\n",
      "  warnings.warn(\n",
      "/mmfs1/gscratch/cheme/usr/evankomp/mamba/mambaforge/envs/nomelt2/lib/python3.9/site-packages/Bio/PDB/PDBParser.py:395: PDBConstructionWarning: Ignoring unrecognized record 'END' at line 1995\n",
      "  warnings.warn(\n",
      "/mmfs1/gscratch/cheme/usr/evankomp/mamba/mambaforge/envs/nomelt2/lib/python3.9/site-packages/Bio/PDB/PDBParser.py:395: PDBConstructionWarning: Ignoring unrecognized record 'END' at line 1834\n",
      "  warnings.warn(\n",
      "/mmfs1/gscratch/cheme/usr/evankomp/mamba/mambaforge/envs/nomelt2/lib/python3.9/site-packages/Bio/PDB/PDBParser.py:395: PDBConstructionWarning: Ignoring unrecognized record 'END' at line 1757\n",
      "  warnings.warn(\n",
      "/mmfs1/gscratch/cheme/usr/evankomp/mamba/mambaforge/envs/nomelt2/lib/python3.9/site-packages/Bio/PDB/PDBParser.py:395: PDBConstructionWarning: Ignoring unrecognized record 'END' at line 1789\n",
      "  warnings.warn(\n",
      "/mmfs1/gscratch/cheme/usr/evankomp/mamba/mambaforge/envs/nomelt2/lib/python3.9/site-packages/Bio/PDB/PDBParser.py:395: PDBConstructionWarning: Ignoring unrecognized record 'END' at line 1777\n",
      "  warnings.warn(\n",
      "/mmfs1/gscratch/cheme/usr/evankomp/mamba/mambaforge/envs/nomelt2/lib/python3.9/site-packages/Bio/PDB/PDBParser.py:395: PDBConstructionWarning: Ignoring unrecognized record 'END' at line 1771\n",
      "  warnings.warn(\n",
      "/mmfs1/gscratch/cheme/usr/evankomp/mamba/mambaforge/envs/nomelt2/lib/python3.9/site-packages/Bio/PDB/PDBParser.py:395: PDBConstructionWarning: Ignoring unrecognized record 'END' at line 1831\n",
      "  warnings.warn(\n",
      "/mmfs1/gscratch/cheme/usr/evankomp/mamba/mambaforge/envs/nomelt2/lib/python3.9/site-packages/Bio/PDB/PDBParser.py:395: PDBConstructionWarning: Ignoring unrecognized record 'END' at line 1572\n",
      "  warnings.warn(\n",
      "/mmfs1/gscratch/cheme/usr/evankomp/mamba/mambaforge/envs/nomelt2/lib/python3.9/site-packages/Bio/PDB/PDBParser.py:395: PDBConstructionWarning: Ignoring unrecognized record 'END' at line 1600\n",
      "  warnings.warn(\n",
      "/mmfs1/gscratch/cheme/usr/evankomp/mamba/mambaforge/envs/nomelt2/lib/python3.9/site-packages/Bio/PDB/PDBParser.py:395: PDBConstructionWarning: Ignoring unrecognized record 'END' at line 1771\n",
      "  warnings.warn(\n",
      "/mmfs1/gscratch/cheme/usr/evankomp/mamba/mambaforge/envs/nomelt2/lib/python3.9/site-packages/Bio/PDB/PDBParser.py:395: PDBConstructionWarning: Ignoring unrecognized record 'END' at line 1772\n",
      "  warnings.warn(\n",
      "/mmfs1/gscratch/cheme/usr/evankomp/mamba/mambaforge/envs/nomelt2/lib/python3.9/site-packages/Bio/PDB/PDBParser.py:395: PDBConstructionWarning: Ignoring unrecognized record 'END' at line 1768\n",
      "  warnings.warn(\n",
      "/mmfs1/gscratch/cheme/usr/evankomp/mamba/mambaforge/envs/nomelt2/lib/python3.9/site-packages/Bio/PDB/PDBParser.py:395: PDBConstructionWarning: Ignoring unrecognized record 'END' at line 1761\n",
      "  warnings.warn(\n",
      "/mmfs1/gscratch/cheme/usr/evankomp/mamba/mambaforge/envs/nomelt2/lib/python3.9/site-packages/Bio/PDB/PDBParser.py:395: PDBConstructionWarning: Ignoring unrecognized record 'END' at line 1765\n",
      "  warnings.warn(\n",
      "/mmfs1/gscratch/cheme/usr/evankomp/mamba/mambaforge/envs/nomelt2/lib/python3.9/site-packages/Bio/PDB/PDBParser.py:395: PDBConstructionWarning: Ignoring unrecognized record 'END' at line 1799\n",
      "  warnings.warn(\n"
     ]
    }
   ],
   "source": [
    "views = []\n",
    "for i, seq in enumerate(hit_seqs):\n",
    "    struct = one_struc(i, seq)\n",
    "    view = nv.show_biopython(struct, gui=True)\n",
    "    views.append(view)"
   ]
  },
  {
   "cell_type": "code",
   "execution_count": 21,
   "id": "29c2d198-5d36-47f3-8e30-ecc4a9192a7c",
   "metadata": {},
   "outputs": [
    {
     "data": {
      "application/vnd.jupyter.widget-view+json": {
       "model_id": "c49f4fd7e5d24bc5be5663ae86633c94",
       "version_major": 2,
       "version_minor": 0
      },
      "text/plain": [
       "NGLWidget(n_components=1)"
      ]
     },
     "metadata": {},
     "output_type": "display_data"
    },
    {
     "data": {
      "application/vnd.jupyter.widget-view+json": {
       "model_id": "57d974fc8708461bbed91246a178adb7",
       "version_major": 2,
       "version_minor": 0
      },
      "text/plain": [
       "Tab(children=(Box(children=(Box(children=(Box(children=(Label(value='step'), IntSlider(value=1, min=-100)), la…"
      ]
     },
     "metadata": {},
     "output_type": "display_data"
    }
   ],
   "source": [
    "views[0]"
   ]
  },
  {
   "cell_type": "code",
   "execution_count": 28,
   "id": "a565829d-1735-4672-a36a-c370a22abc31",
   "metadata": {},
   "outputs": [
    {
     "data": {
      "application/vnd.jupyter.widget-view+json": {
       "model_id": "f2a6ff3fc4de4c8a830259bcbcf1ea8d",
       "version_major": 2,
       "version_minor": 0
      },
      "text/plain": [
       "NGLWidget(n_components=1)"
      ]
     },
     "metadata": {},
     "output_type": "display_data"
    },
    {
     "data": {
      "application/vnd.jupyter.widget-view+json": {
       "model_id": "73707a21d7af46fe9f8862864df0b2d4",
       "version_major": 2,
       "version_minor": 0
      },
      "text/plain": [
       "Tab(children=(Box(children=(Box(children=(Box(children=(Label(value='step'), IntSlider(value=1, min=-100)), la…"
      ]
     },
     "metadata": {},
     "output_type": "display_data"
    }
   ],
   "source": [
    "views[1]"
   ]
  },
  {
   "cell_type": "code",
   "execution_count": 23,
   "id": "5dd97890-bb39-4e2a-a6e5-cf4eefecfd01",
   "metadata": {},
   "outputs": [
    {
     "data": {
      "application/vnd.jupyter.widget-view+json": {
       "model_id": "53f71cf4f7014946ac2d027fc40e4865",
       "version_major": 2,
       "version_minor": 0
      },
      "text/plain": [
       "NGLWidget(n_components=1)"
      ]
     },
     "metadata": {},
     "output_type": "display_data"
    },
    {
     "data": {
      "application/vnd.jupyter.widget-view+json": {
       "model_id": "b0f67483071445c8a9101eb1d57855fa",
       "version_major": 2,
       "version_minor": 0
      },
      "text/plain": [
       "Tab(children=(Box(children=(Box(children=(Box(children=(Label(value='step'), IntSlider(value=1, min=-100)), la…"
      ]
     },
     "metadata": {},
     "output_type": "display_data"
    }
   ],
   "source": [
    "views[2]"
   ]
  },
  {
   "cell_type": "code",
   "execution_count": 24,
   "id": "8e0ed768-9e02-4265-ac0a-9be962c1c23b",
   "metadata": {},
   "outputs": [
    {
     "data": {
      "application/vnd.jupyter.widget-view+json": {
       "model_id": "764207d3f6b64e599555804d1622dd54",
       "version_major": 2,
       "version_minor": 0
      },
      "text/plain": [
       "NGLWidget(n_components=1)"
      ]
     },
     "metadata": {},
     "output_type": "display_data"
    },
    {
     "data": {
      "application/vnd.jupyter.widget-view+json": {
       "model_id": "2d393422f1584705a2293cf33ecbc633",
       "version_major": 2,
       "version_minor": 0
      },
      "text/plain": [
       "Tab(children=(Box(children=(Box(children=(Box(children=(Label(value='step'), IntSlider(value=1, min=-100)), la…"
      ]
     },
     "metadata": {},
     "output_type": "display_data"
    }
   ],
   "source": [
    "views[3]"
   ]
  },
  {
   "cell_type": "code",
   "execution_count": 29,
   "id": "6b955498-13ad-45d8-9e95-b18b91a4aa6b",
   "metadata": {},
   "outputs": [
    {
     "data": {
      "application/vnd.jupyter.widget-view+json": {
       "model_id": "0430b771f08647cd85795b9ee049336c",
       "version_major": 2,
       "version_minor": 0
      },
      "text/plain": [
       "NGLWidget()"
      ]
     },
     "metadata": {},
     "output_type": "display_data"
    },
    {
     "data": {
      "application/vnd.jupyter.widget-view+json": {
       "model_id": "d03d9f2e7b244b9a87069055921c8d99",
       "version_major": 2,
       "version_minor": 0
      },
      "text/plain": [
       "Tab(children=(Box(children=(Box(children=(Box(children=(Label(value='step'), IntSlider(value=1, min=-100)), la…"
      ]
     },
     "metadata": {},
     "output_type": "display_data"
    }
   ],
   "source": [
    "views[10]"
   ]
  },
  {
   "cell_type": "code",
   "execution_count": 31,
   "id": "5ff84026-9089-4cb4-83af-7542c5690b33",
   "metadata": {},
   "outputs": [
    {
     "data": {
      "application/vnd.jupyter.widget-view+json": {
       "model_id": "e3f41560eb2d4335970aca25664393a3",
       "version_major": 2,
       "version_minor": 0
      },
      "text/plain": [
       "NGLWidget()"
      ]
     },
     "metadata": {},
     "output_type": "display_data"
    },
    {
     "data": {
      "application/vnd.jupyter.widget-view+json": {
       "model_id": "84c1913ed5264e02a75e2bac3990cd42",
       "version_major": 2,
       "version_minor": 0
      },
      "text/plain": [
       "Tab(children=(Box(children=(Box(children=(Box(children=(Label(value='step'), IntSlider(value=1, min=-100)), la…"
      ]
     },
     "metadata": {},
     "output_type": "display_data"
    }
   ],
   "source": [
    "views[-1]"
   ]
  },
  {
   "cell_type": "code",
   "execution_count": 32,
   "id": "4c100206-23a1-4b7a-925d-3bf70b87027d",
   "metadata": {},
   "outputs": [
    {
     "data": {
      "text/plain": [
       "'MVYAMAMILLVEDDRIITAALSRALTDAGHVVRPVGRAADALKIVTDERPDLVILDLGLPDIDGTDALRMMRSVSDVPVIVATARRSEADIISLLSAGADDYVTKPFSGGHILARISAVLRRSRAATTEAPSAITVGDLMINPRQRRAELRGEPLQLTRREFDVLAYLAERVGQVISRRELMNEVWNQARIGEEQTIDVHISWLRRKLGETAAQPRFLHTVRGVGVMMVDPR'"
      ]
     },
     "execution_count": 32,
     "metadata": {},
     "output_type": "execute_result"
    }
   ],
   "source": [
    "hit_seqs[-1]"
   ]
  },
  {
   "cell_type": "code",
   "execution_count": 33,
   "id": "f2018d04-9cdd-4a7f-88b1-0f0e3929db96",
   "metadata": {},
   "outputs": [
    {
     "data": {
      "text/plain": [
       "'MAERVIRVVVVDDEPMVCAHLRTILSSAVDIDVVDLAQDGAAAVEAVMRHRPHVVLMDLRMPGVDGLTAIERITRLPAPPAVVALTTFDADQYVIRALRAGAAGFLVKTTPPEDLIGLVRVAADGHTVLSPAATRRLVAAQAGEQAARERALRRVRELTERETEVLSALGEGLSNAQIATRLSLSEATVKSYVSRMLVKLDCANRTQAGLLAYDAGLATR'"
      ]
     },
     "execution_count": 33,
     "metadata": {},
     "output_type": "execute_result"
    }
   ],
   "source": [
    "hit_seqs[0]"
   ]
  },
  {
   "cell_type": "code",
   "execution_count": null,
   "id": "369df6d5-6159-4ca5-b90b-973e3bafeab5",
   "metadata": {},
   "outputs": [],
   "source": []
  }
 ],
 "metadata": {
  "kernelspec": {
   "display_name": "Python 3 (ipykernel)",
   "language": "python",
   "name": "python3"
  },
  "language_info": {
   "codemirror_mode": {
    "name": "ipython",
    "version": 3
   },
   "file_extension": ".py",
   "mimetype": "text/x-python",
   "name": "python",
   "nbconvert_exporter": "python",
   "pygments_lexer": "ipython3",
   "version": "3.9.16"
  }
 },
 "nbformat": 4,
 "nbformat_minor": 5
}
