{
 "cells": [
  {
   "cell_type": "markdown",
   "id": "2dbf888a-f549-40f4-b53f-26cb535f2040",
   "metadata": {},
   "source": [
    "# See if the optimizer can function in a space where we have a ground truth stable target."
   ]
  }
 ],
 "metadata": {
  "kernelspec": {
   "display_name": "Python 3 (ipykernel)",
   "language": "python",
   "name": "python3"
  },
  "language_info": {
   "codemirror_mode": {
    "name": "ipython",
    "version": 3
   },
   "file_extension": ".py",
   "mimetype": "text/x-python",
   "name": "python",
   "nbconvert_exporter": "python",
   "pygments_lexer": "ipython3",
   "version": "3.9.16"
  }
 },
 "nbformat": 4,
 "nbformat_minor": 5
}
